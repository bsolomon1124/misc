{
 "cells": [
  {
   "cell_type": "markdown",
   "metadata": {},
   "source": [
    "# Covered here"
   ]
  },
  {
   "cell_type": "markdown",
   "metadata": {},
   "source": [
    "* [Scopes & namespaces](#Scopes-&-namespaces)\n",
    "* [Object orientation](#Object-orientation)\n",
    "* [Intro to classes](#Intro-to-classes)\n",
    "* [More on method objects](#More-on-method-objects)\n",
    "* [Share data](#Share-data)\n",
    "* [Intermediate class conventions](#Intermediate-class-conventions)\n",
    "* [Class inheritance](#Class-inheritance)\n",
    "* [Private variables](#Private-variables)"
   ]
  },
  {
   "cell_type": "markdown",
   "metadata": {},
   "source": [
    "# Resources & references"
   ]
  },
  {
   "cell_type": "markdown",
   "metadata": {},
   "source": [
    "* Docs: [Python Scopes & Namespaces](https://docs.python.org/3/tutorial/classes.html#python-scopes-and-namespaces)\n",
    "* [Google Style Guide: Lexical Scoping](https://google.github.io/styleguide/pyguide.html#Lexical_Scoping)\n",
    "* [PEP 227 -- Statically Nested Scopes](https://www.python.org/dev/peps/pep-0227/)\n",
    "* [PEP 3104 -- Access to Names in Outer Scopes](https://www.python.org/dev/peps/pep-3104/)\n",
    "* farblog: [Understanding Python Scope](https://www.farside.org.uk/201307/understanding_python_scope)\n",
    "* [Gotcha: Python, scoping, and closures](https://eev.ee/blog/2011/04/24/gotcha-python-scoping-closures/)\n",
    "* Stack Overflow: \n",
    " * [Lexical Closures in Python](https://stackoverflow.com/questions/233673/lexical-closures-in-python)\n",
    " * [Calling a function within itself](https://stackoverflow.com/questions/29073110/python-calling-a-function-from-within-itself)\n",
    " * [Bascis of Recursion in Python](https://stackoverflow.com/questions/30214531/basics-of-recursion-in-python)\n",
    " \n",
    "On **`Super()`**:\n",
    "- The builtin [`super()`](https://docs.python.org/3/library/functions.html#super)\n",
    "- [What's new in Python 2.2: Multiple Inheritance--The Diamond Rule](https://docs.python.org/3/whatsnew/2.2.html#multiple-inheritance-the-diamond-rule)\n",
    "- [PEP 3135](https://www.python.org/dev/peps/pep-3135/), detailing the switch in `super()` syntax from Python 2 to 3.\n",
    "- PEP 253:\n",
    "    - [Multiple inheritance](https://www.python.org/dev/peps/pep-0253/#multiple-inheritance)\n",
    "    - [Method resolution order (MRO)](https://www.python.org/dev/peps/pep-0253/#mro-method-resolution-order-the-lookup-rule)\n",
    "- Raymond Hettinger: [Python’s super() considered super!](https://rhettinger.wordpress.com/2011/05/26/super-considered-super/)\n",
    "- [Dependency injection](https://stackoverflow.com/a/33469090/7954504) (warning: this gets a bit hairy)\n",
    "- [Calling `super()` in parent class](https://stackoverflow.com/q/47660676/7954504)"
   ]
  },
  {
   "cell_type": "markdown",
   "metadata": {},
   "source": [
    "# Scopes & namespaces"
   ]
  },
  {
   "cell_type": "markdown",
   "metadata": {},
   "source": [
    "**Namespace**: a mapping from **names to objects**. \n",
    "\n",
    "Most namespaces are currently implemented as Python dictionaries.  The important thing to know about namespaces is that there is absolutely no relation between names in different namespaces; for instance, two different modules may both define a function `maximize` without confusion — users of the modules just must prefix it with the module name.\n",
    "\n",
    "Viewing built-in names:"
   ]
  },
  {
   "cell_type": "code",
   "execution_count": 4,
   "metadata": {},
   "outputs": [
    {
     "name": "stdout",
     "output_type": "stream",
     "text": [
      "['ArithmeticError', 'AssertionError', 'AttributeError', 'BaseException', 'BlockingIOError', 'BrokenPipeError', 'BufferError', 'BytesWarning', 'ChildProcessError', 'ConnectionAbortedError', 'ConnectionError', 'ConnectionRefusedError', 'ConnectionResetError', 'DeprecationWarning', 'EOFError', 'Ellipsis', 'EnvironmentError', 'Exception', 'False', 'FileExistsError', 'FileNotFoundError', 'FloatingPointError', 'FutureWarning', 'GeneratorExit', 'IOError', 'ImportError', 'ImportWarning', 'IndentationError', 'IndexError', 'InterruptedError', 'IsADirectoryError', 'KeyError', 'KeyboardInterrupt', 'LookupError', 'MemoryError', 'ModuleNotFoundError', 'NameError', 'None', 'NotADirectoryError', 'NotImplemented', 'NotImplementedError', 'OSError', 'OverflowError', 'PendingDeprecationWarning', 'PermissionError', 'ProcessLookupError', 'RecursionError', 'ReferenceError', 'ResourceWarning', 'RuntimeError', 'RuntimeWarning', 'StopAsyncIteration', 'StopIteration', 'SyntaxError', 'SyntaxWarning', 'SystemError', 'SystemExit', 'TabError', 'TimeoutError', 'True', 'TypeError', 'UnboundLocalError', 'UnicodeDecodeError', 'UnicodeEncodeError', 'UnicodeError', 'UnicodeTranslateError', 'UnicodeWarning', 'UserWarning', 'ValueError', 'Warning', 'ZeroDivisionError', '__IPYTHON__', '__build_class__', '__debug__', '__doc__', '__import__', '__loader__', '__name__', '__package__', '__spec__', 'abs', 'all', 'any', 'ascii', 'bin', 'bool', 'bytearray', 'bytes', 'callable', 'chr', 'classmethod', 'compile', 'complex', 'copyright', 'credits', 'delattr', 'dict', 'dir', 'display', 'divmod']\n"
     ]
    }
   ],
   "source": [
    "print(dir(__builtins__)[:100])  # ..."
   ]
  },
  {
   "cell_type": "markdown",
   "metadata": {},
   "source": [
    "**The local namespace for a function is created when the function is called**, and deleted when the function returns or raises an exception that is not handled within the function. (Actually, forgetting would be a better way to describe what actually happens.) Of course, recursive invocations each have their own local namespace.\n",
    "\n",
    "At any time during execution, there are at least 3 nested scopes whose namespaces are directly accessible:\n",
    "\n",
    "* the innermost scope, which is searched first, contains the local names\n",
    "* the scopes of any enclosing functions, which are searched starting with the nearest enclosing scope, contains non-local, but also non-global names\n",
    "* the next-to-last scope contains the current module’s global names\n",
    "* the outermost scope (searched last) is the namespace containing built-in names"
   ]
  },
  {
   "cell_type": "markdown",
   "metadata": {},
   "source": [
    "## Global v. local"
   ]
  },
  {
   "cell_type": "markdown",
   "metadata": {},
   "source": [
    "Variables declared outside the function can be referenced within the function:"
   ]
  },
  {
   "cell_type": "code",
   "execution_count": 1,
   "metadata": {},
   "outputs": [
    {
     "data": {
      "text/plain": [
       "15"
      ]
     },
     "execution_count": 1,
     "metadata": {},
     "output_type": "execute_result"
    }
   ],
   "source": [
    "x = 5\n",
    "def addx(y):\n",
    "    return x + y\n",
    "addx(10)"
   ]
  },
  {
   "cell_type": "markdown",
   "metadata": {},
   "source": [
    "But these “global” variables cannot bemodified within the function, unless declared global in the function.\n",
    "This doesn’t work:"
   ]
  },
  {
   "cell_type": "code",
   "execution_count": 8,
   "metadata": {},
   "outputs": [
    {
     "name": "stdout",
     "output_type": "stream",
     "text": [
      "x is 10 \n"
     ]
    }
   ],
   "source": [
    "def setx(y):\n",
    "    x = y\n",
    "    print('x is %d ' % x)\n",
    "setx(10)"
   ]
  },
  {
   "cell_type": "code",
   "execution_count": 4,
   "metadata": {},
   "outputs": [
    {
     "data": {
      "text/plain": [
       "5"
      ]
     },
     "execution_count": 4,
     "metadata": {},
     "output_type": "execute_result"
    }
   ],
   "source": [
    "x"
   ]
  },
  {
   "cell_type": "markdown",
   "metadata": {},
   "source": [
    "This works:"
   ]
  },
  {
   "cell_type": "code",
   "execution_count": 6,
   "metadata": {},
   "outputs": [
    {
     "name": "stdout",
     "output_type": "stream",
     "text": [
      "x is 10 \n"
     ]
    }
   ],
   "source": [
    "def setx(y):\n",
    "    global x\n",
    "    x = y\n",
    "    print('x is %d ' % x)\n",
    "setx(10)"
   ]
  },
  {
   "cell_type": "code",
   "execution_count": 7,
   "metadata": {},
   "outputs": [
    {
     "data": {
      "text/plain": [
       "10"
      ]
     },
     "execution_count": 7,
     "metadata": {},
     "output_type": "execute_result"
    }
   ],
   "source": [
    "x"
   ]
  },
  {
   "cell_type": "markdown",
   "metadata": {
    "collapsed": true
   },
   "source": [
    "One more example:"
   ]
  },
  {
   "cell_type": "code",
   "execution_count": 1,
   "metadata": {},
   "outputs": [
    {
     "name": "stdout",
     "output_type": "stream",
     "text": [
      "6\n",
      "6\n"
     ]
    }
   ],
   "source": [
    "a = 5\n",
    "def f():\n",
    "    global a\n",
    "    a = 6\n",
    "    print(a)\n",
    "f()\n",
    "print(a)"
   ]
  },
  {
   "cell_type": "markdown",
   "metadata": {},
   "source": [
    "Consider this with `global` excluded:"
   ]
  },
  {
   "cell_type": "code",
   "execution_count": 2,
   "metadata": {},
   "outputs": [
    {
     "name": "stdout",
     "output_type": "stream",
     "text": [
      "6\n",
      "5\n"
     ]
    }
   ],
   "source": [
    "a = 5\n",
    "def f():\n",
    "    a = 6\n",
    "    print(a)\n",
    "f()\n",
    "print(a)"
   ]
  },
  {
   "cell_type": "markdown",
   "metadata": {},
   "source": [
    "## What does it mean that Python is _statically scoped_?"
   ]
  },
  {
   "cell_type": "markdown",
   "metadata": {},
   "source": [
    "This simply means that every mention of a variable name in a program can be resolved ahead of time in order to determine the object to which it refers, by inspection _only_ of the program’s text.\n",
    "\n",
    "Contrast with _dynamic scope_, where the identity of the object to which a variable refers cannot be determined until runtime.\n",
    "\n",
    "So, Python is both statically scoped but also lacks an explicit variable declaration statement (e.g. a `var`-like keyword). This means that it needs to know how to determine, when given a statement that refers to a variable, and the existence of a non-local binding with the same name, whether or not that statement creates a new local binding that shadows the existing one.\n",
    "\n",
    "The rule that Python chooses is: any assignment within a block establishes a new local binding, unless a global statement for the name appears in the block, in which case the name always refers to a binding in the module-global environment instead."
   ]
  },
  {
   "cell_type": "code",
   "execution_count": 4,
   "metadata": {},
   "outputs": [
    {
     "name": "stdout",
     "output_type": "stream",
     "text": [
      "True\n",
      "False\n"
     ]
    }
   ],
   "source": [
    "def test_function_calls_callback():\n",
    "    callback_called = False\n",
    "    def callback():\n",
    "        # This isn't re-assigning to `callback_called`.  \n",
    "        # It's creating a new local binding\n",
    "        callback_called = True\n",
    "        print(callback_called)\n",
    "    callback()\n",
    "    print(callback_called)\n",
    "test_function_calls_callback()"
   ]
  },
  {
   "cell_type": "markdown",
   "metadata": {},
   "source": [
    "To override this feature you would use `nonlocal`:"
   ]
  },
  {
   "cell_type": "code",
   "execution_count": 1,
   "metadata": {},
   "outputs": [
    {
     "name": "stdout",
     "output_type": "stream",
     "text": [
      "True\n",
      "True\n"
     ]
    }
   ],
   "source": [
    "def test_function_calls_callback():\n",
    "    callback_called = False\n",
    "    def callback():\n",
    "        nonlocal callback_called\n",
    "        callback_called = True\n",
    "        print(callback_called)\n",
    "    callback()\n",
    "    print(callback_called)\n",
    "test_function_calls_callback()"
   ]
  },
  {
   "cell_type": "markdown",
   "metadata": {},
   "source": [
    "## Lexical scoping"
   ]
  },
  {
   "cell_type": "markdown",
   "metadata": {},
   "source": [
    "**Lexical scoping**: variable bindings are resolved based on the static program text.\n",
    "\n",
    "A nested Python function can refer to variables defined in enclosing functions, but can not assign to them.  Any assignment to a name in a block will cause Python to treat all references to that name as a local variable, even if the use precedes the assignment. If a global declaration occurs, the name is treated as a global variable.\n",
    "\n",
    "So, **static scope is effectively synonymous with lexical scope**, though in some cases the latter is used to differentiate the subset of statically-scoped languages that allow arbitrary nested scopes, where name resolution is permitted to access bindings defined in a (typically closest) parent scope."
   ]
  },
  {
   "cell_type": "markdown",
   "metadata": {},
   "source": [
    "The Python 2.0 definition specified exactly three namespaces to check for each name:\n",
    "1. local namespace\n",
    "2. global namespace\n",
    "3. builtin namespace.  \n",
    "\n",
    "According to this definition, if a function A is defined within a function B, the names bound in B are not visible in A.  \n",
    "\n",
    "PEP 227 changes the rules so that names bound in B are visible in A (unless A contains a name binding that hides the binding in B)."
   ]
  },
  {
   "cell_type": "markdown",
   "metadata": {},
   "source": [
    "### Reference versus assignment"
   ]
  },
  {
   "cell_type": "markdown",
   "metadata": {},
   "source": [
    "From the Google Style Guide on lexical scoping:\n",
    "\n",
    "> A nested Python function can refer to variables defined in enclosing functions, but can not assign to them."
   ]
  },
  {
   "cell_type": "code",
   "execution_count": 7,
   "metadata": {},
   "outputs": [
    {
     "name": "stdout",
     "output_type": "stream",
     "text": [
      "7\n",
      "5\n"
     ]
    }
   ],
   "source": [
    "# Reference\n",
    "# ---------\n",
    "def toplevel():\n",
    "    a = 5\n",
    "    def nested():\n",
    "        print(a + 2)  # nested func can refer to variables def\n",
    "                      #     in enclosing functions\n",
    "    nested()\n",
    "    return a\n",
    "print(toplevel())"
   ]
  },
  {
   "cell_type": "code",
   "execution_count": 8,
   "metadata": {},
   "outputs": [
    {
     "name": "stdout",
     "output_type": "stream",
     "text": [
      "5\n"
     ]
    }
   ],
   "source": [
    "# Assignment\n",
    "# ---------\n",
    "def toplevel():\n",
    "    a = 5\n",
    "    def nested():\n",
    "        a = 7        # \"outer\" a is still 5, can't modify \n",
    "                     #     enclosing scope variable\n",
    "    nested()\n",
    "    return a\n",
    "print(toplevel())"
   ]
  },
  {
   "cell_type": "markdown",
   "metadata": {},
   "source": [
    "So, why does a _combination of reference & assignment_ fail?"
   ]
  },
  {
   "cell_type": "code",
   "execution_count": 9,
   "metadata": {
    "collapsed": true
   },
   "outputs": [],
   "source": [
    "# Reference and assignment\n",
    "def toplevel():\n",
    "    a = 5\n",
    "    def nested():\n",
    "        print(a + 2)\n",
    "        a = 7\n",
    "    nested()\n",
    "    return a\n",
    "# toplevel()\n",
    "# UnboundLocalError: local variable 'a' referenced before assignment"
   ]
  },
  {
   "cell_type": "markdown",
   "metadata": {},
   "source": [
    "In the **reference** case above, Python sees that there is no local `a` and so `a + 2` refers to `toplevel`'s `a`.\n",
    "\n",
    "In the **assignment** case above, two different `a` variables are assigned.\n",
    "\n",
    "But in the third case, the whole function `nested()` is checked before it runs.  Therefore `a+2` \"knows\" that a variable `a` is defined later, but that it hasn't been defined _yet_.  You could fix this with `nonlocal`:"
   ]
  },
  {
   "cell_type": "code",
   "execution_count": 11,
   "metadata": {},
   "outputs": [
    {
     "name": "stdout",
     "output_type": "stream",
     "text": [
      "7\n",
      "7\n"
     ]
    }
   ],
   "source": [
    "def toplevel():\n",
    "    a = 5\n",
    "    def nested():\n",
    "        nonlocal a\n",
    "        print(a + 2)\n",
    "        a = 7        # We're now assigning to the nonlocal a\n",
    "    nested()\n",
    "    return a\n",
    "print(toplevel())"
   ]
  },
  {
   "cell_type": "markdown",
   "metadata": {},
   "source": [
    "### Pitfall of lexical scoping"
   ]
  },
  {
   "cell_type": "markdown",
   "metadata": {},
   "source": [
    "But, one pitfall of lexical scoping is demonstrated below.  The call to `bar()` will refer to the variable `i` bound in `foo()` by the `for` loop.  If `bar()` is called before the loop is executed, a `NameError` will be raised."
   ]
  },
  {
   "cell_type": "code",
   "execution_count": 2,
   "metadata": {},
   "outputs": [
    {
     "name": "stdout",
     "output_type": "stream",
     "text": [
      "1\n",
      "2\n",
      "3\n",
      "3\n"
     ]
    }
   ],
   "source": [
    "i = 4\n",
    "def foo(x):\n",
    "    def bar():\n",
    "        print(i)\n",
    "    for i in x:  \n",
    "        # Ah, i *is* now local to `foo`, so this is what `bar` sees\n",
    "        print(i)\n",
    "    bar()\n",
    "    \n",
    "# foo([1, 2, 3]) will print 1 2 3 3, not 1 2 3 4.\n",
    "foo([1, 2, 3])"
   ]
  },
  {
   "cell_type": "markdown",
   "metadata": {},
   "source": [
    "# Object orientation"
   ]
  },
  {
   "cell_type": "markdown",
   "metadata": {},
   "source": [
    "* Python uses an object model; it is object-oriented.  \n",
    " * Formally, an object is a collection of data and associated behaviors.\n",
    " * Every number, string, data structure, function, class, module, and so on exists in the Python interpreter in its own “box” which is referred to as a Python object.  Each object has an associated type (for example, string or function) and internal data.\n",
    "* Objects in Python typically have both _attributes_ (other Python objects stored “inside” the objects) and _methods_ (functions associated with an object that have access to the object’s internal content).  A method is a function that “belongs to” an object. (In Python, the term method is not unique to class instances: other object types can have methods as well. For example, list objects have methods called append, insert, remove, sort, and so on.\n",
    "* A general Python object a (e.g. a variable, function, class instance) be used as a function argument f(a), or can have methods (functions) applied to it, with dot syntax a.f()."
   ]
  },
  {
   "cell_type": "markdown",
   "metadata": {},
   "source": [
    "## When to Use OOP"
   ]
  },
  {
   "cell_type": "markdown",
   "metadata": {},
   "source": [
    "A usable definition of an object is that it is a **collection of data and associated behaviors.**  Behaviors are actions that\n",
    "can occur on an object. The behaviors that can be performed on a specific class of objects are called methods.\n",
    "\n",
    "Objects are things that have both data and behavior.\n",
    "* If we are working only with data, we are often better off storing it in a list, set, dictionary, or some other Python data structure). \n",
    "* On the other hand, if we are working only with behavior, but no stored data, a simple function is more suitable.\n",
    "\n",
    "Proficient Python programmers use built-in data structures unless (or until) there is an obvious need to define a class.\n",
    "\n",
    "As a last word on the issue: _code length is not a good indicator of code complexity_."
   ]
  },
  {
   "cell_type": "markdown",
   "metadata": {},
   "source": [
    "# Intro to classes"
   ]
  },
  {
   "cell_type": "markdown",
   "metadata": {},
   "source": [
    "There’s a construct in Python _called_ a class that lets you structure your software in a particular way.  Classes can be used to add consistency to your programs so that they can be used in a cleaner way.  Classes are used instead of modules because you can take the class and use it to craft many of them, and they won’t interfere with each other.\n",
    "\n",
    "A basic class consists only of the `class` keyword, the name of the class, and the class from which the new class inherits in parentheses. (ex: `class NewClass(object):`)  By convention, user-defined Python class names start with a capital letter.\n"
   ]
  },
  {
   "cell_type": "code",
   "execution_count": 2,
   "metadata": {
    "collapsed": true
   },
   "outputs": [],
   "source": [
    "# Simplest form of a class\n",
    "class ClassName:\n",
    "    #<statement-1>\n",
    "    #.\n",
    "    #.\n",
    "    #.\n",
    "    #<statement-N>\n",
    "    pass"
   ]
  },
  {
   "cell_type": "code",
   "execution_count": 13,
   "metadata": {
    "collapsed": true
   },
   "outputs": [],
   "source": [
    "# The Student class has __init__, set_age and set_major methods\n",
    "# Attributes are name, age, and major\n",
    "class Student(object):\n",
    "    def __init__(self, name):\n",
    "        self.name = name\n",
    "    def set_age(self, age):\n",
    "        self.age = age\n",
    "    def set_major(self, major):\n",
    "        self.major = major"
   ]
  },
  {
   "cell_type": "code",
   "execution_count": 14,
   "metadata": {
    "collapsed": true
   },
   "outputs": [],
   "source": [
    "anna = Student('anna')"
   ]
  },
  {
   "cell_type": "code",
   "execution_count": 4,
   "metadata": {
    "collapsed": true
   },
   "outputs": [],
   "source": [
    "anna.set_age(21)"
   ]
  },
  {
   "cell_type": "code",
   "execution_count": 5,
   "metadata": {
    "collapsed": true
   },
   "outputs": [],
   "source": [
    "anna.set_major('physics')"
   ]
  },
  {
   "cell_type": "code",
   "execution_count": 6,
   "metadata": {},
   "outputs": [
    {
     "data": {
      "text/plain": [
       "21"
      ]
     },
     "execution_count": 6,
     "metadata": {},
     "output_type": "execute_result"
    }
   ],
   "source": [
    "anna.age"
   ]
  },
  {
   "cell_type": "code",
   "execution_count": 7,
   "metadata": {
    "scrolled": true
   },
   "outputs": [
    {
     "data": {
      "text/plain": [
       "<bound method Student.set_age of <__main__.Student object at 0x000000000AAFCEF0>>"
      ]
     },
     "execution_count": 7,
     "metadata": {},
     "output_type": "execute_result"
    }
   ],
   "source": [
    "anna.set_age # just a method when no parentheses are used"
   ]
  },
  {
   "cell_type": "markdown",
   "metadata": {},
   "source": [
    "The more normal way to set attributes would be directly:"
   ]
  },
  {
   "cell_type": "code",
   "execution_count": 16,
   "metadata": {},
   "outputs": [
    {
     "data": {
      "text/plain": [
       "22"
      ]
     },
     "execution_count": 16,
     "metadata": {},
     "output_type": "execute_result"
    }
   ],
   "source": [
    "anna.age = 22\n",
    "anna.age"
   ]
  },
  {
   "cell_type": "markdown",
   "metadata": {},
   "source": [
    "Class objects support two kinds of operations: attribute references and instantiation.\n",
    "\n",
    "Attribute references use the standard syntax used for all attribute references in Python: `obj.name`. Valid attribute names are all the names that were in the class’s namespace when the class object was created. So, if the class definition looked like this:"
   ]
  },
  {
   "cell_type": "code",
   "execution_count": 3,
   "metadata": {
    "collapsed": true
   },
   "outputs": [],
   "source": [
    "class MyClass:\n",
    "    \"\"\"A simple example class\"\"\"\n",
    "    i = 12345\n",
    "\n",
    "    def f(self):\n",
    "        return 'hello world'"
   ]
  },
  {
   "cell_type": "markdown",
   "metadata": {},
   "source": [
    "...then `MyClass.i` and `MyClass.f` are valid attribute references, returning an integer and a function object, respectively. Class attributes can also be assigned to, so you can change the value of `MyClass.i` by assignment. `__doc__` is also a valid attribute, returning the docstring belonging to the class: `\"A simple example class\"`."
   ]
  },
  {
   "cell_type": "code",
   "execution_count": 4,
   "metadata": {},
   "outputs": [
    {
     "data": {
      "text/plain": [
       "12345"
      ]
     },
     "execution_count": 4,
     "metadata": {},
     "output_type": "execute_result"
    }
   ],
   "source": [
    "MyClass.i"
   ]
  },
  {
   "cell_type": "code",
   "execution_count": 6,
   "metadata": {},
   "outputs": [
    {
     "data": {
      "text/plain": [
       "<function __main__.MyClass.f>"
      ]
     },
     "execution_count": 6,
     "metadata": {},
     "output_type": "execute_result"
    }
   ],
   "source": [
    "MyClass.f"
   ]
  },
  {
   "cell_type": "code",
   "execution_count": 7,
   "metadata": {},
   "outputs": [
    {
     "data": {
      "text/plain": [
       "'A simple example class'"
      ]
     },
     "execution_count": 7,
     "metadata": {},
     "output_type": "execute_result"
    }
   ],
   "source": [
    "MyClass.__doc__"
   ]
  },
  {
   "cell_type": "markdown",
   "metadata": {},
   "source": [
    "## `__init__()`"
   ]
  },
  {
   "cell_type": "markdown",
   "metadata": {},
   "source": [
    "For the example above (`MyClass`), the instantiation operation (“calling” a class object) will create an empty object.  Many classes like to create objects with instances customized to a specific initial state. Therefore a class may define a special method named `__init__()`.  When a class defines an `__init__()` method, class instantiation automatically invokes `__init__()` for the newly-created class instance."
   ]
  },
  {
   "cell_type": "markdown",
   "metadata": {},
   "source": [
    "* Consider the `__init__()` function required for classes.  It’s used to initialize the objects it creates.  `__init__()` is simply a method of a class; it is the method that “boots up” each object the class creates.\n",
    "* The `__init__()` function always takes at least one argument, `self`, that refers to the object being created.  **The self argument to a method is simply a reference to the object that the method is being invoked on.**\n",
    " * If you don’t have self, then code like won’t be clear as to whether you mean the instance’s class or a local variable.\n",
    " * There's nothing magic about the word `self`.  However, it's overwhelmingly common to use `self` as the first parameter in `__init__()`, so you should do this so that other people will understand your code.\n",
    "* Any method defined within the class should have self as its first argument: `def earn(self, y):`.\n",
    "\n",
    "See also: \n",
    "* [The Self Variable Explained](https://pythontips.com/2013/08/07/the-self-variable-in-python-explained/)"
   ]
  },
  {
   "cell_type": "markdown",
   "metadata": {},
   "source": [
    "Using `__init__` is simply a way to specify attributes by default, when a class object is created:"
   ]
  },
  {
   "cell_type": "code",
   "execution_count": 18,
   "metadata": {
    "collapsed": true
   },
   "outputs": [],
   "source": [
    "# Case 1 - no __init__\n",
    "class Point:\n",
    "    def move(self, x, y):\n",
    "        self.x = x\n",
    "        self.y = y\n",
    "    def reset(self):\n",
    "        self.move(0, 0)\n",
    "\n",
    "p1 = Point()\n",
    "p1.reset()"
   ]
  },
  {
   "cell_type": "code",
   "execution_count": 17,
   "metadata": {},
   "outputs": [
    {
     "data": {
      "text/plain": [
       "(0, 0)"
      ]
     },
     "execution_count": 17,
     "metadata": {},
     "output_type": "execute_result"
    }
   ],
   "source": [
    "# Case 1 - use __init__\n",
    "class Point:\n",
    "    def __init__(self, x=0, y=0):\n",
    "        self.move(x, y)               # note that you can refer to a \"later defined\" method within __init__\n",
    "    def move(self, x, y):\n",
    "        self.x = x\n",
    "        self.y = y\n",
    "    def reset(self):\n",
    "        self.move(0, 0)\n",
    "\n",
    "p2 = Point()\n",
    "p2.x, p2.y"
   ]
  },
  {
   "cell_type": "markdown",
   "metadata": {},
   "source": [
    "## Do you need `return self`?"
   ]
  },
  {
   "cell_type": "markdown",
   "metadata": {},
   "source": [
    "The short answer is that, in most cases, you do not.  Consider the following:"
   ]
  },
  {
   "cell_type": "code",
   "execution_count": 3,
   "metadata": {},
   "outputs": [
    {
     "data": {
      "text/plain": [
       "(0, 0)"
      ]
     },
     "execution_count": 3,
     "metadata": {},
     "output_type": "execute_result"
    }
   ],
   "source": [
    "class Point:\n",
    "    def reset(self):\n",
    "        self.x = 0\n",
    "        self.y = 0\n",
    "\n",
    "p = Point()\n",
    "p.reset()\n",
    "p.x, p.y"
   ]
  },
  {
   "cell_type": "code",
   "execution_count": 5,
   "metadata": {},
   "outputs": [
    {
     "data": {
      "text/plain": [
       "(0, 0)"
      ]
     },
     "execution_count": 5,
     "metadata": {},
     "output_type": "execute_result"
    }
   ],
   "source": [
    "class Point:\n",
    "    def reset(self):\n",
    "        self.x = 0\n",
    "        self.y = 0\n",
    "        return self      # unnecessary here; you are already modifying the object\n",
    "\n",
    "p2 = Point()\n",
    "p.reset()\n",
    "p.x, p.y"
   ]
  },
  {
   "cell_type": "markdown",
   "metadata": {},
   "source": [
    "The primary use of `return self` is to encourage method chaining (method cascading).  See [Why use `return self`?](https://stackoverflow.com/questions/43380042/purpose-of-return-self-python).  For example, The `fit` method of all scikit-learn models returns `self`, allowing you to use"
   ]
  },
  {
   "cell_type": "raw",
   "metadata": {},
   "source": [
    "y_pred = logreg.fit(X_train, y_train).predict(X_test)"
   ]
  },
  {
   "cell_type": "markdown",
   "metadata": {},
   "source": [
    "rather than"
   ]
  },
  {
   "cell_type": "raw",
   "metadata": {},
   "source": [
    "logreg = LogisticRegression()\n",
    "logreg.fit(X_train, y_train)\n",
    "y_pred = logreg.predict(X_test)"
   ]
  },
  {
   "cell_type": "markdown",
   "metadata": {},
   "source": [
    "## Difference between classes and objects"
   ]
  },
  {
   "cell_type": "markdown",
   "metadata": {},
   "source": [
    "Classes describe objects. They are like blueprints for creating an object.  You might have three oranges sitting on the table in front of you. Each orange is a distinct object, but all three have the attributes and behaviors associated with one class: the general class of oranges."
   ]
  },
  {
   "cell_type": "markdown",
   "metadata": {},
   "source": [
    "# More on method objects"
   ]
  },
  {
   "cell_type": "markdown",
   "metadata": {},
   "source": [
    "For various reasons, **functions that are part of classes are referred to as _methods_**.\n",
    "\n",
    "When you work with classes, **name the methods as if they are commands you're giving to the class**, rather than naming the methods after what the function does:"
   ]
  },
  {
   "cell_type": "code",
   "execution_count": 12,
   "metadata": {
    "collapsed": true
   },
   "outputs": [],
   "source": [
    "class newlist(list):\n",
    "    # Not great...\n",
    "    def remove_from_end_of_list(self):\n",
    "        pass\n",
    "    # Much better...\n",
    "    def pop(self):\n",
    "        pass"
   ]
  },
  {
   "cell_type": "markdown",
   "metadata": {},
   "source": [
    "Recall the example:"
   ]
  },
  {
   "cell_type": "code",
   "execution_count": 8,
   "metadata": {
    "collapsed": true
   },
   "outputs": [],
   "source": [
    "class MyClass:\n",
    "    \"\"\"A simple example class\"\"\"\n",
    "    i = 12345\n",
    "\n",
    "    def f(self):\n",
    "        return 'hello world'"
   ]
  },
  {
   "cell_type": "markdown",
   "metadata": {},
   "source": [
    "Say that you define `x = MyClass()`.  What exactly happens you call `x.f()`, without an argument, even though the function definition for f() specified an argument? Surely Python raises an exception when a function that requires an argument is called without any — even if the argument isn’t actually used...\n",
    "\n",
    "Actually, you may have guessed the answer: the special thing about methods is that the instance object is passed as the first argument of the function. In our example, the call `x.f()` is exactly equivalent to `MyClass.f(x)`. In general, calling a method with a list of _n_ arguments is equivalent to calling the corresponding function with an argument list that is created by inserting the method’s instance object before the first argument."
   ]
  },
  {
   "cell_type": "markdown",
   "metadata": {},
   "source": [
    "Methods may call other methods by using method attributes of the self argument:"
   ]
  },
  {
   "cell_type": "code",
   "execution_count": 14,
   "metadata": {},
   "outputs": [
    {
     "data": {
      "text/plain": [
       "[7, 7]"
      ]
     },
     "execution_count": 14,
     "metadata": {},
     "output_type": "execute_result"
    }
   ],
   "source": [
    "class Bag:\n",
    "    def __init__(self):\n",
    "        self.data = []\n",
    "\n",
    "    def add(self, x):\n",
    "        self.data.append(x)\n",
    "\n",
    "    def addtwice(self, x):\n",
    "        self.add(x)\n",
    "        self.add(x)            # no return statement here!\n",
    "ob = Bag()\n",
    "ob.addtwice(7)                 # notice nothing is returned, even though the object is modified\n",
    "ob.data"
   ]
  },
  {
   "cell_type": "markdown",
   "metadata": {},
   "source": [
    "## More examples"
   ]
  },
  {
   "cell_type": "code",
   "execution_count": 17,
   "metadata": {
    "collapsed": true
   },
   "outputs": [],
   "source": [
    "# Example 1\n",
    "class MyStuff(object):\n",
    "    def __init__(self):\n",
    "        self.tangerine = 'And now a thousand years between'\n",
    "    def apple(self):\n",
    "        print('I am classy apples')\n",
    "\n",
    "thing = MyStuff()"
   ]
  },
  {
   "cell_type": "code",
   "execution_count": 18,
   "metadata": {},
   "outputs": [
    {
     "name": "stdout",
     "output_type": "stream",
     "text": [
      "I am classy apples\n"
     ]
    }
   ],
   "source": [
    "thing.apple()"
   ]
  },
  {
   "cell_type": "code",
   "execution_count": 19,
   "metadata": {},
   "outputs": [
    {
     "data": {
      "text/plain": [
       "'And now a thousand years between'"
      ]
     },
     "execution_count": 19,
     "metadata": {},
     "output_type": "execute_result"
    }
   ],
   "source": [
    "thing.tangerine"
   ]
  },
  {
   "cell_type": "code",
   "execution_count": 20,
   "metadata": {},
   "outputs": [
    {
     "name": "stdout",
     "output_type": "stream",
     "text": [
      "Jeffrey 2 True\n",
      "Bruce 1 False\n",
      "Chad 7 True\n"
     ]
    }
   ],
   "source": [
    "# Example 2\n",
    "class Animal(object):\n",
    "    \"\"\"Makes animals.\"\"\"\n",
    "    def __init__(self, name, age, hungry):\n",
    "        self.name = name\n",
    "        self.age = age\n",
    "        self.is_hungry = hungry\n",
    "\n",
    "zebra = Animal(\"Jeffrey\", 2, True)\n",
    "giraffe = Animal(\"Bruce\", 1, False)\n",
    "panda = Animal(\"Chad\", 7, True)\n",
    "\n",
    "print(zebra.name, zebra.age, zebra.is_hungry)\n",
    "print(giraffe.name, giraffe.age, giraffe.is_hungry)\n",
    "print(panda.name, panda.age, panda.is_hungry)"
   ]
  },
  {
   "cell_type": "code",
   "execution_count": 1,
   "metadata": {
    "collapsed": true
   },
   "outputs": [],
   "source": [
    "# Example 3\n",
    "class Song(object):\n",
    "    def __init__(self, lyrics):\n",
    "        self.lyrics = lyrics\n",
    "    def sing_me_a_song(self):\n",
    "        for line in self.lyrics:\n",
    "            print(line)            \n",
    "happy_bday = Song(['Happy birthday to you',\n",
    "                    'I don\\'t want to get sued',\n",
    "                    'So I\\'ll stop right there'])\n",
    "bulls_on_parade = Song(['They rally around the family',\n",
    "                        'With a pocket full of shells'])"
   ]
  },
  {
   "cell_type": "code",
   "execution_count": 2,
   "metadata": {
    "scrolled": true
   },
   "outputs": [
    {
     "name": "stdout",
     "output_type": "stream",
     "text": [
      "Happy birthday to you\n",
      "I don't want to get sued\n",
      "So I'll stop right there\n"
     ]
    }
   ],
   "source": [
    "happy_bday.sing_me_a_song()"
   ]
  },
  {
   "cell_type": "code",
   "execution_count": 3,
   "metadata": {
    "scrolled": true
   },
   "outputs": [
    {
     "name": "stdout",
     "output_type": "stream",
     "text": [
      "They rally around the family\n",
      "With a pocket full of shells\n"
     ]
    }
   ],
   "source": [
    "bulls_on_parade.sing_me_a_song()"
   ]
  },
  {
   "cell_type": "code",
   "execution_count": 5,
   "metadata": {},
   "outputs": [
    {
     "name": "stdout",
     "output_type": "stream",
     "text": [
      "Ukelele added.\n"
     ]
    }
   ],
   "source": [
    "# Example 4\n",
    "class ShoppingCart(object):\n",
    "    \"\"\"Creates shopping cart objects for website users.\"\"\"\n",
    "    \n",
    "    items_in_cart = {}\n",
    "    def __init__(self, customer_name):\n",
    "        self.customer_name = customer_name\n",
    "    \n",
    "    def add_item(self, product, price):\n",
    "        \"\"\"Add product to the cart.\"\"\"\n",
    "        if not product in self.items_in_cart:\n",
    "            self.items_in_cart[product] = price\n",
    "            print(product + \" added.\")\n",
    "        else:\n",
    "            print(product + \" is already in the cart.\")\n",
    "\n",
    "    def remove_item(self, product):\n",
    "        \"\"\"Remove product from the cart.\"\"\"\n",
    "        if product in self.items_in_cart:\n",
    "            del self.items_in_cart[product]\n",
    "            print(product + \" removed.\")\n",
    "        else:\n",
    "            print(product + \" is not in the cart.\")\n",
    "\n",
    "my_cart = ShoppingCart(customer_name=\"Brad\")\n",
    "my_cart.add_item(\"Ukelele\", 10)"
   ]
  },
  {
   "cell_type": "markdown",
   "metadata": {},
   "source": [
    "## Using docstrings in classes"
   ]
  },
  {
   "cell_type": "markdown",
   "metadata": {},
   "source": [
    "It is good practice to use docstrings for both the class itself and methods:"
   ]
  },
  {
   "cell_type": "code",
   "execution_count": 22,
   "metadata": {},
   "outputs": [
    {
     "name": "stdout",
     "output_type": "stream",
     "text": [
      "Help on class Point in module __main__:\n",
      "\n",
      "class Point(builtins.object)\n",
      " |  Represents a point in two-dimensional geometric coordinates.\n",
      " |  \n",
      " |  Methods defined here:\n",
      " |  \n",
      " |  __init__(self, x=0, y=0)\n",
      " |      Yes, you can but do not need to use docstrings under __init__.\n",
      " |  \n",
      " |  move(self, x, y)\n",
      " |      Move the point to a new location in 2D space.\n",
      " |  \n",
      " |  reset(self)\n",
      " |      'Reset the point back to the geometric origin.\n",
      " |  \n",
      " |  ----------------------------------------------------------------------\n",
      " |  Data descriptors defined here:\n",
      " |  \n",
      " |  __dict__\n",
      " |      dictionary for instance variables (if defined)\n",
      " |  \n",
      " |  __weakref__\n",
      " |      list of weak references to the object (if defined)\n",
      "\n"
     ]
    }
   ],
   "source": [
    "class Point:\n",
    "    \"\"\"Represents a point in two-dimensional geometric coordinates.\"\"\"\n",
    "    def __init__(self, x=0, y=0):\n",
    "        \"\"\"Yes, you can but do not need to use docstrings under __init__.\"\"\"\n",
    "        self.move(x, y)\n",
    "    def move(self, x, y):\n",
    "        \"\"\"Move the point to a new location in 2D space.\"\"\"\n",
    "        self.x = x\n",
    "        self.y = y\n",
    "    def reset(self):\n",
    "        \"\"\"'Reset the point back to the geometric origin.\"\"\"\n",
    "        self.move(0, 0)\n",
    "        \n",
    "help(Point)"
   ]
  },
  {
   "cell_type": "markdown",
   "metadata": {},
   "source": [
    "# Share data"
   ]
  },
  {
   "cell_type": "markdown",
   "metadata": {},
   "source": [
    "Be careful about using a class variable without `self`.  For example, the tricks list in the following code should not be used as a class variable because just a single list would be shared by all Dog instances:"
   ]
  },
  {
   "cell_type": "code",
   "execution_count": 9,
   "metadata": {},
   "outputs": [
    {
     "data": {
      "text/plain": [
       "['roll over', 'play dead']"
      ]
     },
     "execution_count": 9,
     "metadata": {},
     "output_type": "execute_result"
    }
   ],
   "source": [
    "class Dog:\n",
    "\n",
    "    tricks = []             # mistaken use of a class variable\n",
    "\n",
    "    def __init__(self, name):\n",
    "        self.name = name\n",
    "\n",
    "    def add_trick(self, trick):\n",
    "        self.tricks.append(trick)\n",
    "\n",
    "d = Dog('Fido')\n",
    "e = Dog('Buddy')\n",
    "d.add_trick('roll over')\n",
    "e.add_trick('play dead')\n",
    "d.tricks                # unexpectedly shared by all dogs"
   ]
  },
  {
   "cell_type": "markdown",
   "metadata": {},
   "source": [
    "Correct design of the class should use an instance variable instead:"
   ]
  },
  {
   "cell_type": "code",
   "execution_count": 10,
   "metadata": {},
   "outputs": [
    {
     "data": {
      "text/plain": [
       "['play dead']"
      ]
     },
     "execution_count": 10,
     "metadata": {},
     "output_type": "execute_result"
    }
   ],
   "source": [
    "class Dog:\n",
    "\n",
    "    def __init__(self, name):\n",
    "        self.name = name\n",
    "        self.tricks = []    # creates a new empty list for each dog\n",
    "\n",
    "    def add_trick(self, trick):\n",
    "        self.tricks.append(trick)\n",
    "\n",
    "d = Dog('Fido')\n",
    "e = Dog('Buddy')\n",
    "d.add_trick('roll over')\n",
    "e.add_trick('play dead')\n",
    "d.tricks\n",
    "['roll over']\n",
    "e.tricks"
   ]
  },
  {
   "cell_type": "markdown",
   "metadata": {},
   "source": [
    "# `__repr__` and `__str__`"
   ]
  },
  {
   "cell_type": "markdown",
   "metadata": {},
   "source": [
    "See also: [dunder methods](https://dbader.org/blog/python-dunder-methods)\n",
    "\n",
    "When you define a custom class in Python and then try to print one of its instances to the console (or inspect it in an interpreter session), you get a relatively unsatisfying result:"
   ]
  },
  {
   "cell_type": "code",
   "execution_count": 1,
   "metadata": {},
   "outputs": [
    {
     "name": "stdout",
     "output_type": "stream",
     "text": [
      "<__main__.Car object at 0x0000000009915908>\n"
     ]
    },
    {
     "data": {
      "text/plain": [
       "<__main__.Car at 0x9915908>"
      ]
     },
     "execution_count": 1,
     "metadata": {},
     "output_type": "execute_result"
    }
   ],
   "source": [
    "class Car:\n",
    "    def __init__(self, color, mileage):\n",
    "        self.color = color\n",
    "        self.mileage = mileage\n",
    "my_car = Car('red', 37281)\n",
    "print(my_car)\n",
    "my_car"
   ]
  },
  {
   "cell_type": "markdown",
   "metadata": {},
   "source": [
    "By default all you get is a string containing the class name and the id of the object instance (which is the object’s memory address in CPython.) That’s better than nothing, but it’s also not very useful.\n",
    "\n",
    "`__str__` and `__repr__` are the Pythonic way to control how objects are converted to strings in different situations."
   ]
  },
  {
   "cell_type": "code",
   "execution_count": 5,
   "metadata": {},
   "outputs": [
    {
     "name": "stdout",
     "output_type": "stream",
     "text": [
      "a red car\n"
     ]
    },
    {
     "data": {
      "text/plain": [
       "<__main__.Car at 0x99aa6d8>"
      ]
     },
     "execution_count": 5,
     "metadata": {},
     "output_type": "execute_result"
    }
   ],
   "source": [
    "class Car:\n",
    "    def __init__(self, color, mileage):\n",
    "        self.color = color\n",
    "        self.mileage = mileage\n",
    "\n",
    "    def __str__(self):\n",
    "        return f'a {self.color} car'\n",
    "\n",
    "print(Car(color='red', mileage=5000))\n",
    "Car(color='red', mileage=5000)"
   ]
  },
  {
   "cell_type": "markdown",
   "metadata": {},
   "source": [
    "Inspecting the `Car` object in the console still gives us the previous result containing the object’s id. But printing the object resulted in the string returned by the  `__str__` method we added.\n",
    "\n",
    "`__str__` is one of Python’s “dunder” (double-underscore) methods and gets called when you try to convert an object into a string through the various means that are available."
   ]
  },
  {
   "cell_type": "code",
   "execution_count": 7,
   "metadata": {},
   "outputs": [
    {
     "name": "stdout",
     "output_type": "stream",
     "text": [
      "a red car\n"
     ]
    }
   ],
   "source": [
    "my_car = Car('red', 37281)\n",
    "print(my_car)"
   ]
  },
  {
   "cell_type": "code",
   "execution_count": 8,
   "metadata": {},
   "outputs": [
    {
     "data": {
      "text/plain": [
       "'a red car'"
      ]
     },
     "execution_count": 8,
     "metadata": {},
     "output_type": "execute_result"
    }
   ],
   "source": [
    "str(my_car)"
   ]
  },
  {
   "cell_type": "code",
   "execution_count": 9,
   "metadata": {},
   "outputs": [
    {
     "data": {
      "text/plain": [
       "'a red car'"
      ]
     },
     "execution_count": 9,
     "metadata": {},
     "output_type": "execute_result"
    }
   ],
   "source": [
    "'{}'.format(my_car)"
   ]
  },
  {
   "cell_type": "markdown",
   "metadata": {},
   "source": [
    "## Difference between `__repr__` and `__str__`"
   ]
  },
  {
   "cell_type": "markdown",
   "metadata": {},
   "source": [
    "Notice in the above that _inspecting_ (not printing) `my_car` still gave the odd `<Car object at ...>` result.  That is because inspecting an object in a Python interpreter session simply prints the result of the object’s `__repr__`, which was not defined above."
   ]
  },
  {
   "cell_type": "code",
   "execution_count": 10,
   "metadata": {},
   "outputs": [
    {
     "name": "stdout",
     "output_type": "stream",
     "text": [
      "__str__ for Car\n"
     ]
    },
    {
     "data": {
      "text/plain": [
       "__repr__ for Car"
      ]
     },
     "execution_count": 10,
     "metadata": {},
     "output_type": "execute_result"
    }
   ],
   "source": [
    "class Car:\n",
    "    def __init__(self, color, mileage):\n",
    "        self.color = color\n",
    "        self.mileage = mileage\n",
    "    def __repr__(self):\n",
    "        return '__repr__ for Car'\n",
    "    def __str__(self):\n",
    "        return '__str__ for Car'\n",
    "my_car = Car('red', 37281)\n",
    "print(my_car)\n",
    "my_car"
   ]
  },
  {
   "cell_type": "markdown",
   "metadata": {},
   "source": [
    "Note that the built in methods then call the dunder methods:"
   ]
  },
  {
   "cell_type": "code",
   "execution_count": 12,
   "metadata": {},
   "outputs": [
    {
     "data": {
      "text/plain": [
       "'__str__ for Car'"
      ]
     },
     "execution_count": 12,
     "metadata": {},
     "output_type": "execute_result"
    }
   ],
   "source": [
    "str(my_car)"
   ]
  },
  {
   "cell_type": "code",
   "execution_count": 13,
   "metadata": {},
   "outputs": [
    {
     "data": {
      "text/plain": [
       "'__repr__ for Car'"
      ]
     },
     "execution_count": 13,
     "metadata": {},
     "output_type": "execute_result"
    }
   ],
   "source": [
    "repr(my_car)"
   ]
  },
  {
   "cell_type": "markdown",
   "metadata": {},
   "source": [
    "# Intermediate class conventions"
   ]
  },
  {
   "cell_type": "markdown",
   "metadata": {},
   "source": [
    "You can build a class that accepts another class object as an input (see `.x` and `.y` below):"
   ]
  },
  {
   "cell_type": "code",
   "execution_count": 18,
   "metadata": {
    "collapsed": true
   },
   "outputs": [],
   "source": [
    "import math\n",
    "class Point:\n",
    "    def move(self, x, y):\n",
    "        self.x = x\n",
    "        self.y = y\n",
    "    def reset(self):\n",
    "        self.move(0, 0)\n",
    "    def calculate_distance(self, other_point):\n",
    "        return math.sqrt(\n",
    "            (self.x - other_point.x)**2 +\n",
    "            (self.y - other_point.y)**2)         # Pythagorean theorem\n",
    "                                                 # Notice the references to other_point which is\n",
    "                                                 # (implicitly) a Point class"
   ]
  },
  {
   "cell_type": "code",
   "execution_count": 9,
   "metadata": {},
   "outputs": [
    {
     "name": "stdout",
     "output_type": "stream",
     "text": [
      "5.0\n"
     ]
    }
   ],
   "source": [
    "point1 = Point()\n",
    "point2 = Point()\n",
    "\n",
    "point1.reset()\n",
    "point2.move(5,0)\n",
    "\n",
    "print(point2.calculate_distance(point1))"
   ]
  },
  {
   "cell_type": "code",
   "execution_count": 13,
   "metadata": {},
   "outputs": [
    {
     "name": "stdout",
     "output_type": "stream",
     "text": [
      "4.47213595499958\n"
     ]
    }
   ],
   "source": [
    "assert (point2.calculate_distance(point1) == point1.calculate_distance(point2))\n",
    "\n",
    "point1.move(3,4)\n",
    "print(point1.calculate_distance(point2))"
   ]
  },
  {
   "cell_type": "markdown",
   "metadata": {},
   "source": [
    "# Class inheritance"
   ]
  },
  {
   "cell_type": "markdown",
   "metadata": {},
   "source": [
    "The syntax for a derived class definition looks like this:"
   ]
  },
  {
   "cell_type": "code",
   "execution_count": 22,
   "metadata": {
    "collapsed": true
   },
   "outputs": [],
   "source": [
    "class BaseClassName:\n",
    "    pass\n",
    "\n",
    "class DerivedClassName(BaseClassName):\n",
    "    #<statement-1>\n",
    "    #.\n",
    "    #.\n",
    "    #.\n",
    "    #<statement-N>\n",
    "    pass\n",
    "\n",
    "# If the base class is defined in another module:\n",
    "# class DerivedClassName(modname.BaseClassName)"
   ]
  },
  {
   "cell_type": "markdown",
   "metadata": {},
   "source": [
    "Recall a class defined in an above example:"
   ]
  },
  {
   "cell_type": "code",
   "execution_count": 15,
   "metadata": {
    "collapsed": true
   },
   "outputs": [],
   "source": [
    "class Student(object):\n",
    "    def __init__(self, name):\n",
    "        self.name = name\n",
    "    def set_age(self, age):\n",
    "        self.age = age\n",
    "    def set_major(self, major):\n",
    "        self.major = major"
   ]
  },
  {
   "cell_type": "markdown",
   "metadata": {},
   "source": [
    "Create a new class `MasterStudent` with the same methods and attributes as the previous one, but with an additional `internship` attribute:"
   ]
  },
  {
   "cell_type": "code",
   "execution_count": 8,
   "metadata": {
    "collapsed": true
   },
   "outputs": [],
   "source": [
    "class MasterStudent(Student):\n",
    "    internship = 'mandatory, from March to June'"
   ]
  },
  {
   "cell_type": "code",
   "execution_count": 9,
   "metadata": {
    "collapsed": true
   },
   "outputs": [],
   "source": [
    "james = MasterStudent('james')"
   ]
  },
  {
   "cell_type": "code",
   "execution_count": 10,
   "metadata": {},
   "outputs": [
    {
     "data": {
      "text/plain": [
       "'mandatory, from March to June'"
      ]
     },
     "execution_count": 10,
     "metadata": {},
     "output_type": "execute_result"
    }
   ],
   "source": [
    "james.internship"
   ]
  },
  {
   "cell_type": "code",
   "execution_count": 15,
   "metadata": {
    "collapsed": true
   },
   "outputs": [],
   "source": [
    "james.set_age(23) # still need to define"
   ]
  },
  {
   "cell_type": "code",
   "execution_count": 16,
   "metadata": {},
   "outputs": [
    {
     "data": {
      "text/plain": [
       "23"
      ]
     },
     "execution_count": 16,
     "metadata": {},
     "output_type": "execute_result"
    }
   ],
   "source": [
    "james.age"
   ]
  },
  {
   "cell_type": "markdown",
   "metadata": {
    "collapsed": true
   },
   "source": [
    "Notes on inheritance:\n",
    "* Inheritance creates a new instance of the base class.\n",
    "* When the class object is constructed, the base class is remembered. This is used for resolving attribute references: if a requested attribute is not found in the class, the search proceeds to look in the base class.\n",
    "* Derived classes may override methods of their base classes.\n",
    "* The built-in [function](https://docs.python.org/3/library/functions.html#issubclass) `issubclass()` can check for class inheritance."
   ]
  },
  {
   "cell_type": "markdown",
   "metadata": {},
   "source": [
    "## From Shaw - _Learn Python the Hard Way_"
   ]
  },
  {
   "cell_type": "markdown",
   "metadata": {},
   "source": [
    "There are three ways to make the parent and child class interact:\n",
    "1. _Implied_ inheritance - leave the method alone\n",
    "2. _Explicit override_ - redefine the method\n",
    "3. `super`: alter the action on the parent\n",
    "\n",
    "The below combines an example of all three:"
   ]
  },
  {
   "cell_type": "code",
   "execution_count": 5,
   "metadata": {},
   "outputs": [
    {
     "name": "stdout",
     "output_type": "stream",
     "text": [
      "Parent implicit()\n",
      "Parent implicit()\n",
      "Parent override()\n",
      "Child override()\n",
      "Parent altered()\n",
      "Child, before parent altered()\n",
      "Parent altered()\n",
      "Child, after parent altered()\n"
     ]
    }
   ],
   "source": [
    "class Parent(object):\n",
    "    def implicit(self):\n",
    "        print('Parent implicit()')\n",
    "    def altered(self):\n",
    "        print('Parent altered()')\n",
    "    def override(self):\n",
    "        print('Parent override()')\n",
    "\n",
    "\n",
    "class Child(Parent):\n",
    "\n",
    "    # 1. Implicit - don't write new method at all\n",
    "    # 2. Override - define function with same name\n",
    "    def override(self):\n",
    "        print('Child override()')\n",
    "    # 3. Alter *before* or *after* parent class's version runs\n",
    "    #        using built-in `__super__()`\n",
    "    def altered(self):\n",
    "        print('Child, before parent altered()') # line 1\n",
    "        super(Child, self).altered()            # line 2\n",
    "        print('Child, after parent altered()')  # line 3\n",
    "\n",
    "dad = Parent()\n",
    "son = Child()\n",
    "\n",
    "dad.implicit()\n",
    "son.implicit()\n",
    "\n",
    "dad.override()\n",
    "son.override()\n",
    "\n",
    "dad.altered()\n",
    "son.altered()"
   ]
  },
  {
   "cell_type": "markdown",
   "metadata": {},
   "source": [
    "What happens in `Child.altered()` above?\n",
    "1. Line 1: Override `Parent.altered()`.  `Child.altered()` runs.\n",
    "2. Line 2: We use super to \"get\" the `Parent.altered()` method.  This is a lot like `getattr` that's aware of inheritance.  You can read it as, \"call `super` with arguments `Child` and `self`, then call the function `altered` on whatever it returns.\n",
    "3. At this point, `Parent.altered()` runs, and prints the \"Parent altered().\"  \n",
    "4. Line 3: `Child.altered()` continues to print out after `super`.\n",
    "\n",
    "The purpose of `super()` as it's used in this code block is to **alter the behavior _before or after_ the `Parent` class's version runs.**\n",
    "\n",
    "`super()` can be seen in some cases as an **alternative to multiple inheritance.**  In this example,\n",
    "\n",
    "```python\n",
    "class SuperFun(Child, Uncle):\n",
    "    pass\n",
    "```\n",
    "\n",
    "and you have implicit actions on any `SuperFun` instance, Python has to look up the possible function in the class hierarchy for both `Child` and `Uncle`, but needs to do this in a consistent order.  To do this, Python uses something called \"method resolution order\" (MRO) and an algorithm called C3 to determine order.  Alternatively, there is `super()`, which serves as a temporary in-place inheritance.\n",
    "\n",
    "The most common use of `super()` is actually in `__init__` methods:  "
   ]
  },
  {
   "cell_type": "code",
   "execution_count": 10,
   "metadata": {
    "collapsed": true
   },
   "outputs": [],
   "source": [
    "class Child(Parent):\n",
    "    def __init__(self, stuff):\n",
    "        self.stuff = stuff\n",
    "        super(Child, self).__init__()"
   ]
  },
  {
   "cell_type": "markdown",
   "metadata": {},
   "source": [
    "This serves to:\n",
    "- Set `stuff` as belong to `Child` (not parent)\n",
    "- But then also have `Parent` initialize with `Parent.__init__()`"
   ]
  },
  {
   "cell_type": "markdown",
   "metadata": {},
   "source": [
    "Note that in this example specifically, order does not particularly matter:"
   ]
  },
  {
   "cell_type": "code",
   "execution_count": 11,
   "metadata": {
    "collapsed": true
   },
   "outputs": [],
   "source": [
    "class Kid(Parent):\n",
    "    def __init__(self, stuff):\n",
    "        super(Child, self).__init__()\n",
    "        self.stuff = stuff"
   ]
  },
  {
   "cell_type": "markdown",
   "metadata": {},
   "source": [
    "## Composition"
   ]
  },
  {
   "cell_type": "markdown",
   "metadata": {},
   "source": [
    "The alternative to inheritance is just to _use_ other classes and modules (call them directly), rather than rely on implicit inheritance."
   ]
  },
  {
   "cell_type": "code",
   "execution_count": 8,
   "metadata": {},
   "outputs": [
    {
     "name": "stdout",
     "output_type": "stream",
     "text": [
      "Other implicit()\n",
      "Child override()\n",
      "Child before other altered()\n",
      "Other altered()\n",
      "Child after other altered()\n"
     ]
    }
   ],
   "source": [
    "class Other(object):\n",
    "    def implicit(self):\n",
    "        print('Other implicit()')\n",
    "    def override(self):\n",
    "        print('Other override()')\n",
    "    def altered(self):\n",
    "        print('Other altered()')\n",
    "\n",
    "class Child(object):\n",
    "    def __init__(self):\n",
    "        self.other = Other()\n",
    "    def implicit(self):\n",
    "        return self.other.implicit()\n",
    "    def override(self):\n",
    "        print('Child override()')\n",
    "    def altered(self):\n",
    "        print('Child before other altered()')\n",
    "        self.other.altered()\n",
    "        print('Child after other altered()')\n",
    "\n",
    "son = Child()\n",
    "son.implicit()\n",
    "son.override()\n",
    "son.altered()"
   ]
  },
  {
   "cell_type": "markdown",
   "metadata": {},
   "source": [
    "## Extending built-ins"
   ]
  },
  {
   "cell_type": "markdown",
   "metadata": {},
   "source": [
    "One interesting use of inheritance is adding functionality to built-in classes."
   ]
  },
  {
   "cell_type": "code",
   "execution_count": 3,
   "metadata": {},
   "outputs": [
    {
     "data": {
      "text/plain": [
       "'longest'"
      ]
     },
     "execution_count": 3,
     "metadata": {},
     "output_type": "execute_result"
    }
   ],
   "source": [
    "class LongNameDict(dict):\n",
    "    \"\"\"Inherits from dict.  Extended with a `longest_key` attribute\"\"\"\n",
    "    @property\n",
    "    def longest_key(self):\n",
    "        longest = None\n",
    "        for key in self:\n",
    "            if not longest or len(key) > len(longest):\n",
    "                longest = key\n",
    "        return longest\n",
    "longkeys = LongNameDict({'a' : 1, 'longest' : 2, 'long' : 3})\n",
    "longkeys.longest_key"
   ]
  },
  {
   "cell_type": "markdown",
   "metadata": {},
   "source": [
    "Most built-in types can be similarly extended. Commonly extended built-ins are `object`, `list`, `set`, `dict`, `file`, and `str`. Numerical types such as `int` and `float` are also occasionally inherited from.\n",
    "\n",
    "When we have a built-in container object that we want to add functionality to, we have two options\n",
    "1. We can either create a new object, which holds that container as an attribute (**composition**)\n",
    " * Best alternative if all we want to do is use the container to store some objects using that container's features\n",
    "2. We can subclass the built-in object and add or adapt methods on it to do what we want (**inheritance**)\n",
    " * Use inheritance if we want to change the way the container actually works"
   ]
  },
  {
   "cell_type": "markdown",
   "metadata": {},
   "source": [
    "### When to use inheritance or composition"
   ]
  },
  {
   "cell_type": "markdown",
   "metadata": {},
   "source": [
    "1. Avoid multiple inheritance at all cost.  If you're stuck with it, be prepared to know class hierarchy and spend time finding where everything is coming from.\n",
    "2. Use composition to package up code into modules that are used in many different unrelated places and situations.\n",
    "3. Use inheritance only when there are clearly defined related reusable pieces of code that fit under a single common concept or if you have to because of something you're using."
   ]
  },
  {
   "cell_type": "markdown",
   "metadata": {},
   "source": [
    "## `class` versus `object`"
   ]
  },
  {
   "cell_type": "markdown",
   "metadata": {},
   "source": [
    "The difference between a class and object can be confusing.  In layman's terms, a class is a generalized construct whereas an object is a specific instance of that class.  In a real-life example, `Fish` is a class, `Salmon` is its subclass, and a salmoned named `Mary` is the class instance object.\n",
    "\n",
    "The confusing thing is that `object` is also the most base class in Python:"
   ]
  },
  {
   "cell_type": "code",
   "execution_count": 9,
   "metadata": {},
   "outputs": [
    {
     "name": "stdout",
     "output_type": "stream",
     "text": [
      "Help on class object in module builtins:\n",
      "\n",
      "class object\n",
      " |  The most base type\n",
      "\n"
     ]
    }
   ],
   "source": [
    "help(object)"
   ]
  },
  {
   "cell_type": "markdown",
   "metadata": {},
   "source": [
    "That is, `object` is the most base class from which all other classes inherit.  A `class` inherits from the `class` named `object` to make a `class`, which then becomes an object when instantiated into a class instance."
   ]
  },
  {
   "cell_type": "markdown",
   "metadata": {},
   "source": [
    "# More on `super()`"
   ]
  },
  {
   "cell_type": "markdown",
   "metadata": {},
   "source": [
    "## Examples"
   ]
  },
  {
   "cell_type": "code",
   "execution_count": 6,
   "metadata": {},
   "outputs": [
    {
     "name": "stdout",
     "output_type": "stream",
     "text": [
      "{'a': 1, 'x': 5, 'b': 2, 'c': 3}\n",
      "\n",
      "['Setting b to 2', 'Setting c to 3']\n"
     ]
    }
   ],
   "source": [
    "# dumbed-down version of `logging.info()`\n",
    "LOG = []\n",
    "\n",
    "class LoggingDict(dict):\n",
    "    \"\"\"Extend the __setitem__ method of a dict.\n",
    "\n",
    "    d['k'] = v under the hood calls d.__setitem__(k, v).  Here it is\n",
    "        extended so that logging.info() logs a message with the added\n",
    "        key, value pair.\n",
    "    \"\"\"\n",
    "\n",
    "    def __setitem__(self, key, value):\n",
    "        global LOG\n",
    "        LOG.append('Setting %s to %r' % (key, value))\n",
    "        super().__setitem__(key, value)\n",
    "\n",
    "d = LoggingDict(a=1, x=5)\n",
    "d['b'] = 2\n",
    "d['c'] = 3\n",
    "print(d)\n",
    "print()\n",
    "print(LOG)"
   ]
  },
  {
   "cell_type": "markdown",
   "metadata": {},
   "source": [
    "Before `super()` was introduced, we would have hardwired the call above with `dict.__setitem__(self, key, value)`. However, `super()` is better because it is a **computed indirect reference.**  In other words, if you rename the base class, the `super()` reference will automatically follow."
   ]
  },
  {
   "cell_type": "code",
   "execution_count": 7,
   "metadata": {},
   "outputs": [
    {
     "data": {
      "text/html": [
       "<div>\n",
       "<style>\n",
       "    .dataframe thead tr:only-child th {\n",
       "        text-align: right;\n",
       "    }\n",
       "\n",
       "    .dataframe thead th {\n",
       "        text-align: left;\n",
       "    }\n",
       "\n",
       "    .dataframe tbody tr th {\n",
       "        vertical-align: top;\n",
       "    }\n",
       "</style>\n",
       "<table border=\"1\" class=\"dataframe\">\n",
       "  <thead>\n",
       "    <tr style=\"text-align: right;\">\n",
       "      <th></th>\n",
       "      <th>0</th>\n",
       "      <th>1</th>\n",
       "    </tr>\n",
       "  </thead>\n",
       "  <tbody>\n",
       "    <tr>\n",
       "      <th>0</th>\n",
       "      <td>1</td>\n",
       "      <td>2</td>\n",
       "    </tr>\n",
       "    <tr>\n",
       "      <th>1</th>\n",
       "      <td>3</td>\n",
       "      <td>4</td>\n",
       "    </tr>\n",
       "  </tbody>\n",
       "</table>\n",
       "</div>"
      ],
      "text/plain": [
       "   0  1\n",
       "0  1  2\n",
       "1  3  4"
      ]
     },
     "execution_count": 7,
     "metadata": {},
     "output_type": "execute_result"
    }
   ],
   "source": [
    "class NumpyArr(object):\n",
    "    def __init__(self, x):\n",
    "        self.x = x\n",
    "    def array(self):\n",
    "        return np.array(self.x)\n",
    "\n",
    "class PandasDF(NumpyArr):\n",
    "    def array(self):\n",
    "        # Call parent's `array` and wrap it in a DataFrame\n",
    "        return pd.DataFrame(super(PandasDF, self).array())\n",
    "    \n",
    "x = [[1, 2], [3, 4]]\n",
    "PandasDF(x).array()"
   ]
  },
  {
   "cell_type": "markdown",
   "metadata": {},
   "source": [
    "What would happen if we called the above (incorrectly) without `super()`?"
   ]
  },
  {
   "cell_type": "code",
   "execution_count": 10,
   "metadata": {},
   "outputs": [
    {
     "ename": "RecursionError",
     "evalue": "maximum recursion depth exceeded",
     "output_type": "error",
     "traceback": [
      "\u001b[1;31m---------------------------------------------------------------------------\u001b[0m",
      "\u001b[1;31mRecursionError\u001b[0m                            Traceback (most recent call last)",
      "\u001b[1;32m<ipython-input-10-8a8be158f977>\u001b[0m in \u001b[0;36m<module>\u001b[1;34m()\u001b[0m\n\u001b[0;32m      3\u001b[0m         \u001b[1;32mreturn\u001b[0m \u001b[0mpd\u001b[0m\u001b[1;33m.\u001b[0m\u001b[0mDataFrame\u001b[0m\u001b[1;33m(\u001b[0m\u001b[0mself\u001b[0m\u001b[1;33m.\u001b[0m\u001b[0marray\u001b[0m\u001b[1;33m(\u001b[0m\u001b[1;33m)\u001b[0m\u001b[1;33m)\u001b[0m\u001b[1;33m\u001b[0m\u001b[0m\n\u001b[0;32m      4\u001b[0m \u001b[1;33m\u001b[0m\u001b[0m\n\u001b[1;32m----> 5\u001b[1;33m \u001b[0mPandasDF\u001b[0m\u001b[1;33m(\u001b[0m\u001b[0mx\u001b[0m\u001b[1;33m)\u001b[0m\u001b[1;33m.\u001b[0m\u001b[0marray\u001b[0m\u001b[1;33m(\u001b[0m\u001b[1;33m)\u001b[0m\u001b[1;33m\u001b[0m\u001b[0m\n\u001b[0m",
      "\u001b[1;32m<ipython-input-10-8a8be158f977>\u001b[0m in \u001b[0;36marray\u001b[1;34m(self)\u001b[0m\n\u001b[0;32m      1\u001b[0m \u001b[1;32mclass\u001b[0m \u001b[0mPandasDF\u001b[0m\u001b[1;33m(\u001b[0m\u001b[0mNumpyArr\u001b[0m\u001b[1;33m)\u001b[0m\u001b[1;33m:\u001b[0m\u001b[1;33m\u001b[0m\u001b[0m\n\u001b[0;32m      2\u001b[0m     \u001b[1;32mdef\u001b[0m \u001b[0marray\u001b[0m\u001b[1;33m(\u001b[0m\u001b[0mself\u001b[0m\u001b[1;33m)\u001b[0m\u001b[1;33m:\u001b[0m\u001b[1;33m\u001b[0m\u001b[0m\n\u001b[1;32m----> 3\u001b[1;33m         \u001b[1;32mreturn\u001b[0m \u001b[0mpd\u001b[0m\u001b[1;33m.\u001b[0m\u001b[0mDataFrame\u001b[0m\u001b[1;33m(\u001b[0m\u001b[0mself\u001b[0m\u001b[1;33m.\u001b[0m\u001b[0marray\u001b[0m\u001b[1;33m(\u001b[0m\u001b[1;33m)\u001b[0m\u001b[1;33m)\u001b[0m\u001b[1;33m\u001b[0m\u001b[0m\n\u001b[0m\u001b[0;32m      4\u001b[0m \u001b[1;33m\u001b[0m\u001b[0m\n\u001b[0;32m      5\u001b[0m \u001b[0mPandasDF\u001b[0m\u001b[1;33m(\u001b[0m\u001b[0mx\u001b[0m\u001b[1;33m)\u001b[0m\u001b[1;33m.\u001b[0m\u001b[0marray\u001b[0m\u001b[1;33m(\u001b[0m\u001b[1;33m)\u001b[0m\u001b[1;33m\u001b[0m\u001b[0m\n",
      "... last 1 frames repeated, from the frame below ...\n",
      "\u001b[1;32m<ipython-input-10-8a8be158f977>\u001b[0m in \u001b[0;36marray\u001b[1;34m(self)\u001b[0m\n\u001b[0;32m      1\u001b[0m \u001b[1;32mclass\u001b[0m \u001b[0mPandasDF\u001b[0m\u001b[1;33m(\u001b[0m\u001b[0mNumpyArr\u001b[0m\u001b[1;33m)\u001b[0m\u001b[1;33m:\u001b[0m\u001b[1;33m\u001b[0m\u001b[0m\n\u001b[0;32m      2\u001b[0m     \u001b[1;32mdef\u001b[0m \u001b[0marray\u001b[0m\u001b[1;33m(\u001b[0m\u001b[0mself\u001b[0m\u001b[1;33m)\u001b[0m\u001b[1;33m:\u001b[0m\u001b[1;33m\u001b[0m\u001b[0m\n\u001b[1;32m----> 3\u001b[1;33m         \u001b[1;32mreturn\u001b[0m \u001b[0mpd\u001b[0m\u001b[1;33m.\u001b[0m\u001b[0mDataFrame\u001b[0m\u001b[1;33m(\u001b[0m\u001b[0mself\u001b[0m\u001b[1;33m.\u001b[0m\u001b[0marray\u001b[0m\u001b[1;33m(\u001b[0m\u001b[1;33m)\u001b[0m\u001b[1;33m)\u001b[0m\u001b[1;33m\u001b[0m\u001b[0m\n\u001b[0m\u001b[0;32m      4\u001b[0m \u001b[1;33m\u001b[0m\u001b[0m\n\u001b[0;32m      5\u001b[0m \u001b[0mPandasDF\u001b[0m\u001b[1;33m(\u001b[0m\u001b[0mx\u001b[0m\u001b[1;33m)\u001b[0m\u001b[1;33m.\u001b[0m\u001b[0marray\u001b[0m\u001b[1;33m(\u001b[0m\u001b[1;33m)\u001b[0m\u001b[1;33m\u001b[0m\u001b[0m\n",
      "\u001b[1;31mRecursionError\u001b[0m: maximum recursion depth exceeded"
     ]
    }
   ],
   "source": [
    "class PandasDF(NumpyArr):\n",
    "    def array(self):\n",
    "        return pd.DataFrame(self.array())\n",
    "\n",
    "PandasDF(x).array()"
   ]
  },
  {
   "cell_type": "markdown",
   "metadata": {},
   "source": [
    "## Uses"
   ]
  },
  {
   "cell_type": "markdown",
   "metadata": {},
   "source": [
    "`super()` is in the business of **delegating method calls to some class in the instance’s ancestor tree.**\n",
    "\n",
    "There are two typical use cases for super:\n",
    "1. In a class hierarchy with single inheritance, `super()` can be used to refer to parent classes without naming them explicitly, thus making the code more maintainable. This use closely parallels the use of super in other programming languages.  `super()` returns a proxy object that delegates method calls to a **parent or sibling** class of type. **This is useful for accessing inherited methods that have been overridden in a class.** The search order is same as that used by `getattr()` except that the type itself is skipped.\n",
    "2. The second use case is to support **cooperative multiple inheritance** in a dynamic execution environment. This use case is unique to Python and is not found in statically compiled languages or languages that only support single inheritance. This makes it possible to implement “**diamond diagrams**” where multiple base classes implement the same method. Good design dictates that this method have the same calling signature in every case (because the order of calls is determined at runtime, because that order adapts to changes in the class hierarchy, and because that order can include sibling classes that are unknown prior to runtime).\n",
    "\n"
   ]
  },
  {
   "cell_type": "markdown",
   "metadata": {},
   "source": [
    "## Change in syntax - Python2 to Python3"
   ]
  },
  {
   "cell_type": "markdown",
   "metadata": {},
   "source": [
    "Note that the syntax changed in Python 3.0: you can just say `super().__init__()` instead of `super(ChildB, self).__init__()`."
   ]
  },
  {
   "cell_type": "code",
   "execution_count": 2,
   "metadata": {},
   "outputs": [
    {
     "name": "stdout",
     "output_type": "stream",
     "text": [
      "Parent name()\n",
      "Parent name()\n"
     ]
    }
   ],
   "source": [
    "class Parent(object):\n",
    "    def name(self):\n",
    "        print('Parent name()')\n",
    "\n",
    "\n",
    "class Child(Parent):\n",
    "    def name(self):\n",
    "        print('Child name()')\n",
    "\n",
    "    def use_old(self):\n",
    "        super(Child, self).name()\n",
    "\n",
    "    def also_use_old(self):\n",
    "        # Equiv. to `use_old`\n",
    "        super().name()\n",
    "\n",
    "c = Child()\n",
    "c.use_old()\n",
    "c.also_use_old()"
   ]
  },
  {
   "cell_type": "markdown",
   "metadata": {},
   "source": [
    "## Reminder: `__init__` is implicitly inherited"
   ]
  },
  {
   "cell_type": "markdown",
   "metadata": {},
   "source": [
    "In fact, all methods including dunder methods are.\n",
    "\n",
    "In the example below (at least), we don't need `super()`, if we want to inherit the parent's `__init__()` \"as-is.\""
   ]
  },
  {
   "cell_type": "code",
   "execution_count": 14,
   "metadata": {},
   "outputs": [
    {
     "name": "stdout",
     "output_type": "stream",
     "text": [
      "True\n"
     ]
    }
   ],
   "source": [
    "class A(object):\n",
    "    def __init__(self):\n",
    "        self.x = True\n",
    "\n",
    "class B(A):\n",
    "    # We don't need\n",
    "    # super().__init__()\n",
    "    # in this case!\n",
    "    pass\n",
    "\n",
    "b = B()\n",
    "print(b.x)"
   ]
  },
  {
   "cell_type": "markdown",
   "metadata": {},
   "source": [
    "Here is a modification in which we would indeed need it.  First the incorrect version:"
   ]
  },
  {
   "cell_type": "code",
   "execution_count": 20,
   "metadata": {},
   "outputs": [
    {
     "ename": "AttributeError",
     "evalue": "'C' object has no attribute 'x'",
     "output_type": "error",
     "traceback": [
      "\u001b[1;31m---------------------------------------------------------------------------\u001b[0m",
      "\u001b[1;31mAttributeError\u001b[0m                            Traceback (most recent call last)",
      "\u001b[1;32m<ipython-input-20-255161cc6666>\u001b[0m in \u001b[0;36m<module>\u001b[1;34m()\u001b[0m\n\u001b[0;32m      6\u001b[0m \u001b[1;33m\u001b[0m\u001b[0m\n\u001b[0;32m      7\u001b[0m \u001b[0mc\u001b[0m \u001b[1;33m=\u001b[0m \u001b[0mC\u001b[0m\u001b[1;33m(\u001b[0m\u001b[1;33m)\u001b[0m\u001b[1;33m\u001b[0m\u001b[0m\n\u001b[1;32m----> 8\u001b[1;33m \u001b[0mprint\u001b[0m\u001b[1;33m(\u001b[0m\u001b[0mc\u001b[0m\u001b[1;33m.\u001b[0m\u001b[0mx\u001b[0m\u001b[1;33m,\u001b[0m \u001b[0mc\u001b[0m\u001b[1;33m.\u001b[0m\u001b[0my\u001b[0m\u001b[1;33m)\u001b[0m  \u001b[1;31m# will raise\u001b[0m\u001b[1;33m\u001b[0m\u001b[0m\n\u001b[0m",
      "\u001b[1;31mAttributeError\u001b[0m: 'C' object has no attribute 'x'"
     ]
    }
   ],
   "source": [
    "class C(A):\n",
    "    def __init__(self):\n",
    "        # We are overriding here!\n",
    "        # (Just like any other non-dunder method override)\n",
    "        self.y = False\n",
    "\n",
    "c = C()\n",
    "print(c.x, c.y)  # will raise"
   ]
  },
  {
   "cell_type": "markdown",
   "metadata": {},
   "source": [
    "Corrected version:"
   ]
  },
  {
   "cell_type": "code",
   "execution_count": 19,
   "metadata": {},
   "outputs": [
    {
     "name": "stdout",
     "output_type": "stream",
     "text": [
      "True False\n"
     ]
    }
   ],
   "source": [
    "class C(A):\n",
    "    def __init__(self):\n",
    "        super().__init__()\n",
    "        self.y = False\n",
    "\n",
    "c = C()\n",
    "print(c.x, c.y)"
   ]
  },
  {
   "cell_type": "markdown",
   "metadata": {},
   "source": [
    "## Cooperative multiple inheritance"
   ]
  },
  {
   "cell_type": "code",
   "execution_count": 1,
   "metadata": {},
   "outputs": [
    {
     "name": "stdout",
     "output_type": "stream",
     "text": [
      "circle\n",
      "red\n",
      "1\n",
      "1\n"
     ]
    }
   ],
   "source": [
    "class Shape:\n",
    "    def __init__(self, shapename, **kwds):\n",
    "        self.shapename = shapename\n",
    "        # This doesn't automatially call `object.__init__()`!\n",
    "        # In this case, it actually calls `PositionMixin.__init__()`\n",
    "        super().__init__(**kwds)\n",
    "\n",
    "\n",
    "class PositionMixin:\n",
    "    def __init__(self, x=0, y=0, **kwds):\n",
    "        # This calls `object.__init__(**kwds)`\n",
    "        super().__init__(**kwds)\n",
    "        self.x = x\n",
    "        self.y = y\n",
    "\n",
    "\n",
    "class ColoredShape(Shape, PositionMixin):\n",
    "    def __init__(self, color, **kwds):\n",
    "        self.color = color\n",
    "        super().__init__(**kwds)\n",
    "\n",
    "\n",
    "myshape = ColoredShape('red', shapename='circle', x=1, y=1)\n",
    "\n",
    "\n",
    "for attr in ['shapename', 'color', 'x', 'y']:\n",
    "    print(getattr(myshape, attr))"
   ]
  },
  {
   "cell_type": "markdown",
   "metadata": {},
   "source": [
    "# Private variables"
   ]
  },
  {
   "cell_type": "markdown",
   "metadata": {},
   "source": [
    "Most object-oriented programming languages have a concept of access control: some attributes and methods are marked private or protected.  Python doesn't do this.   Instead, it provides unenforced guidelines and best practices. \n",
    "\n",
    "Technically, all methods and attributes on a class are publicly available.  **“Private” instance variables that cannot be accessed except from inside an object don’t exist in Python.**\n",
    "\n",
    "However, there are two conventions that are followed by most Python code:\n",
    "\n",
    "1. **Single underscore (e.g. `_spam`)**:\n",
    "    Python programmers will interpret this as \"this is an internal variable, think three times before accessing it directly\".\n",
    "    \n",
    "2. **Double underscore (`__spam`)**:\n",
    "    This will perform **name mangling** on the object.  This basically means that the method can still be called by outside objects if they really want to do it, but it requires extra work and is a strong indicator that you demand that your attribute remains private.  An example is below."
   ]
  },
  {
   "cell_type": "code",
   "execution_count": 24,
   "metadata": {},
   "outputs": [
    {
     "ename": "AttributeError",
     "evalue": "'SecretString' object has no attribute '__plain_string'",
     "output_type": "error",
     "traceback": [
      "\u001b[0;31m---------------------------------------------------------------------------\u001b[0m",
      "\u001b[0;31mAttributeError\u001b[0m                            Traceback (most recent call last)",
      "\u001b[0;32m<ipython-input-24-58537602286b>\u001b[0m in \u001b[0;36m<module>\u001b[0;34m()\u001b[0m\n\u001b[1;32m     12\u001b[0m \u001b[1;33m\u001b[0m\u001b[0m\n\u001b[1;32m     13\u001b[0m \u001b[0msecstr\u001b[0m \u001b[1;33m=\u001b[0m \u001b[0mSecretString\u001b[0m\u001b[1;33m(\u001b[0m\u001b[0mplain_string\u001b[0m\u001b[1;33m=\u001b[0m\u001b[1;34m'acme'\u001b[0m\u001b[1;33m,\u001b[0m \u001b[0mpass_phrase\u001b[0m\u001b[1;33m=\u001b[0m\u001b[1;34m'antwerp'\u001b[0m\u001b[1;33m)\u001b[0m \u001b[1;31m# tab completion will not show __xx attributes\u001b[0m\u001b[1;33m\u001b[0m\u001b[0m\n\u001b[0;32m---> 14\u001b[0;31m \u001b[0msecstr\u001b[0m\u001b[1;33m.\u001b[0m\u001b[0m__plain_string\u001b[0m                                             \u001b[1;31m# AttributeError coming\u001b[0m\u001b[1;33m\u001b[0m\u001b[0m\n\u001b[0m",
      "\u001b[0;31mAttributeError\u001b[0m: 'SecretString' object has no attribute '__plain_string'"
     ]
    }
   ],
   "source": [
    "class SecretString:\n",
    "    \"\"\"A not-at-all secure way to store a secret string.\"\"\"\n",
    "    def __init__(self, plain_string, pass_phrase):\n",
    "        self.__plain_string = plain_string\n",
    "        self.__pass_phrase = pass_phrase\n",
    "    def decrypt(self, pass_phrase):\n",
    "        \"\"\"Only show the string if the pass_phrase is correct.\"\"\"\n",
    "        if pass_phrase == self.__pass_phrase:\n",
    "            return self.__plain_string\n",
    "        else:\n",
    "            return None\n",
    "        \n",
    "secstr = SecretString(plain_string='acme', pass_phrase='antwerp') # tab completion will not show __xx attributes\n",
    "secstr.__plain_string                                             # AttributeError coming"
   ]
  },
  {
   "cell_type": "code",
   "execution_count": 25,
   "metadata": {},
   "outputs": [
    {
     "data": {
      "text/plain": [
       "'acme'"
      ]
     },
     "execution_count": 25,
     "metadata": {},
     "output_type": "execute_result"
    }
   ],
   "source": [
    "secstr.decrypt('antwerp')"
   ]
  },
  {
   "cell_type": "markdown",
   "metadata": {},
   "source": [
    "However, this apparent security is easily penetrable.  This is Python name mangling at work. When we use a double underscore, the property is prefixed with `_<classname>`."
   ]
  },
  {
   "cell_type": "code",
   "execution_count": 27,
   "metadata": {},
   "outputs": [
    {
     "data": {
      "text/plain": [
       "'acme'"
      ]
     },
     "execution_count": 27,
     "metadata": {},
     "output_type": "execute_result"
    }
   ],
   "source": [
    "secstr._SecretString__plain_string"
   ]
  },
  {
   "cell_type": "markdown",
   "metadata": {
    "collapsed": true
   },
   "source": [
    "## Properties"
   ]
  },
  {
   "cell_type": "markdown",
   "metadata": {},
   "source": [
    "See also: \n",
    "* SO: [How does the @property decorator work?](https://stackoverflow.com/questions/17330160/how-does-the-property-decorator-work)\n",
    "* programiz: [Python @property](https://www.programiz.com/python-programming/property)\n",
    "* [documentation](https://docs.python.org/3/library/functions.html#property)\n",
    "\n",
    "As discussed above, using an underscore or double underscore in Python does not technically make the variables private; it just _suggests_ that they be _treated as_ private.  A related concept is the `property` decorator.\n",
    "\n",
    "Many object-oriented languages (Java is the most notorious) teach us to never access attributes directly. They insist that we write attribute access like this:"
   ]
  },
  {
   "cell_type": "code",
   "execution_count": 1,
   "metadata": {
    "collapsed": true
   },
   "outputs": [],
   "source": [
    "# separate get and set methods\n",
    "class Color:\n",
    "    def __init__(self, rgb_value, name):\n",
    "        self._rgb_value = rgb_value\n",
    "        self._name = name\n",
    "    def set_name(self, name):\n",
    "        self._name = name\n",
    "    def get_name(self):\n",
    "        return self._name"
   ]
  },
  {
   "cell_type": "markdown",
   "metadata": {},
   "source": [
    "Basic Python favors a \"direct access\" version:"
   ]
  },
  {
   "cell_type": "code",
   "execution_count": 2,
   "metadata": {
    "collapsed": true
   },
   "outputs": [],
   "source": [
    "class Color:\n",
    "    def __init__(self, rgb_value, name):\n",
    "        self.rgb_value = rgb_value\n",
    "        self.name = name\n",
    "c = Color(\"#ff0000\", \"bright red\")\n",
    "c.name = \"red\" # set attr directly"
   ]
  },
  {
   "cell_type": "markdown",
   "metadata": {},
   "source": [
    "**So why would anyone insist upon the method-based syntax?** Their reasoning is that someday we may want to add extra code when a value is set or retrieved.  Say that we went to change the `set_name()` method from above.\n",
    "\n",
    "Now, in Java and similar languages, if we had written our original code to do direct attribute access, and then later changed it to a method like the preceding one, we'd have a problem: anyone who had written code that accessed the attribute directly would now have to access the method. If they don't change the access style from attribute access to a function call, their code will be broken. The mantra in these languages is that we should never make public members private. This doesn't make much sense in Python since there isn't any real concept of private members! \n",
    "\n",
    "**Python gives us the `property` keyword to make methods look like attributes.** We can therefore write our code to use direct member access, and if we unexpectedly need to alter the implementation to do some calculation when getting or setting that attribute's value, we can do so without changing the interface. Let's see how it looks:"
   ]
  },
  {
   "cell_type": "code",
   "execution_count": 3,
   "metadata": {
    "collapsed": true
   },
   "outputs": [],
   "source": [
    "class Color:\n",
    "    def __init__(self, rgb_value, name):\n",
    "        self.rgb_value = rgb_value\n",
    "        self._name = name\n",
    "    def _set_name(self, name):\n",
    "        if not name:\n",
    "            raise Exception(\"Invalid Name\")\n",
    "        self._name = name\n",
    "    def _get_name(self):\n",
    "        return self._name\n",
    "    \n",
    "    name = property(_get_name, _set_name)"
   ]
  },
  {
   "cell_type": "markdown",
   "metadata": {},
   "source": [
    "**If we had started with the earlier non-method-based class, which set the name attribute directly, we could later change the code to look like the preceding one.** We first change the `name` attribute into a (semi-) private `_name` attribute. Then we add two more (semi-) private methods to get and set that variable, doing our validation when we set it.\n",
    "\n",
    "So what does `property` do in the above?\n",
    "* It creates a new attribute on the `Color` class called `name`, which now replaces the previous `name` attribute. \n",
    "* It sets this attribute to be a property, which calls the two methods we just created whenever the property is accessed or changed."
   ]
  },
  {
   "cell_type": "code",
   "execution_count": 5,
   "metadata": {},
   "outputs": [
    {
     "name": "stdout",
     "output_type": "stream",
     "text": [
      "bright red\n"
     ]
    }
   ],
   "source": [
    "c  = Color(\"#0000ff\", \"bright red\")\n",
    "print(c.name)"
   ]
  },
  {
   "cell_type": "code",
   "execution_count": 7,
   "metadata": {},
   "outputs": [
    {
     "name": "stdout",
     "output_type": "stream",
     "text": [
      "red\n"
     ]
    }
   ],
   "source": [
    "c.name = \"red\"\n",
    "print(c.name)"
   ]
  },
  {
   "cell_type": "markdown",
   "metadata": {},
   "source": [
    "The [syntax](https://docs.python.org/3/library/functions.html#property) of property is\n",
    "\n",
    "`class property(fget=None, fset=None, fdel=None, doc=None)`\n",
    "\n",
    "where:\n",
    "* `fget` is a function for getting an attribute value\n",
    "* `fset` is a function for setting an attribute value\n",
    "* `fdel` is a function for deleting an attribute value\n",
    "* `doc` creates a docstring for the attribute.\n",
    "\n",
    "So, as done in the above `Color` class, a typical use is to define a _managed attribute_:\n",
    "\n"
   ]
  },
  {
   "cell_type": "code",
   "execution_count": 8,
   "metadata": {
    "collapsed": true
   },
   "outputs": [],
   "source": [
    "class C:\n",
    "    def __init__(self):\n",
    "        self._x = None\n",
    "    def getx(self):\n",
    "        return self._x\n",
    "    def setx(self, value):\n",
    "        self._x = value\n",
    "    def delx(self):\n",
    "        del self._x\n",
    "    x = property(getx, setx, delx, \"I'm the 'x' property.\")"
   ]
  },
  {
   "cell_type": "markdown",
   "metadata": {},
   "source": [
    "Then, if `c` is an instance of `C`, **`c.x` will invoke the getter, `c.x = value` will invoke the setter and `del c.x` the deleter.**\n",
    "\n",
    "If given, `doc` will be the docstring of the property attribute. **Otherwise, the property will copy `fget`’s docstring** (if it exists). This makes it possible to create read-only properties easily using `property()` as a decorator:\n",
    "\n",
    "\n",
    "\n"
   ]
  },
  {
   "cell_type": "code",
   "execution_count": 9,
   "metadata": {
    "collapsed": true
   },
   "outputs": [],
   "source": [
    "class Parrot:\n",
    "    def __init__(self):\n",
    "        self._voltage = 100000\n",
    "    @property\n",
    "    def voltage(self):\n",
    "        \"\"\"Get the current voltage.\"\"\"\n",
    "        return self._voltage"
   ]
  },
  {
   "cell_type": "markdown",
   "metadata": {},
   "source": [
    "The `@property` decorator turns the `voltage()` method into a “getter” for a read-only attribute with the same name, and it sets the docstring for `voltage` to “Get the current voltage.”"
   ]
  },
  {
   "cell_type": "markdown",
   "metadata": {},
   "source": [
    "To tie everything together: A property object has `getter`, `setter`, and `deleter` **methods** usable as decorators that create a copy of the property with the corresponding accessor function set to the decorated function.  This code is exactly equivalent to the first example of `C` above."
   ]
  },
  {
   "cell_type": "code",
   "execution_count": null,
   "metadata": {
    "collapsed": true
   },
   "outputs": [],
   "source": [
    "class C:\n",
    "    def __init__(self):\n",
    "        self._x = None\n",
    "    @property\n",
    "    def x(self):\n",
    "        \"\"\"I'm the 'x' property.\"\"\"\n",
    "        return self._x\n",
    "    @x.setter\n",
    "    def x(self, value):\n",
    "        self._x = value\n",
    "    @x.deleter\n",
    "    def x(self):\n",
    "        del self._x"
   ]
  },
  {
   "cell_type": "markdown",
   "metadata": {},
   "source": [
    "## Deciding when to use properties"
   ]
  },
  {
   "cell_type": "markdown",
   "metadata": {},
   "source": [
    "Remember that object are collections of data and associated behaviors.  But, the `property` built-in can be seen as clouding the division between behavior and data.\n",
    "\n",
    "The fact that methods are just callable attributes, and properties are just customizable attributes can help us make this decision. **Methods should typically represent actions; things that can be done to, or performed by, the object. When you call a method, even with only one argument, it should do something. Method names are generally verbs.**\n",
    "\n",
    "An example: a common need for custom behavior is caching a value that is difficult to calculate or expensive to look up (requiring, for example, a network request or database query). The goal is to store the value locally to avoid repeated calls to the expensive calculation."
   ]
  },
  {
   "cell_type": "code",
   "execution_count": 10,
   "metadata": {},
   "outputs": [
    {
     "name": "stdout",
     "output_type": "stream",
     "text": [
      "Retrieving New Page...\n"
     ]
    },
    {
     "data": {
      "text/plain": [
       "True"
      ]
     },
     "execution_count": 10,
     "metadata": {},
     "output_type": "execute_result"
    }
   ],
   "source": [
    "from urllib.request import urlopen\n",
    "\n",
    "class WebPage:\n",
    "    def __init__(self, url):\n",
    "        self.url = url\n",
    "        self._content = None\n",
    "\n",
    "    @property\n",
    "    def content(self):\n",
    "    # The first time the value is retrieved, we perform the lookup or \n",
    "    # calculation.  Then we could locally cache the value as a private \n",
    "    # attribute on our object (or in dedicated caching software), and the\n",
    "    # next time the value is requested, we return the stored data\n",
    "        if not self._content:\n",
    "            print(\"Retrieving New Page...\")\n",
    "            self._content = urlopen(self.url).read()\n",
    "        return self._content\n",
    "\n",
    "import time\n",
    "\n",
    "webpage = WebPage('http://ccphillips.net/')\n",
    "now = time.time()\n",
    "content1 = webpage.content\n",
    "time.time() - now\n",
    "now = time.time()\n",
    "content2 = webpage.content\n",
    "time.time() - now\n",
    "content2 == content1"
   ]
  },
  {
   "cell_type": "markdown",
   "metadata": {},
   "source": [
    "# Why is duplicate code a bad thing?"
   ]
  },
  {
   "cell_type": "markdown",
   "metadata": {},
   "source": [
    "Don't Repeat Yourself (DRY) - a principle followed most religiously in Python.\n",
    "\n",
    "Why is duplicate code a bad thing?  There are several reasons, but they all boil down to readability and maintainability.\n",
    "* Keeping two similar pieces of code up to date can be a nightmare. We have to remember to update both sections whenever we update one of them, and we have to remember how the multiple sections differ so we can modify our changes when we are editing each of them.\n",
    "* As soon as someone has to read and understand the code and they come across duplicate blocks, they are faced with a dilemma.  Code that might have made sense suddenly has to be understood. How is one section different from the other? How are they the same? Under what conditions is one section called? When do we call the other?"
   ]
  }
 ],
 "metadata": {
  "kernelspec": {
   "display_name": "Python 3",
   "language": "python",
   "name": "python3"
  },
  "language_info": {
   "codemirror_mode": {
    "name": "ipython",
    "version": 3
   },
   "file_extension": ".py",
   "mimetype": "text/x-python",
   "name": "python",
   "nbconvert_exporter": "python",
   "pygments_lexer": "ipython3",
   "version": "3.6.3"
  }
 },
 "nbformat": 4,
 "nbformat_minor": 2
}
