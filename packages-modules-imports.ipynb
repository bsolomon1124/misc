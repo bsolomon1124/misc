{
 "cells": [
  {
   "cell_type": "markdown",
   "metadata": {},
   "source": [
    "# Covered here"
   ]
  },
  {
   "cell_type": "markdown",
   "metadata": {},
   "source": [
    "- [Overview](#Overview)\n",
    "- [Imports](#Imports)\n",
    "    - [Recommended import conventions](#Recommended-import-conventions)\n",
    "    - [Import syntax](#Import-syntax)\n",
    "    - [Circular dependencies](#Circular-dependencies)\n",
    "- [The import namespace](#The-import-namespace)\n",
    "    - [Searching, interaction, & hierarchy](#Searching,-interaction-&-hierarchy)\n",
    "    - [Intra-package references](#Intra-package-references)\n",
    "    - [Imports within `__init__.py`](#Imports-within-__init__.py)\n",
    "- [Use of `if __name__ == '__main__'`](#Use-of-if-__name__-==-\"__main__\")"
   ]
  },
  {
   "cell_type": "markdown",
   "metadata": {},
   "source": [
    "# Resources & references"
   ]
  },
  {
   "cell_type": "markdown",
   "metadata": {},
   "source": [
    "* Python docs: [Modules](https://docs.python.org/3/tutorial/modules.html); [The import system](https://docs.python.org/3/reference/import.html)\n",
    "    * Section 6.4 - [Packages](https://docs.python.org/3/tutorial/modules.html#packages)\n",
    "* tutorialspoints.com: [Python Modules](https://www.tutorialspoint.com/python/python_modules.htm)\n",
    "* [StackOverflow: Python importing errors and correct importing guidance](https://stackoverflow.com/questions/44252183/python-importing-errors-and-correct-importing-guidance)\n",
    "* See also: Chapter 10, \"Modules & Packages\", of _Python Cookbook_ (Beazley/Jones)"
   ]
  },
  {
   "cell_type": "markdown",
   "metadata": {},
   "source": [
    "# Overview"
   ]
  },
  {
   "cell_type": "markdown",
   "metadata": {},
   "source": [
    "A module is a `.py` file containing Python definitions and statements along with such things imported from other `.py` files. The file name is the module name with the suffix .py appended. **Within a module, the module’s name (as a string) is available as the value of the global variable `__name__`.**  Modules need to be imported.\n",
    "\n",
    "Some modules are from the [Python standard library](https://docs.python.org/3/library/), and some are from [external libraries](https://pypi.python.org/pypi).  It is customary to refer to available open-source Python libraries as _batteries_ or _packages_.  **A package is a collection of modules in a folder.**  The main purposes of packages is to help organize modules and provide a naming hierarchy.  You can think of packages as the directories on a file system and modules as files within directories.  NumPy, for instance, is a package containing modules for scientific computing."
   ]
  },
  {
   "cell_type": "markdown",
   "metadata": {},
   "source": [
    "# Imports"
   ]
  },
  {
   "cell_type": "markdown",
   "metadata": {},
   "source": [
    "## Recommended import conventions"
   ]
  },
  {
   "cell_type": "markdown",
   "metadata": {},
   "source": [
    "Don't use wildcards, ever."
   ]
  },
  {
   "cell_type": "markdown",
   "metadata": {},
   "source": [
    "```python\n",
    "# No\n",
    "from collections import *\n",
    "```"
   ]
  },
  {
   "cell_type": "markdown",
   "metadata": {},
   "source": [
    "Imports should usually be on separate lines."
   ]
  },
  {
   "cell_type": "markdown",
   "metadata": {},
   "source": [
    "```python\n",
    "# No\n",
    "import os, sys\n",
    "\n",
    "# Yes\n",
    "import os\n",
    "import sys\n",
    "```"
   ]
  },
  {
   "cell_type": "markdown",
   "metadata": {},
   "source": [
    "Imports should be grouped in the following order:\n",
    "\n",
    "1. Standard library imports\n",
    "2. Related third party imports\n",
    "3. Local application/library specific imports\n",
    "\n",
    "You should put a blank line between each group of imports.  Within each grouping, **imports should be sorted lexicographically, ignoring case, according to each module's full package path.**"
   ]
  },
  {
   "cell_type": "markdown",
   "metadata": {},
   "source": [
    "```python\n",
    "import collections\n",
    "import warnings\n",
    "\n",
    "import pandas as pd\n",
    "import scipy.stats as scs\n",
    "```"
   ]
  },
  {
   "cell_type": "markdown",
   "metadata": {},
   "source": [
    "## Import syntax"
   ]
  },
  {
   "cell_type": "markdown",
   "metadata": {},
   "source": [
    "* Use `import x` for importing packages and modules. \n",
    "* Use `from x import y` where `x` is the package prefix and **`y` is the module name with no prefix**. \n",
    "* Use `from x import y as z` if two modules named `y` are to be imported or if `y` is an inconveniently long name.\n",
    "\n",
    "Without knowing any other information, the `import` convention rather than `from` convention is generally preferrable.\n",
    "\n",
    "Using `from modu import func` is a way to pinpoint the function you want to import and put it in the global namespace. While much less harmful than `import *` because it shows explicitly what is imported in the global namespace, **it still potentially creates ambiguity.**  (For instance, consider `np.sqrt` versus `math.sqrt`.  If you call `sqrt(4)`, which module is `sqrt` from?)\n",
    "\n",
    "One other important point:\n",
    "\n",
    "> Note that when using `from package import item`, the `item` can be either:\n",
    "> - a submodule (or subpackage) of the `package`, or \n",
    "> - some other name defined in the package, like a **function, class or variable**. \n",
    "> \n",
    "> The `import` statement first tests whether the item is defined in the package; if not, it assumes it is a module and attempts to load it. If it fails to find it, an `ImportError` exception is raised.\n",
    "> \n",
    "> **Contrarily, when using syntax like `import item.subitem.subsubitem`, each item except for the last must be a package; the last item can be a module or a package but can’t be a class or function or variable defined in the previous item.**"
   ]
  },
  {
   "cell_type": "markdown",
   "metadata": {},
   "source": [
    "Reading:\n",
    "* SO - [Importing modules in Python - best practice](https://stackoverflow.com/questions/9916878/importing-modules-in-python-best-practice/29193752#29193752) and [Properly importing modules in Python](https://stackoverflow.com/questions/896112/properly-importing-modules-in-python)\n",
    "* Fredrik Lundh - [Importing Python Modules](http://effbot.org/zone/import-confusion.htm)\n",
    "* Hitchhiker's Guide to Python - [Modules](http://docs.python-guide.org/en/latest/writing/structure/#modules)"
   ]
  },
  {
   "cell_type": "markdown",
   "metadata": {},
   "source": [
    "## Circular imports"
   ]
  },
  {
   "cell_type": "markdown",
   "metadata": {},
   "source": [
    "Be careful with [circular imports](http://effbot.org/zone/import-confusion.htm#circular-imports).  A circular dependency occurs when two or more modules depend on each other. This is due to the fact that each module is defined in terms of the other.\n",
    "\n",
    "First it is incessary to know what occurs when we use `import x` either interactively or within a script:\n",
    "\n",
    "| Import | Result |\n",
    "| :----- | :----- |\n",
    "| `import x` | imports the module `x`, and creates a reference to that module in the current namespace. |\n",
    "| `from x import *` | imports the module `x`, and creates references in the current namespace to all public objects defined by that module (that is, everything that doesn’t have a name starting with \"\\_\"). |\n",
    "| `from x import a, b, c` | imports the module `x`, and creates references in the current namespace to the given objects. |\n",
    "\n",
    "Circular imports arise because **modules are fully executed during import**.\n",
    "\n",
    "This is all best explained with a simplified example.  Consider a package called `circimpt` with the following structure, to begin with:\n",
    "\n",
    "```\n",
    "circimpt/\n",
    "|-- __init__.py\n",
    "    |-- from .mod_a import *\n",
    "    |-- from .mod_b import *\n",
    "|-- mod_a.py\n",
    "    |-- def a(x):\n",
    "            print(x)\n",
    "|-- mod_b.py\n",
    "    |-- def b(x):\n",
    "            print(x)\n",
    "```\n",
    "\n",
    "There are no dependencies here.  The imports within `__init__.py` allow us to use `from circimpt import a` rather than `from circimp.mod_a import a`.\n",
    "\n",
    "Now consider this modified structure (**only changes noted**):\n",
    "\n",
    "```\n",
    "|-- mod_a.py\n",
    "    |-- from .mod_b import b\n",
    "    |-- def a(x):\n",
    "            b(x)\n",
    "```\n",
    "\n",
    "This is fine also.  There is a one-way dependency here.  When `a` is imported, it imports `b` first with `from .mod_b import b`.  Recall that this **imports the module `mod_b`, and creates references in the current namespace to `b`**.  All of that is fine, in this case.\n",
    "\n",
    "Alright, now for another modification--this time, one that will give us an issue:\n",
    "\n",
    "```\n",
    "|-- mod_a.py\n",
    "    |-- from .mod_b import b\n",
    "    |-- def a(x):\n",
    "            b(x)\n",
    "|-- mod_b.py\n",
    "    |-- from .mod_a import a\n",
    "    |-- def b(x):\n",
    "            a(x)\n",
    "```\n",
    "\n",
    "Here if we were to run `import circimpt`, we would get an `ImportError`.  Note that this will occur on *any* import involving `circimpt`.  Pay attention to the traceback; it shows us:\n",
    "- Importing the package name jumps to the `__init__.py` file, where we have our wildcard syntax.\n",
    "- Everything from `mod_a` is imported, which includes the `from mod_b` statement.\n",
    "- That jumps us to `mod_b`, which has a `from mod_a import a` statement.\n",
    "- However, `a` is not defined because we already \"jumped out of\" `mod_a`.  `mod_a` itself is technically defined, just as an empty module.\n",
    "\n",
    "Note that if we got rid of the `from module import *` statements in `__init__`, this would only *partially* solve the problem.  We'd no longer have an issue on `import circimpt`, but `from circimpt.mod_a import a` would cause an `RecursionError`, as would `from circimpt import mod_a`.  What is required in this case, when two functions reference each other, is a fundamental refactoring of code.\n",
    "\n",
    "This, on the other hand, would be fine:\n",
    "\n",
    "```\n",
    "circimpt/\n",
    "|-- __init__.py  # Blank\n",
    "|-- mod_a.py\n",
    "    |-- from circimpt import mod_b\n",
    "    |-- def a(x):\n",
    "            mod_b.b(x)\n",
    "|-- mod_b.py\n",
    "    |-- from circimpt import mod_a\n",
    "    |-- def b(x):\n",
    "            print(x)\n",
    "    |-- def c(x):\n",
    "    |--     mod_a.a(x)\n",
    "```\n",
    "\n",
    "Why?\n",
    "- If we were to `import a`, this first runs the `from circimpt import mod_b` in `mod_a`.\n",
    "- This evaluates the `from circimpt import mod_a`.  `mod_a` is just an \"empty module\" but **that is okay because we're not importing `a` directly.**"
   ]
  },
  {
   "cell_type": "markdown",
   "metadata": {},
   "source": [
    "# The import namespace"
   ]
  },
  {
   "cell_type": "markdown",
   "metadata": {},
   "source": [
    "The `import` statement binds the results of the import to a name in the local scope."
   ]
  },
  {
   "cell_type": "markdown",
   "metadata": {},
   "source": [
    "## Searching, interaction & hierarchy"
   ]
  },
  {
   "cell_type": "markdown",
   "metadata": {},
   "source": [
    "> *This section sacrifies some technical detail; for example, it skips over [finders and loaders](https://docs.python.org/3/reference/import.html#finders-and-loaders) and `sys.meta_path`.*\n",
    "\n",
    "When a module is imported, Python searches for the module and if found, it creates a [module object](https://docs.python.org/3/library/types.html#types.ModuleType) (a class), initializing it. If the named module cannot be found, a `ModuleNotFoundError` is raised.\n",
    "\n",
    "How and in what order is the [module search path](https://docs.python.org/3/tutorial/modules.html#the-module-search-path) performed?\n",
    "1. `sys.modules` - a mutable list of built-in modules.  This mapping serves as a cache of all modules that have been previously imported, including the intermediate paths. So if `foo.bar.baz` was previously imported, `sys.modules` will contain entries for `foo`, `foo.bar`, and `foo.bar.baz`. Each key will have as its value the corresponding module object. [[source](https://docs.python.org/3/reference/import.html#the-module-cache)]\n",
    "2. `sys.path` - this contains:\n",
    "    - the current working directory, denoted by an empty string among the other entires in sys.path. [[source](https://docs.python.org/3/reference/import.html#path-entry-finders)]\n",
    "    - other locations from PYTHONPATH (a list of directory names, with the same syntax as the shell variable PATH). \n",
    "    \n",
    "This means that **you can place a top-level package in any path specified in `sys.path` and subsequently access it no matter what your current directory is.**"
   ]
  },
  {
   "cell_type": "code",
   "execution_count": 1,
   "metadata": {},
   "outputs": [
    {
     "name": "stdout",
     "output_type": "stream",
     "text": [
      "length: 1563 \n",
      "\n",
      "modules:\n",
      "IPython                     <module 'IPython...\n",
      "IPython.core                <module 'IPython...\n",
      "IPython.core.alias          <module 'IPython...\n",
      "IPython.core.application    <module 'IPython...\n",
      "IPython.core.autocall       <module 'IPython...\n",
      "                                   ...         \n",
      "zmq.sugar.version           <module 'zmq.sug...\n",
      "zmq.utils                   <module 'zmq.uti...\n",
      "zmq.utils.constant_names    <module 'zmq.uti...\n",
      "zmq.utils.jsonapi           <module 'zmq.uti...\n",
      "zmq.utils.strtypes          <module 'zmq.uti...\n",
      "dtype: object\n"
     ]
    }
   ],
   "source": [
    "import sys\n",
    "import pandas as pd\n",
    "\n",
    "print('length:',len(sys.modules), '\\n')\n",
    "print('modules:')\n",
    "with pd.option_context('max_rows', 10):\n",
    "    print(pd.Series(sys.modules))"
   ]
  },
  {
   "cell_type": "code",
   "execution_count": 2,
   "metadata": {},
   "outputs": [
    {
     "data": {
      "text/plain": [
       "['',\n",
       " '/Applications/anaconda3/lib/python36.zip',\n",
       " '/Applications/anaconda3/lib/python3.6',\n",
       " '/Applications/anaconda3/lib/python3.6/lib-dynload',\n",
       " '/Applications/anaconda3/lib/python3.6/site-packages',\n",
       " '/Applications/anaconda3/lib/python3.6/site-packages/aeosa',\n",
       " '/Applications/anaconda3/lib/python3.6/site-packages/IPython/extensions',\n",
       " '/Users/brad/.ipython']"
      ]
     },
     "execution_count": 2,
     "metadata": {},
     "output_type": "execute_result"
    }
   ],
   "source": [
    "sys.path # save top-level package to any of these,\n",
    "         # or you'll need to cd to it to import it or its contents"
   ]
  },
  {
   "cell_type": "markdown",
   "metadata": {},
   "source": [
    "You can modify `sys.path` using standard list operations:"
   ]
  },
  {
   "cell_type": "markdown",
   "metadata": {
    "collapsed": true
   },
   "source": [
    "```python\n",
    "sys.path.append('/ufs/brad/lib/python')\n",
    "```"
   ]
  },
  {
   "cell_type": "markdown",
   "metadata": {},
   "source": [
    "## Intra-package references"
   ]
  },
  {
   "cell_type": "markdown",
   "metadata": {},
   "source": [
    "Consider the following setup and the simplistic “starting point” in which the `__init__.py` files are all empty, except for a docstring in the top-level `__init__.py` file.  "
   ]
  },
  {
   "cell_type": "markdown",
   "metadata": {},
   "source": [
    "```\n",
    "sound/\n",
    "      __init__.py\n",
    "      effects/\n",
    "              __init__.py\n",
    "              echo.py\n",
    "              surround.py\n",
    "              reverse.py\n",
    "      filters/\n",
    "              __init__.py\n",
    "              equalizer.py\n",
    "              ...\n",
    "      formats/\n",
    "              __init__.py\n",
    "              wavread.py\n",
    "              wavwrite.py\n",
    "```"
   ]
  },
  {
   "cell_type": "code",
   "execution_count": 3,
   "metadata": {},
   "outputs": [
    {
     "data": {
      "text/plain": [
       "'/Users/brad/Scripts/python'"
      ]
     },
     "execution_count": 3,
     "metadata": {},
     "output_type": "execute_result"
    }
   ],
   "source": [
    "import os\n",
    "os.getcwd()"
   ]
  },
  {
   "cell_type": "code",
   "execution_count": 4,
   "metadata": {},
   "outputs": [
    {
     "data": {
      "text/plain": [
       "True"
      ]
     },
     "execution_count": 4,
     "metadata": {},
     "output_type": "execute_result"
    }
   ],
   "source": [
    "# Because we're working outside of PATH, we'd need to\n",
    "#     cd to our package if we haven't already\n",
    "'sound' in os.listdir(os.getcwd())"
   ]
  },
  {
   "cell_type": "code",
   "execution_count": 5,
   "metadata": {
    "collapsed": true
   },
   "outputs": [],
   "source": [
    "import sound"
   ]
  },
  {
   "cell_type": "code",
   "execution_count": 6,
   "metadata": {},
   "outputs": [
    {
     "name": "stdout",
     "output_type": "stream",
     "text": [
      "Help on package sound:\n",
      "\n",
      "NAME\n",
      "    sound - This initializes the sound package and serves as a docstring.\n",
      "\n",
      "PACKAGE CONTENTS\n",
      "    effects (package)\n",
      "    egg\n",
      "    filters (package)\n",
      "    formats (package)\n",
      "    notebook\n",
      "    nutmeg\n",
      "    vinegar2\n",
      "\n",
      "SUBMODULES\n",
      "    echo\n",
      "\n",
      "FILE\n",
      "    /Users/brad/Scripts/python/sound/__init__.py\n",
      "\n",
      "\n"
     ]
    }
   ],
   "source": [
    "help(sound)"
   ]
  },
  {
   "cell_type": "markdown",
   "metadata": {},
   "source": [
    "When packages are structured into subpackages (as with `sound`), you can use **absolute imports** to refer to submodules of sibling packages. For example, if the module `sound.effects.surround` needs to use the `echo` module in the `sound.effects` package, it can use from `sound.effects import echo`."
   ]
  },
  {
   "cell_type": "markdown",
   "metadata": {},
   "source": [
    "You can also write **relative imports**, with the `from module import name` form of import statement. These imports use leading dots to indicate the current and parent packages involved in the relative import. **From the `surround` module** for example, you might use:"
   ]
  },
  {
   "cell_type": "markdown",
   "metadata": {},
   "source": [
    "```python\n",
    "# surround.py\n",
    "from . import echo\n",
    "from .. import formats\n",
    "from ..filters import equalizer\n",
    "```"
   ]
  },
  {
   "cell_type": "markdown",
   "metadata": {},
   "source": [
    "(A reminder on package structure:)\n",
    "\n",
    "```\n",
    "sound/\n",
    "      __init__.py\n",
    "      effects/\n",
    "              __init__.py\n",
    "              echo.py\n",
    "              surround.py\n",
    "              reverse.py\n",
    "      filters/\n",
    "              __init__.py\n",
    "              equalizer.py\n",
    "              ...\n",
    "      formats/\n",
    "              __init__.py\n",
    "              wavread.py\n",
    "              wavwrite.py\n",
    "```"
   ]
  },
  {
   "cell_type": "markdown",
   "metadata": {
    "collapsed": true
   },
   "source": [
    "More on relative imports here: https://www.python.org/dev/peps/pep-0328/#guido-s-decision.\n",
    "\n",
    "The jury is out on whether relative imports should be used at all.\n",
    "\n",
    "> Do not use relative names in imports. Even if the module is in the same package, use the full package name. This helps prevent unintentionally importing a package twice. [Google Style Guide]\n",
    "\n",
    "> Absolute imports are recommended, as they are usually more readable and tend to be better behaved. ... However, explicit relative imports are an acceptable alternative to absolute imports, especially when dealing with complex package layouts where using absolute imports would be unnecessarily verbose. [PEP 8]\n",
    "\n",
    "> Also: https://softwareengineering.stackexchange.com/a/159505"
   ]
  },
  {
   "cell_type": "markdown",
   "metadata": {},
   "source": [
    "## Imports within `__init__.py`"
   ]
  },
  {
   "cell_type": "markdown",
   "metadata": {},
   "source": [
    "The purpose of placing import statements into the `__init__.py` files is to be able to “jump” in path conventions on your imports within the shell.  This is because when a [regular package](https://docs.python.org/3/reference/import.html#regular-packages) is imported, this `__init__.py` file is implicitly executed, and the objects it defines are bound to names in the package’s namespace.\n",
    "\n",
    "This is best illustrated through examples.  Consider when you import:"
   ]
  },
  {
   "cell_type": "code",
   "execution_count": 7,
   "metadata": {
    "collapsed": true
   },
   "outputs": [],
   "source": [
    "from pandas import Series"
   ]
  },
  {
   "cell_type": "markdown",
   "metadata": {},
   "source": [
    "In reality, `Series` is a class within `pandas`’ `core` package and within the `series` module:"
   ]
  },
  {
   "cell_type": "code",
   "execution_count": 8,
   "metadata": {},
   "outputs": [
    {
     "data": {
      "text/plain": [
       "'pandas/core/series.py'"
      ]
     },
     "execution_count": 8,
     "metadata": {},
     "output_type": "execute_result"
    }
   ],
   "source": [
    "import inspect\n",
    "inspect.getsourcefile(Series).partition('site-packages/')[-1]"
   ]
  },
  {
   "cell_type": "markdown",
   "metadata": {},
   "source": [
    "So how does the import “jump” several levels?  You need to place additional imports in the top-level `__init__.py` file.\n",
    "\n",
    "If in the `__init__.py` for `sound` we placed:\n",
    "\n",
    "```python\n",
    "from sound.effects import echo\n",
    "```\n",
    "\n",
    "Then we could use:\n",
    "\n",
    "```python\n",
    "from sound import echo\n",
    "```"
   ]
  },
  {
   "cell_type": "markdown",
   "metadata": {},
   "source": [
    "# Use of `if __name__ == \"__main__\"`"
   ]
  },
  {
   "cell_type": "markdown",
   "metadata": {},
   "source": [
    "Say you have a module:"
   ]
  },
  {
   "cell_type": "markdown",
   "metadata": {
    "collapsed": true
   },
   "source": [
    "```python\n",
    "# module1.py\n",
    "def func1():\n",
    "    pass\n",
    "f = func1()\n",
    "```"
   ]
  },
  {
   "cell_type": "markdown",
   "metadata": {},
   "source": [
    "When you `import module1`, **all module-level code is executed immediately at the time it is imported.**  The function is not \"dangerous\" as it will be created, but its internal code will not be executed until the function is called.  _However_, `f = func1()` is also ran at the time of import, a potentially unwanted side-effect.\n",
    "\n",
    "The solution is to always put our startup code in a function (conventionally, called main) and only execute that function when we know we are running the module as a script, but not when our code is being imported from a different script:"
   ]
  },
  {
   "cell_type": "markdown",
   "metadata": {
    "scrolled": true
   },
   "source": [
    "```python\n",
    "class UsefulClass:\n",
    "    \"\"\"This class might be useful to other modules.\"\"\"\n",
    "    pass\n",
    "\n",
    "def main():\n",
    "    \"\"\"creates a useful class and does something with it for our module.\"\"\"\n",
    "    useful = UsefulClass()\n",
    "    print(useful)\n",
    "\n",
    "if __name__ == '__main__':\n",
    "    main()\n",
    "```"
   ]
  },
  {
   "cell_type": "markdown",
   "metadata": {},
   "source": [
    "From the docs:\n",
    "\n",
    "> The `__main__` module is a special case relative to Python’s import system. As noted elsewhere, the `__main__` module is **directly initialized at interpreter startup**, much like `sys` and `builtins`. However, unlike those two, it doesn’t strictly qualify as a built-in module. This is because the manner in which `__main__` is initialized depends on the flags and other options with which the interpreter is invoked."
   ]
  }
 ],
 "metadata": {
  "kernelspec": {
   "display_name": "Python 3",
   "language": "python",
   "name": "python3"
  },
  "language_info": {
   "codemirror_mode": {
    "name": "ipython",
    "version": 3
   },
   "file_extension": ".py",
   "mimetype": "text/x-python",
   "name": "python",
   "nbconvert_exporter": "python",
   "pygments_lexer": "ipython3",
   "version": "3.6.3"
  }
 },
 "nbformat": 4,
 "nbformat_minor": 2
}
