{
 "cells": [
  {
   "cell_type": "markdown",
   "metadata": {},
   "source": [
    "# Covered here"
   ]
  },
  {
   "cell_type": "markdown",
   "metadata": {},
   "source": [
    "* [Overview](#Overview)\n",
    "    * [Introduction](#Introduction)\n",
    "    * [Raw strings](#Raw-strings)\n",
    "    * [Eager searching](#How-regex-engines-work:-eager-searching)\n",
    "    * [What's missing from `re`?](#What's-missing-from-re?)\n",
    "    * [Use string methods if possible](#Use-string-methods-if-possible)\n",
    "* [Metacharacters (overview)](#Metacharacters)\n",
    "    * [Character sets](#Character-sets-aka-character-classes)\n",
    "    * [The wildcard](#The-wildcard)\n",
    "    * [Braces: character repetitions](#Braces:-character-repetitions)\n",
    "    * [Kleene star & kleene plus](#Kleene-Star-&-Kleene-Plus)\n",
    "    * [Optionality: `?`](#Optionality:-?)\n",
    "    * [Start- and end-of-string anchors](#Start--and-end-of-string-anchors)\n",
    "    * [Match groups](#Match-groups)\n",
    "    * [Conditionality: pipe operator](#Conditionality:-pipe-operator)\n",
    "* [What is greediness?](#What-is-greediness?)\n",
    "* [Other syntax](#Other-syntax)\n",
    "    * [Word boundaries](#Word-boundaries)\n",
    "    * [Backreferences](#Backreferences)\n",
    "    * [Zero-width assertions](#Zero-width-assertions)\n",
    "    * [Lookaround](#Lookaround)\n",
    "- [re-specific syntax & features](#re-specific-syntax-&-features)\n",
    "    - [Module-level `re` functions](#Module-level-re-functions)\n",
    "    - [search() vs. match()][1]\n",
    "    - [Using `compile`](#Using-compile)\n",
    "    - [`match` object](#match-objects)\n",
    "    - [Flags](#Flags)\n",
    "* [Cookbook](#Cookbook)\n",
    "* [grep](#grep)\n",
    "\n",
    "[1]: #search()-vs.-match()"
   ]
  },
  {
   "cell_type": "markdown",
   "metadata": {},
   "source": [
    "# References & resources"
   ]
  },
  {
   "cell_type": "markdown",
   "metadata": {},
   "source": [
    "* Regex tester: [regex101.com](https://regex101.com/)\n",
    "* [Regular Expression HOWTO](https://docs.python.org/3/howto/regex.html)\n",
    " * An introductory tutorial to using regular expressions in Python with the re module. It provides a gentler introduction than the corresponding section in the Library Reference\n",
    "* [RegexOne: Learn Regular Expressions with simple, interactive exercises](https://regexone.com/)\n",
    "* [Regular-Expressions.info](http://www.regular-expressions.info) - online version of Jan Goyvaerts's book\n",
    "* [tutorialspoint: Python Regular Expressions](https://www.tutorialspoint.com/python/python_reg_expressions.htm)\n",
    "* [Regex cookbook](http://www.rexegg.com/regex-cookbook.html)\n",
    "* [Python Cookbook Chapter 2: Strings and Text](http://chimera.labs.oreilly.com/books/1230000000393/ch02.html)\n",
    "* [Regular Expressions Cookbook 2nd Edition Code Samples](http://www.regular-expressions-cookbook.com/Regex%20Cookbook%202%20Code%20Samples.html)\n",
    "* The docs for [Lib/re.py](https://docs.python.org/3/library/re.html)\n",
    "* Stack Overflow examples:\n",
    " * [Top regex users](https://stackoverflow.com/tags/regex/topusers)\n",
    " * [Reference - What does this regex mean?](https://stackoverflow.com/questions/22937618/reference-what-does-this-regex-mean)\n",
    " * [Learning Regular Expressions](https://stackoverflow.com/questions/4736/learning-regular-expressions)\n",
    "* [grep](https://www.gnu.org/software/grep/manual/grep.html) - The utility from the UNIX world that first made regular expressions popular\n",
    "\n",
    "From Jan Goyvaerts:\n",
    "* [PowerGREP](https://www.powergrep.com/grep.html) - Next generation grep for Microsoft Windows\n",
    "* [RegexBuddy](https://www.regexbuddy.com/)"
   ]
  },
  {
   "cell_type": "markdown",
   "metadata": {},
   "source": [
    "# Overview"
   ]
  },
  {
   "cell_type": "markdown",
   "metadata": {},
   "source": [
    "## Author's note"
   ]
  },
  {
   "cell_type": "markdown",
   "metadata": {},
   "source": [
    "Regex is a huge subject and this guide is by no means exhaustive.  It may contain direct excerpts from the links above and I do not claim the work as my own.  Some examples may be sub-par/inefficient given that I put this guide together while learning the subject at the same time."
   ]
  },
  {
   "cell_type": "markdown",
   "metadata": {},
   "source": [
    "## Introduction"
   ]
  },
  {
   "cell_type": "markdown",
   "metadata": {},
   "source": [
    "**Regular expressions** (called REs, rexexps, regexes, or regex patterns) are essentially a tiny, highly specialized programming language.  A regex is a **special text string, described with a formal syntax, for describing a search pattern.**  The name comes from the mathematical theory on which they are based.\n",
    "\n",
    "The concept is largely programming language-agnostic; regex is effectively a language in itself and:\n",
    "* There are multiple regular expression _engines_.  An engine is a piece of software that can process the regular expression and then try to match its pattern to a given string.  Usually, the engine is part of a larger application and you do not access the engine directly.\n",
    "* There are also a number of regular expression syntaxes or _flavors_.  The most popular is Perl 5.  Others are PCRE, .NET, and the Java JDK form.\n",
    "* Finally, regexes can be implemented in a multitude of languages: Python, Perl, PHP, Java, .NET  These languages and application _support_ regular expressions, as do many text editors when it comes to searching.\n",
    " * This tutorial focuses on implementing regexes with Python--specifically with the `re` module.  The syntax used in Python’s `re` module is based on the (native) syntax used for regular expressions in Perl.  Technically, Python is the regex flavor supported by Python's `re` module.\n",
    "\n",
    "----\n",
    "\n",
    "**What is a string literal?**  This is an important first question to ask before understanding regular expressions.  \n",
    "* A **literal** is a notation for representing a fixed value in source code.  In contrast to literals, _variables_ or _constants_ are symbols that can take on one of a class of fixed values.\n",
    "* A **string literal** is a type of literal, where:\n",
    " * the literal is enclosed by quotations;\n",
    " * the quotes are not part of the value; \n",
    " * **one must use a method such as escape sequences to avoid the problem of delimiter collision.**\n",
    "\n",
    "In plain English: \n",
    "* String literals can be enclosed in matching single quotes (') or double quotes (\"). \n",
    "* They can also be enclosed in matching groups of three single or double quotes (these are generally referred to as triple-quoted strings). \n",
    "* The backslash (\\\\) character is used to escape characters that otherwise have a special meaning, such as newline, backslash itself, or the quote character.\n",
    "\n",
    "The most basic regular expression consists of a single literal character, i.e. `a`, which will match the first\n",
    "occurrence of that character in the string.\n",
    "\n",
    "The canonical import is:"
   ]
  },
  {
   "cell_type": "code",
   "execution_count": 1,
   "metadata": {
    "collapsed": true
   },
   "outputs": [],
   "source": [
    "import re"
   ]
  },
  {
   "cell_type": "markdown",
   "metadata": {},
   "source": [
    "## Raw strings"
   ]
  },
  {
   "cell_type": "markdown",
   "metadata": {},
   "source": [
    "Forgetting about regex for a second, native Python `str`ings use the backslash to escape special characters.  (For instance, `s = 'He said, \\'Forget about it.\\''`.)  The fact that the backslash is a metacharacter and is used to escape other metacharacters in regex can often lead to clumsy and confusing scenarios where 3-4 backslashes are required in a Python regex.\n",
    "\n",
    "The solution is to use **raw strings, which leave the backslash character uninterpreted** and help keep regular expressions \"sane.\"  Without them, every backslash `('\\')` in a regular expression would have to be prefixed with another one to escape it.\n",
    "\n",
    "To illustrate:"
   ]
  },
  {
   "cell_type": "code",
   "execution_count": 2,
   "metadata": {},
   "outputs": [
    {
     "name": "stdout",
     "output_type": "stream",
     "text": [
      "(\\d+)/(\\d+)/(\\d+)\n",
      "True\n"
     ]
    }
   ],
   "source": [
    "s = r'(\\d+)/(\\d+)/(\\d+)'  # Without `r`, the backslash would be interpreted as an escape\n",
    "s2 = '(\\\\d+)/(\\\\d+)/(\\\\d+)'  # An additional backslash required here without `r`\n",
    "print(s)\n",
    "print(s == s2)  # These two regexes evaluate to equality\n",
    "                # Note we haven't used `re` here at all!"
   ]
  },
  {
   "cell_type": "markdown",
   "metadata": {},
   "source": [
    "## How regex engines work: _eager searching_"
   ]
  },
  {
   "cell_type": "markdown",
   "metadata": {},
   "source": [
    "A regex engine always returns the leftmost match, even if a \"better\" match could be found later.\n",
    "\n",
    "![eagermatch.PNG](./imgs/eagermatch.PNG)\n",
    "\n",
    "In other words, the  engine is \"eager\" to report a match."
   ]
  },
  {
   "cell_type": "markdown",
   "metadata": {},
   "source": [
    "A sidenote:\n",
    "> There are two kinds of regular expression engines: _text-directed engines_, and _regex-directed engines._  All the regex flavors treated in this tutorial are based on regex-directed engines."
   ]
  },
  {
   "cell_type": "markdown",
   "metadata": {},
   "source": [
    "## What's missing from `re`?"
   ]
  },
  {
   "cell_type": "markdown",
   "metadata": {},
   "source": [
    "The only significant features missing from Python's `re` are:\n",
    "- [atomic grouping](https://www.regular-expressions.info/atomic.html),\n",
    "- [possessive quantifiers](https://www.regular-expressions.info/possessive.html).\n",
    "\n",
    "Prior to Python 3.3, `re` did not support any [Unicode regular expression tokens](https://www.regular-expressions.info/unicode.html)."
   ]
  },
  {
   "cell_type": "markdown",
   "metadata": {},
   "source": [
    "## Use string methods if possible"
   ]
  },
  {
   "cell_type": "markdown",
   "metadata": {},
   "source": [
    "Sometimes using the `re` module is a mistake. If you’re matching a fixed string, or a single character class, and you’re not using any re features such as the `IGNORECASE` flag, then the full power of regular expressions may not be required. \n",
    "\n",
    "Strings have several methods for performing operations with fixed strings and **they’re usually much faster**, because the implementation is a single small C loop that’s been optimized for the purpose, instead of the large, more generalized regular expression engine."
   ]
  },
  {
   "cell_type": "markdown",
   "metadata": {},
   "source": [
    "# Metacharacters"
   ]
  },
  {
   "cell_type": "markdown",
   "metadata": {},
   "source": [
    "Most letters and characters will simply match themselves. For example, the regular expression `test` will match the string `test` exactly.\n",
    "\n",
    "There are exceptions to this rule; some characters are special **metacharacters**, and don’t match themselves. Instead, they signal that some out-of-the-ordinary thing should be matched, or they affect other portions of the RE by repeating them or changing their meaning.  The full list:\n",
    "\n",
    "`. ^ $ * + ? { } [ ] \\ | ( )`"
   ]
  },
  {
   "cell_type": "markdown",
   "metadata": {},
   "source": [
    "**To use any of these characters as a literal in a regex, you need to escape them with a backslash.** If you want to match `1+1=2`, the correct regex is `1\\+1=2`.  **Said again, if a metacharacter is not prefaced by a backslash, it has a special meaning rather than being interpreted literally.**\n",
    "\n",
    "Basic metacharacters (click on any symbol to go to detailed section):"
   ]
  },
  {
   "cell_type": "markdown",
   "metadata": {},
   "source": [
    "| Metacharacter | Usage | Note |\n",
    "|:-------------:|-------|------|\n",
    "| [`.`](#The-wildcard) | Matches anything except a newline character | If you specify the flag `re.DOTALL`, then this metacharacter will match a newline as well.  Use the dot sparingly; it is very powerful but allows you to be lazy. |\n",
    "| [`^`](#Start--and-end-of-string-anchors) | Matches the **start** of the string. | Except in character classes, where it indicates negation. |\n",
    "| [`$`](#Start--and-end-of-string-anchors) | Matches the **end** of the string. | Or just before the newline at the end of the string. |\n",
    "| [`*`](#Kleene-Star-&-Kleene-Plus) | Matches **0 or more** (greedy) repetitions of the preceding regex. | _Greedy_ means that it will match as many repetitions as possible. |\n",
    "| [`+`](#Kleene-Star-&-Kleene-Plus) | Matches **1 or more** (greedy) repetitions of the preceding regex. |  |\n",
    "| [`?`](#Optionality:-?) | Matches **0 or 1** (greedy) of the preceding regex. |  |\n",
    "| [`{` and `}`](#Braces:-character-repetitions) | `{m,n}` matches from m to n repetitions of the preceding regex. | `{m,n}?` is the non-greedy version.  A single brace is treated literally. |\n",
    "| [`[` and `]`](#Character-sets-aka-character-classes)  | Specifying a character class | A `^` as the first character indicates a **complementing set**. |\n",
    "| [`(` and `)`](#Match-groups) | Matches the regex inside the parentheses. | The contents can be retrieved or matched later in the string. |\n",
    "| `\\` | Escape all metacharacters, **or** represents a predefined set of characters that are often useful, such as `\\d` |  |\n",
    "| [<code>&#124;</code>](#Conditionality:-pipe-operator) | 'or' operator: A<code>&#124;</code>B creates a regex that will match either A or B. |  |"
   ]
  },
  {
   "cell_type": "markdown",
   "metadata": {},
   "source": [
    "These are all covered with examples in later sections.\n",
    "\n",
    "Advanced metacharacters:\n",
    "\n",
    "| Metacharacter | Usage | Note |\n",
    "|:-------------:|-------|------|\n",
    "| `(?:...)` | Non-grouping version of regular parentheses. | xxx |\n",
    "\n",
    "[UNFINISHED; see [docs](https://github.com/python/cpython/blob/3.6/Lib/re.py#L47)]"
   ]
  },
  {
   "cell_type": "markdown",
   "metadata": {},
   "source": [
    "## Character sets aka character classes"
   ]
  },
  {
   "cell_type": "markdown",
   "metadata": {},
   "source": [
    "With a \"character class\", also called “character set”, you can tell the regex engine to **match only one out of\n",
    "several characters or sequences.**  For example, the pattern `[abc]` will only match a single a, b, or c letter and nothing else."
   ]
  },
  {
   "cell_type": "code",
   "execution_count": 15,
   "metadata": {},
   "outputs": [
    {
     "name": "stdout",
     "output_type": "stream",
     "text": [
      "matched: ['can', 'man', 'fan']\n",
      "empty: []\n"
     ]
    }
   ],
   "source": [
    "test = {'match' : 'can man fan', 'skip' : 'dan ran pan'}\n",
    "pat = '[cmf]an'\n",
    "print('matched:', re.findall(pat, test['match']))\n",
    "print('empty:', re.findall(pat, test['skip']))"
   ]
  },
  {
   "cell_type": "markdown",
   "metadata": {},
   "source": [
    "### Character ranges"
   ]
  },
  {
   "cell_type": "markdown",
   "metadata": {},
   "source": [
    "When using the square bracket notation, there is a shorthand for matching a character in list of sequential characters by using the _dash_ to indicate a character range.  For example, the pattern `[0-6]` will only match any single digit character from zero to six, and nothing else. And likewise, `[^n-p]` will only match any single character except for letters n to p.\n",
    "\n",
    "Multiple character ranges can also be used in the same set of brackets, along with individual characters.  Keep in mind that patterns are case-sensitive."
   ]
  },
  {
   "cell_type": "code",
   "execution_count": 11,
   "metadata": {},
   "outputs": [
    {
     "name": "stdout",
     "output_type": "stream",
     "text": [
      "matched: ['Ana', 'Bob', 'Cpc']\n",
      "empty: []\n"
     ]
    }
   ],
   "source": [
    "test = {'match' : 'Ana Bob Cpc', 'skip' : 'aax bby ccz'}\n",
    "pat = '[A-C][n-p][a-c]'\n",
    "print('matched:', re.findall(pat, test['match']))\n",
    "print('empty:', re.findall(pat, test['skip']))"
   ]
  },
  {
   "cell_type": "markdown",
   "metadata": {},
   "source": [
    "Note that you can combine ranges and single characters:"
   ]
  },
  {
   "cell_type": "code",
   "execution_count": 12,
   "metadata": {
    "scrolled": true
   },
   "outputs": [
    {
     "name": "stdout",
     "output_type": "stream",
     "text": [
      "matched: ['0', '1', '2', 'a', 'b', 'c', 'x', 'A', 'B', 'X']\n"
     ]
    }
   ],
   "source": [
    "test = {'match' : '0 1 2 a b c x A B X Z ZZ', 'skip' : 'aax bby ccz'}\n",
    "pat = '[0-9a-fxA-FX]'  # Note that we could use special sequences here but choose not to for now\n",
    "print('matched:', re.findall(pat, test['match']))"
   ]
  },
  {
   "cell_type": "markdown",
   "metadata": {},
   "source": [
    "### Negated character classes"
   ]
  },
  {
   "cell_type": "markdown",
   "metadata": {},
   "source": [
    "You can also indicate _inverse expressions_ (aka _complementing sets_, _negated classes_) with `^` (hat):"
   ]
  },
  {
   "cell_type": "code",
   "execution_count": 16,
   "metadata": {},
   "outputs": [
    {
     "name": "stdout",
     "output_type": "stream",
     "text": [
      "matched: ['hog', 'dog']\n",
      "empty: []\n"
     ]
    }
   ],
   "source": [
    "test = {'match' : 'hog dog', 'skip' : 'bog'}\n",
    "pat = '[^b]og' # alternative: [hd]og\n",
    "print('matched:', re.findall(pat, test['match']))\n",
    "print('empty:', re.findall(pat, test['skip']))"
   ]
  },
  {
   "cell_type": "markdown",
   "metadata": {},
   "source": [
    "Keep in mind that **a negated character class still must match a character.**  `q[^u]` does _not_ mean \"a _q_ not followed by a _u_”. It means: “a _q_ followed by a character that is not a _u_.”  Example:"
   ]
  },
  {
   "cell_type": "code",
   "execution_count": 20,
   "metadata": {},
   "outputs": [
    {
     "name": "stdout",
     "output_type": "stream",
     "text": [
      "matched: ['q ']\n",
      "empty: []\n"
     ]
    }
   ],
   "source": [
    "test = {'match' : 'Iraq is a country', 'skip' : 'Iraq'}\n",
    "pat = 'q[^u]'\n",
    "print('matched:', re.findall(pat, test['match']))\n",
    "print('empty:', re.findall(pat, test['skip']))  # Nothing follows q; this would require negative lookahead"
   ]
  },
  {
   "cell_type": "markdown",
   "metadata": {},
   "source": [
    "### Metacharacters in character classes"
   ]
  },
  {
   "cell_type": "markdown",
   "metadata": {},
   "source": [
    "**The only special characters or metacharacters inside a character class are the closing bracket (`]`), the backslash (`\\`), the caret (`^`) and the hyphen (`-`).** The usual metacharacters are normal characters inside a character class, and do not need to be escaped by a backslash."
   ]
  },
  {
   "cell_type": "markdown",
   "metadata": {},
   "source": [
    "### Special sequences"
   ]
  },
  {
   "cell_type": "markdown",
   "metadata": {},
   "source": [
    "Above it is noted that `\\` can be used as part of a representation for a set of often-used characters.  These are known as _special sequences_ or _shorthand character classes_ and they are given below.  (Note a [few](https://docs.python.org/3/library/re.html#regular-expression-syntax) are not covered here.)"
   ]
  },
  {
   "cell_type": "markdown",
   "metadata": {},
   "source": [
    "| Special sequence | Meaning |\n",
    "|:-------------:|------- |\n",
    "| `\\d` | Matches any **decimal digit**; this is equivalent to the class `[0-9]`. |\n",
    "| `\\D` | Matches any **non-digit** character; this is equivalent to the class `[^0-9]`.  This is the opposite of `\\d.` |\n",
    "| `\\s` | Matches any **whitespace** character; this is equivalent to the class `[ \\t\\n\\r\\f\\v]`. |\n",
    "| `\\S` | Matches any **non-whitespace** character; this is equivalent to the class `[^ \\t\\n\\r\\f\\v]`.  This is the opposite of `\\s.` |\n",
    "| `\\w` | Matches any **alphanumeric** character; this is equivalent to the class `[a-zA-Z0-9_]`. |\n",
    "| `\\W` | Matches any **non-alphanumeric** character; this is equivalent to the class `[^a-zA-Z0-9_]`.  In other words, any character which is not a word character. This is the opposite of `\\w`. |\n",
    "| `\\b` | Matches the empty string, but only at the beginning or end of a word. A word is defined as a sequence of word characters.  This means that `r'\\bfoo\\b`' matches `'foo'`, `'foo.'`, `'(foo)'`, `'bar foo baz'` but not `'foobar'` or `'foo3'`.\n",
    "| `\\B` | Matches the empty string, but only when it is **not** at the beginning or end of a word. This means that `r'py\\B'` matches `'python'`, `'py3'`, `'py2'`, but not `'py'`, `'py.'`, or `'py!'`.  Opposite of `\\b`. |\n",
    "| `\\\\` | Matches a literal backslash. |"
   ]
  },
  {
   "cell_type": "markdown",
   "metadata": {},
   "source": [
    "Note that the capital letter version is the negation of the lowercase version."
   ]
  },
  {
   "cell_type": "markdown",
   "metadata": {},
   "source": [
    "### Repeating character classes"
   ]
  },
  {
   "cell_type": "markdown",
   "metadata": {},
   "source": [
    "If you repeat a character class by using the `?`, `*`, or `+` operators, you will repeat the entire character class, and not just the character that it matched.  For instance, the regex `[0-9]+` can match '837' as well as '222.`"
   ]
  },
  {
   "cell_type": "code",
   "execution_count": 19,
   "metadata": {},
   "outputs": [
    {
     "name": "stdout",
     "output_type": "stream",
     "text": [
      "matched: ['837', '1234', '222', '333']\n",
      "empty: []\n"
     ]
    }
   ],
   "source": [
    "test = {'match' : '837 1234 222 333', 'skip' : 'xxx'}\n",
    "pat = '[0-9]+'\n",
    "print('matched:', re.findall(pat, test['match']))\n",
    "print('empty:', re.findall(pat, test['skip'])) "
   ]
  },
  {
   "cell_type": "markdown",
   "metadata": {},
   "source": [
    "If you want to **repeat the matched character**, rather than the class, you will need to use backreferences.  (Covered later/TODO.)"
   ]
  },
  {
   "cell_type": "markdown",
   "metadata": {},
   "source": [
    "## The wildcard"
   ]
  },
  {
   "cell_type": "markdown",
   "metadata": {},
   "source": [
    "The wildcard, which is represented by the `.` (dot) metacharacter, and can match any single character (letter, digit, whitespace, everything)."
   ]
  },
  {
   "cell_type": "code",
   "execution_count": 6,
   "metadata": {},
   "outputs": [
    {
     "name": "stdout",
     "output_type": "stream",
     "text": [
      "matched: ['cat.', '896.', '?=+.']\n",
      "empty: []\n"
     ]
    }
   ],
   "source": [
    "import re\n",
    "test = {'match' : 'cat. 896. ?=+.', 'skip' : 'abc1'}\n",
    "pat = '...\\.'\n",
    "print('matched:', re.findall(pat, test['match']))\n",
    "print('empty:', re.findall(pat, test['skip']))"
   ]
  },
  {
   "cell_type": "markdown",
   "metadata": {},
   "source": [
    "If you specify the flag `re.DOTALL`, then this metacharacter will match a newline as well.\n",
    "\n",
    "Use the dot sparingly; it is very powerful but allows you to be lazy."
   ]
  },
  {
   "cell_type": "markdown",
   "metadata": {},
   "source": [
    "## Braces: character repetitions"
   ]
  },
  {
   "cell_type": "markdown",
   "metadata": {},
   "source": [
    "One way that we can specify the number of repetitions of characters to match is to explicitly spell out exactly how many characters we want, eg. `\\d\\d\\d` which would match exactly three digits.  A more convenient way is to specify how many repetitions of each character we want using the **curly braces notation**. \n",
    "\n",
    "| Notation | Meaning |\n",
    "|----------|---------|\n",
    "| `a{m}` | Match `a` exactly `m` times. |\n",
    "| `a{m,}` | Match `a` at least `m` times (no upper limit). |\n",
    "| `a{m, n}` | Match `a` `m` thru `n` times, _inclusive_. |\n",
    "| `{m,n}?` | Non-greedy version of the above. |\n",
    "\n",
    "This quantifier can be used with any character, or special metacharacters, for example `w{3}` (three w's), `[wxy]{5}` (five characters, each of which can be a w, x, or y) and `.{2,6}` (between two and six of any character)."
   ]
  },
  {
   "cell_type": "code",
   "execution_count": 25,
   "metadata": {},
   "outputs": [
    {
     "name": "stdout",
     "output_type": "stream",
     "text": [
      "matched: ['wazzzzzup', 'wazzzup']\n",
      "empty: []\n"
     ]
    }
   ],
   "source": [
    "test = {'match' : 'wazzzzzup wazzzup', 'skip' : 'wazup'}\n",
    "pat = 'waz{3,5}up'\n",
    "print('matched:', re.findall(pat, test['match']))\n",
    "print('empty:', re.findall(pat, test['skip']))"
   ]
  },
  {
   "cell_type": "code",
   "execution_count": 24,
   "metadata": {},
   "outputs": [
    {
     "name": "stdout",
     "output_type": "stream",
     "text": [
      "matched: ['wazzzzzup', 'wazzzup']\n",
      "empty: []\n"
     ]
    }
   ],
   "source": [
    "test = {'match' : 'wazzzzzup wazzzup', 'skip' : 'wazup'}\n",
    "pat = 'waz{3,}up'\n",
    "print('matched:', re.findall(pat, test['match']))\n",
    "print('empty:', re.findall(pat, test['skip']))"
   ]
  },
  {
   "cell_type": "markdown",
   "metadata": {},
   "source": [
    "Note that a single brace is treated literally."
   ]
  },
  {
   "cell_type": "markdown",
   "metadata": {},
   "source": [
    "Match a number between 1000 and 9999:"
   ]
  },
  {
   "cell_type": "code",
   "execution_count": 31,
   "metadata": {},
   "outputs": [
    {
     "name": "stdout",
     "output_type": "stream",
     "text": [
      "['5462']\n"
     ]
    }
   ],
   "source": [
    "test = '5462'\n",
    "pat = '^[1-9][0-9]{3}$'\n",
    "print(re.findall(pat, test))"
   ]
  },
  {
   "cell_type": "markdown",
   "metadata": {},
   "source": [
    "Match a number between 100 and 99999:"
   ]
  },
  {
   "cell_type": "code",
   "execution_count": 30,
   "metadata": {},
   "outputs": [
    {
     "name": "stdout",
     "output_type": "stream",
     "text": [
      "['546']\n"
     ]
    }
   ],
   "source": [
    "test = '546'\n",
    "pat = '^[1-9][0-9]{2,4}$'\n",
    "print(re.findall(pat, test))"
   ]
  },
  {
   "cell_type": "markdown",
   "metadata": {},
   "source": [
    "## Kleene Star & Kleene Plus"
   ]
  },
  {
   "cell_type": "markdown",
   "metadata": {},
   "source": [
    "* Kleene Star (`*`): 0 or more (greedy) of the character or group it follows.\n",
    "* Kleene Plus (`+`): 1 or more (greedy) of the character or group it follows."
   ]
  },
  {
   "cell_type": "code",
   "execution_count": null,
   "metadata": {
    "collapsed": true
   },
   "outputs": [],
   "source": [
    "test = {'match' : 'aaaabcc aabbbbc aacc', 'skip' : 'a'}\n",
    "# at least two 'a's, zero or more 'b's, and at least one 'c' in each str to match\n",
    "pat = 'aa+b*c+'\n",
    "print('matched:', re.findall(pat, test['match']))\n",
    "print('empty:', re.findall(pat, test['skip']))"
   ]
  },
  {
   "cell_type": "markdown",
   "metadata": {},
   "source": [
    "## Optionality: `?`"
   ]
  },
  {
   "cell_type": "markdown",
   "metadata": {},
   "source": [
    "The `?` metacharacter denotes optionality.  This metacharacter allows you to **match either zero or one** of the preceding character or group. For example, the pattern `ab?c` will match either the strings \"abc\" or \"ac\" because the _b_ is considered optional."
   ]
  },
  {
   "cell_type": "code",
   "execution_count": 15,
   "metadata": {},
   "outputs": [
    {
     "name": "stdout",
     "output_type": "stream",
     "text": [
      "matched: ['1 file found?', '2 files found?', '24 files found?']\n",
      "empty: []\n"
     ]
    }
   ],
   "source": [
    "test = {'match' : '1 file found? 2 files found? 24 files found?', 'skip' : 'No files found.'}\n",
    "pat = '\\d+ files? found\\?'\n",
    "print('matched:', re.findall(pat, test['match']))\n",
    "print('empty:', re.findall(pat, test['skip']))"
   ]
  },
  {
   "cell_type": "code",
   "execution_count": 16,
   "metadata": {},
   "outputs": [
    {
     "name": "stdout",
     "output_type": "stream",
     "text": [
      "matched: ['color', 'colour']\n"
     ]
    }
   ],
   "source": [
    "test = 'color brown, colour blue'\n",
    "pat = 'colou?r'\n",
    "print('matched:', re.findall(pat, test))"
   ]
  },
  {
   "cell_type": "markdown",
   "metadata": {},
   "source": [
    "You can make several tokens optional by grouping them together using round brackets, and placing the\n",
    "question mark after the closing bracket. E.g.:"
   ]
  },
  {
   "cell_type": "code",
   "execution_count": 17,
   "metadata": {},
   "outputs": [
    {
     "name": "stdout",
     "output_type": "stream",
     "text": [
      "matched: ['Nov', 'November']\n"
     ]
    }
   ],
   "source": [
    "test = 'Nov, November'\n",
    "pat = 'Nov(?:ember)?'  # Remember that ?: is needed in Python to make parentheses non-grouping\n",
    "print('matched:', re.findall(pat, test))"
   ]
  },
  {
   "cell_type": "markdown",
   "metadata": {},
   "source": [
    "## Start- and end-of-string anchors"
   ]
  },
  {
   "cell_type": "markdown",
   "metadata": {},
   "source": [
    "We can define a pattern that describes both the start and the end of the line using the special `^` (hat) and `$` (dollar sign) metacharacters.  Anchors do not match any character at all. Instead, they match a position before, after or between characters. They can be used to “anchor” the regex match at a certain position.\n",
    "\n",
    "Note that this is different than the hat used inside a set of bracket `[^...]` for excluding characters, which can be confusing when reading regular expressions."
   ]
  },
  {
   "cell_type": "code",
   "execution_count": 27,
   "metadata": {},
   "outputs": [
    {
     "name": "stdout",
     "output_type": "stream",
     "text": [
      "matched: ['Mission: successful']\n",
      "empty: []\n",
      "\n",
      "matched: ['a']\n",
      "empty: []\n"
     ]
    }
   ],
   "source": [
    "test = {'match' : 'Mission: successful', 'skip' : 'Last Mission: unsuccessful Next Mission: successful upon capture of target'}\n",
    "pat = '^Mission: successful$'\n",
    "print('matched:', re.findall(pat, test['match']))\n",
    "print('empty:', re.findall(pat, test['skip']))\n",
    "\n",
    "print()\n",
    "test = {'match' : 'abc aaa', 'skip' : 'bac baa'}\n",
    "pat = '^a'\n",
    "print('matched:', re.findall(pat, test['match']))\n",
    "print('empty:', re.findall(pat, test['skip']))"
   ]
  },
  {
   "cell_type": "markdown",
   "metadata": {},
   "source": [
    "Match _only_ an integer:"
   ]
  },
  {
   "cell_type": "code",
   "execution_count": 37,
   "metadata": {},
   "outputs": [
    {
     "name": "stdout",
     "output_type": "stream",
     "text": [
      "matched: ['8614']\n",
      "empty: []\n"
     ]
    }
   ],
   "source": [
    "test = {'match' : '8614', 'skip' : 'qsdf4ghjk'}\n",
    "pat = '^\\d+$'\n",
    "print('matched:', re.findall(pat, test['match']))\n",
    "print('empty:', re.findall(pat, test['skip']))"
   ]
  },
  {
   "cell_type": "markdown",
   "metadata": {},
   "source": [
    "Match a [_valid_ HTML5 tag](https://www.w3schools.com/tags/ref_html_dtd.asp):"
   ]
  },
  {
   "cell_type": "code",
   "execution_count": 22,
   "metadata": {},
   "outputs": [
    {
     "name": "stdout",
     "output_type": "stream",
     "text": [
      "matched: ['<script>', '<body>', '<break>', '<h1>', '<h2>']\n",
      "empty: []\n"
     ]
    }
   ],
   "source": [
    "test = {'match': '<script> <body> <break> <h1> <h2>', 'skip': '<1>, 1, <1h>'}\n",
    "pat = re.compile(\"\"\"<              # Literal '<' character\n",
    "                    [A-Za-z]       # Any 1 letter\n",
    "                    [A-Za-z0-9]*   # Any letter or digit, 0 or more\n",
    "                    >              # Literal '>' character\"\"\", re.X)\n",
    "print('matched:', pat.findall(test['match']))\n",
    "print('empty:', pat.findall(test['skip']))"
   ]
  },
  {
   "cell_type": "markdown",
   "metadata": {},
   "source": [
    "## Match groups"
   ]
  },
  {
   "cell_type": "markdown",
   "metadata": {},
   "source": [
    "Regular expressions allow us to not just match text but also to extract information for further processing. This is done by defining groups of characters and capturing them using the special parentheses `(` and `)` metacharacters. **Any subpattern inside a pair of parentheses will be captured as a group.**  This allows you to apply a regex operator, e.g. a repetition operator, to the entire group. In practice, this can be used to extract information like phone numbers or emails.\n",
    "\n",
    "Imagine for example that you had a command line tool to list all the image files you have in the cloud. You could then use a pattern such as `^(IMG\\d+\\.PNG)$` to capture and extract the full filename, but if you only wanted to capture the filename without the extension, you could use the pattern `^(IMG\\d+)\\.PNG$` which only captures the part before the period."
   ]
  },
  {
   "cell_type": "code",
   "execution_count": 39,
   "metadata": {},
   "outputs": [
    {
     "name": "stdout",
     "output_type": "stream",
     "text": [
      "matched: ['file_record_transcript']\n",
      "empty: []\n"
     ]
    }
   ],
   "source": [
    "test = {'match' : 'file_record_transcript.pdf', 'skip' : 'testfile_fake.pdf.tmp'}\n",
    "pat = '^(file.+)\\.pdf$'\n",
    "print('matched:', re.findall(pat, test['match']))\n",
    "print('empty:', re.findall(pat, test['skip']))"
   ]
  },
  {
   "cell_type": "code",
   "execution_count": 40,
   "metadata": {},
   "outputs": [
    {
     "name": "stdout",
     "output_type": "stream",
     "text": [
      "matched: ['file_07241999']\n",
      "empty: []\n"
     ]
    }
   ],
   "source": [
    "test = {'match' : 'file_07241999.pdf', 'skip' : 'testfile_fake.pdf.tmp'}\n",
    "pat = '^(file.+)\\.pdf$'\n",
    "print('matched:', re.findall(pat, test['match']))\n",
    "print('empty:', re.findall(pat, test['skip']))"
   ]
  },
  {
   "cell_type": "markdown",
   "metadata": {},
   "source": [
    "Below, capture groups (parentheses) allow the contents of each group can be extracted individually:"
   ]
  },
  {
   "cell_type": "code",
   "execution_count": 22,
   "metadata": {},
   "outputs": [
    {
     "data": {
      "text/plain": [
       "[('11', '27', '2012'), ('3', '13', '2013')]"
      ]
     },
     "execution_count": 22,
     "metadata": {},
     "output_type": "execute_result"
    }
   ],
   "source": [
    "datepat = re.compile(r'(\\d+)/(\\d+)/(\\d+)')\n",
    "re.findall(datepat, text)"
   ]
  },
  {
   "cell_type": "markdown",
   "metadata": {},
   "source": [
    "### Nested groups"
   ]
  },
  {
   "cell_type": "markdown",
   "metadata": {},
   "source": [
    "Nested groups are read from left to right in the pattern, with the first capture group being the contents of the first parentheses group."
   ]
  },
  {
   "cell_type": "code",
   "execution_count": null,
   "metadata": {
    "collapsed": true
   },
   "outputs": [],
   "source": [
    "test = {'match' : 'Jan 1978 Mar 1979 Jul 2011', 'skip' : 'skip over 5000'}\n",
    "pat = '([A-Z][a-z]{2} (\\d{4}))'\n",
    "print('matched:', re.findall(pat, test['match']))\n",
    "print('empty:', re.findall(pat, test['skip']))"
   ]
  },
  {
   "cell_type": "markdown",
   "metadata": {},
   "source": [
    "All the quantifiers including the star \\*, plus +, repetition {m,n} and the question mark ? can all be used within the capture group patterns. \n",
    "\n",
    "For example, if I knew that a phone number may or may not contain an area code, the right pattern would test for the existence of the whole group of digits `(\\d{3})?` and not the individual characters themselves (which would be wrong).\n",
    "\n",
    "Depending on the regular expression engine you are using, you can also use non-capturing groups which will allow you to match the group but not have it show up in the results."
   ]
  },
  {
   "cell_type": "code",
   "execution_count": null,
   "metadata": {
    "collapsed": true
   },
   "outputs": [],
   "source": [
    "test = {'match' : '1280x720 1920x1600 1024x768', 'skip' : 'skip over 5000'}\n",
    "pat = '(\\d{4})x(\\d+)'\n",
    "print('matched:', re.findall(pat, test['match']))\n",
    "print('empty:', re.findall(pat, test['skip']))"
   ]
  },
  {
   "cell_type": "markdown",
   "metadata": {},
   "source": [
    "### Named capturing groups"
   ]
  },
  {
   "cell_type": "markdown",
   "metadata": {},
   "source": [
    "See also the section on [backreferences](#Backreferences).\n",
    "\n",
    "All modern regular expression engines support capturing groups, which are numbered from left to right, starting with one. The numbers can then be used in backreferences to match the same text again in the regular expression, or to use part of the regex match for further processing. In a complex regular expression with many capturing groups, the numbering can get a little confusing.  By assigning a name to a capturing group, you can easily reference it by name.  Syntax:\n",
    "\n",
    "> `(?P<name>group)` captures the match of `group` into the backreference “name.”\n",
    "\n",
    "Python’s `sub()` function allows you to reference a named group as `\\1` or `\\g<name>`.\n",
    "\n",
    "Python and PCRE treat named capturing groups just like unnamed capturing groups, and number both kinds from left to right, starting with one.  That is, you could technically name the group but then reference by number:"
   ]
  },
  {
   "cell_type": "code",
   "execution_count": 76,
   "metadata": {},
   "outputs": [
    {
     "name": "stdout",
     "output_type": "stream",
     "text": [
      "abcd\n",
      "abcd\n"
     ]
    }
   ],
   "source": [
    "test = 'abcd'\n",
    "pat = re.compile(\"\"\"(a)       # 1st capture group, literal 'a'\n",
    "                    (?P<x>b)  # 2nd capture group, literal 'b', named 'x'\n",
    "                    (c)       # 3rd capture group, literal 'c'\n",
    "                    (?P<y>d)  # 4th capture group, literal 'd', named 'y' \"\"\", re.X)\n",
    "print(pat.sub(r'\\1\\2\\3\\4', test))  # Referencing numbers only\n",
    "print(pat.sub(r'\\1\\g<x>\\3\\g<y>', test))  # Referencing group names"
   ]
  },
  {
   "cell_type": "markdown",
   "metadata": {},
   "source": [
    "## Conditionality: pipe operator"
   ]
  },
  {
   "cell_type": "markdown",
   "metadata": {},
   "source": [
    "When using groups, you can use the `|` (logical OR, aka. the pipe) to denote different possible sets of characters.\n",
    "\n",
    "You can write the pattern \"Buy more (milk|bread|juice)\" to match only the strings Buy more milk, Buy more bread, or Buy more juice.\n",
    "\n",
    "Like normal groups, you can use any sequence of characters or metacharacters in a condition, for example, `([cb]ats*|[dh]ogs?)` would match either (cats or bats), or, (dogs or hogs)."
   ]
  },
  {
   "cell_type": "code",
   "execution_count": 43,
   "metadata": {},
   "outputs": [
    {
     "name": "stdout",
     "output_type": "stream",
     "text": [
      "matched: ['I love cats', 'dogs']\n",
      "empty: []\n"
     ]
    }
   ],
   "source": [
    "test = {'match' : 'I love cats I Love dogs', 'skip' : 'I love logs I love cogs'}\n",
    "pat = 'I [Ll]ove cats|dogs'\n",
    "# TODO: incorrect...\n",
    "print('matched:', re.findall(pat, test['match']))\n",
    "print('empty:', re.findall(pat, test['skip']))"
   ]
  },
  {
   "cell_type": "markdown",
   "metadata": {},
   "source": [
    "### Precedence"
   ]
  },
  {
   "cell_type": "markdown",
   "metadata": {},
   "source": [
    "The alternation operator has the lowest precedence of all regex operators. That is, it tells the regex engine to\n",
    "match either everything to the left of the vertical bar, or everything to the right of the vertical bar. If you want\n",
    "to limit the reach of the alternation, you will need to use round brackets for grouping."
   ]
  },
  {
   "cell_type": "markdown",
   "metadata": {},
   "source": [
    "# What is greediness?"
   ]
  },
  {
   "cell_type": "markdown",
   "metadata": {},
   "source": [
    "The question mark (optional) metacharacter is one metacharacter that is **greedy.**  The question mark gives the regex engine two choices: try to match the part the question mark applies to, or do not try to match it. The engine always tries to match that part. Only if this causes the entire regular expression to fail, will the engine try ignoring the part the question mark applies to."
   ]
  },
  {
   "cell_type": "markdown",
   "metadata": {},
   "source": [
    "## Greedy vs. lazy quantifiers"
   ]
  },
  {
   "cell_type": "markdown",
   "metadata": {},
   "source": [
    "Greediness and laziness determine the order in which the regex engine tries the possible permutations of the regex pattern. \n",
    "- A greedy quantifier will first try to repeat the token as many times as possible, and gradually give up matches as the engine backtracks to find an overall match. \n",
    "- A lazy quantifier will first repeat the token as few times as required, and gradually expand the match as the engine backtracks through the regex to find an overall match.\n",
    "\n",
    "Because greediness and laziness change the order in which permutations are tried, they can change the overall regex match. However, they do not change the fact that the regex engine will backtrack to try all possible permutations of the regular expression in case no match can be found.\n",
    "\n",
    "Possessive quantifiers are a way to prevent the regex engine from trying all permutations. This is primarily useful for performance reasons. You can also use possessive quantifiers to eliminate certain matches. [UNFINISHED]"
   ]
  },
  {
   "cell_type": "code",
   "execution_count": 37,
   "metadata": {},
   "outputs": [
    {
     "name": "stdout",
     "output_type": "stream",
     "text": [
      "['Feb 23rd']\n"
     ]
    }
   ],
   "source": [
    "test = 'Today is Feb 23rd, 2003'\n",
    "pat = 'Feb 23(?:rd)?'\n",
    "\n",
    "# Catches 'Feb 23rd' and not 'Feb 23'\n",
    "print(re.findall(pat, test))"
   ]
  },
  {
   "cell_type": "markdown",
   "metadata": {},
   "source": [
    "When repeating a regular expression, as in `a*`, the resulting action is to consume as much of the pattern as possible. This fact often bites you when you’re trying to match a pair of balanced delimiters, such as the angle brackets surrounding an HTML tag. The naive pattern for matching a single HTML tag doesn’t work because of the greedy nature of `.*`.  Here's another example as it relates to finding HTML tags:"
   ]
  },
  {
   "cell_type": "code",
   "execution_count": 245,
   "metadata": {},
   "outputs": [
    {
     "name": "stdout",
     "output_type": "stream",
     "text": [
      "Wrong: ['<EM>first</EM>']\n",
      "\n",
      "OK (Sol'n 1): ['<EM>']\n",
      "OK (Sol'n 2): ['<EM>']\n"
     ]
    }
   ],
   "source": [
    "test = 'This is a <EM>first</EM> test'\n",
    "pat = '<.*>'  # Wrong; the plus operator is greedy\n",
    "              # Repeat preceding token as many times as possible\n",
    "print('Wrong:', re.findall(pat, test))\n",
    "print()\n",
    "\n",
    "# Solution 1 - specific characters\n",
    "pat = re.compile(\"\"\"<              # Literal '<' character\n",
    "                    [A-Za-z]       # Any 1 letter\n",
    "                    [A-Za-z0-9]*   # Any letter or digit, 0 or more\n",
    "                    >              # Literal '>' character\"\"\", re.X)  # Correct\n",
    "print(\"OK (Sol'n 1):\", re.findall(pat, test))\n",
    "\n",
    "# Solution 2 - use the non-greedy qualifiers *?, +?, ??, or {m,n}?\n",
    "# These match *as little* text as possible\n",
    "pat = re.compile('<[^/].*?>')  # Explicilty excludes the closing tag\n",
    "print(\"OK (Sol'n 2):\", pat.findall(test))"
   ]
  },
  {
   "cell_type": "markdown",
   "metadata": {},
   "source": [
    "# Other syntax"
   ]
  },
  {
   "cell_type": "markdown",
   "metadata": {},
   "source": [
    "## Word boundaries"
   ]
  },
  {
   "cell_type": "markdown",
   "metadata": {},
   "source": [
    "[UNFINISHED]"
   ]
  },
  {
   "cell_type": "markdown",
   "metadata": {},
   "source": [
    "## Backreferences"
   ]
  },
  {
   "cell_type": "markdown",
   "metadata": {},
   "source": [
    "Using grouping with parentheses creates a **backreference.**  A backreference _stores (only) the part of the string matched by the part of the regular expression inside the parentheses._\n",
    "\n",
    "The way to avoid backreferences is to use **non-capturing parentheses.**  It is interesing to note that using backreferences actually _slows down_ the regex engine."
   ]
  },
  {
   "cell_type": "markdown",
   "metadata": {},
   "source": [
    "**With backreference:**"
   ]
  },
  {
   "cell_type": "code",
   "execution_count": 120,
   "metadata": {},
   "outputs": [
    {
     "name": "stdout",
     "output_type": "stream",
     "text": [
      "matched: ['', 'Value']\n",
      "empty: []\n"
     ]
    }
   ],
   "source": [
    "test = {'match': 'Set SetValue', 'skip': 'Value'}\n",
    "pat = 'Set(Value)?'  # Value is optional, and is backreferenced\n",
    "print('matched:', re.findall(pat, test['match']))  # First backreference is empty\n",
    "print('empty:', re.findall(pat, test['skip']))"
   ]
  },
  {
   "cell_type": "markdown",
   "metadata": {},
   "source": [
    "**With non-capturing parentheses:**"
   ]
  },
  {
   "cell_type": "code",
   "execution_count": 121,
   "metadata": {},
   "outputs": [
    {
     "name": "stdout",
     "output_type": "stream",
     "text": [
      "matched: ['Set', 'SetValue']\n",
      "empty: []\n"
     ]
    }
   ],
   "source": [
    "pat = 'Set(?:Value)?'  \n",
    "print('matched:', re.findall(pat, test['match']))\n",
    "print('empty:', re.findall(pat, test['skip']))"
   ]
  },
  {
   "cell_type": "markdown",
   "metadata": {},
   "source": [
    "The question mark and the colon after the opening round bracket are the special syntax that you can use to tell the regex engine that this pair of brackets should not create a backreference. Note the question mark after the opening bracket is unrelated to the question mark at the end of the regex."
   ]
  },
  {
   "cell_type": "markdown",
   "metadata": {},
   "source": [
    "### Using backreferences"
   ]
  },
  {
   "cell_type": "markdown",
   "metadata": {},
   "source": [
    "Backreferences allow you to reuse part of the regex match. You can reuse it inside the regular expression, or afterwards.  You can use the backreference in the replacement text during a search-and-replace operation by typing `\\1` (backslash one) into the replacement text as a raw string."
   ]
  },
  {
   "cell_type": "code",
   "execution_count": 13,
   "metadata": {},
   "outputs": [
    {
     "name": "stdout",
     "output_type": "stream",
     "text": [
      "Lite version\n"
     ]
    }
   ],
   "source": [
    "test = 'EditPad Lite'\n",
    "pat = 'EditPad (Lite|Pro)'\n",
    "print(re.sub(pat, r'\\1 version', test))  # raw str is required; backslash isn't an escape"
   ]
  },
  {
   "cell_type": "markdown",
   "metadata": {},
   "source": [
    "Backreferences can not only be used after a match has been found, but also during the match. Suppose you want to match a pair of opening and closing HTML tags, and the text in between. By putting the opening tag into a backreference, we can reuse the name of the tag for the closing tag."
   ]
  },
  {
   "cell_type": "code",
   "execution_count": 154,
   "metadata": {},
   "outputs": [
    {
     "name": "stdout",
     "output_type": "stream",
     "text": [
      "['script']\n",
      "['B']\n"
     ]
    }
   ],
   "source": [
    "test = '<script type=\"text/javascript\" src=\"../_static/jquery.js\"></script>'\n",
    "test2 = 'Testing <B><I>bold italic</I></B> text'\n",
    "pat = re.compile(r\"\"\"<                    # Literal '<' character\n",
    "                     (                    # Opening bracket for backreference\n",
    "                     [A-Za-z]             # Any uppercase letter or lowercase letter\n",
    "                     [A-Za-z0-9]*         # Any letter or digit, 0 or more.  Tags must start with letter\n",
    "                     )                    # Closing bracket - end of first backreference\n",
    "                     [^>]*                # 0 or more of some character other than '>'\n",
    "                     >                    # Literal '>' character - close the tag\n",
    "                     .*?                  # ??\n",
    "                     </\\1>                # Reuse the first backreference; note literal fwd slash '/' \"\"\", re.X)\n",
    "print(pat.findall(test))\n",
    "print(pat.findall(test2))"
   ]
  },
  {
   "cell_type": "markdown",
   "metadata": {},
   "source": [
    "You can reuse backreferences more than once:"
   ]
  },
  {
   "cell_type": "code",
   "execution_count": 56,
   "metadata": {},
   "outputs": [
    {
     "name": "stdout",
     "output_type": "stream",
     "text": [
      "matched: ['a', 'b', 'c']\n"
     ]
    }
   ],
   "source": [
    "test = 'axaxa bxbxb cxcxc'\n",
    "pat = r'([a-c])x\\1x\\1'\n",
    "print('matched:', re.findall(pat, test))"
   ]
  },
  {
   "cell_type": "markdown",
   "metadata": {},
   "source": [
    "The regex engine does not permanently substitute backreferences in the regular expression. It will use the last match saved into the backreference each time it needs to be used. If a new match is found by capturing parentheses, the previously saved match is overwritten. There is a clear difference between the two following regexes:\n",
    "\n",
    "- `([abc]+)`: will match 'cab' and put 'cab' into the first backreference;\n",
    "- `([abc])+`: will match 'cab' but put just 'b' into the first backreference.  The '+' causes the pair of parentheses to repeat 3 times.  The first time, 'c' was stored.  The second time 'a' and the third time 'b.' Each time, the previous value was overwritten, so 'b' remains.\n",
    "\n",
    "One last comment: parentheses and backreferences cannot be used inside character classes."
   ]
  },
  {
   "cell_type": "markdown",
   "metadata": {},
   "source": [
    "## Zero-width assertions"
   ]
  },
  {
   "cell_type": "markdown",
   "metadata": {},
   "source": [
    "Some metacharacters are _zero-width assertions_.  They don’t cause the engine to advance through the string; instead, they consume no characters at all, and simply succeed or fail. For example, `\\b` is an assertion that the current position is located at a word boundary; the position isn’t changed by the `\\b` at all. \n",
    "\n",
    "> --> This means that zero-width assertions should never be repeated, because if they match once at a given location, they can obviously be matched an infinite number of times."
   ]
  },
  {
   "cell_type": "markdown",
   "metadata": {},
   "source": [
    "## Lookaround"
   ]
  },
  {
   "cell_type": "markdown",
   "metadata": {},
   "source": [
    "Another zero-width assertion is the lookahead assertion. Lookahead assertions are available in both positive and negative form:\n",
    "\n",
    "| Type of lookahead | Syntax | Definition |\n",
    "| ----------------- | ------ | ---------- |\n",
    "| Positive lookahead assertion | `(?=...)` | This succeeds if the contained regular expression, represented here by `...`, successfully matches at the current location, and fails otherwise. But, once the contained expression has been tried, the matching engine doesn’t advance at all; the rest of the pattern is tried right where the assertion started.\n",
    " | \n",
    "| Negative lookahead assertion | `(?!...)` | The opposite of the positive assertion; it succeeds if the contained expression doesn’t match at the current position in the string. |"
   ]
  },
  {
   "cell_type": "markdown",
   "metadata": {},
   "source": [
    "Consider a simple pattern to match a filename and split it apart into a base name and an extension, separated by a period.  (There's no lookaround here.)"
   ]
  },
  {
   "cell_type": "code",
   "execution_count": 177,
   "metadata": {},
   "outputs": [
    {
     "name": "stdout",
     "output_type": "stream",
     "text": [
      "<_sre.SRE_Match object; span=(0, 7), match='foo.bar'>\n",
      "<_sre.SRE_Match object; span=(0, 12), match='autoexec.bat'>\n",
      "<_sre.SRE_Match object; span=(0, 11), match='sendmail.cf'>\n",
      "<_sre.SRE_Match object; span=(0, 13), match='printers.conf'>\n",
      "<_sre.SRE_Match object; span=(0, 12), match='sample.batch'>\n"
     ]
    }
   ],
   "source": [
    "test = ('foo.bar', 'autoexec.bat', 'sendmail.cf', 'printers.conf', 'sample.batch')\n",
    "# pat = '.*[.].*$'\n",
    "pat = re.compile(\"\"\".*   # 0 or more of any character\n",
    "                    [.]  # literal period mark\n",
    "                    .*   # 0 or more of any character\n",
    "                    $    # Asserts position at end of string \"\"\", re.X)\n",
    "for t in test:\n",
    "    # print(re.search(pat, t))\n",
    "    print(pat.search(t))"
   ]
  },
  {
   "cell_type": "markdown",
   "metadata": {},
   "source": [
    "Walkthrough:\n",
    "- Notice that the period needs to be treated specially because it’s a metacharacter, so it’s inside a character class to only match that specific character. \n",
    "- Also notice the trailing `$`; this is added to ensure that all the rest of the string must be included in the extension."
   ]
  },
  {
   "cell_type": "markdown",
   "metadata": {},
   "source": [
    "But what if we wanted to match filenames where the extension is not `bat`?  In this case, a negative lookahead does the trick:"
   ]
  },
  {
   "cell_type": "code",
   "execution_count": 178,
   "metadata": {},
   "outputs": [
    {
     "name": "stdout",
     "output_type": "stream",
     "text": [
      "<_sre.SRE_Match object; span=(0, 7), match='foo.bar'>\n",
      "None\n",
      "<_sre.SRE_Match object; span=(0, 11), match='sendmail.cf'>\n",
      "<_sre.SRE_Match object; span=(0, 13), match='printers.conf'>\n",
      "<_sre.SRE_Match object; span=(0, 12), match='sample.batch'>\n"
     ]
    }
   ],
   "source": [
    "pat = re.compile('.*[.](?!bat$)[^.]*$')\n",
    "for t in test:\n",
    "    print(pat.search(t))  # Skips second domain, .bat"
   ]
  },
  {
   "cell_type": "markdown",
   "metadata": {},
   "source": [
    "Walkthrough:\n",
    "- The negative lookahead means: if the expression `bat` doesn’t match at this point, try the rest of the pattern; if `bat$` does match, the whole pattern will fail. \n",
    "The trailing `$` is required to ensure that something like \"sample.batch\", where the extension only starts with \"bat\", will be allowed. \n",
    "- The `[^.]*` makes sure that the pattern works when there are multiple dots in the filename."
   ]
  },
  {
   "cell_type": "markdown",
   "metadata": {},
   "source": [
    "Excluding another filename extension is now easy; simply add it as an alternative inside the assertion. The following pattern excludes filenames that end in either `bat` or `exe`:"
   ]
  },
  {
   "cell_type": "code",
   "execution_count": 180,
   "metadata": {},
   "outputs": [
    {
     "name": "stdout",
     "output_type": "stream",
     "text": [
      "<_sre.SRE_Match object; span=(0, 7), match='foo.bar'>\n",
      "None\n",
      "None\n",
      "<_sre.SRE_Match object; span=(0, 13), match='printers.conf'>\n",
      "<_sre.SRE_Match object; span=(0, 12), match='sample.batch'>\n"
     ]
    }
   ],
   "source": [
    "pat = re.compile('.*[.](?!bat$|cf$)[^.]*$')\n",
    "for t in test:\n",
    "    print(pat.search(t)) "
   ]
  },
  {
   "cell_type": "markdown",
   "metadata": {},
   "source": [
    "UNFINISHED; see HOWTO [Lookahead Assertions](https://docs.python.org/3.6/howto/regex.html#lookahead-assertions)."
   ]
  },
  {
   "cell_type": "markdown",
   "metadata": {},
   "source": [
    "Let’s say we want to **find a word that is six letters long and contains the three adjacent letters “cat”.** Actually, we can match this without lookaround. We just specify all the options and hump them together using alternation:\n",
    "\n",
    "`pat = 'cat\\w{3}|\\wcat\\w{2}|\\w{2}cat\\w|\\w{3}cat'`\n",
    "\n",
    "But this method gets unwieldy if you want to find any word between 6 and 12 letters long containing either “cat”, “dog” or “mouse”.  In this case, **positive lookaheads** come to the rescue.  They allow you to satisfy 2 conditions simultaneously.\n",
    "\n",
    "In this example, we basically have two requirements for a successful match. \n",
    "1. First, we want a word that is 6 letters long. (`\\b\\w{6}\\b`)\n",
    "2. Second, the word we found must contain the word “cat”. (`\\b\\w*cat\\w*\\b`)\n",
    "\n",
    "Combining the two, we get:"
   ]
  },
  {
   "cell_type": "code",
   "execution_count": 145,
   "metadata": {},
   "outputs": [
    {
     "name": "stdout",
     "output_type": "stream",
     "text": [
      "<_sre.SRE_Match object; span=(0, 6), match='catdog'>\n",
      "<_sre.SRE_Match object; span=(0, 6), match='dogcat'>\n"
     ]
    }
   ],
   "source": [
    "test = 'catdog'\n",
    "test2 = 'dogcat'\n",
    "# TODO: Verbose mode will not work here.  See bug:\n",
    "# https://bugs.python.org/issue15606\n",
    "pat = re.compile(r'(?=\\b\\w{6}\\b)\\b\\w*cat\\w*\\b')\n",
    "print(pat.search(test))\n",
    "print(pat.search(test2))"
   ]
  },
  {
   "cell_type": "markdown",
   "metadata": {},
   "source": [
    "How it works:\n",
    "- At each character position in the string where the regex is attempted, the engine will first attempt the regex inside the positive lookahead. \n",
    "- This sub-regex, and therefore the lookahead, matches only when the current character position in the string is at the start of a 6-letter word in the string. \n",
    "- If not, the lookahead will fail, and the engine will continue trying the regex from the start at the next character position in the string.\n",
    "- The lookahead is zero-width. So when the regex inside the lookahead has found the 6-letter word, the current position in the string is still at the beginning of the 6-letter word. At this position will the regex engine attempt the remainder of the regex."
   ]
  },
  {
   "cell_type": "markdown",
   "metadata": {},
   "source": [
    "## If-Then-Else Conditionals in Regexes"
   ]
  },
  {
   "cell_type": "markdown",
   "metadata": {},
   "source": [
    "A special construct `(?ifthen|else)` allows you to create conditional regular expressions. \n",
    "- If the `if` part evaluates to True, then the regex engine will attempt to match the `then` part. \n",
    "    - Otherwise, the `else` part is attempted instead. \n",
    "- The syntax consists of a pair of parentheses. \n",
    "    - The opening bracket must be followed by a question mark, immediately followed by the `if` part, immediately followed by the `then` part. \n",
    "    - This part can be followed by a vertical bar and the `else` part. You may omit the `else` part, and the vertical bar with it."
   ]
  },
  {
   "cell_type": "code",
   "execution_count": 150,
   "metadata": {
    "collapsed": true
   },
   "outputs": [],
   "source": [
    "# TODO: are these supported in Python?\n",
    "#pat = re.compile('a?b(?ac|d)')\n",
    "#test = {'match': 'bd abc abd', 'skip': 'bc'}  # should match just 'bd' in 'abd'\n",
    "#print('matched:', re.findall(pat, test['match']))\n",
    "#print('empty:', re.findall(pat, test['skip']))"
   ]
  },
  {
   "cell_type": "code",
   "execution_count": 113,
   "metadata": {},
   "outputs": [
    {
     "name": "stdout",
     "output_type": "stream",
     "text": [
      "<_sre.SRE_Match object; span=(0, 25), match='To: BradSolomon@gmail.com'>\n"
     ]
    }
   ],
   "source": [
    "# TODO: unfinished\n",
    "test = 'To: BradSolomon@gmail.com xxx'\n",
    "pat = r'^((From|To)|Subject): ((?(2)\\w+@\\w+\\.[a-z]+|.+))'\n",
    "pat = re.compile(r\"\"\"^                                 # Matches the start of the string.\n",
    "                     ((From|To)|Subject):[ ]           # xxx\n",
    "                     ((?(2)\\w+@\\w+\\.[a-z]+|.+))        # xxx \"\"\", re.X)\n",
    "# print(re.search(pat, test))\n",
    "print(pat.search(test))"
   ]
  },
  {
   "cell_type": "markdown",
   "metadata": {},
   "source": [
    "# `re`-specific syntax & features"
   ]
  },
  {
   "cell_type": "markdown",
   "metadata": {},
   "source": [
    "## Module-level `re` functions"
   ]
  },
  {
   "cell_type": "markdown",
   "metadata": {},
   "source": [
    "The `re` module exports the following functions:\n",
    "\n",
    "    `match`     Match a regular expression pattern to the beginning of a string.\n",
    "    `fullmatch` Match a regular expression pattern to all of a string.\n",
    "    `search`    Search a string for the presence of a pattern.\n",
    "    `sub`       Substitute occurrences of a pattern found in a string.\n",
    "    `subn`      Same as sub, but also return the number of substitutions made.\n",
    "    `split`     Split a string by the occurrences of a pattern.\n",
    "    `findall`   Find all occurrences of a pattern in a string.\n",
    "    `finditer`  Return an iterator yielding a match object for each match.\n",
    "    `compile`   Compile a pattern into a RegexObject.\n",
    "    `purge`     Clear the regular expression cache.\n",
    "    `escape`    Backslash all non-alphanumerics in a string."
   ]
  },
  {
   "cell_type": "markdown",
   "metadata": {},
   "source": [
    "These functions can be separated into three main groups:\n",
    "- `match` thru `finditer` perform the actual searching/matching/finding/replacing.\n",
    "- `compile` creates a regular expression object (`regex` class), discussed below.\n",
    "- `purge` and `escape` are the odds-and-ends and are infrequently used."
   ]
  },
  {
   "cell_type": "markdown",
   "metadata": {},
   "source": [
    "### `search()` vs. `match()`"
   ]
  },
  {
   "cell_type": "markdown",
   "metadata": {},
   "source": [
    "* `re.match()` checks for a match only at the beginning of the string.\n",
    "* `re.search()` checks for a match anywhere in the string.  (Mnemonic: \"search everywhere\")"
   ]
  },
  {
   "cell_type": "markdown",
   "metadata": {},
   "source": [
    "## Using `compile`"
   ]
  },
  {
   "cell_type": "markdown",
   "metadata": {},
   "source": [
    "`compile` is somewhat separate from the other functions above in that it creates a [regular expression object](https://docs.python.org/3/library/re.html#regular-expression-objects).  Compiled regular expression objects support methods that are similar to the module-level functions shown above.  That is, **`re.compile(regex).search(subject)` is equivalent to `re.search(regex, subject)`.**  For example,"
   ]
  },
  {
   "cell_type": "code",
   "execution_count": 153,
   "metadata": {},
   "outputs": [
    {
     "name": "stdout",
     "output_type": "stream",
     "text": [
      "<_sre.SRE_Match object; span=(4, 7), match='cat'>\n",
      "<_sre.SRE_Match object; span=(4, 7), match='cat'>\n"
     ]
    }
   ],
   "source": [
    "test = 'The cat in the hat'\n",
    "\n",
    "pat1 = '[ch]at'\n",
    "pat2 = re.compile(pat1)\n",
    "\n",
    "print(re.search(pat1, test))  # the module-level function\n",
    "print(pat2.search(test))      # the method version"
   ]
  },
  {
   "cell_type": "markdown",
   "metadata": {},
   "source": [
    "Under the hood, the module-level functions simply create a pattern object for you and call the appropriate method on it. They also store the compiled object in a cache, so future calls using the same RE won’t need to parse the pattern again and again."
   ]
  },
  {
   "cell_type": "markdown",
   "metadata": {},
   "source": [
    "### Why compile?"
   ]
  },
  {
   "cell_type": "markdown",
   "metadata": {},
   "source": [
    "If you’re going to perform a lot of matches using the same pattern, it usually pays to precompile the regular expression pattern into a pattern object first.\n",
    "\n",
    "* The technical reason is that  module-level functions maintain a cache of compiled expressions. However, the size of the cache is limited, and using compiled expressions directly avoids the cache lookup overhead. \n",
    "* Another advantage of using compiled expressions is that by precompiling all expressions when the module is loaded, the compilation work is shifted to application start time, instead of to a point when the program may be responding to a user action."
   ]
  },
  {
   "cell_type": "markdown",
   "metadata": {},
   "source": [
    "## `match` objects"
   ]
  },
  {
   "cell_type": "markdown",
   "metadata": {},
   "source": [
    "A [match object ](https://docs.python.org/3/library/re.html#match-objects) contains information about the match: where it starts and ends, the substring it matched, and more.\n",
    "\n",
    "The following functions and methods return match objects (in the case of \"success\"):\n",
    "\n",
    "- `search()`\n",
    "- `match()`\n",
    "- `fullmatch()`\n",
    "- `finditer()` - returns an iterator yielding match objects\n",
    "\n",
    "The methods of a match object are detailed in the above link; here's a summary:\n",
    "\n",
    "    `expand`         The string obtained by doing backslash substitution on the passed parameter.\n",
    "    `group`          Returns one or more subgroups of the match.\n",
    "    `__getitem__`    This is identical to m.group(g) or m[0], m[1], ...\n",
    "    `groups`         Return a tuple containing all the subgroups of the match.\n",
    "    `groupdict`      Return a dictionary containing all the named subgroups of the match, keyed by subgroup name.\n",
    "    `start`          Return the indices of the start of the substring matched by parameter.\n",
    "    `end`            Return the indices of the end of the substring matched by parameter.\n",
    "    `span`           Return the 2-tuple (m.start(group), m.end(group)), for a match m, r.\n",
    "    `pos`            The value of `pos` which was passed to the search() or match() method of a regex object.\n",
    "    `endpos`         The value of `endpos` which was passed to the search() or match() method of a regex object.\n",
    "    `lastindex`      The integer index of the last matched capturing group.  None if no group was matched.\n",
    "    `lastgroup`      Name of the last matched capturing group.\n",
    "    `re`             The regular expression object whose match() or search() method produced this match instance.\n",
    "    `string`         he string passed to match() or search()."
   ]
  },
  {
   "cell_type": "markdown",
   "metadata": {},
   "source": [
    "Example: the `start()` and `end()` methods give the indexes into the string showing where the text matched by the pattern occurs."
   ]
  },
  {
   "cell_type": "code",
   "execution_count": 4,
   "metadata": {},
   "outputs": [
    {
     "name": "stdout",
     "output_type": "stream",
     "text": [
      "Found \"this\"\n",
      "in \"Does this text match the pattern?\"\n",
      "from 5 to 9 (\"this\")\n"
     ]
    }
   ],
   "source": [
    "pattern = 'this'\n",
    "text = 'Does this text match the pattern?'\n",
    "match = re.search(pattern, text)\n",
    "s = match.start()\n",
    "e = match.end()\n",
    "print('Found \"%s\"\\nin \"%s\"\\nfrom %d to %d (\"%s\")' % \\\n",
    "      (match.re.pattern, match.string, s, e, text[s:e]))"
   ]
  },
  {
   "cell_type": "markdown",
   "metadata": {},
   "source": [
    "You could use these two methods to remove a substring:"
   ]
  },
  {
   "cell_type": "code",
   "execution_count": 152,
   "metadata": {},
   "outputs": [
    {
     "name": "stdout",
     "output_type": "stream",
     "text": [
      "tony@tiger.net\n"
     ]
    }
   ],
   "source": [
    "email = \"tony@tiremove_thisger.net\"\n",
    "m = re.search(\"remove_this\", email)  # Match Object\n",
    "print(email[:m.start()] + email[m.end():])  # remove remove_this from email addresses"
   ]
  },
  {
   "cell_type": "markdown",
   "metadata": {},
   "source": [
    "One important feature is that `match` objects always have a boolean value of `True`.  (Or are truthy.) Since `match()` and `search()` return `None` when there is no match, you can test whether there was a match with a simple `if` statement:"
   ]
  },
  {
   "cell_type": "raw",
   "metadata": {},
   "source": [
    "match = re.search(pattern, string)\n",
    "if match:\n",
    "    process(match)"
   ]
  },
  {
   "cell_type": "code",
   "execution_count": 19,
   "metadata": {},
   "outputs": [
    {
     "data": {
      "text/plain": [
       "True"
      ]
     },
     "execution_count": 19,
     "metadata": {},
     "output_type": "execute_result"
    }
   ],
   "source": [
    "datepat = re.compile(r'\\d+/\\d+/\\d+')  # Creates a `RegexObject`\n",
    "bool(datepat.match(text1))"
   ]
  },
  {
   "cell_type": "code",
   "execution_count": 6,
   "metadata": {
    "scrolled": true
   },
   "outputs": [
    {
     "name": "stdout",
     "output_type": "stream",
     "text": [
      "Seeking \"this\" ->\n",
      "match!\n",
      "Seeking \"that\" ->\n",
      "no match\n"
     ]
    }
   ],
   "source": [
    "regexes = [re.compile(p) for p in ['this', 'that']]\n",
    "text = 'Does this text match the pattern?\n",
    "for regex in regexes:\n",
    "    print('Seeking \"%s\" ->' % regex.pattern)\n",
    "    if regex.search(text):\n",
    "        print('match!')\n",
    "    else:\n",
    "        print('no match')"
   ]
  },
  {
   "cell_type": "markdown",
   "metadata": {},
   "source": [
    "Find some additional good examples of match object methods in the docs link above."
   ]
  },
  {
   "cell_type": "markdown",
   "metadata": {},
   "source": [
    "## Flags"
   ]
  },
  {
   "cell_type": "markdown",
   "metadata": {},
   "source": [
    "Some functions in `re` have a `flags` parameter that contain general instructions for pattern matching."
   ]
  },
  {
   "cell_type": "code",
   "execution_count": 7,
   "metadata": {},
   "outputs": [
    {
     "data": {
      "text/plain": [
       "<_sre.SRE_Match object; span=(0, 1), match='A'>"
      ]
     },
     "execution_count": 7,
     "metadata": {},
     "output_type": "execute_result"
    }
   ],
   "source": [
    "# re.search(pattern, string, flags=0)\n",
    "# returns a `Match` object or None if nothing found\n",
    "re.search(\"^a\", \"Abc\", re.IGNORECASE) # or: re.I"
   ]
  },
  {
   "cell_type": "markdown",
   "metadata": {},
   "source": [
    "Another flag is [`DOTALL`](https://docs.python.org/3/library/re.html#re.DOTALL):\n",
    "\n",
    "> Make the `'.'` special character match any character at all, including a newline; without this flag, `'.'` will match     anything _except_ a newline.\n",
    "\n",
    "Complete list of flags:\n",
    "\n",
    "![reflags.PNG](./imgs/reflags.PNG)"
   ]
  },
  {
   "cell_type": "markdown",
   "metadata": {},
   "source": [
    "# Cookbook"
   ]
  },
  {
   "cell_type": "markdown",
   "metadata": {},
   "source": [
    "## Grouping field info"
   ]
  },
  {
   "cell_type": "markdown",
   "metadata": {},
   "source": [
    "Frequently you need to obtain more information than just whether the RE matched or not. Regular expressions are often used to dissect strings by writing a RE divided into several subgroups which match different components of interest. For example, an RFC-822 header line is divided into a header name and a value, separated by a `':'`, like this:"
   ]
  },
  {
   "cell_type": "code",
   "execution_count": 224,
   "metadata": {},
   "outputs": [
    {
     "name": "stdout",
     "output_type": "stream",
     "text": [
      "+---------+------------------------------------+\n",
      "| From    | author@example.com                 |\n",
      "+---------+------------------------------------+\n",
      "| Agent   | Thunderbird 1.5.0.9 (X11/20061227) |\n",
      "+---------+------------------------------------+\n",
      "| Version | 1.0                                |\n",
      "+---------+------------------------------------+\n",
      "| To      | editor@example.com                 |\n",
      "+---------+------------------------------------+\n"
     ]
    }
   ],
   "source": [
    "from tabulate import tabulate\n",
    "\n",
    "header = \"\"\"\n",
    "From: author@example.com\n",
    "User-Agent: Thunderbird 1.5.0.9 (X11/20061227)\n",
    "MIME-Version: 1.0\n",
    "To: editor@example.com\n",
    "\"\"\"\n",
    "\n",
    "pat = re.compile(r'(?P<field>[A-Z]\\w+):\\s(?P<value>.+)\\n')\n",
    "groups = pat.findall(header)\n",
    "print(tabulate(groups, tablefmt='grid'))"
   ]
  },
  {
   "cell_type": "markdown",
   "metadata": {},
   "source": [
    "## Is a poker hand legitimate?"
   ]
  },
  {
   "cell_type": "markdown",
   "metadata": {},
   "source": [
    "Suppose you are writing a poker program where a player’s hand is represented as a 5-character string with each character representing a card, “a” for ace, “k” for king, “q” for queen, “j” for jack, “t” for 10, and “2” through “9” representing the card with that value.  **To see if a given string is a valid hand**, one could do the following:"
   ]
  },
  {
   "cell_type": "code",
   "execution_count": 156,
   "metadata": {},
   "outputs": [
    {
     "name": "stdout",
     "output_type": "stream",
     "text": [
      "<Match: 'akt5q', groups=()>\n",
      "<Match: '727ak', groups=()>\n",
      "None\n",
      "None\n"
     ]
    }
   ],
   "source": [
    "def displaymatch(match):\n",
    "    \"\"\"Helper function to gracefully display match objects.\"\"\"\n",
    "    if not match:\n",
    "        return None\n",
    "    return '<Match: %r, groups=%r>' % (match.group(), match.groups())\n",
    "\n",
    "valid = re.compile(r\"^[a2-9tjqk]{5}$\")\n",
    "\n",
    "# Test 4 hands\n",
    "print(displaymatch(valid.match(\"akt5q\")))  # Valid.\n",
    "print(displaymatch(valid.match(\"727ak\")))  # Valid\n",
    "print(displaymatch(valid.match(\"akt5e\")))  # Invalid.\n",
    "print(displaymatch(valid.match(\"akt\")))    # Invalid."
   ]
  },
  {
   "cell_type": "markdown",
   "metadata": {},
   "source": [
    "## Does a poker hand contain a pair?"
   ]
  },
  {
   "cell_type": "markdown",
   "metadata": {},
   "source": [
    "A hand above, \"727ak\", contained a pair, or two of the same valued cards. To match this with a regular expression, one could use backreferences as such:"
   ]
  },
  {
   "cell_type": "code",
   "execution_count": 159,
   "metadata": {},
   "outputs": [
    {
     "name": "stdout",
     "output_type": "stream",
     "text": [
      "<Match: '717', groups=('7',)>\n",
      "None\n",
      "<Match: '354aa', groups=('a',)>\n",
      "<Match: '33322', groups=('2',)>\n",
      "<Match: '33522', groups=('2',)>\n"
     ]
    }
   ],
   "source": [
    "pair = re.compile(r\".*(.).*\\1\")\n",
    "\n",
    "print(displaymatch(pair.match(\"717ak\")))\n",
    "print(displaymatch(pair.match(\"718ak\")))  # No pairs\n",
    "print(displaymatch(pair.match(\"354aa\")))\n",
    "print(displaymatch(pair.match(\"33322\")))  # Full house\n",
    "print(displaymatch(pair.match(\"33522\")))  # Two pair"
   ]
  },
  {
   "cell_type": "markdown",
   "metadata": {},
   "source": [
    "## Text munging/scrambling"
   ]
  },
  {
   "cell_type": "markdown",
   "metadata": {},
   "source": [
    "This example demonstrates using sub() with a function to “munge” text, or randomize the order of all the characters in each word of a sentence **except for the first and last characters**."
   ]
  },
  {
   "cell_type": "code",
   "execution_count": 165,
   "metadata": {},
   "outputs": [
    {
     "name": "stdout",
     "output_type": "stream",
     "text": [
      "Psosfreor Adbmolleak, peslae rrpoet your abneecss plomtpry.\n",
      "Psfoersor Aeldbmaolk, psaele rperot your abnecses pomprtly.\n"
     ]
    }
   ],
   "source": [
    "import random\n",
    "\n",
    "def repl(m):\n",
    "    inner_word = list(m.group(2))\n",
    "    # print(inner_word)\n",
    "    random.shuffle(inner_word)\n",
    "    return m.group(1) + \"\".join(inner_word) + m.group(3)\n",
    "\n",
    "text = \"Professor Abdolmalek, please report your absences promptly.\"\n",
    "\n",
    "# `repl` param can be a string or a function!\n",
    "print(re.sub(r\"(\\w)(\\w+)(\\w)\", repl, text))\n",
    "print(re.sub(r\"(\\w)(\\w+)(\\w)\", repl, text))"
   ]
  },
  {
   "cell_type": "markdown",
   "metadata": {},
   "source": [
    "## Checking for repeated words"
   ]
  },
  {
   "cell_type": "code",
   "execution_count": 66,
   "metadata": {},
   "outputs": [
    {
     "data": {
      "text/plain": [
       "'I accidentally typed the word twice.'"
      ]
     },
     "execution_count": 66,
     "metadata": {},
     "output_type": "execute_result"
    }
   ],
   "source": [
    "test = 'I accidentally typed the the word twice.'\n",
    "pat = re.compile(r\"\"\"\\b     # Word boundary\n",
    "                     (\\w+)  # 1 or more of any alphanumeric character; equivalent to [a-zA-Z0-9_].\n",
    "                     \\s+    # 1 or more whitespace\n",
    "                     \\1     # Repeat backreference (the repeated word)\n",
    "                     \\b     # Word boundary \"\"\", re.X) \n",
    "pat.sub(r'\\1', test)"
   ]
  },
  {
   "cell_type": "markdown",
   "metadata": {},
   "source": [
    "## Getting HTML tags\n",
    "Anything between the tags is captured into the first backreference. The question mark in the regex makes the star lazy, to make sure it stops before the first closing tag rather than before the last, like a greedy star would do."
   ]
  },
  {
   "cell_type": "code",
   "execution_count": 39,
   "metadata": {},
   "outputs": [
    {
     "name": "stdout",
     "output_type": "stream",
     "text": [
      "['']\n"
     ]
    }
   ],
   "source": [
    "s = '<script type=\"text/javascript\" src=\"../_static/jquery.js\"></script>'\n",
    "pat = r'<script\\b[^>]*>(.*?)</script>'\n",
    "\n",
    "print(re.findall(pat, s))  # TODO: no result"
   ]
  },
  {
   "cell_type": "markdown",
   "metadata": {},
   "source": [
    "## Splitting strings with multiple & varying delimiters"
   ]
  },
  {
   "cell_type": "code",
   "execution_count": 227,
   "metadata": {},
   "outputs": [
    {
     "data": {
      "text/plain": [
       "['asdf', 'fjdk', 'afed', 'fjek', 'asdf', 'foo']"
      ]
     },
     "execution_count": 227,
     "metadata": {},
     "output_type": "execute_result"
    }
   ],
   "source": [
    "# some text with multiple & varying delimiters\n",
    "line = 'asdf fjdk; afed, fjek,asdf,     foo'\n",
    "\n",
    "# delims below: \n",
    "# {space}, {semicolon-space}, {comma-space}, {comma}, {comma-multiple spaces}\n",
    "re.split(r'[;,\\s]\\s*', line)"
   ]
  },
  {
   "cell_type": "markdown",
   "metadata": {},
   "source": [
    "Breaking down the above:\n",
    "* The metacharacters `[]` specify a **character class**, which is a set of characters that you wish to match. \n",
    "* Characters can be listed individually, or a range of characters can be indicated by giving two characters and separating them by a `'-'`. \n",
    " * For example, `[abc]` will match any of the characters a, b, or c; this is the same as `[a-c]`, which uses a range to express the same set of characters.\n",
    " * Note that metacharacters are **not** active inside classes.\n",
    "* The `\\s` following the brackets is just a normal special space character.  It says, look for a space after the initial sep.\n",
    "* The `*` specifies that the previous character can be matched zero or more times, instead of exactly once.\n",
    "\n",
    "Consider the above without `\\s*` at the end:"
   ]
  },
  {
   "cell_type": "code",
   "execution_count": 39,
   "metadata": {},
   "outputs": [
    {
     "data": {
      "text/plain": [
       "['asdf', 'fjdk', '', 'afed', '', 'fjek', 'asdf', '', '', '', '', '', 'foo']"
      ]
     },
     "execution_count": 39,
     "metadata": {},
     "output_type": "execute_result"
    }
   ],
   "source": [
    "re.split(r'[;,\\s]', line)"
   ]
  },
  {
   "cell_type": "markdown",
   "metadata": {},
   "source": [
    "Using parentheses specifies a _capture group_; the matched text is also included in the result:"
   ]
  },
  {
   "cell_type": "code",
   "execution_count": 40,
   "metadata": {},
   "outputs": [
    {
     "name": "stdout",
     "output_type": "stream",
     "text": [
      "['asdf', ' ', 'fjdk', ';', 'afed', ',', 'fjek', ',', 'asdf', ',', 'foo']\n"
     ]
    }
   ],
   "source": [
    "fields = re.split(r'(;|,|\\s)\\s*', line)\n",
    "print(fields)"
   ]
  },
  {
   "cell_type": "markdown",
   "metadata": {},
   "source": [
    "You could then split these to reform to an output string:"
   ]
  },
  {
   "cell_type": "code",
   "execution_count": 11,
   "metadata": {},
   "outputs": [
    {
     "data": {
      "text/plain": [
       "['asdf', 'fjdk', 'afed', 'fjek', 'asdf', 'foo']"
      ]
     },
     "execution_count": 11,
     "metadata": {},
     "output_type": "execute_result"
    }
   ],
   "source": [
    "values = fields[::2]; values"
   ]
  },
  {
   "cell_type": "code",
   "execution_count": 13,
   "metadata": {},
   "outputs": [
    {
     "data": {
      "text/plain": [
       "[' ', ';', ',', ',', ',', '']"
      ]
     },
     "execution_count": 13,
     "metadata": {},
     "output_type": "execute_result"
    }
   ],
   "source": [
    "delimiters = fields[1::2] + ['']; delimiters"
   ]
  },
  {
   "cell_type": "markdown",
   "metadata": {},
   "source": [
    "## Match dates specified as digits, such as “11/27/2012\":\n",
    "\n",
    "* Another repeating metacharacter is +, which matches one or more times.\n",
    " * Pay careful attention to the difference between `*` and `+`; `*` matches zero or more times, so whatever’s being repeated may not be present at all, while `+` requires at least one occurrence.\n",
    "* `/` is just a literal."
   ]
  },
  {
   "cell_type": "code",
   "execution_count": 16,
   "metadata": {},
   "outputs": [
    {
     "data": {
      "text/plain": [
       "True"
      ]
     },
     "execution_count": 16,
     "metadata": {},
     "output_type": "execute_result"
    }
   ],
   "source": [
    "text1 = '11/27/2012'\n",
    "text2 = 'Nov 27, 2012'\n",
    "\n",
    "# Simple matching: \\d+ means match one or more digits\n",
    "bool(re.match(r'\\d+/\\d+/\\d+', text1))"
   ]
  },
  {
   "cell_type": "markdown",
   "metadata": {},
   "source": [
    "## Using the digits metacharacter"
   ]
  },
  {
   "cell_type": "code",
   "execution_count": 23,
   "metadata": {
    "scrolled": false
   },
   "outputs": [
    {
     "name": "stdout",
     "output_type": "stream",
     "text": [
      "matched: ['789', '123', '456']\n",
      "empty: []\n"
     ]
    }
   ],
   "source": [
    "test = {'match' : 'abc789xyz define \"123\" var g = 456;', 'skip' : 'word 12 1'}\n",
    "pat = '\\d\\d\\d'\n",
    "print('matched:', re.findall(pat, test['match']))\n",
    "print('empty:', re.findall(pat, test['skip']))"
   ]
  },
  {
   "cell_type": "markdown",
   "metadata": {},
   "source": [
    "## Matching differently formatted numbers"
   ]
  },
  {
   "cell_type": "code",
   "execution_count": 51,
   "metadata": {},
   "outputs": [
    {
     "name": "stdout",
     "output_type": "stream",
     "text": [
      "matched: ['3.14529 -255.38 128 1.9e10 123,340.00']\n",
      "empty: []\n"
     ]
    }
   ],
   "source": [
    "test = {'match' : '3.14529 -255.38 128 1.9e10 123,340.00', 'skip' : '720p'}\n",
    "# match a string that starts with an optional negative sign, one or more digits, \n",
    "# optionally followed by a comma and more digits, followed by an optional \n",
    "# fractional component which consists of a period, one or more digits, and \n",
    "# another optional component, the exponent followed by more digits\n",
    "pat = '-?\\d+.+[^a-z]$' # or: ^-?\\d+(,\\d+)*(\\.\\d+(e\\d+)?)?$\n",
    "print('matched:', re.findall(pat, test['match']))\n",
    "print('empty:', re.findall(pat, test['skip']))"
   ]
  },
  {
   "cell_type": "markdown",
   "metadata": {},
   "source": [
    "## Matching phone number area codes"
   ]
  },
  {
   "cell_type": "code",
   "execution_count": 50,
   "metadata": {},
   "outputs": [
    {
     "name": "stdout",
     "output_type": "stream",
     "text": [
      "matched: ['415', '650', '416', '202', '403', '416']\n",
      "empty: []\n"
     ]
    }
   ],
   "source": [
    "test = {'match' : '415-555-1234 650-555-2345 (416)555-3456 202 555 4567 4035555678 1 416 555 9292', 'skip' : '720p'}\n",
    "#  breaks down into the country code '1?', the captured area code '\\(?(\\d{3})\\)?', \n",
    "# and the rest of the digits '\\d{3}' and '\\d{4}' respectively. We use '[\\s-]?' to \n",
    "# catch the space or dashes between each component\n",
    "pat = '1?[\\s-]?\\(?(\\d{3})\\)?[\\s-]?\\d{3}[\\s-]?\\d{4}'\n",
    "print('matched:', re.findall(pat, test['match']))\n",
    "print('empty:', re.findall(pat, test['skip']))"
   ]
  },
  {
   "cell_type": "markdown",
   "metadata": {},
   "source": [
    "## Making a phonebook"
   ]
  },
  {
   "cell_type": "code",
   "execution_count": 56,
   "metadata": {},
   "outputs": [
    {
     "name": "stdout",
     "output_type": "stream",
     "text": [
      "     first       last         phone streetnum             street\n",
      "0     Ross    McFluff  834.345.1254       155         Elm Street\n",
      "1   Ronald  Heathmore  892.345.3428       436      Finley Avenue\n",
      "2    Frank     Burger  925.541.7625       662  South Dogwood Way\n",
      "3  Heather   Albrecht  548.326.4584       919         Park Place\n"
     ]
    }
   ],
   "source": [
    "text = \"\"\"Ross McFluff: 834.345.1254 155 Elm Street\n",
    "\n",
    "Ronald Heathmore: 892.345.3428 436 Finley Avenue\n",
    "Frank Burger: 925.541.7625 662 South Dogwood Way\n",
    "\n",
    "\n",
    "Heather Albrecht: 548.326.4584 919 Park Place\"\"\"\n",
    "\n",
    "# Convert the string into a list with each nonempty line having its own entry\n",
    "entries = re.split(\"\\n+\", text)\n",
    "\n",
    "# Split each entry into a list with first name, last name, telephone number, \n",
    "# and address.  The :? pattern matches the colon after the last name, so \n",
    "# that it does not occur in the result list. With a maxsplit of 4, we could \n",
    "# separate the house number from the street name:\n",
    "entries = [re.split(\":? \", entry, 4) for entry in entries]\n",
    "entries = DataFrame(entries, columns=['first', 'last', 'phone', 'streetnum',\n",
    "                                      'street'])\n",
    "print(entries)"
   ]
  },
  {
   "cell_type": "markdown",
   "metadata": {},
   "source": [
    "## Finding all adverbs"
   ]
  },
  {
   "cell_type": "code",
   "execution_count": 59,
   "metadata": {
    "scrolled": true
   },
   "outputs": [
    {
     "data": {
      "text/plain": [
       "['carefully', 'quickly']"
      ]
     },
     "execution_count": 59,
     "metadata": {},
     "output_type": "execute_result"
    }
   ],
   "source": [
    "text = \"He was carefully disguised but captured quickly by police.\"\n",
    "re.findall(\"\\w+ly\", text) # optional here: r\"\\w+ly\""
   ]
  },
  {
   "cell_type": "markdown",
   "metadata": {},
   "source": [
    "## Multiple conditions"
   ]
  },
  {
   "cell_type": "markdown",
   "metadata": {},
   "source": [
    "Word must start with capital C, can contain /, and must end with 1 or 2 digits:"
   ]
  },
  {
   "cell_type": "code",
   "execution_count": 76,
   "metadata": {},
   "outputs": [
    {
     "name": "stdout",
     "output_type": "stream",
     "text": [
      "matched: [['C/12'], ['C/6'], ['C12'], ['C6']]\n",
      "empty: [[], [], [], []]\n"
     ]
    }
   ],
   "source": [
    "matches = ['C/12', 'C/6', 'C12', 'C6']\n",
    "skips = ['c6', 'c123', 'c12D', 'C12D']\n",
    "pat = '^C\\/?\\d{1,2}$'\n",
    "print('matched:', [re.findall(pat, match) for match in matches])\n",
    "print('empty:', [re.findall(pat, skip) for skip in skips])"
   ]
  },
  {
   "cell_type": "markdown",
   "metadata": {
    "collapsed": true
   },
   "source": [
    "# grep"
   ]
  },
  {
   "cell_type": "markdown",
   "metadata": {},
   "source": [
    "See Goyvaerts - https://www.regular-expressions.info/grep.html."
   ]
  }
 ],
 "metadata": {
  "kernelspec": {
   "display_name": "Python 3",
   "language": "python",
   "name": "python3"
  },
  "language_info": {
   "codemirror_mode": {
    "name": "ipython",
    "version": 3
   },
   "file_extension": ".py",
   "mimetype": "text/x-python",
   "name": "python",
   "nbconvert_exporter": "python",
   "pygments_lexer": "ipython3",
   "version": "3.6.3"
  }
 },
 "nbformat": 4,
 "nbformat_minor": 2
}
