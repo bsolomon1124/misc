{
 "cells": [
  {
   "cell_type": "markdown",
   "metadata": {},
   "source": [
    "# Covered here"
   ]
  },
  {
   "cell_type": "markdown",
   "metadata": {},
   "source": [
    "- [Mathematical background](#Mathematical-background)\n",
    "- [Logistic regression in `sklearn`](#Logistic-regression-in-sklearn)"
   ]
  },
  {
   "cell_type": "markdown",
   "metadata": {},
   "source": [
    "# Resources & references"
   ]
  },
  {
   "cell_type": "markdown",
   "metadata": {},
   "source": [
    "`sklearn`:\n",
    "\n",
    "- [`LogisticRegression`](http://scikit-learn.org/stable/modules/generated/sklearn.linear_model.LogisticRegression.html) estimator\n",
    "- [Pipelining: chaining a PCA and a logistic regression](http://scikit-learn.org/stable/auto_examples/plot_digits_pipe.html#sphx-glr-auto-examples-plot-digits-pipe-py)\n",
    "- [Logistic function](http://scikit-learn.org/stable/auto_examples/linear_model/plot_logistic.html#sphx-glr-auto-examples-linear-model-plot-logistic-py)\n",
    "- [Generalized linear models: logistic regression](http://scikit-learn.org/stable/modules/linear_model.html#logistic-regression)\n",
    "- [L1 Penalty and Sparsity in Logistic Regression](http://scikit-learn.org/stable/auto_examples/linear_model/plot_logistic_l1_l2_sparsity.html#sphx-glr-auto-examples-linear-model-plot-logistic-l1-l2-sparsity-py)\n",
    "\n",
    "PSU:\n",
    "\n",
    "- [Introduction to Generalized Linear Models](https://onlinecourses.science.psu.edu/stat504/node/216)\n",
    "- [Binary Logistic Regression with a Single Categorical Predictor](https://onlinecourses.science.psu.edu/stat504/node/150)\n",
    "\n",
    "Other:\n",
    "\n",
    "- UCLA: [Logit Regression: R Data Analysis Examples](https://stats.idre.ucla.edu/r/dae/logit-regression/)\n",
    "- aedsayad.com: [Logistic Regression](http://www.saedsayad.com/logistic_regression.htm)\n",
    "- yhat: Logistic regression in Python[](http://blog.yhat.com/posts/logistic-regression-python-rodeo.html)\n",
    "- Medium: [Building A Logistic Regression in Python, Step by Step](https://towardsdatascience.com/building-a-logistic-regression-in-python-step-by-step-becd4d56c9c8)\n",
    "- CMU: [Logistic regression](http://www.stat.cmu.edu/~cshalizi/uADA/12/lectures/ch12.pdf)\n",
    "- Standford: [Logistic regression](http://ufldl.stanford.edu/tutorial/supervised/LogisticRegression/)\n",
    "- Metis [slides](https://github.com/thisismetis/nyc18_ds14/blob/master/class_lectures/week04-mcnulty1/02-logistic_sql_load/logistic.pdf)"
   ]
  },
  {
   "cell_type": "markdown",
   "metadata": {},
   "source": [
    "# Mathematical background"
   ]
  },
  {
   "cell_type": "markdown",
   "metadata": {},
   "source": [
    "Before getting into anything about logistic _regression_, there are two relevant and more general _functions_:\n",
    "1. Logistic function\n",
    "2. Logit function"
   ]
  },
  {
   "cell_type": "markdown",
   "metadata": {},
   "source": [
    "## Logistic function"
   ]
  },
  {
   "cell_type": "markdown",
   "metadata": {},
   "source": [
    "A **logistic function** or logistic curve is a common \"S\" shape (sigmoid curve), with equation:\n",
    "\n",
    "$$f(x) = \\frac{L}{1+e^{-k(x-x_0)}}$$\n",
    "\n",
    "where:\n",
    "\n",
    "- $x_0$ = the x-value of the sigmoid's midpoint,\n",
    "- $L$ = the curve's maximum value, and\n",
    "- $k$ = the steepness of the curve.\n",
    "\n",
    "As it applies to logistic regression, we can simplifiy this to the case of the **standard logistic function** where $L=1.0$, $x_0=0$, and $k=1$:\n",
    "\n",
    "$$f(x) = \\frac{1}{1+e^{-x}}$$\n"
   ]
  },
  {
   "cell_type": "code",
   "execution_count": 1,
   "metadata": {},
   "outputs": [
    {
     "data": {
      "image/png": "[encoded data removed]",
      "text/plain": [
       "<matplotlib.figure.Figure at 0x1a0e7ea2b0>"
      ]
     },
     "metadata": {},
     "output_type": "display_data"
    }
   ],
   "source": [
    "import matplotlib.pyplot as plt\n",
    "import numpy as np\n",
    "\n",
    "%matplotlib inline\n",
    "\n",
    "def logistic_func(x, L=1, k=1, x0=0):\n",
    "    return L / (1 + np.exp(-k * (x - x0)))\n",
    "\n",
    "x = np.linspace(-6, 6, 1200)\n",
    "plt.plot(x, logistic_func(x))\n",
    "plt.title(r'Standard logistic sigmoid function i.e. $L=1,k=1,x_0=0$');\n",
    "plt.xlabel('$x$')\n",
    "plt.ylabel('$f(x)$')\n",
    "plt.axhline(.5, color='.5')\n",
    "plt.axhline(1.0, color='black', linestyle='--')\n",
    "plt.axhline(0.0, color='black', linestyle='--');"
   ]
  },
  {
   "cell_type": "markdown",
   "metadata": {},
   "source": [
    "## Logit function"
   ]
  },
  {
   "cell_type": "markdown",
   "metadata": {},
   "source": [
    "The logistic function is the inverse of the natural **logit function** and so **can be used to convert the logarithm of odds into a probability**.\n",
    "\n",
    "$$logit(z) = \\ln{\\frac{z}{1 - z}}$$\n",
    "\n",
    "Here, $z$ is our probability' $\\frac{z}{1 - z}$ are the odds, and $\\ln{\\frac{z}{1 - z}}$ are the log odds."
   ]
  },
  {
   "cell_type": "markdown",
   "metadata": {},
   "source": [
    "## Logistic regression"
   ]
  },
  {
   "cell_type": "markdown",
   "metadata": {},
   "source": [
    "- Logistic regression, despite its name, is a **linear model for classification rather than regression**. \n",
    "- Also known as logit regression, maximum-entropy classification (MaxEnt), or the log-linear classifier.\n",
    "- Binary logistic regression estimates the probability that a characteristic is present (success), based on combinations of values taken by the predictors.  \n",
    "    - **It assumes a linear relationship between the logit of the response and the explanatory variables**.  (More below.)"
   ]
  },
  {
   "cell_type": "markdown",
   "metadata": {},
   "source": [
    "## Assumptions about response variable"
   ]
  },
  {
   "cell_type": "markdown",
   "metadata": {},
   "source": [
    "$y$ is the binary response variable:\n",
    "\n",
    "$$y_i = 1 --> success \\text{ (presence of trait)}$$\n",
    "\n",
    "and,\n",
    "\n",
    "$$y_i = 0 --> failure \\text{ (absence of trait)} $$\n",
    "\n",
    "$y$ is assumed to have a binomial distribution and be i.i.d."
   ]
  },
  {
   "cell_type": "markdown",
   "metadata": {},
   "source": [
    "## Model"
   ]
  },
  {
   "cell_type": "markdown",
   "metadata": {},
   "source": [
    "In linear regression, we are trying to _learn_ a function of the form \n",
    "\n",
    "$$y = \\beta_0 + \\beta_1X_1 + ... + \\beta_nX_n$$\n",
    "\n",
    "In logistic regression, we are trying to learn:\n",
    "\n",
    "$$logit(\\pi) = \\ln{\\frac{\\pi}{1 - \\pi}} = \\beta_0 + \\beta_1X_1 + ... + \\beta_nX_n$$\n",
    "\n",
    "The above models the **log odds of probability of \"success\" as a function of explanatory variables**.\n",
    "\n",
    "$\\pi_i$ is the probability of success for a given sample's response: \n",
    "\n",
    "$$\\pi_i = P(y_i = 1|X_i=x_i)$$\n",
    "\n",
    "**How did we get to this?** The easiest way to see why we've done this transformation is to consider why the usual linear regression formulation does _not_ work for predicting the value of a binary variable:\n",
    "\n",
    "1. The most obvious idea is to let $p(x)$ be a linear function of $x$. Every increment of a component of $x$ would add or subtract so much to the probability. **The conceptual problem here is that $p$ must be between 0 and 1, and linear functions are unbounded.** Moreover, in many situations we empirically see “diminishing returns” — changing $p$ by the same amount requires a bigger change in $x$ when $p$ is already large (or small) than when $$ is close to 1/2. Linear models can’t do this.\n",
    "2. The next most obvious idea is to let $p(x)$ be a linear function of $x$, so that changing an input variable multiplies the probability by a fixed amount. **The problem is that logarithms are unbounded in only one direction, and linear functions are not.**\n",
    "\n",
    "That brings us to the third and correct transoformation, to make $\\ln\\frac{p}{1-p}$ be a linear function of $x$.  This is exactly what we are doing in the above equation.\n",
    "\n",
    "So, solving for $\\pi_i$:\n",
    "\n",
    "$$\\pi_i = P(y_i=1|X_i=x_i) = \\frac{e^{\\beta_0 + \\beta_1X_1 + ... + \\beta_nX_n}}{1 + e^{\\beta_0 + \\beta_1X_1 + ... + \\beta_nX_n}} = \\frac{1}{1 + e^{-(\\beta_0 + \\beta_1X_1 + ... + \\beta_nX_n)}}$$\n",
    "\n",
    "Keep in mind that with the equation in its final form here, we are talking simply about **probability rather than log odds.**\n",
    "\n",
    "To minimize the mis-classification rate, we should predict $Y = 1$ when $p \\geq 0.5$ and $Y = 0$ when $p < 0.5$. This means guessing 1 whenever $\\beta_0 + x \\dot \\beta_1$ is non-negative, and 0 otherwise. So logistic regression gives us a linear classifier. The decision boundary separating the two predicted classes is the solution of $\\beta_0 + x \\dot \\beta_1 = 0$, which is a point if $x$ is one dimensional, a line if it is two dimensional"
   ]
  },
  {
   "cell_type": "markdown",
   "metadata": {},
   "source": [
    "# Interpreting parameter estimates"
   ]
  },
  {
   "cell_type": "markdown",
   "metadata": {},
   "source": [
    "In the logistic regression,\n",
    "- the constant ($\\beta_0$) moves the curve left and right;\n",
    "- the slope(s) ($\\beta_1$) defines the steepness of the curve.  The coefficient ($\\beta_1$) is the amount the logit (log-odds) changes with a one unit change in $x$. \n",
    "\n",
    "TODO: See https://onlinecourses.science.psu.edu/stat504/node/150"
   ]
  },
  {
   "cell_type": "markdown",
   "metadata": {},
   "source": [
    "# Logistic regression in `sklearn`"
   ]
  },
  {
   "cell_type": "markdown",
   "metadata": {},
   "source": [
    "The two most common linear classification algorithms are logistic regression, implemented in `sklearn.linear_model.LogisticRegression`, and linear support vector machines (linear SVMs), implemented in `sklearn.svm.LinearSVC` (SVC stands for support vector classifier).  "
   ]
  },
  {
   "cell_type": "markdown",
   "metadata": {},
   "source": [
    "From the sklearn docs:\n",
    "\n",
    "- [`LogisticRegression`](http://scikit-learn.org/stable/modules/generated/sklearn.linear_model.LogisticRegression.html) estimator\n",
    "- [Pipelining: chaining a PCA and a logistic regression](http://scikit-learn.org/stable/auto_examples/plot_digits_pipe.html#sphx-glr-auto-examples-plot-digits-pipe-py)\n",
    "- [Logistic function](http://scikit-learn.org/stable/auto_examples/linear_model/plot_logistic.html#sphx-glr-auto-examples-linear-model-plot-logistic-py)\n",
    "- [Generalized linear models: logistic regression](http://scikit-learn.org/stable/modules/linear_model.html#logistic-regression)\n",
    "- [L1 Penalty and Sparsity in Logistic Regression](http://scikit-learn.org/stable/auto_examples/linear_model/plot_logistic_l1_l2_sparsity.html#sphx-glr-auto-examples-linear-model-plot-logistic-l1-l2-sparsity-py)"
   ]
  },
  {
   "cell_type": "markdown",
   "metadata": {},
   "source": [
    "## Regularization parameter"
   ]
  },
  {
   "cell_type": "markdown",
   "metadata": {},
   "source": [
    "By default, `LogisticRegression` applies an L2 regularization, in the same way that Ridge does for regression.  For LogisticRegression, the trade-off parameter that determines the strength of the regularization is called `C`, and **higher values of C correspond to _less_ regularization**.\n",
    "\n",
    "The docstring for `C` (`float`, default 1.0) is:\n",
    "\n",
    "> Inverse of regularization strength; must be a positive float. Like in support vector machines, **smaller values specify stronger regularization**.\n",
    "\n",
    "In other words, $C$ is the inverse of $\\alpha$ used in Ridge regression.  The ridge coefficients minimize a penalized residual sum of squares,\n",
    "\n",
    "$$\\underset{w}{min\\,} {{|| X w - y||_2}^2 + \\alpha {||w||_2}^2}$$\n",
    "\n",
    "where $w$ are the coefficients.  Here, $\\alpha \\geq 0$ is a complexity parameter that controls the amount of shrinkage: the larger the value of $\\alpha$, the greater the amount of shrinkage.\n",
    "\n",
    "In the case of `LogisticRegression`, `C` corresponds to $A^{-1}$.\n",
    "\n",
    "As `C` goes to $\\infty$, there is virtually no penalization.  As `C` goes to 0, $1/C$ goes to $\\infty$ and the amount of penalization increases.\n",
    "\n",
    "Here is the full cost function for binary class L2 penalized logistic regression:\n",
    "\n",
    "$$\\underset{w, c}{min\\,} \\frac{1}{2}w^T w + C \\sum_{i=1}^n \\log(\\exp(- y_i (X_i^T w + c)) + 1)$$"
   ]
  },
  {
   "cell_type": "markdown",
   "metadata": {},
   "source": [
    "## Example - the logistic function"
   ]
  },
  {
   "cell_type": "markdown",
   "metadata": {},
   "source": [
    "Modified from an [example](http://scikit-learn.org/stable/auto_examples/linear_model/plot_logistic.html#sphx-glr-auto-examples-linear-model-plot-logistic-py) in the sklearn docs."
   ]
  },
  {
   "cell_type": "code",
   "execution_count": 2,
   "metadata": {},
   "outputs": [
    {
     "name": "stdout",
     "output_type": "stream",
     "text": [
      "[ 1.8924  1.7601  5.9126  4.4879 -0.9774] ...\n",
      "[ 1.  1.  1.  1.  0.] ...\n"
     ]
    }
   ],
   "source": [
    "from sklearn.linear_model import (LinearRegression,\n",
    "                                  LogisticRegression)\n",
    "\n",
    "np.random.seed(444)\n",
    "\n",
    "# this is our test set, it's just a straight line with some\n",
    "# Gaussian noise\n",
    "xmin, xmax = -5, 5\n",
    "n_samples = 100\n",
    "X = np.random.normal(size=n_samples)\n",
    "y = (X > 0).astype(np.float)\n",
    "X[X > 0] *= 4\n",
    "X += .3 * np.random.normal(size=n_samples)\n",
    "X = X[:, np.newaxis]\n",
    "print(X.ravel()[:5], '...')\n",
    "print(y[:5], '...')"
   ]
  },
  {
   "cell_type": "markdown",
   "metadata": {},
   "source": [
    "Here's what our data looks like:"
   ]
  },
  {
   "cell_type": "code",
   "execution_count": 3,
   "metadata": {},
   "outputs": [
    {
     "data": {
      "image/png": "[encoded data removed]",
      "text/plain": [
       "<matplotlib.figure.Figure at 0x1a16b837f0>"
      ]
     },
     "metadata": {},
     "output_type": "display_data"
    }
   ],
   "source": [
    "plt.figure(1, figsize=(10, 6))\n",
    "plt.clf()\n",
    "plt.scatter(X.ravel(), y, color='black', zorder=20)\n",
    "plt.ylabel('$y$')\n",
    "plt.xlabel('$X$');"
   ]
  },
  {
   "cell_type": "markdown",
   "metadata": {},
   "source": [
    "Now let's compare logistic and linear regression on this data set:"
   ]
  },
  {
   "cell_type": "code",
   "execution_count": 4,
   "metadata": {},
   "outputs": [
    {
     "data": {
      "image/png": "[encoded data removed]",
      "text/plain": [
       "<matplotlib.figure.Figure at 0x1a17a634a8>"
      ]
     },
     "metadata": {},
     "output_type": "display_data"
    }
   ],
   "source": [
    "clf = LogisticRegression(C=1e5)  # big C --> no penalization\n",
    "clf.fit(X, y)\n",
    "\n",
    "plt.figure(1, figsize=(10, 6))\n",
    "plt.clf()\n",
    "plt.scatter(X.ravel(), y, color='black', zorder=20)\n",
    "X_test = np.linspace(-5, 10, 300)\n",
    "\n",
    "\n",
    "def sigmoid(z):\n",
    "    return 1 / (1 + np.exp(-z))\n",
    "\n",
    "\n",
    "# 'z' here is a function of coefficients + X\n",
    "loss = sigmoid(X_test * clf.coef_ + clf.intercept_).ravel()\n",
    "plt.plot(X_test, loss, color='red', linewidth=3)\n",
    "\n",
    "ols = LinearRegression()\n",
    "ols.fit(X, y)\n",
    "plt.plot(X_test, ols.coef_ * X_test + ols.intercept_, linewidth=1, color='blue')\n",
    "plt.axhline(.5, color='.5')\n",
    "\n",
    "plt.ylabel('$y$')\n",
    "plt.xlabel('$X$')\n",
    "plt.xticks(range(-5, 10))\n",
    "plt.yticks([0, 0.5, 1])\n",
    "plt.ylim(-.25, 1.25)\n",
    "plt.xlim(-4, 10)\n",
    "plt.legend(('Logistic Regression Model', 'Linear Regression Model'),\n",
    "           loc=\"lower right\", fontsize='small')\n",
    "plt.show()"
   ]
  },
  {
   "cell_type": "markdown",
   "metadata": {},
   "source": [
    "## Example: graduate school admission"
   ]
  },
  {
   "cell_type": "markdown",
   "metadata": {},
   "source": [
    "Ported from R: https://stats.idre.ucla.edu/r/dae/logit-regression/\n",
    "\n",
    "A researcher is interested in how variables, such as GRE (Graduate Record Exam scores), GPA (grade point average) and prestige of the undergraduate institution, effect admission into graduate school. The response variable, admit/don’t admit, is a binary variable.\n",
    "\n",
    "This dataset has a binary response (outcome, dependent) variable called admit. There are three predictor variables: gre, gpa and rank. We will treat the variables gre and gpa as continuous. The variable rank takes on the values 1 through 4. Institutions with a rank of 1 have the highest prestige, while those with a rank of 4 have the lowest."
   ]
  },
  {
   "cell_type": "code",
   "execution_count": 5,
   "metadata": {},
   "outputs": [
    {
     "data": {
      "text/html": [
       "<div>\n",
       "<style scoped>\n",
       "    .dataframe tbody tr th:only-of-type {\n",
       "        vertical-align: middle;\n",
       "    }\n",
       "\n",
       "    .dataframe tbody tr th {\n",
       "        vertical-align: top;\n",
       "    }\n",
       "\n",
       "    .dataframe thead th {\n",
       "        text-align: right;\n",
       "    }\n",
       "</style>\n",
       "<table border=\"1\" class=\"dataframe\">\n",
       "  <thead>\n",
       "    <tr style=\"text-align: right;\">\n",
       "      <th></th>\n",
       "      <th>admit</th>\n",
       "      <th>gre</th>\n",
       "      <th>gpa</th>\n",
       "      <th>ranking</th>\n",
       "    </tr>\n",
       "  </thead>\n",
       "  <tbody>\n",
       "    <tr>\n",
       "      <th>0</th>\n",
       "      <td>0</td>\n",
       "      <td>380</td>\n",
       "      <td>3.61</td>\n",
       "      <td>3</td>\n",
       "    </tr>\n",
       "    <tr>\n",
       "      <th>1</th>\n",
       "      <td>1</td>\n",
       "      <td>660</td>\n",
       "      <td>3.67</td>\n",
       "      <td>3</td>\n",
       "    </tr>\n",
       "    <tr>\n",
       "      <th>2</th>\n",
       "      <td>1</td>\n",
       "      <td>800</td>\n",
       "      <td>4.00</td>\n",
       "      <td>1</td>\n",
       "    </tr>\n",
       "    <tr>\n",
       "      <th>3</th>\n",
       "      <td>1</td>\n",
       "      <td>640</td>\n",
       "      <td>3.19</td>\n",
       "      <td>4</td>\n",
       "    </tr>\n",
       "    <tr>\n",
       "      <th>4</th>\n",
       "      <td>0</td>\n",
       "      <td>520</td>\n",
       "      <td>2.93</td>\n",
       "      <td>4</td>\n",
       "    </tr>\n",
       "  </tbody>\n",
       "</table>\n",
       "</div>"
      ],
      "text/plain": [
       "   admit  gre   gpa  ranking\n",
       "0      0  380  3.61        3\n",
       "1      1  660  3.67        3\n",
       "2      1  800  4.00        1\n",
       "3      1  640  3.19        4\n",
       "4      0  520  2.93        4"
      ]
     },
     "execution_count": 5,
     "metadata": {},
     "output_type": "execute_result"
    }
   ],
   "source": [
    "import pandas as pd\n",
    "\n",
    "X = pd.read_csv('https://stats.idre.ucla.edu/stat/data/binary.csv',\n",
    "                names=['admit', 'gre', 'gpa', 'ranking'], header=0)\n",
    "X.head()"
   ]
  },
  {
   "cell_type": "code",
   "execution_count": 6,
   "metadata": {},
   "outputs": [
    {
     "data": {
      "text/html": [
       "<div>\n",
       "<style scoped>\n",
       "    .dataframe tbody tr th:only-of-type {\n",
       "        vertical-align: middle;\n",
       "    }\n",
       "\n",
       "    .dataframe tbody tr th {\n",
       "        vertical-align: top;\n",
       "    }\n",
       "\n",
       "    .dataframe thead th {\n",
       "        text-align: right;\n",
       "    }\n",
       "</style>\n",
       "<table border=\"1\" class=\"dataframe\">\n",
       "  <thead>\n",
       "    <tr style=\"text-align: right;\">\n",
       "      <th></th>\n",
       "      <th>gre</th>\n",
       "      <th>gpa</th>\n",
       "      <th>ranking_2</th>\n",
       "      <th>ranking_3</th>\n",
       "      <th>ranking_4</th>\n",
       "    </tr>\n",
       "  </thead>\n",
       "  <tbody>\n",
       "    <tr>\n",
       "      <th>0</th>\n",
       "      <td>380</td>\n",
       "      <td>3.61</td>\n",
       "      <td>0</td>\n",
       "      <td>1</td>\n",
       "      <td>0</td>\n",
       "    </tr>\n",
       "    <tr>\n",
       "      <th>1</th>\n",
       "      <td>660</td>\n",
       "      <td>3.67</td>\n",
       "      <td>0</td>\n",
       "      <td>1</td>\n",
       "      <td>0</td>\n",
       "    </tr>\n",
       "    <tr>\n",
       "      <th>2</th>\n",
       "      <td>800</td>\n",
       "      <td>4.00</td>\n",
       "      <td>0</td>\n",
       "      <td>0</td>\n",
       "      <td>0</td>\n",
       "    </tr>\n",
       "    <tr>\n",
       "      <th>3</th>\n",
       "      <td>640</td>\n",
       "      <td>3.19</td>\n",
       "      <td>0</td>\n",
       "      <td>0</td>\n",
       "      <td>1</td>\n",
       "    </tr>\n",
       "    <tr>\n",
       "      <th>4</th>\n",
       "      <td>520</td>\n",
       "      <td>2.93</td>\n",
       "      <td>0</td>\n",
       "      <td>0</td>\n",
       "      <td>1</td>\n",
       "    </tr>\n",
       "  </tbody>\n",
       "</table>\n",
       "</div>"
      ],
      "text/plain": [
       "   gre   gpa  ranking_2  ranking_3  ranking_4\n",
       "0  380  3.61          0          1          0\n",
       "1  660  3.67          0          1          0\n",
       "2  800  4.00          0          0          0\n",
       "3  640  3.19          0          0          1\n",
       "4  520  2.93          0          0          1"
      ]
     },
     "execution_count": 6,
     "metadata": {},
     "output_type": "execute_result"
    }
   ],
   "source": [
    "X = pd.get_dummies(X, columns=['ranking'], drop_first=True)\n",
    "y = X.pop('admit')\n",
    "X.head()"
   ]
  },
  {
   "cell_type": "markdown",
   "metadata": {},
   "source": [
    "Always normalize X with logistic regression because regularization is involved:"
   ]
  },
  {
   "cell_type": "code",
   "execution_count": 7,
   "metadata": {},
   "outputs": [],
   "source": [
    "from sklearn.preprocessing import StandardScaler\n",
    "\n",
    "X = StandardScaler().fit_transform(X)"
   ]
  },
  {
   "cell_type": "code",
   "execution_count": 8,
   "metadata": {},
   "outputs": [],
   "source": [
    "# We'll compare to linear regression\n",
    "logit = LogisticRegression(random_state=444).fit(X, y)\n",
    "linear = LinearRegression(n_jobs=-1).fit(X, y)"
   ]
  },
  {
   "cell_type": "markdown",
   "metadata": {},
   "source": [
    "`logit` here has three important attributes; the first two are self-explanatory and found in `LinearRegression`:"
   ]
  },
  {
   "cell_type": "code",
   "execution_count": 9,
   "metadata": {},
   "outputs": [
    {
     "data": {
      "text/plain": [
       "array([[ 0.2585,  0.3006, -0.3042, -0.5878, -0.5534]])"
      ]
     },
     "execution_count": 9,
     "metadata": {},
     "output_type": "execute_result"
    }
   ],
   "source": [
    "logit.coef_"
   ]
  },
  {
   "cell_type": "code",
   "execution_count": 10,
   "metadata": {},
   "outputs": [
    {
     "data": {
      "text/plain": [
       "array([-0.8392])"
      ]
     },
     "execution_count": 10,
     "metadata": {},
     "output_type": "execute_result"
    }
   ],
   "source": [
    "logit.intercept_"
   ]
  },
  {
   "cell_type": "markdown",
   "metadata": {},
   "source": [
    "The third defines the class labels:"
   ]
  },
  {
   "cell_type": "code",
   "execution_count": 11,
   "metadata": {},
   "outputs": [
    {
     "data": {
      "text/plain": [
       "array([0, 1])"
      ]
     },
     "execution_count": 11,
     "metadata": {},
     "output_type": "execute_result"
    }
   ],
   "source": [
    "logit.classes_"
   ]
  },
  {
   "cell_type": "markdown",
   "metadata": {},
   "source": [
    "`LogisticRegression` also has a few more methods than `LinearRegression`.  Among them:\n",
    "- `predict(X)` - Predict _class labels_ for samples in X.  (Labels, not probabilities.)\n",
    "- `predict_log_proba(X)` - Log of probability estimates.\n",
    "- `predict_proba(X)` - Probability estimates.\n",
    "- `score(X, y[, sample_weight])` - Returns the **mean accuracy** on the given test data and labels.  (This is not r-squared; it is [`sklearn.metrics.accuracy_score`](http://scikit-learn.org/stable/modules/generated/sklearn.metrics.accuracy_score.html).)"
   ]
  },
  {
   "cell_type": "markdown",
   "metadata": {},
   "source": [
    "But let's do things manually first.  From above:\n",
    "\n",
    "$$logit(\\pi) = \\ln{\\frac{\\pi}{1 - \\pi}} = \\beta_0 + \\beta_1X_1 + ... + \\beta_nX_n$$\n",
    "\n",
    "and\n",
    "\n",
    "$$\\pi_i = \\frac{1}{1 + e^{-(\\beta_0 + \\beta_1X_1 + ... + \\beta_nX_n)}}$$"
   ]
  },
  {
   "cell_type": "code",
   "execution_count": 12,
   "metadata": {},
   "outputs": [],
   "source": [
    "log_odds = logit.intercept_ + (X * logit.coef_).sum(axis=1)"
   ]
  },
  {
   "cell_type": "code",
   "execution_count": 13,
   "metadata": {},
   "outputs": [],
   "source": [
    "def sigmoid(z):\n",
    "    # Redefining from above\n",
    "    return 1 / (1 + np.exp(-z))\n",
    "\n",
    "# `prob` is our *logistic function* (sigmoid curve) here\n",
    "prob = sigmoid(log_odds)"
   ]
  },
  {
   "cell_type": "code",
   "execution_count": 14,
   "metadata": {},
   "outputs": [
    {
     "data": {
      "text/plain": [
       "array([ 0.1768,  0.2967,  0.7293,  0.1839,  0.123 ,  0.3736,  0.4126,\n",
       "        0.2209,  0.2053,  0.5191,  0.3797,  0.3936,  0.7113,  0.3571,\n",
       "        0.6829])"
      ]
     },
     "execution_count": 14,
     "metadata": {},
     "output_type": "execute_result"
    }
   ],
   "source": [
    "# Probability of *success* (1) for first 15 cases\n",
    "prob[:15]"
   ]
  },
  {
   "cell_type": "code",
   "execution_count": 15,
   "metadata": {},
   "outputs": [],
   "source": [
    "pred = np.where(prob >= 0.5, 1., 0.)"
   ]
  },
  {
   "cell_type": "markdown",
   "metadata": {},
   "source": [
    "Does this match predictions from sklearn?  Yes--"
   ]
  },
  {
   "cell_type": "code",
   "execution_count": 16,
   "metadata": {},
   "outputs": [
    {
     "data": {
      "text/plain": [
       "True"
      ]
     },
     "execution_count": 16,
     "metadata": {},
     "output_type": "execute_result"
    }
   ],
   "source": [
    "np.allclose(pred, logit.predict(X))"
   ]
  },
  {
   "cell_type": "markdown",
   "metadata": {},
   "source": [
    "The output of `predict_proba(X)` and `predict_log_proba(X)` are actually 2d arrays:"
   ]
  },
  {
   "cell_type": "code",
   "execution_count": 17,
   "metadata": {},
   "outputs": [
    {
     "data": {
      "text/plain": [
       "array([[ 0.8232,  0.1768],\n",
       "       [ 0.7033,  0.2967],\n",
       "       [ 0.2707,  0.7293],\n",
       "       [ 0.8161,  0.1839],\n",
       "       [ 0.877 ,  0.123 ],\n",
       "       [ 0.6264,  0.3736],\n",
       "       [ 0.5874,  0.4126],\n",
       "       [ 0.7791,  0.2209],\n",
       "       [ 0.7947,  0.2053],\n",
       "       [ 0.4809,  0.5191]])"
      ]
     },
     "execution_count": 17,
     "metadata": {},
     "output_type": "execute_result"
    }
   ],
   "source": [
    "logit.predict_proba(X)[:10]  # first 10 samples"
   ]
  },
  {
   "cell_type": "markdown",
   "metadata": {},
   "source": [
    "Why is this?  This array is\n",
    "\n",
    "> The returned estimates for all classes are ordered by the label of classes.  Returns the probability of the sample for **each class** in the model, where classes are ordered as they are in `self.classes_` [[source](http://scikit-learn.org/stable/modules/generated/sklearn.linear_model.LogisticRegression.html#sklearn.linear_model.LogisticRegression.predict_proba)]\n",
    "\n",
    "In other words, column 1 above are probabilities for Failure (0), and column 2 are probabilities for Success (1).  This will become more useful with multilabel classification.  But for now, the first column of the above is equal to our manually defined `prob`:"
   ]
  },
  {
   "cell_type": "code",
   "execution_count": 18,
   "metadata": {},
   "outputs": [
    {
     "data": {
      "text/plain": [
       "True"
      ]
     },
     "execution_count": 18,
     "metadata": {},
     "output_type": "execute_result"
    }
   ],
   "source": [
    "np.allclose(prob, logit.predict_proba(X)[:, 1])"
   ]
  },
  {
   "cell_type": "code",
   "execution_count": 19,
   "metadata": {},
   "outputs": [
    {
     "data": {
      "text/html": [
       "<div>\n",
       "<style scoped>\n",
       "    .dataframe tbody tr th:only-of-type {\n",
       "        vertical-align: middle;\n",
       "    }\n",
       "\n",
       "    .dataframe tbody tr th {\n",
       "        vertical-align: top;\n",
       "    }\n",
       "\n",
       "    .dataframe thead th {\n",
       "        text-align: right;\n",
       "    }\n",
       "</style>\n",
       "<table border=\"1\" class=\"dataframe\">\n",
       "  <thead>\n",
       "    <tr style=\"text-align: right;\">\n",
       "      <th></th>\n",
       "      <th>prob_of_0</th>\n",
       "      <th>prob_of_1</th>\n",
       "    </tr>\n",
       "  </thead>\n",
       "  <tbody>\n",
       "    <tr>\n",
       "      <th>0</th>\n",
       "      <td>0.8232</td>\n",
       "      <td>0.1768</td>\n",
       "    </tr>\n",
       "    <tr>\n",
       "      <th>1</th>\n",
       "      <td>0.7033</td>\n",
       "      <td>0.2967</td>\n",
       "    </tr>\n",
       "    <tr>\n",
       "      <th>2</th>\n",
       "      <td>0.2707</td>\n",
       "      <td>0.7293</td>\n",
       "    </tr>\n",
       "    <tr>\n",
       "      <th>3</th>\n",
       "      <td>0.8161</td>\n",
       "      <td>0.1839</td>\n",
       "    </tr>\n",
       "    <tr>\n",
       "      <th>4</th>\n",
       "      <td>0.8770</td>\n",
       "      <td>0.1230</td>\n",
       "    </tr>\n",
       "  </tbody>\n",
       "</table>\n",
       "</div>"
      ],
      "text/plain": [
       "   prob_of_0  prob_of_1\n",
       "0     0.8232     0.1768\n",
       "1     0.7033     0.2967\n",
       "2     0.2707     0.7293\n",
       "3     0.8161     0.1839\n",
       "4     0.8770     0.1230"
      ]
     },
     "execution_count": 19,
     "metadata": {},
     "output_type": "execute_result"
    }
   ],
   "source": [
    "pd.DataFrame(logit.predict_proba(X), columns=logit.classes_).add_prefix('prob_of_').head(5)"
   ]
  },
  {
   "cell_type": "markdown",
   "metadata": {},
   "source": [
    "Lastly, note that `predict_log_proba(X)` is _not_ a log odds; it is a log of probability:"
   ]
  },
  {
   "cell_type": "code",
   "execution_count": 20,
   "metadata": {
    "scrolled": true
   },
   "outputs": [
    {
     "data": {
      "text/plain": [
       "False"
      ]
     },
     "execution_count": 20,
     "metadata": {},
     "output_type": "execute_result"
    }
   ],
   "source": [
    "np.allclose(log_odds, logit.predict_log_proba(X)[:, 1])"
   ]
  }
 ],
 "metadata": {
  "kernelspec": {
   "display_name": "Python 3",
   "language": "python",
   "name": "python3"
  },
  "language_info": {
   "codemirror_mode": {
    "name": "ipython",
    "version": 3
   },
   "file_extension": ".py",
   "mimetype": "text/x-python",
   "name": "python",
   "nbconvert_exporter": "python",
   "pygments_lexer": "ipython3",
   "version": "3.6.3"
  }
 },
 "nbformat": 4,
 "nbformat_minor": 2
}
