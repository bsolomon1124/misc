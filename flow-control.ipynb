{
 "cells": [
  {
   "cell_type": "markdown",
   "metadata": {},
   "source": [
    "# Covered here"
   ]
  },
  {
   "cell_type": "markdown",
   "metadata": {},
   "source": [
    "- [Flow control keywords](#Flow-control-keywords)\n",
    "    - [`if`](#if)\n",
    "    - [`else` & `elif`](#else-and-elif)\n",
    "    - [`for`](#for)\n",
    "        - [Scope with `for` loops](#Scope-with-for-loops)\n",
    "    - [`while`](#while)\n",
    "        - [Using `while True`](#Using-while-True)\n",
    "        - [Using `else` after `for` or `while`](#Using-else-after-for-&-while)\n",
    "    - [`pass`](#pass)\n",
    "    - [`break` & `continue`](#break-and-continue)\n",
    "    - [`try`, `except`, & `finally`](#try,-except,-and-finally)\n",
    "- [Iterators & generators](#Iterators-&-generators)\n",
    "- [Combinatoric generators](#Combinatoric-generators)"
   ]
  },
  {
   "cell_type": "markdown",
   "metadata": {},
   "source": [
    "# Resources & references"
   ]
  },
  {
   "cell_type": "markdown",
   "metadata": {},
   "source": [
    "* Docs: [More Flow Control Tools](https://docs.python.org/3.6/tutorial/controlflow.html)\n",
    "* Dan Bader: \n",
    "    * [Python Iterators: A Step-By-Step Introduction](https://dbader.org/blog/python-iterators)\n",
    "    * [What Are Python Generators?](https://dbader.org/blog/python-generators)\n",
    "* From the SciPy Lecture Notes: [Advanced Python Constructs](http://www.scipy-lectures.org/advanced/advanced_python/index.html)\n",
    "* Diagrams here grabbed from [tutorialspoint.com](https://www.tutorialspoint.com/python/python_loops.htm)"
   ]
  },
  {
   "cell_type": "markdown",
   "metadata": {},
   "source": [
    "# Flow control keywords"
   ]
  },
  {
   "cell_type": "markdown",
   "metadata": {},
   "source": [
    "## `if`"
   ]
  },
  {
   "cell_type": "markdown",
   "metadata": {},
   "source": [
    "`if` - used for **conditional execution**."
   ]
  },
  {
   "cell_type": "code",
   "execution_count": 1,
   "metadata": {
    "scrolled": true
   },
   "outputs": [
    {
     "name": "stdout",
     "output_type": "stream",
     "text": [
      "it is\n"
     ]
    }
   ],
   "source": [
    "x = 1\n",
    "if x > 0:\n",
    "    print('it is')"
   ]
  },
  {
   "cell_type": "markdown",
   "metadata": {},
   "source": [
    "![](../imgs/if.png)"
   ]
  },
  {
   "cell_type": "markdown",
   "metadata": {},
   "source": [
    "## `else` and `elif`"
   ]
  },
  {
   "cell_type": "markdown",
   "metadata": {},
   "source": [
    "`else` - an optional statement indicating the execution when the `if` statement above is `False`.\n",
    "\n",
    "![](../imgs/else.png)\n",
    "\n",
    "`elif` (else if) - an “else if” statement that always follows an `if` or another `elif` statement.  It provides another condition that is checked only if all of the previous conditions were False.  The difference with `else` is that **there can be an arbitrary number of elif statements following an if.**\n",
    "* There can be **zero of more** `elifs`.\n",
    "* There can be **zero or one** `elses`."
   ]
  },
  {
   "cell_type": "code",
   "execution_count": 3,
   "metadata": {},
   "outputs": [
    {
     "name": "stdout",
     "output_type": "stream",
     "text": [
      "must be > 0\n"
     ]
    }
   ],
   "source": [
    "x = 1\n",
    "if x < 0:\n",
    "    print('it is <0')\n",
    "elif x == 0:\n",
    "    print('it is 0')\n",
    "elif not isinstance(x, int):\n",
    "    print('it is not an integer')\n",
    "else:\n",
    "    print('must be > 0')"
   ]
  },
  {
   "cell_type": "markdown",
   "metadata": {},
   "source": [
    "Another subtle difference - input checking.  Assume you want to be sure that a parameter matches one of two strings:"
   ]
  },
  {
   "cell_type": "code",
   "execution_count": 2,
   "metadata": {
    "collapsed": true
   },
   "outputs": [],
   "source": [
    "def foo(a='one'):\n",
    "    \"\"\"`a`: should be one of ('one', 'two')\"\"\"\n",
    "    if a == 'one':\n",
    "        pass\n",
    "    elif a == 'two':  # Just `else` would assume a is 'two'\n",
    "        pass\n",
    "    else:\n",
    "        return ValueError(\"`a` must be in ('one', 'two')\")"
   ]
  },
  {
   "cell_type": "markdown",
   "metadata": {},
   "source": [
    "## `for`"
   ]
  },
  {
   "cell_type": "markdown",
   "metadata": {},
   "source": [
    "`for` - iterates over the items of any sequence (a list or a string), in the order that they appear in the sequence."
   ]
  },
  {
   "cell_type": "markdown",
   "metadata": {},
   "source": [
    "![](../imgs/for.png)"
   ]
  },
  {
   "cell_type": "markdown",
   "metadata": {},
   "source": [
    "![for-loop](https://www.tutorialspoint.com/python/images/python_for_loop.jpg)"
   ]
  },
  {
   "cell_type": "code",
   "execution_count": 8,
   "metadata": {},
   "outputs": [
    {
     "name": "stdout",
     "output_type": "stream",
     "text": [
      "cat; length = 3\n",
      "window; length = 6\n",
      "defenestrate; length = 12\n"
     ]
    }
   ],
   "source": [
    "words = ['cat', 'window', 'defenestrate']\n",
    "for w in words:\n",
    "    print(w, '; length = ', len(w), sep='')"
   ]
  },
  {
   "cell_type": "markdown",
   "metadata": {},
   "source": [
    "**If you need to modify the sequence you are iterating over while inside the loop (for example to duplicate selected items), it is recommended that you first make a copy.** Iterating over a sequence does not implicitly make a copy. The slice notation makes this especially convenient:"
   ]
  },
  {
   "cell_type": "code",
   "execution_count": 10,
   "metadata": {},
   "outputs": [
    {
     "name": "stdout",
     "output_type": "stream",
     "text": [
      "['exclamatory', 'brad', 'window', 'exclamatory']\n"
     ]
    }
   ],
   "source": [
    "words = ['brad', 'window', 'exclamatory']\n",
    "for w in words[:]:   # much better than `for w in words`\n",
    "    if len(w) > 6:\n",
    "        words.insert(0, w)\n",
    "print(words)"
   ]
  },
  {
   "cell_type": "markdown",
   "metadata": {},
   "source": [
    "With `for w in words:`, the example would attempt to create an infinite list, inserting `exclamatory` over and over again."
   ]
  },
  {
   "cell_type": "markdown",
   "metadata": {},
   "source": [
    "Note that **`itertools.repeat` will be faster than for loops** where you don't actually need to reference the loop target:"
   ]
  },
  {
   "cell_type": "code",
   "execution_count": 13,
   "metadata": {},
   "outputs": [
    {
     "name": "stdout",
     "output_type": "stream",
     "text": [
      "True\n",
      "True\n",
      "True\n",
      "True\n",
      "True\n"
     ]
    }
   ],
   "source": [
    "import itertools\n",
    "for _ in itertools.repeat(None, times=5):\n",
    "    print(True)  # Or repeat some other func"
   ]
  },
  {
   "cell_type": "markdown",
   "metadata": {},
   "source": [
    "### Scope with `for` loops"
   ]
  },
  {
   "cell_type": "markdown",
   "metadata": {},
   "source": [
    "Names defined as loop targets *do* leaking into the enclosing function scope, a behavior that might be unexpected:"
   ]
  },
  {
   "cell_type": "code",
   "execution_count": 1,
   "metadata": {},
   "outputs": [
    {
     "name": "stdout",
     "output_type": "stream",
     "text": [
      "4\n",
      "4\n"
     ]
    }
   ],
   "source": [
    "i = 0\n",
    "for i in range(5):  # `i` is mutated\n",
    "    pass\n",
    "print(i)\n",
    "\n",
    "for j in range(5):  # same thing, but `j` wasn't defined outside of loop\n",
    "    pass\n",
    "print(j)"
   ]
  },
  {
   "cell_type": "markdown",
   "metadata": {},
   "source": [
    "In other words: with `for i in obj`, **`i` is actually defined and initialized to the current element of the loop iteration, each time the loop is run.**"
   ]
  },
  {
   "cell_type": "markdown",
   "metadata": {},
   "source": [
    "More on that here:\n",
    "* Eli Bendersky: [The scope of index variables in Python's for loops](https://eli.thegreenplace.net/2015/the-scope-of-index-variables-in-pythons-for-loops/)\n",
    "* Python Notes: [Else Clauses on Loop Statements](http://python-notes.curiousefficiency.org/en/latest/python_concepts/break_else.html)"
   ]
  },
  {
   "cell_type": "markdown",
   "metadata": {},
   "source": [
    "## `while`"
   ]
  },
  {
   "cell_type": "markdown",
   "metadata": {
    "collapsed": true
   },
   "source": [
    "`while` - similar to `if`, but **executes as long as the condition remains `True`**."
   ]
  },
  {
   "cell_type": "markdown",
   "metadata": {},
   "source": [
    "![while-loop](https://www.tutorialspoint.com/python/images/python_while_loop.jpg)"
   ]
  },
  {
   "cell_type": "code",
   "execution_count": 9,
   "metadata": {
    "scrolled": true
   },
   "outputs": [
    {
     "name": "stdout",
     "output_type": "stream",
     "text": [
      "1\n",
      "1\n",
      "2\n",
      "3\n",
      "5\n",
      "8\n"
     ]
    }
   ],
   "source": [
    "# First few numbers of the Fibonacci series\n",
    "a, b = 0, 1\n",
    "while b < 10:\n",
    "    print(b)\n",
    "    a, b = b, a+b"
   ]
  },
  {
   "cell_type": "markdown",
   "metadata": {},
   "source": [
    "![](../imgs/while.png)"
   ]
  },
  {
   "cell_type": "markdown",
   "metadata": {},
   "source": [
    "A nested `while` loop to find primes from 2 to 99:"
   ]
  },
  {
   "cell_type": "code",
   "execution_count": 8,
   "metadata": {},
   "outputs": [
    {
     "name": "stdout",
     "output_type": "stream",
     "text": [
      "2 is prime.\n",
      "3 is prime.\n",
      "5 is prime.\n",
      "7 is prime.\n",
      "11 is prime.\n",
      "13 is prime.\n",
      "17 is prime.\n",
      "19 is prime.\n",
      "23 is prime.\n",
      "29 is prime.\n",
      "31 is prime.\n",
      "37 is prime.\n",
      "41 is prime.\n",
      "43 is prime.\n",
      "47 is prime.\n",
      "53 is prime.\n",
      "59 is prime.\n",
      "61 is prime.\n",
      "67 is prime.\n",
      "71 is prime.\n",
      "73 is prime.\n",
      "79 is prime.\n",
      "83 is prime.\n",
      "89 is prime.\n",
      "97 is prime.\n"
     ]
    }
   ],
   "source": [
    "i = 2\n",
    "while(i < 100):\n",
    "    j = 2\n",
    "    while j <= (i / j):\n",
    "        if not(i % j): \n",
    "            break\n",
    "        j += 1\n",
    "    if (j > i / j): \n",
    "        print(i, 'is prime.')\n",
    "    i += 1"
   ]
  },
  {
   "cell_type": "markdown",
   "metadata": {},
   "source": [
    "### Using `while True`"
   ]
  },
  {
   "cell_type": "markdown",
   "metadata": {},
   "source": [
    "Here's the roughly-equivalent Python formulation of `itertools.count`, which returns an infinite sequence iterator:"
   ]
  },
  {
   "cell_type": "code",
   "execution_count": 11,
   "metadata": {
    "collapsed": true
   },
   "outputs": [],
   "source": [
    "def count(start=0, step=1):\n",
    "    # count(10) --> 10 11 12 13 14 ...\n",
    "    # count(2.5, 0.5) -> 2.5 3.0 3.5 ...\n",
    "    n = start\n",
    "    while True:\n",
    "        yield n\n",
    "        n += step"
   ]
  },
  {
   "cell_type": "markdown",
   "metadata": {},
   "source": [
    "### Using `else` after `for` & `while`"
   ]
  },
  {
   "cell_type": "markdown",
   "metadata": {},
   "source": [
    "A bit unintuitively, `else` can be used directly after a `for` statement with no accompanying `if`:"
   ]
  },
  {
   "cell_type": "code",
   "execution_count": 5,
   "metadata": {},
   "outputs": [
    {
     "name": "stdout",
     "output_type": "stream",
     "text": [
      "Then\n",
      "Else\n"
     ]
    }
   ],
   "source": [
    "# Example 1\n",
    "for x in [1]:\n",
    "    print(\"Then\")\n",
    "else:\n",
    "    # Will be triggered even though `x` is Truthy\n",
    "    print(\"Else\")"
   ]
  },
  {
   "cell_type": "code",
   "execution_count": 7,
   "metadata": {},
   "outputs": [
    {
     "name": "stdout",
     "output_type": "stream",
     "text": [
      "10 equals 2 * 5.\n",
      "11 is a prime number.\n",
      "12 equals 2 * 6.\n",
      "13 is a prime number.\n",
      "14 equals 2 * 7.\n",
      "15 equals 3 * 5.\n",
      "16 equals 2 * 8.\n",
      "17 is a prime number.\n",
      "18 equals 2 * 9.\n",
      "19 is a prime number.\n"
     ]
    }
   ],
   "source": [
    "# Example 2\n",
    "for num in range(10 ,20):\n",
    "   for i in range(2, num):\n",
    "      if num % i == 0:\n",
    "         j = num / i\n",
    "         print('%d equals %d * %d.' % (num, i, j))\n",
    "         break\n",
    "   else:\n",
    "      print(num, 'is a prime number.')"
   ]
  },
  {
   "cell_type": "code",
   "execution_count": 4,
   "metadata": {},
   "outputs": [
    {
     "name": "stdout",
     "output_type": "stream",
     "text": [
      "Then\n",
      "Else\n",
      "[]\n"
     ]
    }
   ],
   "source": [
    "x = [1]\n",
    "while x:\n",
    "    print(\"Then\")\n",
    "    x.pop()\n",
    "else:\n",
    "    print('Else')\n",
    "print(x)"
   ]
  },
  {
   "cell_type": "markdown",
   "metadata": {},
   "source": [
    "Further reading:\n",
    "* [The Forgotten Optional Else](https://shahriar.svbtle.com/pythons-else-clause-in-loops)\n",
    "* Stack Overflow: [Why does python use 'else' after for and while loops?](https://stackoverflow.com/questions/9979970/why-does-python-use-else-after-for-and-while-loops)"
   ]
  },
  {
   "cell_type": "markdown",
   "metadata": {},
   "source": [
    "## `pass`"
   ]
  },
  {
   "cell_type": "markdown",
   "metadata": {},
   "source": [
    "`pass` does nothing. It can be **used when a statement is required syntactically but the program requires no action**. For example:"
   ]
  },
  {
   "cell_type": "code",
   "execution_count": null,
   "metadata": {
    "collapsed": true
   },
   "outputs": [],
   "source": [
    "while True:  \n",
    "    pass # Busy-wait for keyboard interrupt (Ctrl+C)"
   ]
  },
  {
   "cell_type": "code",
   "execution_count": null,
   "metadata": {
    "collapsed": true
   },
   "outputs": [],
   "source": [
    "class MyEmptyClass:\n",
    "    pass"
   ]
  },
  {
   "cell_type": "code",
   "execution_count": 12,
   "metadata": {
    "collapsed": true
   },
   "outputs": [],
   "source": [
    "def initlog(*args):\n",
    "    pass   # TODO - \"remember to implement this\""
   ]
  },
  {
   "cell_type": "code",
   "execution_count": 1,
   "metadata": {
    "scrolled": true
   },
   "outputs": [
    {
     "name": "stdout",
     "output_type": "stream",
     "text": [
      "pos\n"
     ]
    }
   ],
   "source": [
    "x = 250\n",
    "if x < 0:\n",
    "    print('neg')\n",
    "elif x==0:\n",
    "    pass\n",
    "else:\n",
    "    print('pos')"
   ]
  },
  {
   "cell_type": "markdown",
   "metadata": {},
   "source": [
    "## `break` and `continue`"
   ]
  },
  {
   "cell_type": "markdown",
   "metadata": {},
   "source": [
    "`break` - **terminates (breaks out of) the _nearest enclosing `for` or `while` loop_.**\n",
    "* Occurs syntactically nested in a `for` or `while` loop.\n",
    "* Continuing the above examples on [using `else` after `for` and `while`](#Using-else-after-for-&-while), incorporating `break ` will **skip** the optional `else` clause if the loop has one.\n",
    "\n",
    "![break](https://www.tutorialspoint.com/python/images/cpp_break_statement.jpg)"
   ]
  },
  {
   "cell_type": "code",
   "execution_count": 4,
   "metadata": {},
   "outputs": [
    {
     "name": "stdout",
     "output_type": "stream",
     "text": [
      "2 is a prime number\n",
      "3 is a prime number\n",
      "4 equals 2 * 2\n",
      "5 is a prime number\n",
      "6 equals 2 * 3\n",
      "7 is a prime number\n",
      "8 equals 2 * 4\n",
      "9 equals 3 * 3\n"
     ]
    }
   ],
   "source": [
    "for n in range(2, 10):\n",
    "    for x in range(2, n):\n",
    "        if n % x == 0:\n",
    "            print(n, 'equals', x, '*', n//x)\n",
    "            break\n",
    "    else:\n",
    "        # loop fell through without finding a factor\n",
    "        print(n, 'is a prime number')"
   ]
  },
  {
   "cell_type": "markdown",
   "metadata": {},
   "source": [
    "The above without `break` will find multiple factor combinations of non-primes:"
   ]
  },
  {
   "cell_type": "code",
   "execution_count": 3,
   "metadata": {},
   "outputs": [
    {
     "name": "stdout",
     "output_type": "stream",
     "text": [
      "2 is a prime number\n",
      "3 is a prime number\n",
      "4 equals 2 * 2\n",
      "4 is a prime number\n",
      "5 is a prime number\n",
      "6 equals 2 * 3\n",
      "6 equals 3 * 2\n",
      "6 is a prime number\n",
      "7 is a prime number\n",
      "8 equals 2 * 4\n",
      "8 equals 4 * 2\n",
      "8 is a prime number\n",
      "9 equals 3 * 3\n",
      "9 is a prime number\n"
     ]
    }
   ],
   "source": [
    "for n in range(2, 10):\n",
    "    for x in range(2, n):\n",
    "        if n % x == 0:\n",
    "            print(n, 'equals', x, '*', n//x)\n",
    "            # break\n",
    "    else:\n",
    "        # loop fell through without finding a factor\n",
    "        print(n, 'is a prime number')"
   ]
  },
  {
   "cell_type": "markdown",
   "metadata": {},
   "source": [
    "`continue` - continues with the **next iteration of the loop.** \n",
    "* Essentially the opposite of `break`.\n",
    "\n",
    "![continue](https://www.tutorialspoint.com/python/images/cpp_continue_statement.jpg)"
   ]
  },
  {
   "cell_type": "code",
   "execution_count": 6,
   "metadata": {},
   "outputs": [
    {
     "name": "stdout",
     "output_type": "stream",
     "text": [
      "Found an even number 2\n",
      "Found a number 3\n",
      "Found an even number 4\n",
      "Found a number 5\n",
      "Found an even number 6\n",
      "Found a number 7\n",
      "Found an even number 8\n",
      "Found a number 9\n"
     ]
    }
   ],
   "source": [
    "for num in range(2, 10):\n",
    "    if num % 2 == 0:\n",
    "        print(\"Found an even number\", num)\n",
    "        continue # if True, skips next print statement below and incremements to next `num`\n",
    "    print(\"Found a number\", num)"
   ]
  },
  {
   "cell_type": "code",
   "execution_count": 8,
   "metadata": {},
   "outputs": [
    {
     "name": "stdout",
     "output_type": "stream",
     "text": [
      "1.0\n",
      "0.5\n",
      "0.25\n"
     ]
    }
   ],
   "source": [
    "a = [1, 0, 2, 0, 4]\n",
    "for element in a:\n",
    "    if element == 0:\n",
    "        continue # if condition True, will skip print and start next loop\n",
    "    # Effectively an `else`\n",
    "    print(1 / element)"
   ]
  },
  {
   "cell_type": "code",
   "execution_count": 9,
   "metadata": {},
   "outputs": [
    {
     "name": "stdout",
     "output_type": "stream",
     "text": [
      "1.0\n",
      "0.5\n",
      "0.25\n"
     ]
    }
   ],
   "source": [
    "for element in a:\n",
    "    if element == 0:\n",
    "        pass\n",
    "    else:\n",
    "        print(1 / element)"
   ]
  },
  {
   "cell_type": "markdown",
   "metadata": {},
   "source": [
    "![](../imgs/cpp_continue_statement.jpg)"
   ]
  },
  {
   "cell_type": "markdown",
   "metadata": {},
   "source": [
    "## `try`, `except`, and `finally`"
   ]
  },
  {
   "cell_type": "markdown",
   "metadata": {},
   "source": [
    "- `try` - specifies exception handlers and/or cleanup code for a group of statements.\n",
    "- `except` - specifies one or more exception handlers.\n",
    "- `finally` - specifies a ‘cleanup’ handler.  Code is run no matter what else happens.\n",
    "\n",
    "See more in the Exception Handling guide."
   ]
  },
  {
   "cell_type": "code",
   "execution_count": 12,
   "metadata": {},
   "outputs": [
    {
     "name": "stdout",
     "output_type": "stream",
     "text": [
      "0.0\n",
      "finally, a statement\n"
     ]
    }
   ],
   "source": [
    "def f(x):\n",
    "    try:\n",
    "        print(0/1)\n",
    "    except TypeError:\n",
    "        run_code2()\n",
    "        return None   # The finally block is run before the method returns\n",
    "    finally:\n",
    "        print('finally, a statement')\n",
    "f(1)"
   ]
  },
  {
   "cell_type": "code",
   "execution_count": 14,
   "metadata": {
    "collapsed": true
   },
   "outputs": [],
   "source": [
    "# Compare to the above\n",
    "def g(x):\n",
    "    try:\n",
    "        print(0/1)\n",
    "    except TypeError:\n",
    "        run_code2()\n",
    "        return None   \n",
    "    other_code()  # This doesn't get run if there's an exception."
   ]
  },
  {
   "cell_type": "markdown",
   "metadata": {},
   "source": [
    "In the code below:\n",
    "* `else` specifies code that should be executed only if an exception does **not** occur\n",
    "* `finally` specifies code that should be executed **regardless** of whether or not an exception has occured"
   ]
  },
  {
   "cell_type": "code",
   "execution_count": 1,
   "metadata": {
    "collapsed": true
   },
   "outputs": [],
   "source": [
    "import random\n",
    "some_exceptions = [ValueError, TypeError, IndexError, None]\n",
    "\n",
    "def random_error():\n",
    "    try:\n",
    "        choice = random.choice(some_exceptions)\n",
    "        print(\"raising {}\".format(choice))\n",
    "        if choice:\n",
    "            # i.e. if choice is not None\n",
    "            raise choice(\"An error\")\n",
    "\n",
    "    except ValueError:\n",
    "        print(\"Caught a ValueError\")\n",
    "    except TypeError:\n",
    "        print(\"Caught a TypeError\")\n",
    "    except Exception as e:\n",
    "        print(\"Caught some other error: %s\" % ( e.__class__.__name__))\n",
    "\n",
    "    else:\n",
    "        print(\"This code called if there is no exception\")\n",
    "    finally:\n",
    "        print(\"This cleanup code is always called\")"
   ]
  },
  {
   "cell_type": "code",
   "execution_count": 3,
   "metadata": {},
   "outputs": [
    {
     "name": "stdout",
     "output_type": "stream",
     "text": [
      "raising <class 'ValueError'>\n",
      "Caught a ValueError\n",
      "This cleanup code is always called\n"
     ]
    }
   ],
   "source": [
    "random_error()"
   ]
  },
  {
   "cell_type": "code",
   "execution_count": 5,
   "metadata": {},
   "outputs": [
    {
     "name": "stdout",
     "output_type": "stream",
     "text": [
      "raising None\n",
      "This code called if there is no exception\n",
      "This cleanup code is always called\n"
     ]
    }
   ],
   "source": [
    "random_error()"
   ]
  },
  {
   "cell_type": "code",
   "execution_count": 6,
   "metadata": {},
   "outputs": [
    {
     "name": "stdout",
     "output_type": "stream",
     "text": [
      "raising None\n",
      "This code called if there is no exception\n",
      "This cleanup code is always called\n"
     ]
    }
   ],
   "source": [
    "random_error()"
   ]
  },
  {
   "cell_type": "code",
   "execution_count": 7,
   "metadata": {
    "scrolled": true
   },
   "outputs": [
    {
     "name": "stdout",
     "output_type": "stream",
     "text": [
      "raising <class 'TypeError'>\n",
      "Caught a TypeError\n",
      "This cleanup code is always called\n"
     ]
    }
   ],
   "source": [
    "random_error()"
   ]
  },
  {
   "cell_type": "markdown",
   "metadata": {},
   "source": [
    "# Iterators & generators"
   ]
  },
  {
   "cell_type": "markdown",
   "metadata": {},
   "source": [
    "> TODO: these are included here because they are often used in Python loops.  However, they might also belong in the \"Data Structures\" notebook."
   ]
  },
  {
   "cell_type": "markdown",
   "metadata": {},
   "source": [
    "**Formal definition**: An iterator is an object adhering to the [iterator protocol](https://docs.python.org/dev/library/stdtypes.html#iterator-types) — basically this means that:\n",
    "1. it has a `__next__()` method, which, when called, returns the next item in the sequence, \n",
    "2. and when there’s nothing to return, raises the `StopIteration` exception.\n",
    "\n",
    "A Python object is _iterable_ if it is _suitable as a target_ for functions and constructs that _expect something from which they can obtain successive items until the supply is exhausted_. \n",
    "\n",
    "From the docs:\n",
    "\n",
    "> _Python supports a concept of iteration over containers. ... One method needs to be defined for container objects to provide iteration support: `container.__iter__()` returns an iterator object, and the object is required to support the **iterator protocol**_.\n",
    "> \n",
    "> ...\n",
    "> \n",
    "> _The iterator objects themselves are required to support the following two methods, which together form the iterator protocol:_\n",
    "> * `iterator.__iter__()`\n",
    "> * `iterator.__next__()`\n",
    "\n",
    "There are 3 ways to create iterator objects:\n",
    "1. Calling the `__iter__` method on a container (or using the built-in `iter` function)\n",
    "2. Use generator expressions\n",
    "3. Calling a generator function"
   ]
  },
  {
   "cell_type": "markdown",
   "metadata": {},
   "source": [
    "## Method 1: `iter()` / `__iter__()`"
   ]
  },
  {
   "cell_type": "markdown",
   "metadata": {},
   "source": [
    "The built-in [`iter()`](https://docs.python.org/3/library/functions.html#iter) function is equivalent to calling the `__iter__()` method on a container to create an iterator object:"
   ]
  },
  {
   "cell_type": "code",
   "execution_count": 33,
   "metadata": {},
   "outputs": [
    {
     "name": "stdout",
     "output_type": "stream",
     "text": [
      "<list_iterator object at 0x1a121f60f0>\n",
      "<class 'list_iterator'>\n"
     ]
    }
   ],
   "source": [
    "nums = [1, 2, 3]\n",
    "it = iter(nums)\n",
    "print(it)\n",
    "print(type(it))"
   ]
  },
  {
   "cell_type": "code",
   "execution_count": 34,
   "metadata": {},
   "outputs": [
    {
     "name": "stdout",
     "output_type": "stream",
     "text": [
      "<list_iterator object at 0x1a121f6550>\n"
     ]
    }
   ],
   "source": [
    "print(nums.__iter__())"
   ]
  },
  {
   "cell_type": "code",
   "execution_count": 35,
   "metadata": {},
   "outputs": [
    {
     "name": "stdout",
     "output_type": "stream",
     "text": [
      "1 2 3\n"
     ]
    }
   ],
   "source": [
    "print(next(it), next(it), next(it))  # or: it.__next__()"
   ]
  },
  {
   "cell_type": "code",
   "execution_count": 36,
   "metadata": {},
   "outputs": [
    {
     "ename": "StopIteration",
     "evalue": "",
     "output_type": "error",
     "traceback": [
      "\u001b[0;31m---------------------------------------------------------------------------\u001b[0m",
      "\u001b[0;31mStopIteration\u001b[0m                             Traceback (most recent call last)",
      "\u001b[0;32m<ipython-input-36-2cdb14c0d4d6>\u001b[0m in \u001b[0;36m<module>\u001b[0;34m()\u001b[0m\n\u001b[0;32m----> 1\u001b[0;31m \u001b[0mnext\u001b[0m\u001b[0;34m(\u001b[0m\u001b[0mit\u001b[0m\u001b[0;34m)\u001b[0m\u001b[0;34m\u001b[0m\u001b[0m\n\u001b[0m",
      "\u001b[0;31mStopIteration\u001b[0m: "
     ]
    }
   ],
   "source": [
    "next(it)"
   ]
  },
  {
   "cell_type": "markdown",
   "metadata": {},
   "source": [
    "When used in a loop, `StopIteration` is swallowed and causes the loop to finish. But with explicit invocation, we can see that once the iterator is exhausted, accessing it raises an exception.\n",
    "\n",
    "Using the `for..in` loop also uses the `__iter__` method. This allows us to transparently start the iteration over a sequence. But if we already have the iterator, we want to be able to use it in an for loop in the same way. In order to achieve this, iterators in addition to `next` are also required to have a method called `__iter__` which returns the iterator (`self`).\n",
    "\n",
    "Hence an _iterable_ object is an object capable of being _iterated over_.  Support for iteration is pervasive in Python: all sequences and unordered containers in the standard library allow this."
   ]
  },
  {
   "cell_type": "code",
   "execution_count": 30,
   "metadata": {
    "collapsed": true
   },
   "outputs": [],
   "source": [
    "def isiterable(obj):\n",
    "    \"\"\"Bool test: is `obj` iterable?\"\"\"\n",
    "    try:\n",
    "        obj.__iter__()\n",
    "        return True\n",
    "    except AttributeError:\n",
    "        return False"
   ]
  },
  {
   "cell_type": "code",
   "execution_count": 31,
   "metadata": {},
   "outputs": [
    {
     "name": "stdout",
     "output_type": "stream",
     "text": [
      "[True, False]\n"
     ]
    }
   ],
   "source": [
    "a = [1, 2, 3]\n",
    "b = 2\n",
    "\n",
    "# Lists are iterable; ints are not\n",
    "print([isiterable(obj) for obj in [a, b]])"
   ]
  },
  {
   "cell_type": "markdown",
   "metadata": {},
   "source": [
    "## Method 2: generator expressions"
   ]
  },
  {
   "cell_type": "markdown",
   "metadata": {},
   "source": [
    "Generator expressions are the basis for list comprehensions.  \n",
    "\n",
    "If round parentheses are used, then a generator iterator is created:"
   ]
  },
  {
   "cell_type": "code",
   "execution_count": 44,
   "metadata": {},
   "outputs": [
    {
     "name": "stdout",
     "output_type": "stream",
     "text": [
      "<class 'generator'>\n"
     ]
    },
    {
     "data": {
      "text/plain": [
       "<generator object <genexpr> at 0x1a121fc258>"
      ]
     },
     "execution_count": 44,
     "metadata": {},
     "output_type": "execute_result"
    }
   ],
   "source": [
    "print(type((i for i in nums)))\n",
    "(i for i in nums)"
   ]
  },
  {
   "cell_type": "markdown",
   "metadata": {},
   "source": [
    "If rectangular parentheses are used, the process is short-circuited and we get a `list`:"
   ]
  },
  {
   "cell_type": "code",
   "execution_count": 45,
   "metadata": {},
   "outputs": [
    {
     "data": {
      "text/plain": [
       "[1, 2, 3]"
      ]
     },
     "execution_count": 45,
     "metadata": {},
     "output_type": "execute_result"
    }
   ],
   "source": [
    "[i for i in nums]  # list(i for i in nums) is not really used but would be equiv."
   ]
  },
  {
   "cell_type": "markdown",
   "metadata": {},
   "source": [
    "The list comprehension syntax also extends to dictionary and set comprehensions. A `set` is created when the\n",
    "generator expression is enclosed in curly braces. A `dict` is created when the generator expression contains\n",
    "“pairs” of the form `key:value`:"
   ]
  },
  {
   "cell_type": "code",
   "execution_count": 48,
   "metadata": {},
   "outputs": [
    {
     "data": {
      "text/plain": [
       "{0, 1, 2}"
      ]
     },
     "execution_count": 48,
     "metadata": {},
     "output_type": "execute_result"
    }
   ],
   "source": [
    "a = {i for i in range(3)}; a"
   ]
  },
  {
   "cell_type": "code",
   "execution_count": 49,
   "metadata": {},
   "outputs": [
    {
     "data": {
      "text/plain": [
       "{0: 0, 1: 1, 2: 4}"
      ]
     },
     "execution_count": 49,
     "metadata": {},
     "output_type": "execute_result"
    }
   ],
   "source": [
    "b = {i:i**2 for i in range(3)}; b"
   ]
  },
  {
   "cell_type": "code",
   "execution_count": 50,
   "metadata": {},
   "outputs": [
    {
     "data": {
      "text/plain": [
       "(set, dict)"
      ]
     },
     "execution_count": 50,
     "metadata": {},
     "output_type": "execute_result"
    }
   ],
   "source": [
    "type(a), type(b)"
   ]
  },
  {
   "cell_type": "markdown",
   "metadata": {},
   "source": [
    "## Method 3: generator functions"
   ]
  },
  {
   "cell_type": "markdown",
   "metadata": {},
   "source": [
    "A third way to create iterator objects is to call a generator function. A generator is a function containing the\n",
    "keyword [`yield`](https://docs.python.org/2.7/reference/simple_stmts.html#yield)."
   ]
  },
  {
   "cell_type": "code",
   "execution_count": 51,
   "metadata": {},
   "outputs": [
    {
     "data": {
      "text/plain": [
       "<generator object f at 0x1a121fcbf8>"
      ]
     },
     "execution_count": 51,
     "metadata": {},
     "output_type": "execute_result"
    }
   ],
   "source": [
    "def f():\n",
    "    print(\"-- start --\")\n",
    "    yield 3\n",
    "    print(\"-- middle --\")\n",
    "    yield 4\n",
    "    print(\"-- finished --\")\n",
    "gen = f()\n",
    "f()"
   ]
  },
  {
   "cell_type": "code",
   "execution_count": 52,
   "metadata": {},
   "outputs": [
    {
     "name": "stdout",
     "output_type": "stream",
     "text": [
      "-- start --\n"
     ]
    },
    {
     "data": {
      "text/plain": [
       "3"
      ]
     },
     "execution_count": 52,
     "metadata": {},
     "output_type": "execute_result"
    }
   ],
   "source": [
    "next(gen)"
   ]
  },
  {
   "cell_type": "code",
   "execution_count": 53,
   "metadata": {},
   "outputs": [
    {
     "name": "stdout",
     "output_type": "stream",
     "text": [
      "-- middle --\n"
     ]
    },
    {
     "data": {
      "text/plain": [
       "4"
      ]
     },
     "execution_count": 53,
     "metadata": {},
     "output_type": "execute_result"
    }
   ],
   "source": [
    "next(gen)"
   ]
  },
  {
   "cell_type": "code",
   "execution_count": 54,
   "metadata": {},
   "outputs": [
    {
     "name": "stdout",
     "output_type": "stream",
     "text": [
      "-- finished --\n"
     ]
    },
    {
     "ename": "StopIteration",
     "evalue": "",
     "output_type": "error",
     "traceback": [
      "\u001b[0;31m---------------------------------------------------------------------------\u001b[0m",
      "\u001b[0;31mStopIteration\u001b[0m                             Traceback (most recent call last)",
      "\u001b[0;32m<ipython-input-54-8a6233884a6c>\u001b[0m in \u001b[0;36m<module>\u001b[0;34m()\u001b[0m\n\u001b[0;32m----> 1\u001b[0;31m \u001b[0mnext\u001b[0m\u001b[0;34m(\u001b[0m\u001b[0mgen\u001b[0m\u001b[0;34m)\u001b[0m\u001b[0;34m\u001b[0m\u001b[0m\n\u001b[0m",
      "\u001b[0;31mStopIteration\u001b[0m: "
     ]
    }
   ],
   "source": [
    "next(gen)"
   ]
  },
  {
   "cell_type": "markdown",
   "metadata": {},
   "source": [
    "# Combinatoric generators"
   ]
  },
  {
   "cell_type": "markdown",
   "metadata": {},
   "source": [
    "This section builds combinatoric generators with the [itertools](https://docs.python.org/3.5/library/itertools.html) module.  There are four functions of interest:"
   ]
  },
  {
   "cell_type": "code",
   "execution_count": 2,
   "metadata": {
    "collapsed": true
   },
   "outputs": [],
   "source": [
    "from itertools import (product,\n",
    "                       permutations,\n",
    "                       combinations,\n",
    "                       combinations_with_replacement)"
   ]
  },
  {
   "cell_type": "markdown",
   "metadata": {},
   "source": [
    "| Function | Use |\n",
    "| -------- | :-- |\n",
    "| `product(*iterables, repeat=1)` | Cartesian product of `iterables`, roughly equivalent to a nested for-loop. |\n",
    "| `permutations(iterable, r=None)` | Return successive `r`-length permutations of elements in the `iterable`. |\n",
    "| `combinations(iterable, r)` | Return `r`-length subsequences of elements from the input `iterable`. |\n",
    "| `combinations_with_replacement(iterable, r)` | Return `r`-length subsequences of elements from the input `iterable` allowing individual elements to be repeated more than once. |"
   ]
  },
  {
   "cell_type": "markdown",
   "metadata": {},
   "source": [
    "## `product`"
   ]
  },
  {
   "cell_type": "markdown",
   "metadata": {},
   "source": [
    "`product` returns a cartesian product:\n",
    "![](../imgs/cartesian.png)"
   ]
  },
  {
   "cell_type": "code",
   "execution_count": 4,
   "metadata": {},
   "outputs": [
    {
     "data": {
      "text/plain": [
       "[('x', 1),\n",
       " ('x', 2),\n",
       " ('x', 3),\n",
       " ('y', 1),\n",
       " ('y', 2),\n",
       " ('y', 3),\n",
       " ('z', 1),\n",
       " ('z', 2),\n",
       " ('z', 3)]"
      ]
     },
     "execution_count": 4,
     "metadata": {},
     "output_type": "execute_result"
    }
   ],
   "source": [
    "a = 'xyz'\n",
    "b = [1, 2, 3]\n",
    "list(product(a, b))"
   ]
  },
  {
   "cell_type": "markdown",
   "metadata": {},
   "source": [
    "`product` has two arguments:\n",
    "* `*iterables` - positional arguments\n",
    "* `repeat` (default 1) - repeats `iterables`, best demonstrated through example below:"
   ]
  },
  {
   "cell_type": "code",
   "execution_count": 5,
   "metadata": {},
   "outputs": [
    {
     "data": {
      "text/plain": [
       "[('x', 1, 'x', 1),\n",
       " ('x', 1, 'x', 2),\n",
       " ('x', 1, 'x', 3),\n",
       " ('x', 1, 'y', 1),\n",
       " ('x', 1, 'y', 2),\n",
       " ('x', 1, 'y', 3),\n",
       " ('x', 1, 'z', 1),\n",
       " ('x', 1, 'z', 2),\n",
       " ('x', 1, 'z', 3),\n",
       " ('x', 2, 'x', 1),\n",
       " ('x', 2, 'x', 2),\n",
       " ('x', 2, 'x', 3),\n",
       " ('x', 2, 'y', 1),\n",
       " ('x', 2, 'y', 2),\n",
       " ('x', 2, 'y', 3)]"
      ]
     },
     "execution_count": 5,
     "metadata": {},
     "output_type": "execute_result"
    }
   ],
   "source": [
    "list(product(a, b, repeat=2))[:15]"
   ]
  },
  {
   "cell_type": "code",
   "execution_count": 7,
   "metadata": {},
   "outputs": [
    {
     "data": {
      "text/plain": [
       "True"
      ]
     },
     "execution_count": 7,
     "metadata": {},
     "output_type": "execute_result"
    }
   ],
   "source": [
    "list(product(a, b, a, b, repeat=1)) == list(product(a, b, repeat=2))"
   ]
  },
  {
   "cell_type": "markdown",
   "metadata": {},
   "source": [
    "One more example:"
   ]
  },
  {
   "cell_type": "code",
   "execution_count": 5,
   "metadata": {},
   "outputs": [
    {
     "data": {
      "text/plain": [
       "[(0, 'a'),\n",
       " (0, 'b'),\n",
       " (0, 'c'),\n",
       " (0, 'd'),\n",
       " (1, 'a'),\n",
       " (1, 'b'),\n",
       " (1, 'c'),\n",
       " (1, 'd'),\n",
       " (2, 'a'),\n",
       " (2, 'b'),\n",
       " (2, 'c'),\n",
       " (2, 'd'),\n",
       " (3, 'a'),\n",
       " (3, 'b'),\n",
       " (3, 'c'),\n",
       " (3, 'd')]"
      ]
     },
     "execution_count": 5,
     "metadata": {},
     "output_type": "execute_result"
    }
   ],
   "source": [
    "list(product(*zip(*dict(enumerate('abcd')).items())))\n",
    "# Or: a, b, c, d = dict(enumerate(list('abcd'))).items()\n",
    "# --> list(itertools.product(*zip(a, b, c, d)))"
   ]
  },
  {
   "cell_type": "markdown",
   "metadata": {},
   "source": [
    "## `combinations` and `permutations`"
   ]
  },
  {
   "cell_type": "markdown",
   "metadata": {},
   "source": [
    "`product()` is best for operating on multiple iterables and creates an interaction between them.  (Although it can also operate on a single iterable.)  `combinations()` and `permutations()` **operate on a single iterable** and extract varieties between the elements of that iterable.\n",
    "\n",
    "Refresher: [Easy Permutations and Combinations](https://betterexplained.com/articles/easy-permutations-and-combinations/).\n",
    "* Permutation: order matters.  \"All possible ways.\"  ('x', 'y') is different from ('y', 'x') and both will be included in the result set.\n",
    " * You have _n_ items and want to find the number of ways _k_ items can be ordered\n",
    " \n",
    "<center>$P(n,k)=\\frac{n!}{(n-k)!}$</center>\n",
    "\n",
    "* Combination: order does not matter.  Only ('x', 'y') will be returned.\n",
    " * Number of ways to combine _k_ items from a set of _n_:\n",
    " \n",
    " <center>$C(n,k)=\\frac{n!}{k!(n-k)!}$</center>"
   ]
  },
  {
   "cell_type": "code",
   "execution_count": 7,
   "metadata": {},
   "outputs": [
    {
     "data": {
      "text/plain": [
       "'xyz'"
      ]
     },
     "execution_count": 7,
     "metadata": {},
     "output_type": "execute_result"
    }
   ],
   "source": [
    "a"
   ]
  },
  {
   "cell_type": "code",
   "execution_count": 16,
   "metadata": {
    "scrolled": true
   },
   "outputs": [
    {
     "data": {
      "text/plain": [
       "(('x', 'y', 'z'),\n",
       " ('x', 'z', 'y'),\n",
       " ('y', 'x', 'z'),\n",
       " ('y', 'z', 'x'),\n",
       " ('z', 'x', 'y'),\n",
       " ('z', 'y', 'x'))"
      ]
     },
     "execution_count": 16,
     "metadata": {},
     "output_type": "execute_result"
    }
   ],
   "source": [
    "tuple(permutations(a))  # r=None default kwarg"
   ]
  },
  {
   "cell_type": "code",
   "execution_count": 11,
   "metadata": {},
   "outputs": [
    {
     "data": {
      "text/plain": [
       "(('x', 'y'), ('x', 'z'), ('y', 'x'), ('y', 'z'), ('z', 'x'), ('z', 'y'))"
      ]
     },
     "execution_count": 11,
     "metadata": {},
     "output_type": "execute_result"
    }
   ],
   "source": [
    "tuple(permutations(a, r=2))"
   ]
  },
  {
   "cell_type": "code",
   "execution_count": 9,
   "metadata": {},
   "outputs": [
    {
     "data": {
      "text/plain": [
       "6"
      ]
     },
     "execution_count": 9,
     "metadata": {},
     "output_type": "execute_result"
    }
   ],
   "source": [
    "len(tuple(permutations(a)))"
   ]
  },
  {
   "cell_type": "code",
   "execution_count": 10,
   "metadata": {},
   "outputs": [
    {
     "data": {
      "text/plain": [
       "[('x', 'y'), ('x', 'z'), ('y', 'z')]"
      ]
     },
     "execution_count": 10,
     "metadata": {},
     "output_type": "execute_result"
    }
   ],
   "source": [
    "list(combinations(a, r=2)) # itertools.combinations(iterable, r)\n",
    "                           # must specify r, the length of each tuple"
   ]
  },
  {
   "cell_type": "markdown",
   "metadata": {},
   "source": [
    "Confirming the math on the above:"
   ]
  },
  {
   "cell_type": "code",
   "execution_count": 20,
   "metadata": {},
   "outputs": [
    {
     "name": "stdout",
     "output_type": "stream",
     "text": [
      "a: x, y, z\n",
      "\n",
      "permutations: 6 -->\n",
      "  ('x', 'y', 'z')\n",
      "  ('x', 'z', 'y')\n",
      "  ('y', 'x', 'z')\n",
      "  ('y', 'z', 'x')\n",
      "  ('z', 'x', 'y')\n",
      "  ('z', 'y', 'x')\n",
      "\n",
      "combinations: 1 -->\n",
      "  ('x', 'y', 'z')\n"
     ]
    }
   ],
   "source": [
    "from math import factorial as fac\n",
    "\n",
    "def p(n,k):\n",
    "    return int(fac(n) / fac(n - k))\n",
    "\n",
    "def c(n, k):\n",
    "    return int(p(n, k) / fac(k))\n",
    "\n",
    "print('a:', ', '.join(a))\n",
    "print()\n",
    "n = k = len(a)\n",
    "\n",
    "print('permutations:', p(n, k), '-->')\n",
    "for perm in permutations(a, k):\n",
    "    print(' ', perm)\n",
    "print()\n",
    "\n",
    "print('combinations:', c(n, k), '-->')\n",
    "for comb in combinations(a, k):\n",
    "    print(' ', comb)"
   ]
  },
  {
   "cell_type": "markdown",
   "metadata": {},
   "source": [
    "Lastly, there is `commbinations_with_replacement`:"
   ]
  },
  {
   "cell_type": "code",
   "execution_count": 15,
   "metadata": {
    "scrolled": true
   },
   "outputs": [
    {
     "data": {
      "text/plain": [
       "[('A', 'A', 'A'),\n",
       " ('A', 'A', 'B'),\n",
       " ('A', 'A', 'C'),\n",
       " ('A', 'A', 'D'),\n",
       " ('A', 'B', 'B'),\n",
       " ('A', 'B', 'C'),\n",
       " ('A', 'B', 'D'),\n",
       " ('A', 'C', 'C'),\n",
       " ('A', 'C', 'D'),\n",
       " ('A', 'D', 'D'),\n",
       " ('B', 'B', 'B'),\n",
       " ('B', 'B', 'C'),\n",
       " ('B', 'B', 'D'),\n",
       " ('B', 'C', 'C'),\n",
       " ('B', 'C', 'D'),\n",
       " ('B', 'D', 'D'),\n",
       " ('C', 'C', 'C'),\n",
       " ('C', 'C', 'D'),\n",
       " ('C', 'D', 'D'),\n",
       " ('D', 'D', 'D')]"
      ]
     },
     "execution_count": 15,
     "metadata": {},
     "output_type": "execute_result"
    }
   ],
   "source": [
    "list(combinations_with_replacement('ABCD', r=3))"
   ]
  }
 ],
 "metadata": {
  "kernelspec": {
   "display_name": "Python 3",
   "language": "python",
   "name": "python3"
  },
  "language_info": {
   "codemirror_mode": {
    "name": "ipython",
    "version": 3
   },
   "file_extension": ".py",
   "mimetype": "text/x-python",
   "name": "python",
   "nbconvert_exporter": "python",
   "pygments_lexer": "ipython3",
   "version": "3.6.3"
  }
 },
 "nbformat": 4,
 "nbformat_minor": 2
}
