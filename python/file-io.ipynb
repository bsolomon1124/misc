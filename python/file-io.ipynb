{
 "cells": [
  {
   "cell_type": "markdown",
   "metadata": {},
   "source": [
    "# Resources & references"
   ]
  },
  {
   "cell_type": "markdown",
   "metadata": {},
   "source": [
    "- The built-in [`open()`](https://docs.python.org/3/library/functions.html#open) function.\n",
    "- The [io](https://docs.python.org/3/library/io.html) and [`csv`](https://docs.python.org/3/library/csv.html) modules from the Python Standard Library."
   ]
  },
  {
   "cell_type": "markdown",
   "metadata": {},
   "source": [
    "# (Native) `io`"
   ]
  },
  {
   "cell_type": "markdown",
   "metadata": {},
   "source": [
    "[`open()`](https://docs.python.org/3/library/functions.html#open) is a built-in Python function that returns a [**file object**](https://docs.python.org/3/glossary.html#term-file-object).\n",
    "- A file object is not the contents of the file itself.  It is a class with methods such as `read()` or `write()` that allow interaction with the file.  \n",
    "- File objects are also called _file-like objects_ or **streams**."
   ]
  },
  {
   "cell_type": "markdown",
   "metadata": {},
   "source": [
    "## Using `with`"
   ]
  },
  {
   "cell_type": "markdown",
   "metadata": {},
   "source": [
    "A file object is a context manager and therefore can be used with the [`with`](https://docs.python.org/3/reference/compound_stmts.html#the-with-statement) statement.  In this example, `file` is closed after the `with` statement’s suite is finished—even if an exception occurs:\n",
    "\n",
    "```python\n",
    "with open('spam.txt', 'w') as file:\n",
    "    file.write('Spam and eggs!')\n",
    "```\n",
    "\n",
    "The alternate would be:\n",
    "\n",
    "```python\n",
    "file = open('spam.txt', 'w')\n",
    "file.write('Spam and eggs!')\n",
    "file.close()\n",
    "```"
   ]
  },
  {
   "cell_type": "markdown",
   "metadata": {},
   "source": [
    "## File object methods"
   ]
  },
  {
   "cell_type": "markdown",
   "metadata": {},
   "source": [
    "| Method/attr              | Description                                                                                                |\n",
    "|--------------------------|:-----------------------------------------------------------------------------------------------------------|\n",
    "| `read(size=-1)`          | Read up to `size` bytes from the object and return them.                                                   |\n",
    "| `write(b)`               | Write the given bytes-like object, `b`, to  underlying raw stream, and return the number of bytes written. |\n",
    "| `truncate(size=None)`    | Resize the stream to the given `size` in bytes (or the current position if `size` is not specified).       |\n",
    "| `close()`                | Flush and close this stream.                                                                               |\n",
    "| `readline(size=1)`       | Read and return one line from the stream.                                                                  |\n",
    "| `readlines(hint=-1)`     | Read and return a list of lines from the stream.                                                           |\n",
    "| `writelines(lines)`      | Write a list of lines to the stream.                                                                       |\n",
    "| `seek(offset[, whence])` | Change the stream position to the given byte `offset`.                                                     |\n",
    "| `readable()`             | Return `True` if the stream can be read from. If `False`, `read()` will raise `OSError`.                   |\n",
    "| `writeable()`            | Return `True` if the stream supports writing. If `False`, `write()` and `truncate()` will raise `OSError`. |\n",
    "| `closed`                 | `True` if stream is closed.                                                                                |"
   ]
  },
  {
   "cell_type": "markdown",
   "metadata": {},
   "source": [
    "### Reading and writing"
   ]
  },
  {
   "cell_type": "markdown",
   "metadata": {},
   "source": [
    "Many of these are best illustrated with code.  We'll begin with an empty file `ex.txt`:"
   ]
  },
  {
   "cell_type": "code",
   "execution_count": 1,
   "metadata": {},
   "outputs": [],
   "source": [
    "def print_file(f):\n",
    "    res = open(f).read()\n",
    "    if not res:\n",
    "        res = '[File is empty]'\n",
    "    print(res)"
   ]
  },
  {
   "cell_type": "markdown",
   "metadata": {},
   "source": [
    "Note above that we *don't* need `with` or `close()` when we use `open(file).read()` as a one-liner.  We're not assigning the file object to any variable."
   ]
  },
  {
   "cell_type": "code",
   "execution_count": 2,
   "metadata": {},
   "outputs": [
    {
     "data": {
      "text/plain": [
       "'/Users/brad/Scripts/python/docs/tutorials/imgs'"
      ]
     },
     "execution_count": 2,
     "metadata": {},
     "output_type": "execute_result"
    }
   ],
   "source": [
    "import os\n",
    "os.chdir('./docs/tutorials/imgs')\n",
    "os.getcwd()"
   ]
  },
  {
   "cell_type": "code",
   "execution_count": 4,
   "metadata": {},
   "outputs": [
    {
     "name": "stdout",
     "output_type": "stream",
     "text": [
      "[File is empty]\n"
     ]
    }
   ],
   "source": [
    "# First make sure text file is empty - open in write mode to truncate\n",
    "path = 'ex.txt'\n",
    "f = open(path, 'w')\n",
    "f.close()\n",
    "    \n",
    "print_file(path)  # Begin our example with an empty file"
   ]
  },
  {
   "cell_type": "markdown",
   "metadata": {},
   "source": [
    "Now let's open the file in read mode.  This is the default with `open()`; the syntax is:\n",
    "\n",
    "```python\n",
    "open(file, mode='r', buffering=-1, encoding=None, errors=None, \n",
    "     newline=None, closefd=True, opener=None)\n",
    "```\n",
    "\n",
    "Opening in read mode prohobits writing (and truncating):"
   ]
  },
  {
   "cell_type": "code",
   "execution_count": 5,
   "metadata": {},
   "outputs": [
    {
     "name": "stdout",
     "output_type": "stream",
     "text": [
      "readable: True\n",
      "writable: False\n"
     ]
    }
   ],
   "source": [
    "f = open(path)  # default mode='r'\n",
    "print('readable:', f.readable())\n",
    "print('writable:', f.writable())"
   ]
  },
  {
   "cell_type": "code",
   "execution_count": 6,
   "metadata": {},
   "outputs": [
    {
     "ename": "UnsupportedOperation",
     "evalue": "not writable",
     "output_type": "error",
     "traceback": [
      "\u001b[0;31m---------------------------------------------------------------------------\u001b[0m",
      "\u001b[0;31mUnsupportedOperation\u001b[0m                      Traceback (most recent call last)",
      "\u001b[0;32m<ipython-input-6-afd9a192235a>\u001b[0m in \u001b[0;36m<module>\u001b[0;34m()\u001b[0m\n\u001b[0;32m----> 1\u001b[0;31m \u001b[0mf\u001b[0m\u001b[0;34m.\u001b[0m\u001b[0mwrite\u001b[0m\u001b[0;34m(\u001b[0m\u001b[0;34m'some text'\u001b[0m\u001b[0;34m)\u001b[0m  \u001b[0;31m# This will raise\u001b[0m\u001b[0;34m\u001b[0m\u001b[0m\n\u001b[0m\u001b[1;32m      2\u001b[0m \u001b[0mf\u001b[0m\u001b[0;34m.\u001b[0m\u001b[0mtruncate\u001b[0m\u001b[0;34m(\u001b[0m\u001b[0;34m)\u001b[0m  \u001b[0;31m# Will also raise\u001b[0m\u001b[0;34m\u001b[0m\u001b[0m\n",
      "\u001b[0;31mUnsupportedOperation\u001b[0m: not writable"
     ]
    }
   ],
   "source": [
    "f.write('some text')  # This will raise\n",
    "f.truncate()  # Will also raise"
   ]
  },
  {
   "cell_type": "markdown",
   "metadata": {},
   "source": [
    "Similarly, in write mode, we cannot read:"
   ]
  },
  {
   "cell_type": "code",
   "execution_count": 7,
   "metadata": {},
   "outputs": [
    {
     "name": "stdout",
     "output_type": "stream",
     "text": [
      "readable: False\n",
      "writable: True\n"
     ]
    }
   ],
   "source": [
    "f.close()\n",
    "f = open(path, mode='w')\n",
    "print('readable:', f.readable())\n",
    "print('writable:', f.writable())"
   ]
  },
  {
   "cell_type": "code",
   "execution_count": 8,
   "metadata": {},
   "outputs": [
    {
     "ename": "UnsupportedOperation",
     "evalue": "not readable",
     "output_type": "error",
     "traceback": [
      "\u001b[0;31m---------------------------------------------------------------------------\u001b[0m",
      "\u001b[0;31mUnsupportedOperation\u001b[0m                      Traceback (most recent call last)",
      "\u001b[0;32m<ipython-input-8-10b8e1712b7d>\u001b[0m in \u001b[0;36m<module>\u001b[0;34m()\u001b[0m\n\u001b[0;32m----> 1\u001b[0;31m \u001b[0mprint\u001b[0m\u001b[0;34m(\u001b[0m\u001b[0mf\u001b[0m\u001b[0;34m.\u001b[0m\u001b[0mread\u001b[0m\u001b[0;34m(\u001b[0m\u001b[0;34m)\u001b[0m\u001b[0;34m)\u001b[0m  \u001b[0;31m# Will raise\u001b[0m\u001b[0;34m\u001b[0m\u001b[0m\n\u001b[0m",
      "\u001b[0;31mUnsupportedOperation\u001b[0m: not readable"
     ]
    }
   ],
   "source": [
    "print(f.read())  # Will raise"
   ]
  },
  {
   "cell_type": "markdown",
   "metadata": {},
   "source": [
    "`write()` writes to the file _and_ returns the number of bytes written:"
   ]
  },
  {
   "cell_type": "code",
   "execution_count": 9,
   "metadata": {},
   "outputs": [
    {
     "data": {
      "text/plain": [
       "18"
      ]
     },
     "execution_count": 9,
     "metadata": {},
     "output_type": "execute_result"
    }
   ],
   "source": [
    "f.write('First line of text')  # Returns num of bytes written"
   ]
  },
  {
   "cell_type": "markdown",
   "metadata": {},
   "source": [
    "Now let's close, re-open, and read:"
   ]
  },
  {
   "cell_type": "code",
   "execution_count": 10,
   "metadata": {},
   "outputs": [
    {
     "name": "stdout",
     "output_type": "stream",
     "text": [
      "First line of text\n"
     ]
    }
   ],
   "source": [
    "f.close()\n",
    "print_file(path)"
   ]
  },
  {
   "cell_type": "markdown",
   "metadata": {},
   "source": [
    "Opening in write mode **truncates the file automatically if it exists**:"
   ]
  },
  {
   "cell_type": "code",
   "execution_count": 11,
   "metadata": {},
   "outputs": [
    {
     "name": "stdout",
     "output_type": "stream",
     "text": [
      "[File is empty]\n"
     ]
    }
   ],
   "source": [
    "f = open(path, mode='w')  # Truncates\n",
    "f.close()\n",
    "print_file(path)"
   ]
  },
  {
   "cell_type": "markdown",
   "metadata": {},
   "source": [
    "### `seek()`"
   ]
  },
  {
   "cell_type": "markdown",
   "metadata": {},
   "source": [
    "File objects are position-aware. `seek(offset)` changes the **stream position** to `offset` and_ also returns the new absolute position_."
   ]
  },
  {
   "cell_type": "code",
   "execution_count": 12,
   "metadata": {},
   "outputs": [
    {
     "name": "stdout",
     "output_type": "stream",
     "text": [
      "[File is empty]\n",
      "This is the first line.\n",
      "This is line 2.\n",
      "There is a lot of fun to be had in here.\n"
     ]
    }
   ],
   "source": [
    "assert f.closed\n",
    "print_file(path)\n",
    "f = open(path, mode='w')\n",
    "f.writelines([\n",
    "    'This is the first line.\\n'\n",
    "    'This is line 2.\\n'\n",
    "    'There is a lot of fun to be had in here.'\n",
    "    ])\n",
    "f.close()\n",
    "print_file(path)"
   ]
  },
  {
   "cell_type": "markdown",
   "metadata": {},
   "source": [
    "`readline()` scans each byte of the file until it finds a newline character."
   ]
  },
  {
   "cell_type": "code",
   "execution_count": 13,
   "metadata": {},
   "outputs": [
    {
     "name": "stdout",
     "output_type": "stream",
     "text": [
      "This is the first line.\n",
      "\n",
      "This is line 2.\n",
      "\n",
      "This is the first line.\n",
      " [again]\n"
     ]
    }
   ],
   "source": [
    "f = open(path)\n",
    "# Think of this like `next()`\n",
    "print(f.readline())\n",
    "print(f.readline())\n",
    "f.seek(0)  # \"Rewind\"; also returns new absolute position\n",
    "print(f.readline(), '[again]')"
   ]
  },
  {
   "cell_type": "markdown",
   "metadata": {},
   "source": [
    "Again: a file object supports iteration:"
   ]
  },
  {
   "cell_type": "code",
   "execution_count": 14,
   "metadata": {},
   "outputs": [
    {
     "name": "stdout",
     "output_type": "stream",
     "text": [
      "This is the first line.\n",
      "\n",
      "This is line 2.\n",
      "\n",
      "There is a lot of fun to be had in here.\n"
     ]
    }
   ],
   "source": [
    "f.close()\n",
    "with open(path) as f:\n",
    "    for line in f:\n",
    "        print(line)\n",
    "assert f.closed"
   ]
  },
  {
   "cell_type": "markdown",
   "metadata": {},
   "source": [
    "## Encoding"
   ]
  },
  {
   "cell_type": "markdown",
   "metadata": {},
   "source": [
    "Return the encoding used for text data, according to user preferences, on your system:"
   ]
  },
  {
   "cell_type": "code",
   "execution_count": 15,
   "metadata": {},
   "outputs": [
    {
     "name": "stdout",
     "output_type": "stream",
     "text": [
      "UTF-8\n"
     ]
    }
   ],
   "source": [
    "import locale\n",
    "print(locale.getpreferredencoding(False))"
   ]
  },
  {
   "cell_type": "markdown",
   "metadata": {},
   "source": [
    "# `StringIO`"
   ]
  },
  {
   "cell_type": "markdown",
   "metadata": {},
   "source": [
    "`StringIO` was a [standalone](https://docs.python.org/2/library/stringio.html) module in Python 2.  In 3, it is [merged](https://docs.python.org/3.0/whatsnew/3.0.html#text-vs-data-instead-of-unicode-vs-8-bit) into `io`.  The `try/except` import for compatability is:"
   ]
  },
  {
   "cell_type": "code",
   "execution_count": 16,
   "metadata": {
    "collapsed": true
   },
   "outputs": [],
   "source": [
    "try:\n",
    "    from StringIO import StringIO  # Python 2\n",
    "except ImportError:\n",
    "    from io import StringIO  # Python 3"
   ]
  },
  {
   "cell_type": "markdown",
   "metadata": {},
   "source": [
    "You should use `io.StringIO` or `io.BytesIO` for text and data respectively."
   ]
  },
  {
   "cell_type": "code",
   "execution_count": 17,
   "metadata": {},
   "outputs": [
    {
     "name": "stdout",
     "output_type": "stream",
     "text": [
      "Field1, Field2, Field3\n",
      "1, 2, 3\n",
      "\n",
      "raw: 'Field1, Field2, Field3\\n1, 2, 3'\n",
      "<class '_io.StringIO'>\n"
     ]
    }
   ],
   "source": [
    "text = \"\"\"Field1, Field2, Field3\n",
    "1, 2, 3\"\"\"\n",
    "print(text)\n",
    "print()\n",
    "print('raw:', text.__repr__())\n",
    "s = StringIO(text)\n",
    "print(type(s))"
   ]
  },
  {
   "cell_type": "markdown",
   "metadata": {},
   "source": [
    "# `csv`"
   ]
  },
  {
   "cell_type": "markdown",
   "metadata": {},
   "source": [
    "## CSV formatting rules"
   ]
  },
  {
   "cell_type": "markdown",
   "metadata": {},
   "source": [
    "[RFC 4180](https://tools.ietf.org/html/rfc4180.html) proposes a specification for the CSV format, and this is the definition commonly used. However, in popular usage \"CSV\" is not a single, well-defined format.  For instance, Excel (in Windows) has its own CSV format.\n",
    "\n",
    "Consider 3 .csv files, rendered in Excel as follows:"
   ]
  },
  {
   "cell_type": "markdown",
   "metadata": {},
   "source": [
    "<center>**_book1.csv_**:</center>\n",
    "\n",
    "![book1](./imgs//book1.PNG)\n",
    "\n",
    "<center>**_book2.csv_**:</center>\n",
    "\n",
    "![book2](./imgs//book2.PNG)\n",
    "\n",
    "<center>**_book3.csv_**:</center>\n",
    "\n",
    "![book1](./imgs//book3.PNG)\n",
    "\n",
    "In plain text files these would like like so:"
   ]
  },
  {
   "cell_type": "code",
   "execution_count": 19,
   "metadata": {
    "collapsed": true
   },
   "outputs": [],
   "source": [
    "def print_both(path):\n",
    "    with open(path) as f:\n",
    "        contents = f.read()\n",
    "        print(contents.__repr__())\n",
    "        print()\n",
    "        print(contents)"
   ]
  },
  {
   "cell_type": "markdown",
   "metadata": {},
   "source": [
    "_book1_:"
   ]
  },
  {
   "cell_type": "code",
   "execution_count": 20,
   "metadata": {},
   "outputs": [
    {
     "name": "stdout",
     "output_type": "stream",
     "text": [
      "'\\ufefftext'\n",
      "\n",
      "﻿text\n"
     ]
    }
   ],
   "source": [
    "print_both('book1.csv')"
   ]
  },
  {
   "cell_type": "markdown",
   "metadata": {},
   "source": [
    "_book2_:"
   ]
  },
  {
   "cell_type": "code",
   "execution_count": 21,
   "metadata": {},
   "outputs": [
    {
     "name": "stdout",
     "output_type": "stream",
     "text": [
      "'text,text\\n'\n",
      "\n",
      "text,text\n",
      "\n"
     ]
    }
   ],
   "source": [
    "print_both('book2.csv')"
   ]
  },
  {
   "cell_type": "code",
   "execution_count": 22,
   "metadata": {},
   "outputs": [
    {
     "name": "stdout",
     "output_type": "stream",
     "text": [
      "'text,text\\na,b\\n1,2\\n'\n",
      "\n",
      "text,text\n",
      "a,b\n",
      "1,2\n",
      "\n"
     ]
    }
   ],
   "source": [
    "print_both('book3.csv')"
   ]
  },
  {
   "cell_type": "markdown",
   "metadata": {},
   "source": [
    "This breaks down to the following structure:\n",
    "```\n",
    "field_name,field_name,field_name CRLF\n",
    "aaa,bbb,ccc CRLF\n",
    "zzz,yyy,xxx CRLF\n",
    "```\n",
    "where `CRLF` is a line break and the header row is optional."
   ]
  },
  {
   "cell_type": "markdown",
   "metadata": {},
   "source": [
    "## The `csv` module"
   ]
  },
  {
   "cell_type": "markdown",
   "metadata": {},
   "source": [
    "The Standard Library's [`csv`](https://docs.python.org/3/library/csv.html) module is designed for reading and writing comma-separated value (CSV) files.   The csv module’s `reader` and `writer` objects read and write sequences. Programmers can also read and write data in dictionary form using the `DictReader` and `DictWriter` classes."
   ]
  },
  {
   "cell_type": "code",
   "execution_count": 23,
   "metadata": {},
   "outputs": [
    {
     "name": "stdout",
     "output_type": "stream",
     "text": [
      "Error\n",
      "Dialect\n",
      "excel\n",
      "excel_tab\n",
      "field_size_limit\n",
      "reader\n",
      "writer\n",
      "register_dialect\n",
      "get_dialect\n",
      "list_dialects\n",
      "Sniffer\n",
      "unregister_dialect\n",
      "DictReader\n",
      "DictWriter\n",
      "unix_dialect\n"
     ]
    }
   ],
   "source": [
    "import csv\n",
    "for obj in csv.__all__:\n",
    "    if not any((obj.startswith('_'), obj.isupper())):\n",
    "        print(obj)"
   ]
  },
  {
   "cell_type": "markdown",
   "metadata": {},
   "source": [
    "**`csv.reader`** returns a reader object which will iterate over lines in the given param `csvfile`.  This can be commbined with a `StringIO` object."
   ]
  },
  {
   "cell_type": "code",
   "execution_count": 24,
   "metadata": {},
   "outputs": [
    {
     "name": "stdout",
     "output_type": "stream",
     "text": [
      "['Field1', ' Field2', ' Field3']\n",
      "['1', ' 2', ' 3']\n"
     ]
    }
   ],
   "source": [
    "reader = csv.reader(StringIO(text))\n",
    "# reader.line_num == 0\n",
    "for row in reader:\n",
    "    print(row)"
   ]
  },
  {
   "cell_type": "markdown",
   "metadata": {},
   "source": [
    "Note that if you just passed the raw string, the iteration would occur over each letter.  (`csvfile` can be any object which supports the iterator protocol and returns a string each time its `__next__()` method is called:"
   ]
  },
  {
   "cell_type": "code",
   "execution_count": 25,
   "metadata": {},
   "outputs": [
    {
     "name": "stdout",
     "output_type": "stream",
     "text": [
      "['F']\n",
      "['i']\n",
      "['e']\n",
      "['l']\n",
      "['d']\n"
     ]
    }
   ],
   "source": [
    "# Get first 5 elements\n",
    "reader = csv.reader(text)\n",
    "i = 0\n",
    "while i < 5:\n",
    "    print(reader.__next__())\n",
    "    i += 1"
   ]
  },
  {
   "cell_type": "markdown",
   "metadata": {},
   "source": [
    "So, the module does not support directly parsing strings, but sometimes you can just pass one within a list, because a list is a valid first argument to `csv.reader`:"
   ]
  },
  {
   "cell_type": "code",
   "execution_count": 26,
   "metadata": {},
   "outputs": [
    {
     "name": "stdout",
     "output_type": "stream",
     "text": [
      "['one', 'two', 'three']\n"
     ]
    }
   ],
   "source": [
    "for row in csv.reader(['one,two,three']):  # Can't have newlines here\n",
    "    print(row)"
   ]
  },
  {
   "cell_type": "markdown",
   "metadata": {},
   "source": [
    "**`csv.DictReader`** is similar to `csv.reader`, except that it returns an `OrderedDict` whose keys are given by the optional `fieldnames` parameter."
   ]
  },
  {
   "cell_type": "code",
   "execution_count": 27,
   "metadata": {},
   "outputs": [
    {
     "name": "stdout",
     "output_type": "stream",
     "text": [
      "OrderedDict([('Field1', '    1'), (' Field2', ' 2'), (' Field3', ' 3')])\n",
      "OrderedDict([('Field1', '    4'), (' Field2', ' 5'), (' Field3', ' 6')])\n",
      "OrderedDict([('Field1', '    a'), (' Field2', ' b'), (' Field3', ' c')])\n"
     ]
    }
   ],
   "source": [
    "text = \\\n",
    "    \"\"\"Field1, Field2, Field3\n",
    "    1, 2, 3\n",
    "    4, 5, 6\n",
    "    a, b, c\"\"\"\n",
    "reader = csv.DictReader(StringIO(text))\n",
    "# `reader` itself is just a DictReader object, not an OrderedDict\n",
    "for row in reader:\n",
    "    print(row)"
   ]
  },
  {
   "cell_type": "markdown",
   "metadata": {},
   "source": [
    "The [`Sniffer`](https://docs.python.org/3/library/csv.html#csv.Sniffer) class deduces the format of a CSV:"
   ]
  },
  {
   "cell_type": "code",
   "execution_count": 28,
   "metadata": {},
   "outputs": [
    {
     "data": {
      "text/plain": [
       "True"
      ]
     },
     "execution_count": 28,
     "metadata": {},
     "output_type": "execute_result"
    }
   ],
   "source": [
    "# Make sure we're not at end of stream\n",
    "s.seek(0)\n",
    "csv.Sniffer().has_header(s.readline())"
   ]
  },
  {
   "cell_type": "markdown",
   "metadata": {},
   "source": [
    "Note: `.read()` will also work here, but it is [safer](https://stackoverflow.com/a/35757505/7954504) to just supply the first row."
   ]
  },
  {
   "cell_type": "markdown",
   "metadata": {},
   "source": [
    "# File I/O in pandas"
   ]
  },
  {
   "cell_type": "code",
   "execution_count": null,
   "metadata": {
    "collapsed": true
   },
   "outputs": [],
   "source": [
    "import pandas as pd"
   ]
  },
  {
   "cell_type": "markdown",
   "metadata": {},
   "source": [
    "Pandas i/o tools are too extensive to cover here.  For references:"
   ]
  },
  {
   "cell_type": "markdown",
   "metadata": {},
   "source": [
    "* [pandas IO tools](http://pandas.pydata.org/pandas-docs/stable/io.html)\n",
    "* [pandas IO api reference](http://pandas.pydata.org/pandas-docs/stable/api.html#input-output)"
   ]
  },
  {
   "cell_type": "markdown",
   "metadata": {},
   "source": [
    "A couple of helpful notes:\n",
    "\n",
    "The first parameter to `pandas.read_csv` is `filepath`.  This can be:\n",
    "- A path to a file (a **`str`**, `pathlib.Path`, or `py._path.local.LocalPath`)\n",
    "- A **URL** (including http, ftp, and S3 locations)\n",
    "- **Or any object with a `read()` method (such as an open file or `StringIO`)**"
   ]
  },
  {
   "cell_type": "markdown",
   "metadata": {},
   "source": [
    "`pandas.read_csv` can be used with `StringIO`."
   ]
  },
  {
   "cell_type": "code",
   "execution_count": null,
   "metadata": {
    "collapsed": true
   },
   "outputs": [],
   "source": [
    "testdata = StringIO(\n",
    "    \"\"\"col1;col2;col3\n",
    "    1;4.4;99\n",
    "    2;4.5;200\n",
    "    3;4.7;65\n",
    "    4;3.2;140\"\"\"\n",
    "    )\n",
    "df = pd.read_csv(testdata, sep=\";\")  # Don't need to `.read()`\n",
    "print(df)"
   ]
  },
  {
   "cell_type": "code",
   "execution_count": null,
   "metadata": {
    "collapsed": true
   },
   "outputs": [],
   "source": [
    "data = 'col1,col2,col3\\na,b,1\\na,b,2\\nc,d,3'\n",
    "print(pd.read_csv(StringIO(data), \n",
    "                  usecols=lambda x: x.upper() in ['COL1', 'COL3']))"
   ]
  }
 ],
 "metadata": {
  "kernelspec": {
   "display_name": "Python 3",
   "language": "python",
   "name": "python3"
  },
  "language_info": {
   "codemirror_mode": {
    "name": "ipython",
    "version": 3
   },
   "file_extension": ".py",
   "mimetype": "text/x-python",
   "name": "python",
   "nbconvert_exporter": "python",
   "pygments_lexer": "ipython3",
   "version": "3.6.3"
  }
 },
 "nbformat": 4,
 "nbformat_minor": 2
}
