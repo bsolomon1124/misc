{
 "cells": [
  {
   "cell_type": "markdown",
   "metadata": {},
   "source": [
    "# Covered here:\n"
   ]
  },
  {
   "cell_type": "markdown",
   "metadata": {},
   "source": [
    "- [Number systems](#Number-systems)\n",
    "- [What's a bit?](#What's-a-bit?)\n",
    "- [Representing text in digital form](#Representing-text-in-digital-form)\n",
    "- [Hashing & one-hot encoding](#Hashing-&-one-hot-encoding)"
   ]
  },
  {
   "cell_type": "markdown",
   "metadata": {},
   "source": [
    "## Resources & references"
   ]
  },
  {
   "cell_type": "markdown",
   "metadata": {},
   "source": [
    "* Python docs: [Unicode HOWTO](https://docs.python.org/3/howto/unicode.html#python-s-unicode-support)\n",
    "* [The Absolute Minimum Every Software Developer Absolutely, Positively Must Know About Unicode and Character Sets (No Excuses!)](https://www.joelonsoftware.com/2003/10/08/the-absolute-minimum-every-software-developer-absolutely-positively-must-know-about-unicode-and-character-sets-no-excuses/)\n",
    "* [robelle.com - ASCII Characters for MPE Users](http://www.robelle.com/library/smugbook/ascii.html)\n",
    "* [Eric Muller/Adobe - To the BMP and Beyond](http://www.unicode.org/notes/tn23/Muller-Slides+Narr.pdf)\n",
    "* Petzold - _Code: The Hidden Language of Computers_\n",
    "    * Chapter 7: Our Ten Digits\n",
    "    * Chapter 8: Alternatives to Ten\n",
    "    * Chapter 9: Bit by Bit\n",
    "    * Chapter 15: Bytes and Hex\n",
    "    * Chapter 20: ASCII and a Cast of Characters\n",
    "* Slatkin - _59 Ways to Write Better Python_ - Item 3: Know the Differences Between bytes, str, and unicode\n",
    "* Jukka Korpela - [A tutorial on character code issues](http://jkorpela.fi/chars.html)\n",
    "* David Beazley - [Mastering Python 3 I/O (part 1)](http://pyvideo.org/pycon-us-2010/pycon-2010--mastering-python-3-i-o.html) (start around 16:30)"
   ]
  },
  {
   "cell_type": "markdown",
   "metadata": {},
   "source": [
    "# Number systems"
   ]
  },
  {
   "cell_type": "markdown",
   "metadata": {},
   "source": [
    "_Directly excerpted or paraphrased from Petzold (2000)_.\n",
    "\n",
    "The use of a _base-ten_ or _decimal_ (from the Latin for _ten_) number scheme inherant to the Indo-Arabic system is somewhat arbitrary.  Each position in number corresponds to a power of ten:\n",
    "\n",
    "![base10](imgs/base10b.jpg)\n",
    "\n",
    "As mentioned above, the choice of _base-10_ is somewhat arbitrary, and we can derive number systems using other bases:\n",
    "- An _octal_ system is _base-8_.\n",
    "- A _hexadecimal_ (\"hex\") system is _base-16_.\n",
    "- A _binary_ system is _base-2_.\n",
    "\n",
    "Here's counting using an octal system:\n",
    "\n",
    "![](imgs/base8a.jpg)\n",
    "![](imgs/base8b.jpg)"
   ]
  },
  {
   "cell_type": "markdown",
   "metadata": {},
   "source": [
    "Here's a representation of each position of a number in the octal system:\n",
    "\n",
    "![octal](imgs/octal.jpg)\n",
    "\n",
    "In binary systems, _the number after 1 is 10_):\n",
    "\n",
    "> 0, 1, 10, 11, 100, 101, 110, 111, 1000, 1001, 1010, 1011, 1100,, 1101, 1110, 1111, 10000, 10001…\n",
    "\n",
    "In a multidigit binary number, the positions of the digits correspond to powers of two:\n",
    "\n",
    "![](imgs/binary_counting.jpg)\n",
    "\n",
    "People who work with binary numbers often write them with leading zeros (that is, zeros to the left of the first 1)—for example, 0011 rather than just 11. This doesn’t change the value of the number at all; it’s just for cosmetic purposes."
   ]
  },
  {
   "cell_type": "code",
   "execution_count": 30,
   "metadata": {},
   "outputs": [
    {
     "data": {
      "text/html": [
       "<div>\n",
       "<style>\n",
       "    .dataframe thead tr:only-child th {\n",
       "        text-align: right;\n",
       "    }\n",
       "\n",
       "    .dataframe thead th {\n",
       "        text-align: left;\n",
       "    }\n",
       "\n",
       "    .dataframe tbody tr th {\n",
       "        vertical-align: top;\n",
       "    }\n",
       "</style>\n",
       "<table border=\"1\" class=\"dataframe\">\n",
       "  <thead>\n",
       "    <tr style=\"text-align: right;\">\n",
       "      <th></th>\n",
       "      <th>binary</th>\n",
       "      <th>decimal</th>\n",
       "    </tr>\n",
       "  </thead>\n",
       "  <tbody>\n",
       "    <tr>\n",
       "      <th>0</th>\n",
       "      <td>0000</td>\n",
       "      <td>0</td>\n",
       "    </tr>\n",
       "    <tr>\n",
       "      <th>1</th>\n",
       "      <td>0001</td>\n",
       "      <td>1</td>\n",
       "    </tr>\n",
       "    <tr>\n",
       "      <th>2</th>\n",
       "      <td>0010</td>\n",
       "      <td>2</td>\n",
       "    </tr>\n",
       "    <tr>\n",
       "      <th>3</th>\n",
       "      <td>0011</td>\n",
       "      <td>3</td>\n",
       "    </tr>\n",
       "    <tr>\n",
       "      <th>4</th>\n",
       "      <td>0100</td>\n",
       "      <td>4</td>\n",
       "    </tr>\n",
       "    <tr>\n",
       "      <th>5</th>\n",
       "      <td>0101</td>\n",
       "      <td>5</td>\n",
       "    </tr>\n",
       "    <tr>\n",
       "      <th>6</th>\n",
       "      <td>0110</td>\n",
       "      <td>6</td>\n",
       "    </tr>\n",
       "    <tr>\n",
       "      <th>7</th>\n",
       "      <td>0111</td>\n",
       "      <td>7</td>\n",
       "    </tr>\n",
       "    <tr>\n",
       "      <th>8</th>\n",
       "      <td>1000</td>\n",
       "      <td>8</td>\n",
       "    </tr>\n",
       "    <tr>\n",
       "      <th>9</th>\n",
       "      <td>1001</td>\n",
       "      <td>9</td>\n",
       "    </tr>\n",
       "    <tr>\n",
       "      <th>10</th>\n",
       "      <td>1010</td>\n",
       "      <td>10</td>\n",
       "    </tr>\n",
       "    <tr>\n",
       "      <th>11</th>\n",
       "      <td>1011</td>\n",
       "      <td>11</td>\n",
       "    </tr>\n",
       "    <tr>\n",
       "      <th>12</th>\n",
       "      <td>1100</td>\n",
       "      <td>12</td>\n",
       "    </tr>\n",
       "    <tr>\n",
       "      <th>13</th>\n",
       "      <td>1101</td>\n",
       "      <td>13</td>\n",
       "    </tr>\n",
       "    <tr>\n",
       "      <th>14</th>\n",
       "      <td>1110</td>\n",
       "      <td>14</td>\n",
       "    </tr>\n",
       "    <tr>\n",
       "      <th>15</th>\n",
       "      <td>1111</td>\n",
       "      <td>15</td>\n",
       "    </tr>\n",
       "  </tbody>\n",
       "</table>\n",
       "</div>"
      ],
      "text/plain": [
       "   binary  decimal\n",
       "0    0000        0\n",
       "1    0001        1\n",
       "2    0010        2\n",
       "3    0011        3\n",
       "4    0100        4\n",
       "5    0101        5\n",
       "6    0110        6\n",
       "7    0111        7\n",
       "8    1000        8\n",
       "9    1001        9\n",
       "10   1010       10\n",
       "11   1011       11\n",
       "12   1100       12\n",
       "13   1101       13\n",
       "14   1110       14\n",
       "15   1111       15"
      ]
     },
     "execution_count": 30,
     "metadata": {},
     "output_type": "execute_result"
    }
   ],
   "source": [
    "decimal = range(16)\n",
    "binary = [format(d, '04b') for d in decimal]\n",
    "pd.DataFrame({'decimal': decimal, 'binary': binary})"
   ]
  },
  {
   "cell_type": "markdown",
   "metadata": {},
   "source": [
    "The table below shows the result of powers of two in different number systems."
   ]
  },
  {
   "cell_type": "code",
   "execution_count": 31,
   "metadata": {
    "scrolled": true
   },
   "outputs": [
    {
     "data": {
      "text/html": [
       "<div>\n",
       "<style>\n",
       "    .dataframe thead tr:only-child th {\n",
       "        text-align: right;\n",
       "    }\n",
       "\n",
       "    .dataframe thead th {\n",
       "        text-align: left;\n",
       "    }\n",
       "\n",
       "    .dataframe tbody tr th {\n",
       "        vertical-align: top;\n",
       "    }\n",
       "</style>\n",
       "<table border=\"1\" class=\"dataframe\">\n",
       "  <thead>\n",
       "    <tr style=\"text-align: right;\">\n",
       "      <th></th>\n",
       "      <th>binary</th>\n",
       "      <th>decimal</th>\n",
       "      <th>octal</th>\n",
       "    </tr>\n",
       "  </thead>\n",
       "  <tbody>\n",
       "    <tr>\n",
       "      <th>2^0</th>\n",
       "      <td>0b1</td>\n",
       "      <td>1</td>\n",
       "      <td>0o1</td>\n",
       "    </tr>\n",
       "    <tr>\n",
       "      <th>2^1</th>\n",
       "      <td>0b10</td>\n",
       "      <td>2</td>\n",
       "      <td>0o2</td>\n",
       "    </tr>\n",
       "    <tr>\n",
       "      <th>2^2</th>\n",
       "      <td>0b100</td>\n",
       "      <td>4</td>\n",
       "      <td>0o4</td>\n",
       "    </tr>\n",
       "    <tr>\n",
       "      <th>2^3</th>\n",
       "      <td>0b1000</td>\n",
       "      <td>8</td>\n",
       "      <td>0o10</td>\n",
       "    </tr>\n",
       "    <tr>\n",
       "      <th>2^4</th>\n",
       "      <td>0b10000</td>\n",
       "      <td>16</td>\n",
       "      <td>0o20</td>\n",
       "    </tr>\n",
       "    <tr>\n",
       "      <th>2^5</th>\n",
       "      <td>0b100000</td>\n",
       "      <td>32</td>\n",
       "      <td>0o40</td>\n",
       "    </tr>\n",
       "    <tr>\n",
       "      <th>2^6</th>\n",
       "      <td>0b1000000</td>\n",
       "      <td>64</td>\n",
       "      <td>0o100</td>\n",
       "    </tr>\n",
       "    <tr>\n",
       "      <th>2^7</th>\n",
       "      <td>0b10000000</td>\n",
       "      <td>128</td>\n",
       "      <td>0o200</td>\n",
       "    </tr>\n",
       "    <tr>\n",
       "      <th>2^8</th>\n",
       "      <td>0b100000000</td>\n",
       "      <td>256</td>\n",
       "      <td>0o400</td>\n",
       "    </tr>\n",
       "    <tr>\n",
       "      <th>2^9</th>\n",
       "      <td>0b1000000000</td>\n",
       "      <td>512</td>\n",
       "      <td>0o1000</td>\n",
       "    </tr>\n",
       "    <tr>\n",
       "      <th>2^10</th>\n",
       "      <td>0b10000000000</td>\n",
       "      <td>1024</td>\n",
       "      <td>0o2000</td>\n",
       "    </tr>\n",
       "    <tr>\n",
       "      <th>2^11</th>\n",
       "      <td>0b100000000000</td>\n",
       "      <td>2048</td>\n",
       "      <td>0o4000</td>\n",
       "    </tr>\n",
       "    <tr>\n",
       "      <th>2^12</th>\n",
       "      <td>0b1000000000000</td>\n",
       "      <td>4096</td>\n",
       "      <td>0o10000</td>\n",
       "    </tr>\n",
       "  </tbody>\n",
       "</table>\n",
       "</div>"
      ],
      "text/plain": [
       "               binary  decimal    octal\n",
       "2^0               0b1        1      0o1\n",
       "2^1              0b10        2      0o2\n",
       "2^2             0b100        4      0o4\n",
       "2^3            0b1000        8     0o10\n",
       "2^4           0b10000       16     0o20\n",
       "2^5          0b100000       32     0o40\n",
       "2^6         0b1000000       64    0o100\n",
       "2^7        0b10000000      128    0o200\n",
       "2^8       0b100000000      256    0o400\n",
       "2^9      0b1000000000      512   0o1000\n",
       "2^10    0b10000000000     1024   0o2000\n",
       "2^11   0b100000000000     2048   0o4000\n",
       "2^12  0b1000000000000     4096  0o10000"
      ]
     },
     "execution_count": 31,
     "metadata": {},
     "output_type": "execute_result"
    }
   ],
   "source": [
    "import pandas as pd\n",
    "\n",
    "def vec_base(op, i):\n",
    "    return op(i)\n",
    "vec_base = np.vectorize(vec_base)\n",
    "\n",
    "strpows = ['2^%s' % i for i in range(13)]\n",
    "decimal = np.power(2., np.arange(13)).astype(np.int)\n",
    "octal = vec_base(oct, decimal)\n",
    "binary = vec_base(bin, decimal)\n",
    "\n",
    "pd.DataFrame({'decimal': decimal, 'octal': octal, 'binary': binary},\n",
    "             index=strpows)"
   ]
  },
  {
   "cell_type": "markdown",
   "metadata": {},
   "source": [
    "# What's a bit?"
   ]
  },
  {
   "cell_type": "markdown",
   "metadata": {},
   "source": [
    "A bit (**b**inary dig**it**) is either of the digits 0 or 1 when used in the binary number system.  Think of a bit as **0 or 1**.  There are $2^8=256$ different possible values for 8-bit sequences:"
   ]
  },
  {
   "cell_type": "code",
   "execution_count": 32,
   "metadata": {},
   "outputs": [
    {
     "data": {
      "text/plain": [
       "[(0, 0, 0, 0, 0, 0, 0, 0),\n",
       " (0, 0, 0, 0, 0, 0, 0, 1),\n",
       " (0, 0, 0, 0, 0, 0, 1, 0),\n",
       " (0, 0, 0, 0, 0, 0, 1, 1),\n",
       " (0, 0, 0, 0, 0, 1, 0, 0)]"
      ]
     },
     "execution_count": 32,
     "metadata": {},
     "output_type": "execute_result"
    }
   ],
   "source": [
    "# THe first five 8-bit sequences\n",
    "from itertools import product\n",
    "bits = list(product([0, 1], repeat=8))\n",
    "bits[:5] "
   ]
  },
  {
   "cell_type": "code",
   "execution_count": 33,
   "metadata": {},
   "outputs": [
    {
     "data": {
      "text/plain": [
       "256"
      ]
     },
     "execution_count": 33,
     "metadata": {},
     "output_type": "execute_result"
    }
   ],
   "source": [
    "len(bits)"
   ]
  },
  {
   "cell_type": "markdown",
   "metadata": {},
   "source": [
    "**A group of eight binary digits is commonly called one byte**.  (Although, historically the size of the byte is not strictly defined as such.)  \n",
    "\n",
    "In the 1980s, almost all personal computers were 8-bit, meaning that bytes could hold values ranging from 0 to 255.\n",
    "\n",
    "The number of different possible values for different bit-length sequences would be:"
   ]
  },
  {
   "cell_type": "code",
   "execution_count": 3,
   "metadata": {},
   "outputs": [
    {
     "data": {
      "text/plain": [
       "bits\n",
       "0         1\n",
       "2         4\n",
       "4        16\n",
       "6        64\n",
       "8       256\n",
       "10     1024\n",
       "12     4096\n",
       "14    16384\n",
       "16    65536\n",
       "Name: possible_values, dtype: int64"
      ]
     },
     "execution_count": 3,
     "metadata": {},
     "output_type": "execute_result"
    }
   ],
   "source": [
    "import numpy as np\n",
    "import pandas as pd\n",
    "bits = np.arange(0, 17, 2)\n",
    "s = pd.Series(np.power(2, bits), index=bits, name='possible_values')\n",
    "s.rename_axis('bits', inplace=True)"
   ]
  },
  {
   "cell_type": "markdown",
   "metadata": {},
   "source": [
    "If you know how many codes, or representations, you need, how do you know how many bits you need?  You use the base-two logarithm."
   ]
  },
  {
   "cell_type": "code",
   "execution_count": 35,
   "metadata": {},
   "outputs": [
    {
     "name": "stdout",
     "output_type": "stream",
     "text": [
      "7.0\n",
      "8.0\n",
      "8.0\n"
     ]
    }
   ],
   "source": [
    "def how_many_bits(codes):\n",
    "    return np.ceil(np.log2(codes))\n",
    "\n",
    "for code in [128, 256, 200]:\n",
    "    print(how_many_bits(code))"
   ]
  },
  {
   "cell_type": "markdown",
   "metadata": {},
   "source": [
    "**One byte is always represented by a pair of hexadecimal digits.**\n",
    "\n",
    "**Four bits are needed to express one hexadecimal digit.**  Note that beacuse our system has a base higher than 10, we need additional \"digits\" (below, actually letters) to express the new additions.  The letters A thru F are chosen."
   ]
  },
  {
   "cell_type": "code",
   "execution_count": 36,
   "metadata": {},
   "outputs": [
    {
     "data": {
      "text/html": [
       "<div>\n",
       "<style>\n",
       "    .dataframe thead tr:only-child th {\n",
       "        text-align: right;\n",
       "    }\n",
       "\n",
       "    .dataframe thead th {\n",
       "        text-align: left;\n",
       "    }\n",
       "\n",
       "    .dataframe tbody tr th {\n",
       "        vertical-align: top;\n",
       "    }\n",
       "</style>\n",
       "<table border=\"1\" class=\"dataframe\">\n",
       "  <thead>\n",
       "    <tr style=\"text-align: right;\">\n",
       "      <th></th>\n",
       "      <th>binary</th>\n",
       "      <th>decimal</th>\n",
       "      <th>hex</th>\n",
       "    </tr>\n",
       "  </thead>\n",
       "  <tbody>\n",
       "    <tr>\n",
       "      <th>0</th>\n",
       "      <td>0000</td>\n",
       "      <td>0</td>\n",
       "      <td>0</td>\n",
       "    </tr>\n",
       "    <tr>\n",
       "      <th>1</th>\n",
       "      <td>0001</td>\n",
       "      <td>1</td>\n",
       "      <td>1</td>\n",
       "    </tr>\n",
       "    <tr>\n",
       "      <th>2</th>\n",
       "      <td>0010</td>\n",
       "      <td>2</td>\n",
       "      <td>2</td>\n",
       "    </tr>\n",
       "    <tr>\n",
       "      <th>3</th>\n",
       "      <td>0011</td>\n",
       "      <td>3</td>\n",
       "      <td>3</td>\n",
       "    </tr>\n",
       "    <tr>\n",
       "      <th>4</th>\n",
       "      <td>0100</td>\n",
       "      <td>4</td>\n",
       "      <td>4</td>\n",
       "    </tr>\n",
       "    <tr>\n",
       "      <th>5</th>\n",
       "      <td>0101</td>\n",
       "      <td>5</td>\n",
       "      <td>5</td>\n",
       "    </tr>\n",
       "    <tr>\n",
       "      <th>6</th>\n",
       "      <td>0110</td>\n",
       "      <td>6</td>\n",
       "      <td>6</td>\n",
       "    </tr>\n",
       "    <tr>\n",
       "      <th>7</th>\n",
       "      <td>0111</td>\n",
       "      <td>7</td>\n",
       "      <td>7</td>\n",
       "    </tr>\n",
       "    <tr>\n",
       "      <th>8</th>\n",
       "      <td>1000</td>\n",
       "      <td>8</td>\n",
       "      <td>8</td>\n",
       "    </tr>\n",
       "    <tr>\n",
       "      <th>9</th>\n",
       "      <td>1001</td>\n",
       "      <td>9</td>\n",
       "      <td>9</td>\n",
       "    </tr>\n",
       "    <tr>\n",
       "      <th>10</th>\n",
       "      <td>1010</td>\n",
       "      <td>10</td>\n",
       "      <td>A</td>\n",
       "    </tr>\n",
       "    <tr>\n",
       "      <th>11</th>\n",
       "      <td>1011</td>\n",
       "      <td>11</td>\n",
       "      <td>B</td>\n",
       "    </tr>\n",
       "    <tr>\n",
       "      <th>12</th>\n",
       "      <td>1100</td>\n",
       "      <td>12</td>\n",
       "      <td>C</td>\n",
       "    </tr>\n",
       "    <tr>\n",
       "      <th>13</th>\n",
       "      <td>1101</td>\n",
       "      <td>13</td>\n",
       "      <td>D</td>\n",
       "    </tr>\n",
       "    <tr>\n",
       "      <th>14</th>\n",
       "      <td>1110</td>\n",
       "      <td>14</td>\n",
       "      <td>E</td>\n",
       "    </tr>\n",
       "    <tr>\n",
       "      <th>15</th>\n",
       "      <td>1111</td>\n",
       "      <td>15</td>\n",
       "      <td>F</td>\n",
       "    </tr>\n",
       "  </tbody>\n",
       "</table>\n",
       "</div>"
      ],
      "text/plain": [
       "   binary  decimal hex\n",
       "0    0000        0   0\n",
       "1    0001        1   1\n",
       "2    0010        2   2\n",
       "3    0011        3   3\n",
       "4    0100        4   4\n",
       "5    0101        5   5\n",
       "6    0110        6   6\n",
       "7    0111        7   7\n",
       "8    1000        8   8\n",
       "9    1001        9   9\n",
       "10   1010       10   A\n",
       "11   1011       11   B\n",
       "12   1100       12   C\n",
       "13   1101       13   D\n",
       "14   1110       14   E\n",
       "15   1111       15   F"
      ]
     },
     "execution_count": 36,
     "metadata": {},
     "output_type": "execute_result"
    }
   ],
   "source": [
    "decimal = range(16)\n",
    "binary = [format(d, '04b') for d in decimal]\n",
    "hexa = [str(i) for i in range(10)] + list('ABCDEF')\n",
    "pd.DataFrame({'hex': hexa, 'binary': binary, 'decimal': decimal})"
   ]
  },
  {
   "cell_type": "markdown",
   "metadata": {},
   "source": [
    "Here's a fuller table of what we've covered thus far:"
   ]
  },
  {
   "cell_type": "code",
   "execution_count": 37,
   "metadata": {},
   "outputs": [
    {
     "name": "stdout",
     "output_type": "stream",
     "text": [
      "          bin  dec   hex    oct\n",
      "0    00000000    0   0x0    0o0\n",
      "1    00000001    1   0x1    0o1\n",
      "2    00000010    2   0x2    0o2\n",
      "3    00000011    3   0x3    0o3\n",
      "4    00000100    4   0x4    0o4\n",
      "5    00000101    5   0x5    0o5\n",
      "6    00000110    6   0x6    0o6\n",
      "7    00000111    7   0x7    0o7\n",
      "8    00001000    8   0x8   0o10\n",
      "9    00001001    9   0x9   0o11\n",
      "10   00001010   10   0xa   0o12\n",
      "11   00001011   11   0xb   0o13\n",
      "12   00001100   12   0xc   0o14\n",
      "13   00001101   13   0xd   0o15\n",
      "14   00001110   14   0xe   0o16\n",
      "15   00001111   15   0xf   0o17\n",
      "16   00010000   16  0x10   0o20\n",
      "17   00010001   17  0x11   0o21\n",
      "18   00010010   18  0x12   0o22\n",
      "19   00010011   19  0x13   0o23\n",
      "20   00010100   20  0x14   0o24\n",
      "21   00010101   21  0x15   0o25\n",
      "22   00010110   22  0x16   0o26\n",
      "23   00010111   23  0x17   0o27\n",
      "24   00011000   24  0x18   0o30\n",
      "25   00011001   25  0x19   0o31\n",
      "26   00011010   26  0x1a   0o32\n",
      "27   00011011   27  0x1b   0o33\n",
      "28   00011100   28  0x1c   0o34\n",
      "29   00011101   29  0x1d   0o35\n",
      "30   00011110   30  0x1e   0o36\n",
      "31   00011111   31  0x1f   0o37\n",
      "32   00100000   32  0x20   0o40\n",
      "33   00100001   33  0x21   0o41\n",
      "34   00100010   34  0x22   0o42\n",
      "35   00100011   35  0x23   0o43\n",
      "36   00100100   36  0x24   0o44\n",
      "37   00100101   37  0x25   0o45\n",
      "38   00100110   38  0x26   0o46\n",
      "39   00100111   39  0x27   0o47\n",
      "40   00101000   40  0x28   0o50\n",
      "41   00101001   41  0x29   0o51\n",
      "42   00101010   42  0x2a   0o52\n",
      "43   00101011   43  0x2b   0o53\n",
      "44   00101100   44  0x2c   0o54\n",
      "45   00101101   45  0x2d   0o55\n",
      "46   00101110   46  0x2e   0o56\n",
      "47   00101111   47  0x2f   0o57\n",
      "48   00110000   48  0x30   0o60\n",
      "49   00110001   49  0x31   0o61\n",
      "50   00110010   50  0x32   0o62\n",
      "51   00110011   51  0x33   0o63\n",
      "52   00110100   52  0x34   0o64\n",
      "53   00110101   53  0x35   0o65\n",
      "54   00110110   54  0x36   0o66\n",
      "55   00110111   55  0x37   0o67\n",
      "56   00111000   56  0x38   0o70\n",
      "57   00111001   57  0x39   0o71\n",
      "58   00111010   58  0x3a   0o72\n",
      "59   00111011   59  0x3b   0o73\n",
      "60   00111100   60  0x3c   0o74\n",
      "61   00111101   61  0x3d   0o75\n",
      "62   00111110   62  0x3e   0o76\n",
      "63   00111111   63  0x3f   0o77\n",
      "64   01000000   64  0x40  0o100\n",
      "65   01000001   65  0x41  0o101\n",
      "66   01000010   66  0x42  0o102\n",
      "67   01000011   67  0x43  0o103\n",
      "68   01000100   68  0x44  0o104\n",
      "69   01000101   69  0x45  0o105\n",
      "70   01000110   70  0x46  0o106\n",
      "71   01000111   71  0x47  0o107\n",
      "72   01001000   72  0x48  0o110\n",
      "73   01001001   73  0x49  0o111\n",
      "74   01001010   74  0x4a  0o112\n",
      "75   01001011   75  0x4b  0o113\n",
      "76   01001100   76  0x4c  0o114\n",
      "77   01001101   77  0x4d  0o115\n",
      "78   01001110   78  0x4e  0o116\n",
      "79   01001111   79  0x4f  0o117\n",
      "80   01010000   80  0x50  0o120\n",
      "81   01010001   81  0x51  0o121\n",
      "82   01010010   82  0x52  0o122\n",
      "83   01010011   83  0x53  0o123\n",
      "84   01010100   84  0x54  0o124\n",
      "85   01010101   85  0x55  0o125\n",
      "86   01010110   86  0x56  0o126\n",
      "87   01010111   87  0x57  0o127\n",
      "88   01011000   88  0x58  0o130\n",
      "89   01011001   89  0x59  0o131\n",
      "90   01011010   90  0x5a  0o132\n",
      "91   01011011   91  0x5b  0o133\n",
      "92   01011100   92  0x5c  0o134\n",
      "93   01011101   93  0x5d  0o135\n",
      "94   01011110   94  0x5e  0o136\n",
      "95   01011111   95  0x5f  0o137\n",
      "96   01100000   96  0x60  0o140\n",
      "97   01100001   97  0x61  0o141\n",
      "98   01100010   98  0x62  0o142\n",
      "99   01100011   99  0x63  0o143\n",
      "100  01100100  100  0x64  0o144\n",
      "101  01100101  101  0x65  0o145\n",
      "102  01100110  102  0x66  0o146\n",
      "103  01100111  103  0x67  0o147\n",
      "104  01101000  104  0x68  0o150\n",
      "105  01101001  105  0x69  0o151\n",
      "106  01101010  106  0x6a  0o152\n",
      "107  01101011  107  0x6b  0o153\n",
      "108  01101100  108  0x6c  0o154\n",
      "109  01101101  109  0x6d  0o155\n",
      "110  01101110  110  0x6e  0o156\n",
      "111  01101111  111  0x6f  0o157\n",
      "112  01110000  112  0x70  0o160\n",
      "113  01110001  113  0x71  0o161\n",
      "114  01110010  114  0x72  0o162\n",
      "115  01110011  115  0x73  0o163\n",
      "116  01110100  116  0x74  0o164\n",
      "117  01110101  117  0x75  0o165\n",
      "118  01110110  118  0x76  0o166\n",
      "119  01110111  119  0x77  0o167\n",
      "120  01111000  120  0x78  0o170\n",
      "121  01111001  121  0x79  0o171\n",
      "122  01111010  122  0x7a  0o172\n",
      "123  01111011  123  0x7b  0o173\n",
      "124  01111100  124  0x7c  0o174\n",
      "125  01111101  125  0x7d  0o175\n",
      "126  01111110  126  0x7e  0o176\n",
      "127  01111111  127  0x7f  0o177\n",
      "128  10000000  128  0x80  0o200\n",
      "129  10000001  129  0x81  0o201\n",
      "130  10000010  130  0x82  0o202\n",
      "131  10000011  131  0x83  0o203\n",
      "132  10000100  132  0x84  0o204\n",
      "133  10000101  133  0x85  0o205\n",
      "134  10000110  134  0x86  0o206\n",
      "135  10000111  135  0x87  0o207\n",
      "136  10001000  136  0x88  0o210\n",
      "137  10001001  137  0x89  0o211\n",
      "138  10001010  138  0x8a  0o212\n",
      "139  10001011  139  0x8b  0o213\n",
      "140  10001100  140  0x8c  0o214\n",
      "141  10001101  141  0x8d  0o215\n",
      "142  10001110  142  0x8e  0o216\n",
      "143  10001111  143  0x8f  0o217\n",
      "144  10010000  144  0x90  0o220\n",
      "145  10010001  145  0x91  0o221\n",
      "146  10010010  146  0x92  0o222\n",
      "147  10010011  147  0x93  0o223\n",
      "148  10010100  148  0x94  0o224\n",
      "149  10010101  149  0x95  0o225\n",
      "150  10010110  150  0x96  0o226\n",
      "151  10010111  151  0x97  0o227\n",
      "152  10011000  152  0x98  0o230\n",
      "153  10011001  153  0x99  0o231\n",
      "154  10011010  154  0x9a  0o232\n",
      "155  10011011  155  0x9b  0o233\n",
      "156  10011100  156  0x9c  0o234\n",
      "157  10011101  157  0x9d  0o235\n",
      "158  10011110  158  0x9e  0o236\n",
      "159  10011111  159  0x9f  0o237\n",
      "160  10100000  160  0xa0  0o240\n",
      "161  10100001  161  0xa1  0o241\n",
      "162  10100010  162  0xa2  0o242\n",
      "163  10100011  163  0xa3  0o243\n",
      "164  10100100  164  0xa4  0o244\n",
      "165  10100101  165  0xa5  0o245\n",
      "166  10100110  166  0xa6  0o246\n",
      "167  10100111  167  0xa7  0o247\n",
      "168  10101000  168  0xa8  0o250\n",
      "169  10101001  169  0xa9  0o251\n",
      "170  10101010  170  0xaa  0o252\n",
      "171  10101011  171  0xab  0o253\n",
      "172  10101100  172  0xac  0o254\n",
      "173  10101101  173  0xad  0o255\n",
      "174  10101110  174  0xae  0o256\n",
      "175  10101111  175  0xaf  0o257\n",
      "176  10110000  176  0xb0  0o260\n",
      "177  10110001  177  0xb1  0o261\n",
      "178  10110010  178  0xb2  0o262\n",
      "179  10110011  179  0xb3  0o263\n",
      "180  10110100  180  0xb4  0o264\n",
      "181  10110101  181  0xb5  0o265\n",
      "182  10110110  182  0xb6  0o266\n",
      "183  10110111  183  0xb7  0o267\n",
      "184  10111000  184  0xb8  0o270\n",
      "185  10111001  185  0xb9  0o271\n",
      "186  10111010  186  0xba  0o272\n",
      "187  10111011  187  0xbb  0o273\n",
      "188  10111100  188  0xbc  0o274\n",
      "189  10111101  189  0xbd  0o275\n",
      "190  10111110  190  0xbe  0o276\n",
      "191  10111111  191  0xbf  0o277\n",
      "192  11000000  192  0xc0  0o300\n",
      "193  11000001  193  0xc1  0o301\n",
      "194  11000010  194  0xc2  0o302\n",
      "195  11000011  195  0xc3  0o303\n",
      "196  11000100  196  0xc4  0o304\n",
      "197  11000101  197  0xc5  0o305\n",
      "198  11000110  198  0xc6  0o306\n",
      "199  11000111  199  0xc7  0o307\n",
      "200  11001000  200  0xc8  0o310\n",
      "201  11001001  201  0xc9  0o311\n",
      "202  11001010  202  0xca  0o312\n",
      "203  11001011  203  0xcb  0o313\n",
      "204  11001100  204  0xcc  0o314\n",
      "205  11001101  205  0xcd  0o315\n",
      "206  11001110  206  0xce  0o316\n",
      "207  11001111  207  0xcf  0o317\n",
      "208  11010000  208  0xd0  0o320\n",
      "209  11010001  209  0xd1  0o321\n",
      "210  11010010  210  0xd2  0o322\n",
      "211  11010011  211  0xd3  0o323\n",
      "212  11010100  212  0xd4  0o324\n",
      "213  11010101  213  0xd5  0o325\n",
      "214  11010110  214  0xd6  0o326\n",
      "215  11010111  215  0xd7  0o327\n",
      "216  11011000  216  0xd8  0o330\n",
      "217  11011001  217  0xd9  0o331\n",
      "218  11011010  218  0xda  0o332\n",
      "219  11011011  219  0xdb  0o333\n",
      "220  11011100  220  0xdc  0o334\n",
      "221  11011101  221  0xdd  0o335\n",
      "222  11011110  222  0xde  0o336\n",
      "223  11011111  223  0xdf  0o337\n",
      "224  11100000  224  0xe0  0o340\n",
      "225  11100001  225  0xe1  0o341\n",
      "226  11100010  226  0xe2  0o342\n",
      "227  11100011  227  0xe3  0o343\n",
      "228  11100100  228  0xe4  0o344\n",
      "229  11100101  229  0xe5  0o345\n",
      "230  11100110  230  0xe6  0o346\n",
      "231  11100111  231  0xe7  0o347\n",
      "232  11101000  232  0xe8  0o350\n",
      "233  11101001  233  0xe9  0o351\n",
      "234  11101010  234  0xea  0o352\n",
      "235  11101011  235  0xeb  0o353\n",
      "236  11101100  236  0xec  0o354\n",
      "237  11101101  237  0xed  0o355\n",
      "238  11101110  238  0xee  0o356\n",
      "239  11101111  239  0xef  0o357\n",
      "240  11110000  240  0xf0  0o360\n",
      "241  11110001  241  0xf1  0o361\n",
      "242  11110010  242  0xf2  0o362\n",
      "243  11110011  243  0xf3  0o363\n",
      "244  11110100  244  0xf4  0o364\n",
      "245  11110101  245  0xf5  0o365\n",
      "246  11110110  246  0xf6  0o366\n",
      "247  11110111  247  0xf7  0o367\n",
      "248  11111000  248  0xf8  0o370\n",
      "249  11111001  249  0xf9  0o371\n",
      "250  11111010  250  0xfa  0o372\n",
      "251  11111011  251  0xfb  0o373\n",
      "252  11111100  252  0xfc  0o374\n",
      "253  11111101  253  0xfd  0o375\n",
      "254  11111110  254  0xfe  0o376\n",
      "255  11111111  255  0xff  0o377\n"
     ]
    }
   ],
   "source": [
    "decimal = range(256)\n",
    "hexadecimal = [hex(i) for i in decimal]\n",
    "octal = [oct(i) for i in decimal]\n",
    "binary = [format(i, '08b') for i in decimal]\n",
    "with pd.option_context(\"display.max_rows\", None):\n",
    "    df = pd.DataFrame({\n",
    "            'dec': decimal,\n",
    "            'hex': hexadecimal,\n",
    "            'oct': octal,\n",
    "            'bin': binary\n",
    "            })\n",
    "    print(df)"
   ]
  },
  {
   "cell_type": "markdown",
   "metadata": {},
   "source": [
    "# Representing text in digital form"
   ]
  },
  {
   "cell_type": "markdown",
   "metadata": {},
   "source": [
    "We need codes to represent:\n",
    "1. alphanumeric characters\n",
    "2. numbers\n",
    "3. punctuation\n",
    "4. other symbols.\n",
    "\n",
    "Such as system is sometimes known as a **coded character set**, and the individual codes are known as **character codes**.\n",
    "\n",
    "One of the earliest such codes was Baudot code (aka Murray code), use with 30-key typewriters:\n",
    "\n",
    "![murray.jpg](imgs/murray.jpg)\n",
    "\n",
    "The \"figure shift\" key was used to transition to a second set of 32 codes for punctuation (still 00 thru 1F)."
   ]
  },
  {
   "cell_type": "markdown",
   "metadata": {},
   "source": [
    "## ASCII"
   ]
  },
  {
   "cell_type": "markdown",
   "metadata": {},
   "source": [
    "American Standard Code for Information Interchange ([ASCII](https://en.wikipedia.org/wiki/ASCII); pronounced \"ASK-ee\") is a character encoding standard formalized in 1967.\n",
    "* ASCII is a 7-bit code using binary codes 0000000 through 1111111, which are hexadecimal codes 00h through 7Fh.\n",
    "* The ASCII character set defines 128 characters (0 to 127 decimal).  _Control characters_ are in 0 thru 31, while _printing characters_ are in 31 thru 127.\n",
    " * Control characters: codes originally intended not to represent printable information, but rather to control devices (such as printers).  In fact, they have no true visual representation.\n",
    "     * Many of these are now obscure because they were originally intended for typewriters, not computer keyboards.\n",
    "     * The idea here is that control characters can be intermixed with graphic characters to do some rudimentary formatting of the text.\n",
    " * Printable characters: represent letters, digits, punctuation marks, and a few miscellaneous symbols.\n",
    "\n",
    "Here is the full ASCII lookup table:\n",
    "\n",
    "![](imgs/asciifull.gif)"
   ]
  },
  {
   "cell_type": "markdown",
   "metadata": {},
   "source": [
    "## Unicode"
   ]
  },
  {
   "cell_type": "markdown",
   "metadata": {},
   "source": [
    "The issue with ASCII is that it is just \"too American.\"  Although it does include 10 codes designated for \"national use\" and has been [expanded to a 256-character set](https://en.wikipedia.org/wiki/Extended_ASCII), ASCII is hardly suitable even for other nations whose principal language is English.\n",
    "\n",
    "Unicode is \"a brave effort to create a single character set that included every reasonable writing system on the planet.\"\n",
    "- Unicode development was begun in 1988.\n",
    "- A major consequence of using additional bits to represent one character is that sequences of characters now take up more memory in this expanded character encoding system.\n",
    "\n",
    "Is Unicode a 16-bit system?  Well, not really:\n",
    "> Some people are under the misconception that Unicode is simply a 16-bit code where each character takes 16 bits and therefore there are 65,536 possible characters. This is not, actually, correct. It is the single most common myth about Unicode.\n",
    ">\n",
    "> ...\n",
    ">\n",
    "> The modern Unicode specification uses a wider range of codes, 0 through 1,114,111 (0x10FFFF in base 16).\n",
    "> \n",
    "> ...\n",
    ">\n",
    "> The latest version of Unicode contains a repertoire of 136,755 characters (32-bit) covering 139 modern and historic scripts, as well as multiple symbol sets."
   ]
  },
  {
   "cell_type": "code",
   "execution_count": 47,
   "metadata": {},
   "outputs": [
    {
     "data": {
      "text/plain": [
       "1114111"
      ]
     },
     "execution_count": 47,
     "metadata": {},
     "output_type": "execute_result"
    }
   ],
   "source": [
    "import sys\n",
    "\n",
    "sys.maxunicode"
   ]
  },
  {
   "cell_type": "markdown",
   "metadata": {},
   "source": [
    "Until now, we’ve assumed that a letter maps to some bits which you can store on disk or in memory:\n",
    "<center>A -> 0100 0001</center>\n",
    "In Unicode, a letter maps to something called a **code point** which is still just a theoretical concept.  In Unicode, the letter A is a \"platonic ideal.\"  The Unicode standard describes how characters are represented by code points. A code point is an integer value, usually denoted in base 16. \n",
    "\n",
    "* Every platonic letter in every alphabet is assigned a magic number by the Unicode consortium which is written like this: U+0639.  \n",
    "* This magic **number** is called a code point. \n",
    "* The U+ means “Unicode” and the numbers are hexadecimal (base 16).  --> `U+HHHH`\n",
    "\n",
    "\"Hello\" corresponds to:"
   ]
  },
  {
   "cell_type": "code",
   "execution_count": 4,
   "metadata": {},
   "outputs": [
    {
     "data": {
      "text/plain": [
       "['0x48', '0x65', '0x6c', '0x6c', '0x6f']"
      ]
     },
     "execution_count": 4,
     "metadata": {},
     "output_type": "execute_result"
    }
   ],
   "source": [
    "s = 'Hello'\n",
    "\n",
    "# `ord`:\n",
    "# Given a string representing one Unicode character, \n",
    "# return an integer representing the Unicode code point of that character.\n",
    "\n",
    "# `hex`:\n",
    "# Convert an integer number to a lowercase hexadecimal \n",
    "# string prefixed with “0x”.\n",
    "\n",
    "t = [hex(ord(i)) for i in s]\n",
    "t"
   ]
  },
  {
   "cell_type": "markdown",
   "metadata": {},
   "source": [
    "Or, in the notation from above:"
   ]
  },
  {
   "cell_type": "code",
   "execution_count": 39,
   "metadata": {},
   "outputs": [
    {
     "data": {
      "text/plain": [
       "['U+0048', 'U+0065', 'U+006c', 'U+006c', 'U+006f']"
      ]
     },
     "execution_count": 39,
     "metadata": {},
     "output_type": "execute_result"
    }
   ],
   "source": [
    "# a bit of a hack\n",
    "['U+00' + i.partition('x')[-1] for i in t]"
   ]
  },
  {
   "cell_type": "markdown",
   "metadata": {},
   "source": [
    "Putting all of that together visually:"
   ]
  },
  {
   "cell_type": "code",
   "execution_count": 8,
   "metadata": {},
   "outputs": [
    {
     "data": {
      "text/html": [
       "<div>\n",
       "<style>\n",
       "    .dataframe thead tr:only-child th {\n",
       "        text-align: right;\n",
       "    }\n",
       "\n",
       "    .dataframe thead th {\n",
       "        text-align: left;\n",
       "    }\n",
       "\n",
       "    .dataframe tbody tr th {\n",
       "        vertical-align: top;\n",
       "    }\n",
       "</style>\n",
       "<table border=\"1\" class=\"dataframe\">\n",
       "  <thead>\n",
       "    <tr style=\"text-align: right;\">\n",
       "      <th></th>\n",
       "      <th>character</th>\n",
       "      <th>code_point</th>\n",
       "      <th>hex_string</th>\n",
       "      <th>alternate_notation</th>\n",
       "    </tr>\n",
       "  </thead>\n",
       "  <tbody>\n",
       "    <tr>\n",
       "      <th>0</th>\n",
       "      <td>H</td>\n",
       "      <td>72</td>\n",
       "      <td>0x48</td>\n",
       "      <td>U+0048</td>\n",
       "    </tr>\n",
       "    <tr>\n",
       "      <th>1</th>\n",
       "      <td>e</td>\n",
       "      <td>101</td>\n",
       "      <td>0x65</td>\n",
       "      <td>U+0065</td>\n",
       "    </tr>\n",
       "    <tr>\n",
       "      <th>2</th>\n",
       "      <td>l</td>\n",
       "      <td>108</td>\n",
       "      <td>0x6c</td>\n",
       "      <td>U+006c</td>\n",
       "    </tr>\n",
       "    <tr>\n",
       "      <th>3</th>\n",
       "      <td>l</td>\n",
       "      <td>108</td>\n",
       "      <td>0x6c</td>\n",
       "      <td>U+006c</td>\n",
       "    </tr>\n",
       "    <tr>\n",
       "      <th>4</th>\n",
       "      <td>o</td>\n",
       "      <td>111</td>\n",
       "      <td>0x6f</td>\n",
       "      <td>U+006f</td>\n",
       "    </tr>\n",
       "  </tbody>\n",
       "</table>\n",
       "</div>"
      ],
      "text/plain": [
       "  character  code_point hex_string alternate_notation\n",
       "0         H          72       0x48             U+0048\n",
       "1         e         101       0x65             U+0065\n",
       "2         l         108       0x6c             U+006c\n",
       "3         l         108       0x6c             U+006c\n",
       "4         o         111       0x6f             U+006f"
      ]
     },
     "execution_count": 8,
     "metadata": {},
     "output_type": "execute_result"
    }
   ],
   "source": [
    "df = pd.DataFrame({'character': list(s), \n",
    "                   'code_point': [ord(i) for i in s],\n",
    "                   'hex_string': [hex(ord(i)) for i in s],\n",
    "                   'alternate_notation': ['U+00' + i.partition('x')[-1] for i in [hex(ord(i)) for i in s]]})\n",
    "df[['character', 'code_point', 'hex_string', 'alternate_notation']]"
   ]
  },
  {
   "cell_type": "code",
   "execution_count": 9,
   "metadata": {},
   "outputs": [
    {
     "data": {
      "text/html": [
       "<div>\n",
       "<style>\n",
       "    .dataframe thead tr:only-child th {\n",
       "        text-align: right;\n",
       "    }\n",
       "\n",
       "    .dataframe thead th {\n",
       "        text-align: left;\n",
       "    }\n",
       "\n",
       "    .dataframe tbody tr th {\n",
       "        vertical-align: top;\n",
       "    }\n",
       "</style>\n",
       "<table border=\"1\" class=\"dataframe\">\n",
       "  <thead>\n",
       "    <tr style=\"text-align: right;\">\n",
       "      <th></th>\n",
       "      <th>character</th>\n",
       "      <th>code_point</th>\n",
       "      <th>hex_string</th>\n",
       "      <th>alternate_notation</th>\n",
       "    </tr>\n",
       "  </thead>\n",
       "  <tbody>\n",
       "    <tr>\n",
       "      <th>0</th>\n",
       "      <td>P</td>\n",
       "      <td>80</td>\n",
       "      <td>0x50</td>\n",
       "      <td>U+0050</td>\n",
       "    </tr>\n",
       "    <tr>\n",
       "      <th>1</th>\n",
       "      <td>y</td>\n",
       "      <td>121</td>\n",
       "      <td>0x79</td>\n",
       "      <td>U+0079</td>\n",
       "    </tr>\n",
       "    <tr>\n",
       "      <th>2</th>\n",
       "      <td>t</td>\n",
       "      <td>116</td>\n",
       "      <td>0x74</td>\n",
       "      <td>U+0074</td>\n",
       "    </tr>\n",
       "    <tr>\n",
       "      <th>3</th>\n",
       "      <td>h</td>\n",
       "      <td>104</td>\n",
       "      <td>0x68</td>\n",
       "      <td>U+0068</td>\n",
       "    </tr>\n",
       "    <tr>\n",
       "      <th>4</th>\n",
       "      <td>o</td>\n",
       "      <td>111</td>\n",
       "      <td>0x6f</td>\n",
       "      <td>U+006f</td>\n",
       "    </tr>\n",
       "    <tr>\n",
       "      <th>5</th>\n",
       "      <td>n</td>\n",
       "      <td>110</td>\n",
       "      <td>0x6e</td>\n",
       "      <td>U+006e</td>\n",
       "    </tr>\n",
       "  </tbody>\n",
       "</table>\n",
       "</div>"
      ],
      "text/plain": [
       "  character  code_point hex_string alternate_notation\n",
       "0         P          80       0x50             U+0050\n",
       "1         y         121       0x79             U+0079\n",
       "2         t         116       0x74             U+0074\n",
       "3         h         104       0x68             U+0068\n",
       "4         o         111       0x6f             U+006f\n",
       "5         n         110       0x6e             U+006e"
      ]
     },
     "execution_count": 9,
     "metadata": {},
     "output_type": "execute_result"
    }
   ],
   "source": [
    "s = 'Python'\n",
    "df = pd.DataFrame({'character': list(s), \n",
    "                   'code_point': [ord(i) for i in s],\n",
    "                   'hex_string': [hex(ord(i)) for i in s],\n",
    "                   'alternate_notation': ['U+00' + i.partition('x')[-1] for i in [hex(ord(i)) for i in s]]})\n",
    "df[['character', 'code_point', 'hex_string', 'alternate_notation']]"
   ]
  },
  {
   "cell_type": "markdown",
   "metadata": {},
   "source": [
    "As another example, a code point is written using the notation `U+12CA` to mean the character with value `0x12ca` (4,810 decimal)."
   ]
  },
  {
   "cell_type": "markdown",
   "metadata": {},
   "source": [
    "## UTF-8, UTF-16, & UTF-32"
   ]
  },
  {
   "cell_type": "markdown",
   "metadata": {},
   "source": [
    "To summarize the previous section: a Unicode string is a sequence of code points.  But **we still need a way to represent these sequences as sets of bytes (meaning, values from 0 through 255) in memory.**\n",
    "\n",
    "The rules for translating a Unicode string into a sequence of bytes are called an **encoding**.  Unicode can be **implemented by different character encodings.** The Unicode standard defines UTF-8, UTF-16, and UTF-32, and several other encodings are in use.\n",
    "\n",
    "UTF-8 is one of the most commonly used encodings. UTF stands for “Unicode Transformation Format”, and the ‘8’ means that 8-bit numbers are used in the encoding.\n",
    "\n",
    "UTF-8 encodes each of the 1,112,064 valid [code points](https://en.wikipedia.org/wiki/Code_point) in Unicode using **one to four (8-bit) bytes**.  For example, two 8-bit bytes would be:\n",
    "\n",
    "> <center>00001111 01010101</center>\n",
    "\n",
    "Specifically, the rules for UTF-8 are that for each code point,\n",
    "\n",
    "1. If the code point is < 128, it’s represented by the corresponding byte value.\n",
    "2. If the code point is >= 128, it’s turned into a sequence of **two, three, or four bytes**, where each byte of the sequence is between 128 and 255.\n",
    "\n",
    "The first 128 characters of Unicode, which correspond one-to-one with ASCII, are encoded using a single octet with the same binary value as ASCII, so that valid ASCII text is valid UTF-8-encoded Unicode as well.  This is convenient for languages that use Latin characters beacuse first 128 characters of Unicode are the same as the ASCII characters.\n",
    "\n",
    "Structure of UTF-8 encoding:\n",
    "\n",
    "![](imgs/utf8b.png)\n",
    "\n",
    "UTF-16 uses 4 bytes per character and encompasses the first 65,536 code points.  UTF-32 uses four bytes for each character, encompassing 136,755 code points.  It is not widely in use because of the space that it demands.\n",
    "\n",
    "Usage of UTF-8 has eclipsed other encodings rapidly:"
   ]
  },
  {
   "cell_type": "markdown",
   "metadata": {},
   "source": [
    "![](imgs/encodings.png)"
   ]
  },
  {
   "cell_type": "markdown",
   "metadata": {},
   "source": [
    "## Python 2 versus Python 3"
   ]
  },
  {
   "cell_type": "markdown",
   "metadata": {},
   "source": [
    "In Python 3, there are two types that represent sequences of characters: `bytes` and `str`.\n",
    "- Instances of **`bytes` contain raw 8-bit values**. \n",
    "- Instances of `str` contain Unicode characters.  **All text and text-based I/O is Unicode in Python 3.**\n",
    "\n",
    "In Python 2, there are two types that represent sequences of characters: `str` and `unicode`. \n",
    "- Instances of `str` contain raw 8-bit values. \n",
    "- Instances of `unicode` contain Unicode characters."
   ]
  },
  {
   "cell_type": "markdown",
   "metadata": {},
   "source": [
    "Some wrapper functions for safer conversion:"
   ]
  },
  {
   "cell_type": "code",
   "execution_count": 40,
   "metadata": {
    "collapsed": true
   },
   "outputs": [],
   "source": [
    "def to_str(b, encoding='utf-8', errors='strict'):\n",
    "    \"\"\"Converts bytes (or string) to string.\"\"\"\n",
    "    if isinstance(b, bytes):\n",
    "        res = b.decode(encoding=encoding, errors=errors)\n",
    "    else:\n",
    "        res = b\n",
    "    return res\n",
    "\n",
    "\n",
    "def to_bytes(s, encoding='utf-8', errors='strict'):\n",
    "    \"\"\"Converts string (or bytes) to bytes.\"\"\"\n",
    "    if isinstance(s, str):\n",
    "        res = s.encode(encoding=encoding, errors=errors)\n",
    "    else:\n",
    "        res = s\n",
    "    return res"
   ]
  },
  {
   "cell_type": "markdown",
   "metadata": {},
   "source": [
    "## Python functions related to encoding"
   ]
  },
  {
   "cell_type": "markdown",
   "metadata": {},
   "source": [
    "Built-ins:\n",
    "\n",
    "| Function | Use | Example |\n",
    "| :------- | :-- | :------ |\n",
    "| `ascii(obj, /)` | Return an ASCII-only representation of an object. | |\n",
    "| `bin(number, /)` | Return the binary representation of an integer. | `bin(2796202)` |\n",
    "| `bytes([source[, encoding[, errors]]])` | Return a new “bytes” object, which is an immutable sequence of integers in the range 0 <= x < 256. | | \n",
    "| `chr(i)` | Return the string representing a character whose Unicode code point is the integer `i`.  This is the inverse of `ord()`. | | \n",
    "| `hash(object)` | Return the hash value of the object (if it has one). Hash values are integers. | | \n",
    "| `hex(x)` | Convert an integer number to a lowercase hexadecimal string prefixed with “0x”. | `hex(255)`, `hex(-42)` |\n",
    "| `oct(x)` | Convert an integer number to an octal string prefixed with “0o”. | | |\n",
    "| `ord(c)` | Given a string representing one Unicode character, return an integer representing the Unicode code point of that character. | | \n",
    "| `repr(object)` | Return a string containing a printable representation of an object. | | \n",
    "| `str(bytes_or_buffer[, encoding[, errors]])` | Return a str version of `object`. | |"
   ]
  },
  {
   "cell_type": "code",
   "execution_count": 12,
   "metadata": {},
   "outputs": [],
   "source": [
    "char = 'a'"
   ]
  },
  {
   "cell_type": "code",
   "execution_count": 13,
   "metadata": {},
   "outputs": [
    {
     "data": {
      "text/plain": [
       "97"
      ]
     },
     "execution_count": 13,
     "metadata": {},
     "output_type": "execute_result"
    }
   ],
   "source": [
    "ord(char)  # integer representing the Unicode code point of 'a'"
   ]
  },
  {
   "cell_type": "code",
   "execution_count": 14,
   "metadata": {},
   "outputs": [
    {
     "data": {
      "text/plain": [
       "'0x61'"
      ]
     },
     "execution_count": 14,
     "metadata": {},
     "output_type": "execute_result"
    }
   ],
   "source": [
    "hex(ord(char))  # convert this integer to lowercase hexadecimal string prefixed with “0x”."
   ]
  },
  {
   "cell_type": "code",
   "execution_count": 17,
   "metadata": {},
   "outputs": [
    {
     "data": {
      "text/plain": [
       "'a'"
      ]
     },
     "execution_count": 17,
     "metadata": {},
     "output_type": "execute_result"
    }
   ],
   "source": [
    "chr(97)  # chr(ord(char)) - string that maps to this code point integer"
   ]
  },
  {
   "cell_type": "markdown",
   "metadata": {},
   "source": [
    "The opposite method of `bytes.decode()` is `str.encode()`, which returns a `bytes` representation of the Unicode string, encoded in the requested encoding."
   ]
  },
  {
   "cell_type": "code",
   "execution_count": 25,
   "metadata": {},
   "outputs": [],
   "source": [
    "u = chr(40960) + 'abcd' + chr(1972)"
   ]
  },
  {
   "cell_type": "code",
   "execution_count": 27,
   "metadata": {},
   "outputs": [
    {
     "name": "stdout",
     "output_type": "stream",
     "text": [
      "ꀀabcd޴\n"
     ]
    }
   ],
   "source": [
    "print(u)"
   ]
  },
  {
   "cell_type": "code",
   "execution_count": 37,
   "metadata": {},
   "outputs": [
    {
     "data": {
      "text/plain": [
       "40960"
      ]
     },
     "execution_count": 37,
     "metadata": {},
     "output_type": "execute_result"
    }
   ],
   "source": [
    "ord(chr(40960))"
   ]
  },
  {
   "cell_type": "code",
   "execution_count": 28,
   "metadata": {},
   "outputs": [
    {
     "data": {
      "text/plain": [
       "b'\\xea\\x80\\x80abcd\\xde\\xb4'"
      ]
     },
     "execution_count": 28,
     "metadata": {},
     "output_type": "execute_result"
    }
   ],
   "source": [
    "u.encode('utf-8')"
   ]
  },
  {
   "cell_type": "markdown",
   "metadata": {},
   "source": [
    "The above returns a [bytes](https://docs.python.org/3/library/stdtypes.html#bytes) object.  (More about that below.)"
   ]
  },
  {
   "cell_type": "markdown",
   "metadata": {},
   "source": [
    "Python is aware of Unicode characters directly typed into source code.  We could type:"
   ]
  },
  {
   "cell_type": "code",
   "execution_count": 39,
   "metadata": {},
   "outputs": [],
   "source": [
    "s = \"That's a spicy Jalapeño!\""
   ]
  },
  {
   "cell_type": "markdown",
   "metadata": {},
   "source": [
    "But, what if we didn't know how to actually type this?  Alternatively, we could use a **Unicode code-point escape**.  As alluded to above there are 3 Unicode escapes:\n",
    "- `\\xhh` embeds the character with 8-bit hex value `hh`.  (Code points U+00-U+FF.)\n",
    "- `\\uhhhh` embeds the _character with 16-bit hex value `hhhh`_ in the string.  (Code points U+0100-U+FFFF.)\n",
    "- `\\uhhhhhhhh`: code points > U+10000"
   ]
  },
  {
   "cell_type": "code",
   "execution_count": 41,
   "metadata": {
    "scrolled": true
   },
   "outputs": [
    {
     "data": {
      "text/plain": [
       "True"
      ]
     },
     "execution_count": 41,
     "metadata": {},
     "output_type": "execute_result"
    }
   ],
   "source": [
    "# hex(ord('ñ')) == '0xf1'\n",
    "t = \"That's a spicy Jalape\\xf1o!\"       # \\xhh\n",
    "t2 = \"That's a spicy Jalape\\u00f1o!\"  # \\uhhhh\n",
    "s == t == t2"
   ]
  },
  {
   "cell_type": "code",
   "execution_count": 42,
   "metadata": {},
   "outputs": [
    {
     "name": "stdout",
     "output_type": "stream",
     "text": [
      "That's a spicy Jalapeño!\n"
     ]
    }
   ],
   "source": [
    "print(t)"
   ]
  },
  {
   "cell_type": "markdown",
   "metadata": {},
   "source": [
    "Now what happens when we decode this to bytes?"
   ]
  },
  {
   "cell_type": "code",
   "execution_count": 43,
   "metadata": {},
   "outputs": [
    {
     "name": "stdout",
     "output_type": "stream",
     "text": [
      "b\"That's a spicy Jalape\\xc3\\xb1o!\"\n"
     ]
    }
   ],
   "source": [
    "print(s.encode('utf-8'))"
   ]
  },
  {
   "cell_type": "markdown",
   "metadata": {},
   "source": [
    "The character becomes `\\xc3` and `\\xb1`.  To see why, remember the [rules](#UTF-8,-UTF-16,-&-UTF-32) from above.  The code point here is:"
   ]
  },
  {
   "cell_type": "code",
   "execution_count": 44,
   "metadata": {},
   "outputs": [
    {
     "data": {
      "text/plain": [
       "241"
      ]
     },
     "execution_count": 44,
     "metadata": {},
     "output_type": "execute_result"
    }
   ],
   "source": [
    "ord('ñ')"
   ]
  },
  {
   "cell_type": "markdown",
   "metadata": {},
   "source": [
    "Which is > 128.  So we will need **a sequence of two, three, or four bytes**, where each byte of the sequence is between 128 and 255.\n",
    "\n",
    "Looking back at the table,\n",
    "\n",
    "![](imgs/utf8b.png)"
   ]
  },
  {
   "cell_type": "code",
   "execution_count": 46,
   "metadata": {},
   "outputs": [
    {
     "data": {
      "text/plain": [
       "'U+00f1'"
      ]
     },
     "execution_count": 46,
     "metadata": {},
     "output_type": "execute_result"
    }
   ],
   "source": [
    "'U+00' + hex(ord('ñ')).partition('x')[-1]"
   ]
  },
  {
   "cell_type": "markdown",
   "metadata": {},
   "source": [
    "Falls between (U+0080, U+07FF), so we need two bytes.\n",
    "\n",
    "For more see the [tables](https://docs.python.org/3/reference/lexical_analysis.html#string-and-bytes-literals) for recognized escape sequences."
   ]
  },
  {
   "cell_type": "markdown",
   "metadata": {},
   "source": [
    "# Hashing & one-hot encoding"
   ]
  },
  {
   "cell_type": "markdown",
   "metadata": {},
   "source": [
    "## One-hot encoding"
   ]
  },
  {
   "cell_type": "markdown",
   "metadata": {},
   "source": [
    "The following example one-hot-encodes 2 strings to create \"feature vectors.\"  "
   ]
  },
  {
   "cell_type": "code",
   "execution_count": 41,
   "metadata": {
    "scrolled": false
   },
   "outputs": [
    {
     "data": {
      "text/plain": [
       "array([[ 1.,  1.,  1.,  0.,  0.],\n",
       "       [ 1.,  0.,  0.,  1.,  1.]])"
      ]
     },
     "execution_count": 41,
     "metadata": {},
     "output_type": "execute_result"
    }
   ],
   "source": [
    "# Derived from Mueller/Massaron p. 224\n",
    "\n",
    "def uniquewords(*args):\n",
    "    \"\"\"Create order-preserved string with unique words between *args\"\"\"\n",
    "    allwords = ' '.join(args).split()\n",
    "    return ' '.join(sorted(set(allwords), key=allwords.index)).split()\n",
    "\n",
    "def encode(*args):\n",
    "    \"\"\"One-hot encode the given input strings.\"\"\"\n",
    "    unique = uniquewords(*args)\n",
    "    feature_vectors = np.zeros((len(args), len(unique)))\n",
    "    for vec, s in zip(feature_vectors, args):\n",
    "        for num, word in enumerate(unique):                \n",
    "            vec[num] = word in s\n",
    "    return feature_vectors\n",
    "\n",
    "s1 = 'awaken my love'\n",
    "s2 = 'awaken the beast'\n",
    "\n",
    "encode(s1, s2)"
   ]
  },
  {
   "cell_type": "markdown",
   "metadata": {},
   "source": [
    "An alternate encoding that does not pay attention to original order:"
   ]
  },
  {
   "cell_type": "code",
   "execution_count": 42,
   "metadata": {},
   "outputs": [
    {
     "data": {
      "text/plain": [
       "array([[ 0.,  0.,  1.,  1.,  1.],\n",
       "       [ 1.,  1.,  1.,  0.,  0.]])"
      ]
     },
     "execution_count": 42,
     "metadata": {},
     "output_type": "execute_result"
    }
   ],
   "source": [
    "def encode(*phrases):\n",
    "    words = set(' '.join(phrases).split())\n",
    "    features = np.zeros((len(phrases), len(words)))\n",
    "    for feature, phrase in zip(features, phrases):\n",
    "        for pos, word in enumerate(words):\n",
    "            feature[pos] = word in phrase\n",
    "    return features\n",
    "\n",
    "encode(s1, s2)"
   ]
  },
  {
   "cell_type": "markdown",
   "metadata": {},
   "source": [
    "The issue with one-hot encoding is that it fails and becomes difficult to handle when your project experiences a lot of variability with regard to its inputs.  Using hashing is a smart way to handle predictability in your inputs."
   ]
  },
  {
   "cell_type": "markdown",
   "metadata": {},
   "source": [
    "## Hashing"
   ]
  },
  {
   "cell_type": "markdown",
   "metadata": {},
   "source": [
    "Python docs: [`hash`](https://docs.python.org/3/library/functions.html#hash)\n",
    "\n",
    "A hash function is any function that can be used to **map data of arbitrary size to data of fixed size**.  Hash values are integers.\n",
    "* You can't convert a hashed code to its original value.\n",
    "* In some rare cases, different words generate the same hashed result.\n",
    "* There are many hash functions, with MD5 and SHA being the most popular."
   ]
  },
  {
   "cell_type": "markdown",
   "metadata": {},
   "source": [
    "## Defining a simple hashing trick"
   ]
  },
  {
   "cell_type": "code",
   "execution_count": 43,
   "metadata": {},
   "outputs": [
    {
     "name": "stdout",
     "output_type": "stream",
     "text": [
      "[1, 0, 0, 0, 0, 0, 0, 0, 0, 0, 0, 0, 0, 0, 0, 0, 0, 0, 1, 0]\n",
      "[1, 0, 1, 0, 0, 0, 0, 0, 0, 0, 0, 0, 0, 0, 0, 0, 0, 1, 0, 0]\n"
     ]
    }
   ],
   "source": [
    "# from Mueller/Massaron\n",
    "def hashing_trick(input_str, vec_size=20):\n",
    "    feature_vector = [0] * vec_size\n",
    "    for word in input_str.split(' '):\n",
    "        index = abs(hash(word)) % vec_size\n",
    "        feature_vector[index] = 1\n",
    "    return feature_vector\n",
    "\n",
    "print(hashing_trick(s1))\n",
    "print(hashing_trick(s2))"
   ]
  }
 ],
 "metadata": {
  "kernelspec": {
   "display_name": "Python 3",
   "language": "python",
   "name": "python3"
  },
  "language_info": {
   "codemirror_mode": {
    "name": "ipython",
    "version": 3
   },
   "file_extension": ".py",
   "mimetype": "text/x-python",
   "name": "python",
   "nbconvert_exporter": "python",
   "pygments_lexer": "ipython3",
   "version": "3.6.3"
  }
 },
 "nbformat": 4,
 "nbformat_minor": 2
}
