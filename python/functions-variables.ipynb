{
 "cells": [
  {
   "cell_type": "markdown",
   "metadata": {},
   "source": [
    "# Covered here"
   ]
  },
  {
   "cell_type": "markdown",
   "metadata": {},
   "source": [
    "* [The `def` statement](#The-def-statement)\n",
    "* [The `return` statement](#The-return-statement)\n",
    "* [Built-in functions](#Built-in functions)\n",
    "* [Lambda functions](#Lambda-functions)\n",
    "* [Positional v. keyword arguments](#Positional-v.-keyword-arguments)\n",
    "* [Args v. kwargs](#Args-v.-kwargs)\n",
    "* [Subtle points about default arguments](#Subtle-points-about-default-arguments)\n",
    "* [Decorators](#Decorators)\n",
    "* [The `map` function](#The-map-function)"
   ]
  },
  {
   "cell_type": "markdown",
   "metadata": {},
   "source": [
    "# Resources & references"
   ]
  },
  {
   "cell_type": "markdown",
   "metadata": {},
   "source": [
    "* [docs.python.org: More on Defining Functions](https://docs.python.org/dev/tutorial/controlflow.html#more-on-defining-functions)\n",
    "* [SO: args and kwargs?](http://stackoverflow.com/questions/3394835/args-and-kwargs)\n",
    "* [SO: What does \\*\\* (double star) and * (star) do for parameters?](http://stackoverflow.com/questions/36901/what-does-double-star-and-star-do-for-parameters)\n",
    "* [docs.python.org: Function definitions](https://docs.python.org/3/reference/compound_stmts.html#function-definitions)"
   ]
  },
  {
   "cell_type": "markdown",
   "metadata": {},
   "source": [
    "# The `def` statement"
   ]
  },
  {
   "cell_type": "markdown",
   "metadata": {},
   "source": [
    "* A function is like a mini-program within a program.  Functions can be created from scratch.\n",
    "* The `def` statement defines a function (more concisely, introduces a function definition).\n",
    "* The code in the block that follows the `def` statement is the body of the function. \n",
    "* This code is executed when the function is called, not when the function is first defined.\n",
    "* In code, a function call is just the function’s name followed by parentheses, possibly with some number of arguments in between the parentheses."
   ]
  },
  {
   "cell_type": "markdown",
   "metadata": {},
   "source": [
    "# The `return` statement"
   ]
  },
  {
   "cell_type": "markdown",
   "metadata": {},
   "source": [
    "* The `return` statement returns with a value from a function. \n",
    "* `return` without an expression argument returns `None`. \n",
    "* Falling off the end of a function also returns `None`."
   ]
  },
  {
   "cell_type": "markdown",
   "metadata": {},
   "source": [
    "# Built-in functions"
   ]
  },
  {
   "cell_type": "markdown",
   "metadata": {},
   "source": [
    "* Some functions are already built in to Python and no modules are required to import them.\n",
    "* A list is [here](https://docs.python.org/3.5/library/functions.html).\n",
    "* A select few are detailed below:\n",
    " * **`all(iterable)`** and **`any(iterable)`** - native Python versions of `np.all()` and `np.any()` that can be used on any iterable.  However, as described in this [post](https://stackoverflow.com/questions/43382237/numpy-ndarray-all-vs-np-allndarray-vs-allndarray), the NumPy versions will be significantly faster on arrays.  `enumerate()` returns a tuple containing a count (from start which defaults to 0) and the values obtained from iterating over _iterable_.\n",
    " * **`delattr(object, name)`** - This is a relative of `setattr()`. The arguments are an object and a string. The string must be the name of one of the object’s attributes. The function deletes the named attribute, provided the object allows it. For example, `delattr(x, 'foobar')` is equivalent to `del x.foobar`.\n",
    " * **`divmod(a, b)`** - Take two (non complex) numbers as arguments and return a pair of numbers consisting of their quotient and remainder when using integer division.  Returns the tuple `(a//b, a%b)`.\n",
    " * **`enumerate(iterable, start=0)`** - Return an enumerate object.  \n",
    " * **`getattr(object, name[, default])`** - Return the value of the named attribute of object. `name` must be a string.  For example, `getattr(x, 'foobar')` is equivalent to `x.foobar`.\n",
    " * **`hasattr(object, name)`** - The arguments are an object and a string. The result is `True` if the string is the name of one of the object’s attributes, `False` if not.\n",
    " * **`map(function, iterable, ...)`** - Return an iterator that applies function to every item of iterable, yielding the results.  Does virtually the same thing as a list comprehension, see [here](https://stackoverflow.com/questions/10973766/understanding-the-map-function).\n",
    " * **`reversed(seq)`** - Return a reverse iterator.  Note something similar can be achieved through `'hello world'[::-1]`.\n",
    " * **`round(number[, ndigits])`** - Return number rounded to ndigits precision after the decimal point. **If ndigits is omitted or is None, it returns the nearest integer to its input.**\n",
    " * **`setattr(object, name, value)`** - The counterpart of `getattr()`. The arguments are an object, a string and an arbitrary value. The string may name an existing attribute or a new attribute.\n",
    " * **`sorted(iterable[, key][, reverse])`** - Return a new sorted list from the items in iterable.  Has two optional arguments which must be specified as keyword arguments.\n",
    " * **`zip(*iterables)`** - Make an iterator that aggregates elements from each of the iterables.  **Returns an iterator of tuples, where the i-th tuple contains the i-th element from each of the argument sequences or iterables.**"
   ]
  },
  {
   "cell_type": "code",
   "execution_count": 7,
   "metadata": {},
   "outputs": [
    {
     "data": {
      "text/plain": [
       "(False, True)"
      ]
     },
     "execution_count": 7,
     "metadata": {},
     "output_type": "execute_result"
    }
   ],
   "source": [
    "all([True, False]), any([True, False])"
   ]
  },
  {
   "cell_type": "code",
   "execution_count": 5,
   "metadata": {},
   "outputs": [
    {
     "data": {
      "text/plain": [
       "((2, 0), (6, 2))"
      ]
     },
     "execution_count": 5,
     "metadata": {},
     "output_type": "execute_result"
    }
   ],
   "source": [
    "divmod(10, 5), divmod(20, 3)"
   ]
  },
  {
   "cell_type": "code",
   "execution_count": 9,
   "metadata": {
    "scrolled": true
   },
   "outputs": [
    {
     "data": {
      "text/plain": [
       "3.3"
      ]
     },
     "execution_count": 9,
     "metadata": {},
     "output_type": "execute_result"
    }
   ],
   "source": [
    "round(3.265, 1)"
   ]
  },
  {
   "cell_type": "code",
   "execution_count": 10,
   "metadata": {
    "scrolled": true
   },
   "outputs": [
    {
     "data": {
      "text/plain": [
       "3"
      ]
     },
     "execution_count": 10,
     "metadata": {},
     "output_type": "execute_result"
    }
   ],
   "source": [
    "round(3.265)"
   ]
  },
  {
   "cell_type": "code",
   "execution_count": 11,
   "metadata": {},
   "outputs": [
    {
     "data": {
      "text/plain": [
       "[(0, 'Spring'), (1, 'Summer'), (2, 'Fall'), (3, 'Winter')]"
      ]
     },
     "execution_count": 11,
     "metadata": {},
     "output_type": "execute_result"
    }
   ],
   "source": [
    "seasons = ['Spring', 'Summer', 'Fall', 'Winter']\n",
    "list(enumerate(seasons))"
   ]
  },
  {
   "cell_type": "code",
   "execution_count": 12,
   "metadata": {},
   "outputs": [
    {
     "data": {
      "text/plain": [
       "[(1, 'Spring'), (2, 'Summer'), (3, 'Fall'), (4, 'Winter')]"
      ]
     },
     "execution_count": 12,
     "metadata": {},
     "output_type": "execute_result"
    }
   ],
   "source": [
    "list(enumerate(seasons, start=1))"
   ]
  },
  {
   "cell_type": "markdown",
   "metadata": {},
   "source": [
    "# Lambda functions"
   ]
  },
  {
   "cell_type": "markdown",
   "metadata": {},
   "source": [
    "The lambda keyword is used to create simple “anonymous” functions on one line.  There is always an implicit return statement."
   ]
  },
  {
   "cell_type": "code",
   "execution_count": 1,
   "metadata": {
    "scrolled": true
   },
   "outputs": [
    {
     "data": {
      "text/plain": [
       "8"
      ]
     },
     "execution_count": 1,
     "metadata": {},
     "output_type": "execute_result"
    }
   ],
   "source": [
    "def f(x):\n",
    "    return x**3\n",
    "# ... is equivalent to ...\n",
    "f = lambda x: x**3; f(2)"
   ]
  },
  {
   "cell_type": "code",
   "execution_count": 2,
   "metadata": {
    "scrolled": true
   },
   "outputs": [
    {
     "data": {
      "text/plain": [
       "8"
      ]
     },
     "execution_count": 2,
     "metadata": {},
     "output_type": "execute_result"
    }
   ],
   "source": [
    "(lambda x, y: x + y)(5, 3)"
   ]
  },
  {
   "cell_type": "code",
   "execution_count": 3,
   "metadata": {},
   "outputs": [
    {
     "data": {
      "text/plain": [
       "[0, -1, 1, -2, 2, -3, 3, -4, 4, -5, 5]"
      ]
     },
     "execution_count": 3,
     "metadata": {},
     "output_type": "execute_result"
    }
   ],
   "source": [
    "sorted(range(-5, 6), key=lambda x: x ** 2)"
   ]
  },
  {
   "cell_type": "code",
   "execution_count": 11,
   "metadata": {},
   "outputs": [
    {
     "data": {
      "text/plain": [
       "5"
      ]
     },
     "execution_count": 11,
     "metadata": {},
     "output_type": "execute_result"
    }
   ],
   "source": [
    "add = lambda x, y: x + y\n",
    "add(2, 3)"
   ]
  },
  {
   "cell_type": "code",
   "execution_count": 14,
   "metadata": {},
   "outputs": [
    {
     "data": {
      "text/plain": [
       "['Ned Batchelder', 'David Beazley', 'Raymond Hettinger', 'Brian Jones']"
      ]
     },
     "execution_count": 14,
     "metadata": {},
     "output_type": "execute_result"
    }
   ],
   "source": [
    "names = ['David Beazley', 'Brian Jones',\n",
    "         'Raymond Hettinger', 'Ned Batchelder']\n",
    "sorted(names, key=lambda name: name.split()[-1].lower())"
   ]
  },
  {
   "cell_type": "markdown",
   "metadata": {},
   "source": [
    "# Splat/star operators"
   ]
  },
  {
   "cell_type": "markdown",
   "metadata": {},
   "source": [
    "Here we refer to a single asterisk (\\*) and two asterisks (\\*\\*) as the star operator(s).  These **idioms** have a wide (and expanding) application within Python.\n",
    "\n",
    "Most generally, they are use for some form of **unpacking** of an object."
   ]
  },
  {
   "cell_type": "markdown",
   "metadata": {},
   "source": [
    "## Positional v. keyword arguments"
   ]
  },
  {
   "cell_type": "markdown",
   "metadata": {},
   "source": [
    "## Args v. kwargs"
   ]
  },
  {
   "cell_type": "markdown",
   "metadata": {},
   "source": [
    "Some background: parameters (arguments) may be _positional arguments_ or _keyword arguments_.\n",
    "\n",
    "The main restriction on function arguments is that **keyword arguments must follow positional arguments, if any.**"
   ]
  },
  {
   "cell_type": "code",
   "execution_count": 2,
   "metadata": {
    "collapsed": true
   },
   "outputs": [],
   "source": [
    "def my_func(x, y, z=1.5):\n",
    "    # x and y are positional arguments; \n",
    "    # z is keyword argument\n",
    "    pass"
   ]
  },
  {
   "cell_type": "markdown",
   "metadata": {},
   "source": [
    "The use of the terms \"args\" and \"kwargs\" themselves are **just idioms/conventions--it is the use of star operators that \"matters\" here.**\n",
    "\n",
    "- `*args`: any number of _positional_ arguments packed into a tuple.  Use it when you're not sure how many arguments might be passed to your function.\n",
    "- `**kwargs`: any number of keyword arguments packed into a dictionary.  Allows you to handle *named* arguments that you have not defined in advance."
   ]
  },
  {
   "cell_type": "code",
   "execution_count": 1,
   "metadata": {},
   "outputs": [
    {
     "name": "stdout",
     "output_type": "stream",
     "text": [
      "args is ('one', 'two')\n",
      "kwargs is {'y': 2, 'z': 3, 'x': 1}\n"
     ]
    }
   ],
   "source": [
    "def variable_args(*args, **kwargs):\n",
    "    print('args is', args)\n",
    "    print('kwargs is', kwargs)\n",
    "variable_args('one', 'two', x=1, y=2, z=3)"
   ]
  },
  {
   "cell_type": "code",
   "execution_count": 3,
   "metadata": {},
   "outputs": [
    {
     "name": "stdout",
     "output_type": "stream",
     "text": [
      "0. apple\n",
      "1. banana\n",
      "2. cabbage\n"
     ]
    }
   ],
   "source": [
    "def print_everything(*args):\n",
    "    for count, thing in enumerate(args):\n",
    "        print( '{0}. {1}'.format(count, thing))\n",
    "print_everything('apple', 'banana', 'cabbage')        "
   ]
  },
  {
   "cell_type": "code",
   "execution_count": 4,
   "metadata": {},
   "outputs": [
    {
     "name": "stdout",
     "output_type": "stream",
     "text": [
      "apple = fruit\n",
      "cabbage = vegetable\n"
     ]
    }
   ],
   "source": [
    "def table_things(**kwargs):\n",
    "    for name, value in kwargs.items():\n",
    "        print( '{0} = {1}'.format(name, value))\n",
    "table_things(apple='fruit', cabbage='vegetable')  "
   ]
  },
  {
   "cell_type": "code",
   "execution_count": 5,
   "metadata": {
    "scrolled": true
   },
   "outputs": [
    {
     "name": "stdout",
     "output_type": "stream",
     "text": [
      "2 squared is 4\n",
      "4 squared is 16\n",
      "5 squared is 25\n"
     ]
    }
   ],
   "source": [
    "# Example 2\n",
    "def display_multi_b(*args):\n",
    "    for num in args:\n",
    "        numsq = num ** 2\n",
    "        print(str(num) + ' squared is ' + str(numsq))\n",
    "        \n",
    "display_multi_b(2, 4, 5)"
   ]
  },
  {
   "cell_type": "markdown",
   "metadata": {},
   "source": [
    "Formal documentation on these two idioms is sparse; as it relates to functions, see [4.7.2 Keyword arguments](https://docs.python.org/3.5/tutorial/controlflow.html#keyword-arguments).  This excerpt is important as it's the best formal definition of both operators _when used inside a function call_:\n",
    "\n",
    "> - `**name` receives a **dictionary** containing all keyword arguments _except for those corresponding to a formal parameter_.\n",
    "> - `*name` receives a **tuple** containing the positional arguments _beyond the formal parameter list_. (`*name` must occur before `**name`.)"
   ]
  },
  {
   "cell_type": "code",
   "execution_count": 3,
   "metadata": {},
   "outputs": [
    {
     "name": "stdout",
     "output_type": "stream",
     "text": [
      "-- Do you have any Limburger ?\n",
      "-- I'm sorry, we're all out of Limburger\n",
      "It's very runny, sir.\n",
      "It's really very, VERY runny, sir.\n",
      "----------------------------------------\n",
      "client : John Cleese\n",
      "shopkeeper : Michael Palin\n",
      "sketch : Cheese Shop Sketch\n"
     ]
    }
   ],
   "source": [
    "def cheeseshop(kind, *arguments, **keywords):\n",
    "    print(\"-- Do you have any\", kind, \"?\")\n",
    "    print(\"-- I'm sorry, we're all out of\", kind)\n",
    "    for arg in arguments:\n",
    "        print(arg)\n",
    "    print(\"-\" * 40)\n",
    "    keys = sorted(keywords.keys())\n",
    "    for kw in keys:\n",
    "        print(kw, \":\", keywords[kw])\n",
    "\n",
    "cheeseshop(\"Limburger\", \"It's very runny, sir.\",\n",
    "           \"It's really very, VERY runny, sir.\",\n",
    "           shopkeeper=\"Michael Palin\",\n",
    "           client=\"John Cleese\",\n",
    "           sketch=\"Cheese Shop Sketch\")     # two *args, 3 **kwargs here"
   ]
  },
  {
   "cell_type": "markdown",
   "metadata": {},
   "source": [
    "## Function unpacking \"in reverse\""
   ]
  },
  {
   "cell_type": "markdown",
   "metadata": {},
   "source": [
    "We can also do the \"reverse\" of the above; any sequence (or iterable) can be unpacked into variables using a simple assignment operation.\n",
    "\n",
    "Consider the following overly verbose way of calling a function:"
   ]
  },
  {
   "cell_type": "code",
   "execution_count": 6,
   "metadata": {},
   "outputs": [
    {
     "name": "stdout",
     "output_type": "stream",
     "text": [
      "<1, 0, 1>\n"
     ]
    }
   ],
   "source": [
    "def print_vector(x, y, z):\n",
    "    print('<%s, %s, %s>' % (x, y, z))\n",
    "tuple_vec = (1, 0, 1)\n",
    "print_vector(tuple_vec[0],\n",
    "             tuple_vec[1],\n",
    "             tuple_vec[2])"
   ]
  },
  {
   "cell_type": "markdown",
   "metadata": {},
   "source": [
    "Now more concisely:"
   ]
  },
  {
   "cell_type": "code",
   "execution_count": 7,
   "metadata": {},
   "outputs": [
    {
     "name": "stdout",
     "output_type": "stream",
     "text": [
      "<1, 0, 1>\n"
     ]
    }
   ],
   "source": [
    "print_vector(*tuple_vec)"
   ]
  },
  {
   "cell_type": "markdown",
   "metadata": {},
   "source": [
    "Similarly, the above works with `**kwargs` also:"
   ]
  },
  {
   "cell_type": "code",
   "execution_count": 20,
   "metadata": {},
   "outputs": [
    {
     "name": "stdout",
     "output_type": "stream",
     "text": [
      "30\n"
     ]
    }
   ],
   "source": [
    "def f(a, b):\n",
    "    return a * b\n",
    "kwargs = {'a': 5, 'b': 6}\n",
    "print(f(**kwargs))"
   ]
  },
  {
   "cell_type": "markdown",
   "metadata": {},
   "source": [
    "Here's a summary of unpacking as it relates to function _construction_ and function _calls_:\n",
    "\n",
    "```PYTHON\n",
    "            In function *construction*      In function *call*\n",
    "=======================================================================\n",
    "          |  def f(*args):                 |  def f(a, b):\n",
    "*args     |      for arg in args:          |      return a + b\n",
    "          |          print(arg)            |  args = (1, 2)\n",
    "          |  f(1, 2)                       |  f(*args)\n",
    "----------|--------------------------------|---------------------------\n",
    "          |  def f(a, b):                  |  def f(a, b):\n",
    "**kwargs  |      return a + b              |      return a + b\n",
    "          |  def g(**kwargs):              |  kwargs = dict(a=1, b=2)\n",
    "          |      return f(**kwargs)        |  f(**kwargs)\n",
    "          |  g(a=1, b=2)                   |\n",
    "-----------------------------------------------------------------------\n",
    "```"
   ]
  },
  {
   "cell_type": "markdown",
   "metadata": {},
   "source": [
    "## Unpacking outside of functinos"
   ]
  },
  {
   "cell_type": "markdown",
   "metadata": {},
   "source": [
    "Introduced in Python 3: [PEP 3132](https://www.python.org/dev/peps/pep-3132/).\n",
    "\n",
    "Unpacking actually works with any object that happens to be iterable, not just tuples or lists. This includes strings, files, iterators, and generators. For example:"
   ]
  },
  {
   "cell_type": "code",
   "execution_count": 8,
   "metadata": {},
   "outputs": [
    {
     "data": {
      "text/plain": [
       "('H', 'e')"
      ]
     },
     "execution_count": 8,
     "metadata": {},
     "output_type": "execute_result"
    }
   ],
   "source": [
    "s = 'Hello'\n",
    "a, b, c, d, e = s\n",
    "a, b"
   ]
  },
  {
   "cell_type": "markdown",
   "metadata": {},
   "source": [
    "When unpacking, you may sometimes want to discard certain values. Python has no special syntax for this, but you can often just pick a throwaway variable name for it."
   ]
  },
  {
   "cell_type": "code",
   "execution_count": 9,
   "metadata": {},
   "outputs": [
    {
     "data": {
      "text/plain": [
       "(50, 91.1)"
      ]
     },
     "execution_count": 9,
     "metadata": {},
     "output_type": "execute_result"
    }
   ],
   "source": [
    "data = [ 'ACME', 50, 91.1, (2012, 12, 21) ]\n",
    "_, shares, price, _ = data\n",
    "shares, price"
   ]
  },
  {
   "cell_type": "code",
   "execution_count": 21,
   "metadata": {},
   "outputs": [
    {
     "data": {
      "text/plain": [
       "[1, 2, 3]"
      ]
     },
     "execution_count": 21,
     "metadata": {},
     "output_type": "execute_result"
    }
   ],
   "source": [
    "_, *middle, _ = range(5)\n",
    "middle"
   ]
  },
  {
   "cell_type": "markdown",
   "metadata": {},
   "source": [
    "Problem: You need to unpack N elements from an iterable, but the iterable may be longer than N elements, causing a “too many values to unpack” exception.  Star expressions can be used to address this problem:"
   ]
  },
  {
   "cell_type": "code",
   "execution_count": 11,
   "metadata": {},
   "outputs": [
    {
     "data": {
      "text/plain": [
       "94"
      ]
     },
     "execution_count": 11,
     "metadata": {},
     "output_type": "execute_result"
    }
   ],
   "source": [
    "from statistics import mean\n",
    "def drop_first_last(grades):\n",
    "    first, *middle, last = grades\n",
    "    return mean(middle)\n",
    "\n",
    "drop_first_last([60, 90, 95, 97, 100]) # 60 and 100 will be dropped"
   ]
  },
  {
   "cell_type": "markdown",
   "metadata": {},
   "source": [
    "As another use case, suppose you have user records that consist of a name and email address, followed by an arbitrary number of phone numbers. You could unpack the records like this: "
   ]
  },
  {
   "cell_type": "code",
   "execution_count": 13,
   "metadata": {},
   "outputs": [
    {
     "data": {
      "text/plain": [
       "['773-555-1212', '847-555-1212']"
      ]
     },
     "execution_count": 13,
     "metadata": {},
     "output_type": "execute_result"
    }
   ],
   "source": [
    "record = ('Dave', 'dave@example.com', '773-555-1212', '847-555-1212')\n",
    "name, email, *phone_numbers = record\n",
    "phone_numbers"
   ]
  },
  {
   "cell_type": "markdown",
   "metadata": {},
   "source": [
    "Note that when a function returns multiple values, it is really just returning a tuple.  (Because a tuple is defined by its commas, not its parentheses.)  For example:"
   ]
  },
  {
   "cell_type": "code",
   "execution_count": 2,
   "metadata": {},
   "outputs": [
    {
     "data": {
      "text/plain": [
       "True"
      ]
     },
     "execution_count": 2,
     "metadata": {},
     "output_type": "execute_result"
    }
   ],
   "source": [
    "a = (1, 2); b = 1, 2\n",
    "a == b"
   ]
  },
  {
   "cell_type": "code",
   "execution_count": 4,
   "metadata": {},
   "outputs": [
    {
     "name": "stdout",
     "output_type": "stream",
     "text": [
      "1\n"
     ]
    }
   ],
   "source": [
    "def myfun():\n",
    "    return 1, 2, 3\n",
    "a, b, c = myfun() # unpack the result\n",
    "print(a)"
   ]
  },
  {
   "cell_type": "markdown",
   "metadata": {},
   "source": [
    "### Potential errors"
   ]
  },
  {
   "cell_type": "markdown",
   "metadata": {},
   "source": [
    "It is an error to use the starred expression as a lone assignment target, as in:"
   ]
  },
  {
   "cell_type": "code",
   "execution_count": 22,
   "metadata": {},
   "outputs": [
    {
     "ename": "SyntaxError",
     "evalue": "starred assignment target must be in a list or tuple (<ipython-input-22-5cb63eeb477a>, line 1)",
     "output_type": "error",
     "traceback": [
      "\u001b[1;36m  File \u001b[1;32m\"<ipython-input-22-5cb63eeb477a>\"\u001b[1;36m, line \u001b[1;32m1\u001b[0m\n\u001b[1;33m    *a = range(5)  # Not okay\u001b[0m\n\u001b[1;37m                             ^\u001b[0m\n\u001b[1;31mSyntaxError\u001b[0m\u001b[1;31m:\u001b[0m starred assignment target must be in a list or tuple\n"
     ]
    }
   ],
   "source": [
    "*a = range(5)  # Not okay"
   ]
  },
  {
   "cell_type": "code",
   "execution_count": 24,
   "metadata": {},
   "outputs": [
    {
     "name": "stdout",
     "output_type": "stream",
     "text": [
      "[0, 1, 2, 3, 4]\n"
     ]
    }
   ],
   "source": [
    "*a, = range(5)  # this is okay\n",
    "print(a)"
   ]
  },
  {
   "cell_type": "markdown",
   "metadata": {},
   "source": [
    "This comes into play in \"tuple comprehension\":"
   ]
  },
  {
   "cell_type": "code",
   "execution_count": 30,
   "metadata": {},
   "outputs": [
    {
     "ename": "SyntaxError",
     "evalue": "can't use starred expression here (<ipython-input-30-e8f9ceef3ff5>, line 1)",
     "output_type": "error",
     "traceback": [
      "\u001b[1;36m  File \u001b[1;32m\"<ipython-input-30-e8f9ceef3ff5>\"\u001b[1;36m, line \u001b[1;32m1\u001b[0m\n\u001b[1;33m    *(a for a in [1, 2, 3])  # Invalid\u001b[0m\n\u001b[1;37m                                      ^\u001b[0m\n\u001b[1;31mSyntaxError\u001b[0m\u001b[1;31m:\u001b[0m can't use starred expression here\n"
     ]
    }
   ],
   "source": [
    "*(a for a in [1, 2, 3])  # Invalid"
   ]
  },
  {
   "cell_type": "code",
   "execution_count": 29,
   "metadata": {},
   "outputs": [
    {
     "data": {
      "text/plain": [
       "(1, 2, 3)"
      ]
     },
     "execution_count": 29,
     "metadata": {},
     "output_type": "execute_result"
    }
   ],
   "source": [
    "*(a for a in [1, 2, 3]),  # Valid"
   ]
  },
  {
   "cell_type": "markdown",
   "metadata": {},
   "source": [
    "There's also [limited usage of the operators in a return statement](https://stackoverflow.com/questions/47272460/python-tuple-unpacking-in-return-statement):"
   ]
  },
  {
   "cell_type": "code",
   "execution_count": 25,
   "metadata": {},
   "outputs": [
    {
     "ename": "SyntaxError",
     "evalue": "invalid syntax (<ipython-input-25-1fb93bd497b3>, line 3)",
     "output_type": "error",
     "traceback": [
      "\u001b[1;36m  File \u001b[1;32m\"<ipython-input-25-1fb93bd497b3>\"\u001b[1;36m, line \u001b[1;32m3\u001b[0m\n\u001b[1;33m    return 1, *rest  # Invalid\u001b[0m\n\u001b[1;37m              ^\u001b[0m\n\u001b[1;31mSyntaxError\u001b[0m\u001b[1;31m:\u001b[0m invalid syntax\n"
     ]
    }
   ],
   "source": [
    "def f():\n",
    "    rest = [2, 3]\n",
    "    return 1, *rest  # Invalid"
   ]
  },
  {
   "cell_type": "code",
   "execution_count": 26,
   "metadata": {
    "collapsed": true
   },
   "outputs": [],
   "source": [
    "def f():\n",
    "    rest = [2, 3]\n",
    "    return (1, *rest)  # Valid"
   ]
  },
  {
   "cell_type": "markdown",
   "metadata": {},
   "source": [
    "## Expanded usage"
   ]
  },
  {
   "cell_type": "markdown",
   "metadata": {},
   "source": [
    "Python 3.5 [expanded](https://docs.python.org/3/whatsnew/3.5.html#pep-448-additional-unpacking-generalizations) the use of star operators.  (See also [PEP 448](https://www.python.org/dev/peps/pep-0448/).)  \n",
    "\n",
    "For instance, use of the double star operator can also unpack two dictionaries in order to combine them:"
   ]
  },
  {
   "cell_type": "code",
   "execution_count": 13,
   "metadata": {},
   "outputs": [
    {
     "name": "stdout",
     "output_type": "stream",
     "text": [
      "{'a': 0, 'b': 2, 'c': 3, 'd': 4}\n"
     ]
    }
   ],
   "source": [
    "xs = dict(a=1, b=2)\n",
    "ys = dict(c=3, d=4, a=0)  # `a` will be overwriten\n",
    "xsys = {**xs, **ys}\n",
    "print(xsys)"
   ]
  },
  {
   "cell_type": "code",
   "execution_count": 14,
   "metadata": {},
   "outputs": [
    {
     "name": "stdout",
     "output_type": "stream",
     "text": [
      "{'x': 1, 'y': 2, 'z': 3}\n"
     ]
    }
   ],
   "source": [
    "print(dict(**{'x': 1}, y=2, **{'z': 3}))"
   ]
  },
  {
   "cell_type": "markdown",
   "metadata": {},
   "source": [
    "**Tuple, list, set, and dictionary displays allow multiple unpackings**:"
   ]
  },
  {
   "cell_type": "code",
   "execution_count": 17,
   "metadata": {},
   "outputs": [
    {
     "name": "stdout",
     "output_type": "stream",
     "text": [
      "0 1 2 3 4\n",
      "[0, 1, 2, 3, 4]\n",
      "{0, 1, 2, 3, 4, 5, 6, 7}\n"
     ]
    }
   ],
   "source": [
    "print(*range(4), 4)  # Note that just *range(4) would not work!\n",
    "print([*range(4), 4])\n",
    "print({*range(4), 4, *(5, 6, 7)})"
   ]
  },
  {
   "cell_type": "markdown",
   "metadata": {},
   "source": [
    "And **functions now support an arbitrary number of unpackings rather than just one**:"
   ]
  },
  {
   "cell_type": "code",
   "execution_count": 19,
   "metadata": {},
   "outputs": [
    {
     "name": "stdout",
     "output_type": "stream",
     "text": [
      "1 1.5 2 2.5 3\n"
     ]
    }
   ],
   "source": [
    "print(*[1, 1.5], *[2, 2.5], 3)"
   ]
  },
  {
   "cell_type": "markdown",
   "metadata": {},
   "source": [
    "## Args can reduce \"visual noise\""
   ]
  },
  {
   "cell_type": "code",
   "execution_count": 7,
   "metadata": {},
   "outputs": [
    {
     "name": "stdout",
     "output_type": "stream",
     "text": [
      "My numbers are: 1, 2\n",
      "Hi there\n"
     ]
    }
   ],
   "source": [
    "# A \"visually noisy\" example\n",
    "def log(message, values):\n",
    "    if not values:\n",
    "        print(message)\n",
    "    else:\n",
    "        values_str = ', '.join(str(x) for x in values)\n",
    "        print('%s: %s' % (message, values_str))\n",
    "log('My numbers are', [1, 2])\n",
    "log('Hi there', [])"
   ]
  },
  {
   "cell_type": "markdown",
   "metadata": {},
   "source": [
    "Having to pass an empty list when you have no values to log is cumbersome and noisy. It’d be better to leave out the second argument entirely.  You can do this with `*args`."
   ]
  },
  {
   "cell_type": "code",
   "execution_count": 6,
   "metadata": {},
   "outputs": [
    {
     "name": "stdout",
     "output_type": "stream",
     "text": [
      "My numbers are: 1, 2\n",
      "Hi there\n"
     ]
    }
   ],
   "source": [
    "def log(message, *values):\n",
    "    if not values:\n",
    "        print(message)\n",
    "    else:\n",
    "        values_str = ', '.join(str(x) for x in values)\n",
    "        print('%s: %s' % (message, values_str))\n",
    "log('My numbers are', 1, 2) # not required to pass a (possibly empty) list here\n",
    "log('Hi there')"
   ]
  },
  {
   "cell_type": "markdown",
   "metadata": {},
   "source": [
    "## Using args and kwargs in subclassing"
   ]
  },
  {
   "cell_type": "markdown",
   "metadata": {},
   "source": [
    "One place where the use of \\*args and \\*\\*kwargs is quite useful is for subclassing."
   ]
  },
  {
   "cell_type": "code",
   "execution_count": 10,
   "metadata": {
    "collapsed": true
   },
   "outputs": [],
   "source": [
    "class Foo(object):\n",
    "    def __init__(self, value1, value2):\n",
    "        # do something with the values\n",
    "        print(value1, value2)\n",
    "\n",
    "class MyFoo(Foo):\n",
    "    def __init__(self, *args, **kwargs):\n",
    "        # do something else, don't care about the args\n",
    "        print('myfoo')\n",
    "        super(MyFoo, self).__init__(*args, **kwargs)"
   ]
  },
  {
   "cell_type": "markdown",
   "metadata": {},
   "source": [
    "# Subtle points about default arguments"
   ]
  },
  {
   "cell_type": "markdown",
   "metadata": {},
   "source": [
    "### **Point 1**: the values assigned as a default are bound only once at the time of function definition:"
   ]
  },
  {
   "cell_type": "code",
   "execution_count": 5,
   "metadata": {},
   "outputs": [
    {
     "name": "stdout",
     "output_type": "stream",
     "text": [
      "42\n"
     ]
    }
   ],
   "source": [
    "x = 42\n",
    "def func(b=x):\n",
    "    print(b)\n",
    "func()"
   ]
  },
  {
   "cell_type": "code",
   "execution_count": 7,
   "metadata": {},
   "outputs": [
    {
     "name": "stdout",
     "output_type": "stream",
     "text": [
      "42\n"
     ]
    }
   ],
   "source": [
    "x = 23 # has no effect!\n",
    "func()"
   ]
  },
  {
   "cell_type": "markdown",
   "metadata": {},
   "source": [
    "### Point 2: the values assigned as defaults should always be _immutable_ objects"
   ]
  },
  {
   "cell_type": "markdown",
   "metadata": {},
   "source": [
    "If you do this, you can run into all sorts of trouble if the default value ever escapes the function and gets modified. Such changes will permanently alter the default value across future function calls.  Remember, default arguments are evaluated once at module load time. This may cause problems if the argument is a mutable object such as a list or a dictionary. If the function modifies the object (e.g., by appending an item to a list), the default value is modified."
   ]
  },
  {
   "cell_type": "code",
   "execution_count": 9,
   "metadata": {},
   "outputs": [
    {
     "data": {
      "text/plain": [
       "[]"
      ]
     },
     "execution_count": 9,
     "metadata": {},
     "output_type": "execute_result"
    }
   ],
   "source": [
    "def spam(a, b=[]): # NO! list is mutable\n",
    "    return b\n",
    "x = spam(1); x"
   ]
  },
  {
   "cell_type": "code",
   "execution_count": 10,
   "metadata": {},
   "outputs": [
    {
     "data": {
      "text/plain": [
       "[99]"
      ]
     },
     "execution_count": 10,
     "metadata": {},
     "output_type": "execute_result"
    }
   ],
   "source": [
    "x.append(99)\n",
    "spam(1) # Modified list gets returned!"
   ]
  },
  {
   "cell_type": "code",
   "execution_count": 3,
   "metadata": {
    "scrolled": true
   },
   "outputs": [
    {
     "name": "stdout",
     "output_type": "stream",
     "text": [
      "[12, 42]\n",
      "[12, 42]\n"
     ]
    }
   ],
   "source": [
    "# Example 2\n",
    "def append_to(element, to=[]):\n",
    "    to.append(element)\n",
    "    return to\n",
    "\n",
    "my_list = append_to(12)\n",
    "my_other_list = append_to(42)\n",
    "\n",
    "# You may expect the outputs to be [12] and [42]...\n",
    "print(my_list)\n",
    "print(my_other_list)\n",
    "\n",
    "# The alternate (correct) form\n",
    "def append_to(element, to=None):\n",
    "    if to is None:\n",
    "        to = []\n",
    "    to.append(element)\n",
    "    return to"
   ]
  },
  {
   "cell_type": "markdown",
   "metadata": {
    "collapsed": true
   },
   "source": [
    "# Decorators"
   ]
  },
  {
   "cell_type": "markdown",
   "metadata": {},
   "source": [
    "Some good background & resources:\n",
    "* [Good background](http://pythonhosted.org/decorator/documentation.html#statement-of-the-problem) from the Decorator module\n",
    "* [Wikipedia - Decorator pattern/Python](https://en.wikipedia.org/wiki/Decorator_pattern#Python)\n",
    "* [`@functools.lru_cache`](https://docs.python.org/3/library/functools.html#functools.lru_cache)\n",
    "* A StackOverflow [discussion](https://stackoverflow.com/questions/44077208/python-recall-cached-function-result-dependent-on-new-function-parameter)\n",
    "\n",
    "Notes below are taken from this discussion: Stack Overflow - [How to make a chain of function decorators](https://stackoverflow.com/questions/739654/how-to-make-a-chain-of-function-decorators) as well as the [docs](https://docs.python.org/3/reference/compound_stmts.html#function-definitions).\n",
    "\n",
    "Since functions and classes are mutable objects, they can be modified. The act of altering a function or class object after it has been constructed but before it is bound to its name is called **decorating**.\n",
    "\n",
    "The decorator syntax was implemented after [PEP 318](https://www.python.org/dev/peps/pep-0318/).  Some additional examples are towards the [end](https://www.python.org/dev/peps/pep-0318/#examples).\n",
    "\n",
    "Functions can be decorated by using the decorator syntax for functions:"
   ]
  },
  {
   "cell_type": "code",
   "execution_count": 1,
   "metadata": {
    "collapsed": true
   },
   "outputs": [],
   "source": [
    "# @decorator\n",
    "# def function():\n",
    "#    pass"
   ]
  },
  {
   "cell_type": "markdown",
   "metadata": {},
   "source": [
    "Above, \n",
    "* An expression starting with `@` placed before the function definition is the decorator. \n",
    "* The part after `@` must be a simple expression; **usually this is just the name of a function or class**. This part is evaluated first, and after the function defined below is ready, **the decorator is called with the newly defined function object as the single argument**. \n",
    "* The value returned by the decorator is attached to the original name of the function.\n",
    "\n",
    "The above is equivalent to:"
   ]
  },
  {
   "cell_type": "code",
   "execution_count": 3,
   "metadata": {
    "collapsed": true
   },
   "outputs": [],
   "source": [
    "# def function():\n",
    "#     pass\n",
    "# function = decorator(function)"
   ]
  },
  {
   "cell_type": "markdown",
   "metadata": {},
   "source": [
    "## Python's functions are objects"
   ]
  },
  {
   "cell_type": "code",
   "execution_count": 2,
   "metadata": {},
   "outputs": [
    {
     "name": "stdout",
     "output_type": "stream",
     "text": [
      "Yes!\n"
     ]
    }
   ],
   "source": [
    "def shout(word=\"yes\"):\n",
    "    return word.capitalize()+\"!\"\n",
    "print(shout())"
   ]
  },
  {
   "cell_type": "markdown",
   "metadata": {},
   "source": [
    "A function is an object.  As an object, you can assign the function to a variable like any other object:"
   ]
  },
  {
   "cell_type": "code",
   "execution_count": 3,
   "metadata": {},
   "outputs": [
    {
     "name": "stdout",
     "output_type": "stream",
     "text": [
      "Yes!\n"
     ]
    }
   ],
   "source": [
    "# Notice we don't use parentheses: we are not calling the function,\n",
    "# we are putting the function \"shout\" into the variable \"scream\".\n",
    "# It means you can then call \"shout\" from \"scream\":\n",
    "\n",
    "scream = shout\n",
    "print(scream())"
   ]
  },
  {
   "cell_type": "markdown",
   "metadata": {},
   "source": [
    "This also means you can remove the old name 'shout', and the function will still be accessible from 'scream':"
   ]
  },
  {
   "cell_type": "code",
   "execution_count": 4,
   "metadata": {},
   "outputs": [
    {
     "name": "stdout",
     "output_type": "stream",
     "text": [
      "Yes!\n"
     ]
    }
   ],
   "source": [
    "del shout\n",
    "try:\n",
    "    print(scream())\n",
    "except NameError as e:\n",
    "    print(e)"
   ]
  },
  {
   "cell_type": "markdown",
   "metadata": {},
   "source": [
    "Another example: modify a class' method by replacing it with an exernal method:"
   ]
  },
  {
   "cell_type": "code",
   "execution_count": 1,
   "metadata": {},
   "outputs": [
    {
     "name": "stdout",
     "output_type": "stream",
     "text": [
      "my class is A\n",
      "my class is not A\n"
     ]
    }
   ],
   "source": [
    "class A:\n",
    "    def print(self):\n",
    "        print(\"my class is A\")\n",
    "\n",
    "def fake_print():\n",
    "    print(\"my class is not A\")\n",
    "\n",
    "a = A()\n",
    "a.print()\n",
    "a.print = fake_print\n",
    "a.print()"
   ]
  },
  {
   "cell_type": "markdown",
   "metadata": {},
   "source": [
    "Python functions can also be defined inside another function.  This is important for decorators."
   ]
  },
  {
   "cell_type": "code",
   "execution_count": 11,
   "metadata": {},
   "outputs": [
    {
     "name": "stdout",
     "output_type": "stream",
     "text": [
      "yes...\n"
     ]
    }
   ],
   "source": [
    "def talk():\n",
    "\n",
    "    # You can define a function on the fly in \"talk\" ...\n",
    "    # but note that whisper does NOT exist outside of talk:\n",
    "    def whisper(word=\"yes\"):\n",
    "        return word.lower()+\"...\"\n",
    "\n",
    "    # ... and use it right away!\n",
    "    print(whisper())\n",
    "talk()   "
   ]
  },
  {
   "cell_type": "markdown",
   "metadata": {},
   "source": [
    "## Function references"
   ]
  },
  {
   "cell_type": "markdown",
   "metadata": {},
   "source": [
    "Continuing from the above, a function can also `return` another function:"
   ]
  },
  {
   "cell_type": "code",
   "execution_count": 13,
   "metadata": {},
   "outputs": [
    {
     "name": "stdout",
     "output_type": "stream",
     "text": [
      "<function getTalk.<locals>.shout at 0x00000000096E5F28>\n"
     ]
    }
   ],
   "source": [
    "def getTalk(kind=\"shout\"):\n",
    "\n",
    "    def shout(word=\"yes\"):\n",
    "        return word.capitalize()+\"!\"\n",
    "    def whisper(word=\"yes\") :\n",
    "        return word.lower()+\"...\";\n",
    "\n",
    "    if kind == \"shout\":\n",
    "        # No () used; we are just returning the function object\n",
    "        return shout\n",
    "    else:\n",
    "        return whisper\n",
    "\n",
    "# Get the function and assign it to a variable\n",
    "talk = getTalk()\n",
    "print(talk) # just a function object"
   ]
  },
  {
   "cell_type": "code",
   "execution_count": 17,
   "metadata": {},
   "outputs": [
    {
     "name": "stdout",
     "output_type": "stream",
     "text": [
      "Yes!\n"
     ]
    }
   ],
   "source": [
    "print(talk())"
   ]
  },
  {
   "cell_type": "markdown",
   "metadata": {},
   "source": [
    "The final point here is the one most important for decorators: **If you can `return` a function, you can pass one as a parameter:**"
   ]
  },
  {
   "cell_type": "code",
   "execution_count": 16,
   "metadata": {},
   "outputs": [
    {
     "name": "stdout",
     "output_type": "stream",
     "text": [
      "I do something before then I call the function you gave me\n",
      "Yes!\n"
     ]
    }
   ],
   "source": [
    "def doSomethingBefore(func): \n",
    "    print(\"I do something before then I call the function you gave me\")\n",
    "    print(func())\n",
    "\n",
    "doSomethingBefore(scream)"
   ]
  },
  {
   "cell_type": "markdown",
   "metadata": {},
   "source": [
    "## Handcrafted decorators"
   ]
  },
  {
   "cell_type": "markdown",
   "metadata": {},
   "source": [
    "A _decorator_ is a function returning another function, usually applied as a function transformation using the `@wrapper` syntax.  A function definition may be wrapped by one or more decorator expressions.\n",
    "\n",
    "A decorator is a **design pattern that allows behavior to be added** to an individual object, either statically or dynamically, without affecting the behavior of other objects from the same class.\n",
    "\n",
    "Python includes a more natural way of decorating a function by using an annotation on the function that is decorated.\n",
    "\n",
    "Before using `@` notation, simple decorators are best understood if crafted manually:"
   ]
  },
  {
   "cell_type": "markdown",
   "metadata": {},
   "source": [
    "### Example 1"
   ]
  },
  {
   "cell_type": "code",
   "execution_count": 18,
   "metadata": {},
   "outputs": [
    {
     "name": "stdout",
     "output_type": "stream",
     "text": [
      "I am a stand alone function, don't you dare modify me\n"
     ]
    }
   ],
   "source": [
    "def my_shiny_new_decorator(a_function_to_decorate):\n",
    "    def the_wrapper_around_the_original_function():\n",
    "        print(\"Before the function runs\")\n",
    "        a_function_to_decorate()\n",
    "        print(\"After the function runs\")\n",
    "    return the_wrapper_around_the_original_function\n",
    "\n",
    "def a_stand_alone_function():\n",
    "    print(\"I am a stand alone function, don't you dare modify me\")\n",
    "    \n",
    "a_stand_alone_function()     "
   ]
  },
  {
   "cell_type": "code",
   "execution_count": 19,
   "metadata": {},
   "outputs": [
    {
     "name": "stdout",
     "output_type": "stream",
     "text": [
      "Before the function runs\n",
      "I am a stand alone function, don't you dare modify me\n",
      "After the function runs\n"
     ]
    }
   ],
   "source": [
    "a_stand_alone_function_decorated = my_shiny_new_decorator(a_stand_alone_function)\n",
    "a_stand_alone_function_decorated()"
   ]
  },
  {
   "cell_type": "markdown",
   "metadata": {},
   "source": [
    "Now for this example, using the decorator syntax:"
   ]
  },
  {
   "cell_type": "code",
   "execution_count": 20,
   "metadata": {},
   "outputs": [
    {
     "name": "stdout",
     "output_type": "stream",
     "text": [
      "Before the function runs\n",
      "Leave me alone\n",
      "After the function runs\n"
     ]
    }
   ],
   "source": [
    "@my_shiny_new_decorator\n",
    "def another_stand_alone_function():\n",
    "    print(\"Leave me alone\")\n",
    "\n",
    "another_stand_alone_function() "
   ]
  },
  {
   "cell_type": "markdown",
   "metadata": {},
   "source": [
    "### Example 2"
   ]
  },
  {
   "cell_type": "code",
   "execution_count": 22,
   "metadata": {
    "scrolled": true
   },
   "outputs": [
    {
     "name": "stdout",
     "output_type": "stream",
     "text": [
      "waited\n",
      "\n",
      "function @wait_some_seconds took 0.500 seconds\n"
     ]
    }
   ],
   "source": [
    "# From: https://en.wikipedia.org/wiki/Decorator_pattern#Python\n",
    "from time import time, sleep\n",
    "\n",
    "def benchmark(func):\n",
    "    \"\"\"Print execution time in seconds.\"\"\"\n",
    "    def wrapper(*args, **kwargs):\n",
    "        t0 = time()\n",
    "        res = func(*args, **kwargs)\n",
    "        print('function @{0} took {1:0.3f} seconds'\n",
    "              .format(func.__name__, time() - t0))\n",
    "        return res\n",
    "    return wrapper\n",
    "\n",
    "@benchmark\n",
    "def wait_some_seconds(num_seconds=0.5):\n",
    "    sleep(num_seconds)\n",
    "    print('waited\\n')\n",
    "\n",
    "wait_some_seconds()"
   ]
  },
  {
   "cell_type": "markdown",
   "metadata": {},
   "source": [
    "## Multiple decorators"
   ]
  },
  {
   "cell_type": "markdown",
   "metadata": {},
   "source": [
    "Multiple decorators are applied in nested fashion.  Decorator expressions are evaluated when the function is defined, in the scope that contains the function definition.  **Order matters**."
   ]
  },
  {
   "cell_type": "raw",
   "metadata": {},
   "source": [
    "@f1(arg)\n",
    "@f2\n",
    "def func(): pass"
   ]
  },
  {
   "cell_type": "markdown",
   "metadata": {},
   "source": [
    "...is roughly equivalent to..."
   ]
  },
  {
   "cell_type": "raw",
   "metadata": {},
   "source": [
    "def func(): pass\n",
    "func = f1(arg)(f2(func))"
   ]
  },
  {
   "cell_type": "markdown",
   "metadata": {},
   "source": [
    "...except that the original function is not temporarily bound to the name `func`."
   ]
  },
  {
   "cell_type": "markdown",
   "metadata": {},
   "source": [
    "Another example:"
   ]
  },
  {
   "cell_type": "code",
   "execution_count": 25,
   "metadata": {
    "scrolled": true
   },
   "outputs": [
    {
     "name": "stdout",
     "output_type": "stream",
     "text": [
      "<b><i>hello</i></b>\n"
     ]
    }
   ],
   "source": [
    "def makebold(fn):\n",
    "    def wrapper():\n",
    "        return \"<b>\" + fn() + \"</b>\"\n",
    "    return wrapper\n",
    "\n",
    "def makeitalic(fn):\n",
    "    def wrapper():\n",
    "        return \"<i>\" + fn() + \"</i>\"\n",
    "    return wrapper\n",
    "\n",
    "@makebold\n",
    "@makeitalic\n",
    "def say():\n",
    "    return \"hello\"\n",
    "\n",
    "print(say())"
   ]
  },
  {
   "cell_type": "markdown",
   "metadata": {},
   "source": [
    "## Memoization"
   ]
  },
  {
   "cell_type": "markdown",
   "metadata": {},
   "source": [
    "**A very common use case for decorators is the memoization of functions. A `memoize` decorator works by caching the result of the function call in a dictionary, so that the next time the function is called with the same input parameters the result is retrieved from the cache and not recomputed.**\n",
    "\n",
    "As part of `functools` within Python's standard library, you can find a sophisticated `lru_cache` decorator.  This is a decorator to wrap a function with a memoizing callable that saves up to the maxsize most recent calls. It can save time when an expensive or I/O bound function is periodically called with the same arguments.\n",
    "\n",
    "The decorator also provides a `cache_clear()` function for clearing or invalidating the cache."
   ]
  },
  {
   "cell_type": "code",
   "execution_count": 1,
   "metadata": {
    "collapsed": true
   },
   "outputs": [],
   "source": [
    "from functools import lru_cache\n",
    "from datetime import datetime as dt\n",
    "\n",
    "class MyObject(object):\n",
    "    def __init__(self, a, b):\n",
    "        self.a, self.b = a, b\n",
    "\n",
    "    @lru_cache(maxsize=None)\n",
    "    def total(self, x):        \n",
    "        lst = []\n",
    "        for i in range(int(1e7)):\n",
    "            val = self.a + self.b + x    # time-expensive loop\n",
    "            lst.append(val)\n",
    "        return np.array(lst)     \n",
    "\n",
    "    def subtotal(self, y, z):\n",
    "        return self.total(x=y) + z       # if y==x from a previous call of\n",
    "                                         # total(), used cached result.\n",
    "\n",
    "myobj = MyObject(1, 2)\n",
    "\n",
    "# Call total() with x=20\n",
    "a = dt.now()\n",
    "myobj.total(x=20)\n",
    "b = dt.now()\n",
    "c = (b - a).total_seconds()\n",
    "\n",
    "# Call subtotal() with y=21\n",
    "a2 = dt.now()\n",
    "myobj.subtotal(y=21, z=1)\n",
    "b2 = dt.now()\n",
    "c2 = (b2 - a2).total_seconds()\n",
    "\n",
    "# Call subtotal() with y=20 - should take substantially less time\n",
    "# with x=20 used in previous call of total().\n",
    "a3 = dt.now()\n",
    "myobj.subtotal(y=20, z=1)\n",
    "b3 = dt.now()\n",
    "c3 = (b3 - a3).total_seconds()"
   ]
  },
  {
   "cell_type": "code",
   "execution_count": 2,
   "metadata": {},
   "outputs": [
    {
     "name": "stdout",
     "output_type": "stream",
     "text": [
      "c: 2.417888, c2: 2.264178, c3: 0.02685\n"
     ]
    }
   ],
   "source": [
    "print('c: {}, c2: {}, c3: {}'.format(c, c2, c3))"
   ]
  },
  {
   "cell_type": "markdown",
   "metadata": {},
   "source": [
    "**Note**: the above is valid if `self.a` and `self.b` don't change.  Otherwise, the cached value should be cleared since the computed value of `total` would change. You could implement that by making `a` and `b` settable properties whose setter calls `total.cache_clear()`."
   ]
  },
  {
   "cell_type": "markdown",
   "metadata": {},
   "source": [
    "## Properties"
   ]
  },
  {
   "cell_type": "markdown",
   "metadata": {},
   "source": [
    "See the section in [OOP](http://localhost:8888/notebooks/_python/docs/tutorials/ipynb%20files/OOP.ipynb)"
   ]
  },
  {
   "cell_type": "markdown",
   "metadata": {},
   "source": [
    "## `staticmethod` & `classmethod`"
   ]
  },
  {
   "cell_type": "markdown",
   "metadata": {},
   "source": [
    "[UNFINISHED]"
   ]
  },
  {
   "cell_type": "markdown",
   "metadata": {},
   "source": [
    "# The `map` function"
   ]
  },
  {
   "cell_type": "markdown",
   "metadata": {},
   "source": [
    "[`map`](https://docs.python.org/3/library/functions.html#map) is a built-in function.  `map(function, iterable)` returns an \n",
    "iterator that applies `function` to every item of `iterable`, yielding the results.\n",
    "\n",
    "See also: SO - [Understanding the map function](https://stackoverflow.com/questions/10973766/understanding-the-map-function)\n",
    "\n",
    "**Map isn't particularly pythonic.  You can use list comprehensions instead**:\n",
    ">. `map(f, iterable)`\n",
    "\n",
    "is basically equivalent to\n",
    "\n",
    "> `[f(x) for x in iterable]`"
   ]
  },
  {
   "cell_type": "code",
   "execution_count": 6,
   "metadata": {},
   "outputs": [
    {
     "name": "stdout",
     "output_type": "stream",
     "text": [
      "[2, 4, 6]\n"
     ]
    }
   ],
   "source": [
    "xs = [1, 2, 3]\n",
    "ys = map(lambda x: x * 2, xs)\n",
    "# equiv to [x * 2 for x in xs]\n",
    "print(list(ys)) # list needed because ys is an iterator (map object)"
   ]
  }
 ],
 "metadata": {
  "kernelspec": {
   "display_name": "Python 3",
   "language": "python",
   "name": "python3"
  },
  "language_info": {
   "codemirror_mode": {
    "name": "ipython",
    "version": 3
   },
   "file_extension": ".py",
   "mimetype": "text/x-python",
   "name": "python",
   "nbconvert_exporter": "python",
   "pygments_lexer": "ipython3",
   "version": "3.6.3"
  }
 },
 "nbformat": 4,
 "nbformat_minor": 2
}
