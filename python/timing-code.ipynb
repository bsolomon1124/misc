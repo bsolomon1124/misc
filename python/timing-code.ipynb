{
 "cells": [
  {
   "cell_type": "markdown",
   "metadata": {
    "toc": true
   },
   "source": [
    "<h1>Table of Contents<span class=\"tocSkip\"></span></h1>\n",
    "<div class=\"toc\" style=\"margin-top: 1em;\"><ul class=\"toc-item\"><li><span><a href=\"#Covered-here\" data-toc-modified-id=\"Covered-here-1\"><span class=\"toc-item-num\">1&nbsp;&nbsp;</span>Covered here</a></span></li><li><span><a href=\"#Resources-&amp;-references\" data-toc-modified-id=\"Resources-&amp;-references-2\"><span class=\"toc-item-num\">2&nbsp;&nbsp;</span>Resources &amp; references</a></span></li><li><span><a href=\"#timeit-in-the-interpreter\" data-toc-modified-id=\"timeit-in-the-interpreter-3\"><span class=\"toc-item-num\">3&nbsp;&nbsp;</span><code>timeit</code> in the interpreter</a></span><ul class=\"toc-item\"><li><span><a href=\"#Refresher:-units-of-time\" data-toc-modified-id=\"Refresher:-units-of-time-3.1\"><span class=\"toc-item-num\">3.1&nbsp;&nbsp;</span>Refresher: units of time</a></span></li><li><span><a href=\"#Intro\" data-toc-modified-id=\"Intro-3.2\"><span class=\"toc-item-num\">3.2&nbsp;&nbsp;</span>Intro</a></span></li><li><span><a href=\"#number-versus-repeat-parameters\" data-toc-modified-id=\"number-versus-repeat-parameters-3.3\"><span class=\"toc-item-num\">3.3&nbsp;&nbsp;</span><code>number</code> versus <code>repeat</code> parameters</a></span></li><li><span><a href=\"#timeit.Timer\" data-toc-modified-id=\"timeit.Timer-3.4\"><span class=\"toc-item-num\">3.4&nbsp;&nbsp;</span><code>timeit.Timer</code></a></span></li><li><span><a href=\"#timeit.timeit\" data-toc-modified-id=\"timeit.timeit-3.5\"><span class=\"toc-item-num\">3.5&nbsp;&nbsp;</span><code>timeit.timeit</code></a></span></li><li><span><a href=\"#timeit.repeat\" data-toc-modified-id=\"timeit.repeat-3.6\"><span class=\"toc-item-num\">3.6&nbsp;&nbsp;</span><code>timeit.repeat</code></a></span></li><li><span><a href=\"#timeit.default_timer\" data-toc-modified-id=\"timeit.default_timer-3.7\"><span class=\"toc-item-num\">3.7&nbsp;&nbsp;</span><code>timeit.default_timer</code></a></span></li><li><span><a href=\"#Using-from-__main__-import-...\" data-toc-modified-id=\"Using-from-__main__-import-...-3.8\"><span class=\"toc-item-num\">3.8&nbsp;&nbsp;</span>Using <code>from __main__ import ...</code></a></span></li><li><span><a href=\"#Why-is-timeit.timeit-better-than-time.time?\" data-toc-modified-id=\"Why-is-timeit.timeit-better-than-time.time?-3.9\"><span class=\"toc-item-num\">3.9&nbsp;&nbsp;</span>Why is <code>timeit.timeit</code> better than <code>time.time</code>?</a></span></li></ul></li><li><span><a href=\"#timeit:-command-line-interface\" data-toc-modified-id=\"timeit:-command-line-interface-4\"><span class=\"toc-item-num\">4&nbsp;&nbsp;</span><code>timeit</code>: command-line interface</a></span><ul class=\"toc-item\"><li><span><a href=\"#Timing-code-snippets\" data-toc-modified-id=\"Timing-code-snippets-4.1\"><span class=\"toc-item-num\">4.1&nbsp;&nbsp;</span>Timing code snippets</a></span></li><li><span><a href=\"#Timing-scripts\" data-toc-modified-id=\"Timing-scripts-4.2\"><span class=\"toc-item-num\">4.2&nbsp;&nbsp;</span>Timing scripts</a></span></li></ul></li><li><span><a href=\"#IPython/Jupyter-magic-functions\" data-toc-modified-id=\"IPython/Jupyter-magic-functions-5\"><span class=\"toc-item-num\">5&nbsp;&nbsp;</span>IPython/Jupyter magic functions</a></span><ul class=\"toc-item\"><li><span><a href=\"#%time\" data-toc-modified-id=\"%time-5.1\"><span class=\"toc-item-num\">5.1&nbsp;&nbsp;</span><code>%time</code></a></span></li><li><span><a href=\"#%timeit\" data-toc-modified-id=\"%timeit-5.2\"><span class=\"toc-item-num\">5.2&nbsp;&nbsp;</span><code>%timeit</code></a></span></li><li><span><a href=\"#Aliasing-a-custom-%timeit\" data-toc-modified-id=\"Aliasing-a-custom-%timeit-5.3\"><span class=\"toc-item-num\">5.3&nbsp;&nbsp;</span>Aliasing a custom <code>%timeit</code></a></span></li></ul></li></ul></div>"
   ]
  },
  {
   "cell_type": "markdown",
   "metadata": {},
   "source": [
    "# Covered here"
   ]
  },
  {
   "cell_type": "markdown",
   "metadata": {},
   "source": [
    "At a broad level, this walkthrough covers three things:\n",
    "1. Using Python's `timeit` module in the interpreter;\n",
    "2. Calling Python's `timeit` from the command line;\n",
    "3. IPython's `%time` and `%timeit` magic functions.\n",
    "\n",
    "Contents:\n",
    "- [`timeit` in the interactive interpreter](#timeit-in-the-interpreter)\n",
    "    - [Refresher: units of time](#Refresher:-units-of-time)\n",
    "    - [Intro to the `timeit` module](#Intro)\n",
    "    - [`number` versus `repeat` parameters](#number-versus-repeat-parameters)\n",
    "    - [The `timeit.Timer` class](#timeit.Timer)\n",
    "    - [`timeit.timeit()`](#timeit.timeit)\n",
    "    - [`timeit.repeat()`](#timeit.repeat)\n",
    "    - [`timeit.default_timer()`](#timeit.default_timer)\n",
    "    - [Using `from __main__ import ...`](#Using-from-__main__-import-...)\n",
    "    - [Why is `timeit.timeit()` better than `time.time()`?](#Why-is-timeit.timeit-better-than-time.time?)\n",
    "- [`timeit`: command-line interface](#timeit:-command-line-interface)\n",
    "    - [Timing code snippets](#Timing-code-snippets)\n",
    "    - [Timing scripts](#Timing-scripts)\n",
    "- [Ipython/Jupyter magic functions](#IPython/Jupyter-magic-functions)\n",
    "    - [`%time`](#%time)\n",
    "    - [`%timeit`](#%timeit)\n",
    "    - [Aliasing a custom `%timeit`](#Aliasing-a-custom-%timeit)"
   ]
  },
  {
   "cell_type": "markdown",
   "metadata": {},
   "source": [
    "# Resources & references"
   ]
  },
  {
   "cell_type": "markdown",
   "metadata": {},
   "source": [
    "- Python 3 docs: [`timeit`](https://docs.python.org/3/library/timeit.html) module\n",
    "    - The module source: [cpython/Lib/timeit.py](https://github.com/python/cpython/blob/3.6/Lib/timeit.py)\n",
    "    - The [command-line interface](https://docs.python.org/3/library/timeit.html#command-line-interface); command-line main function [source](https://github.com/python/cpython/blob/3.6/Lib/timeit.py#L240)\n",
    "    - [Examples](https://docs.python.org/3/library/timeit.html#examples)\n",
    "- mail.python.org: [python: can't open file 'timeit.py'](https://mail.python.org/pipermail/python-list/2005-January/345201.html)\n",
    "- IPython magics: [`%time`](http://ipython.readthedocs.io/en/stable/interactive/magics.html#magic-time) and [`%timeit`](http://ipython.readthedocs.io/en/stable/interactive/magics.html#magic-timeit)\n",
    "- Stack Overflow:\n",
    "    - [time.time vs. timeit.timeit](https://stackoverflow.com/questions/17579357/time-time-vs-timeit-timeit)\n",
    "    - [How to use `timeit` module](https://stackoverflow.com/questions/8220801/how-to-use-timeit-module)\n",
    "- Hellman - _The Python Standard Library by Example_ - Chapter 16.9 (`timeit`)"
   ]
  },
  {
   "cell_type": "markdown",
   "metadata": {},
   "source": [
    "# `timeit` in the interpreter"
   ]
  },
  {
   "cell_type": "markdown",
   "metadata": {},
   "source": [
    "## Refresher: units of time"
   ]
  },
  {
   "cell_type": "markdown",
   "metadata": {},
   "source": [
    "| Time | Relative |\n",
    "| :--- | :------- |\n",
    "| Millisecond | 1/1000 of a second |\n",
    "| Microsecond | 1/1,000,000 of a second |\n",
    "| Nanosecond | One billionth of a second |"
   ]
  },
  {
   "cell_type": "markdown",
   "metadata": {},
   "source": [
    "`timeit.timeit` and `%timeit`/`%time` use **seconds, microseconds (ms), or nanoseconds ($\\mu$s).**\n",
    "\n",
    "The docs for `timeit.timeit` have a `-u` parameter/flag:\n",
    "\n",
    "```python\n",
    "-u, --unit=U\n",
    "    specify a time unit for timer output; can select usec, msec, or sec\n",
    "```\n",
    "\n",
    "`msec` is millisecond, not microsecond; proof:"
   ]
  },
  {
   "cell_type": "code",
   "execution_count": 1,
   "metadata": {},
   "outputs": [
    {
     "name": "stdout",
     "output_type": "stream",
     "text": [
      "1000 loops, best of 100: 21.8 usec per loop\n"
     ]
    }
   ],
   "source": [
    "%%bash\n",
    "python3 -m timeit -n 1000 -r 100 -u usec '\"-\".join(str(n) for n in range(100))'"
   ]
  },
  {
   "cell_type": "code",
   "execution_count": 2,
   "metadata": {},
   "outputs": [
    {
     "name": "stdout",
     "output_type": "stream",
     "text": [
      "1000 loops, best of 100: 0.0222 msec per loop\n"
     ]
    }
   ],
   "source": [
    "%%bash\n",
    "python3 -m timeit -n 1000 -r 100 -u msec  '\"-\".join(str(n) for n in range(100))'"
   ]
  },
  {
   "cell_type": "code",
   "execution_count": 3,
   "metadata": {},
   "outputs": [
    {
     "name": "stdout",
     "output_type": "stream",
     "text": [
      "1000 loops, best of 100: 2.21e-05 sec per loop\n"
     ]
    }
   ],
   "source": [
    "%%bash\n",
    "python3 -m timeit -n 1000 -r 100 -u sec  '\"-\".join(str(n) for n in range(100))'"
   ]
  },
  {
   "cell_type": "markdown",
   "metadata": {},
   "source": [
    "Above, `stmt` takes 21.4 nanoseconds (usec), equivalent to 0.0214 microseconds or 0.00002140 milliseconds.  So, `msec` is a microsecond here, as evidenced by the second run>.  (Also, [here](https://github.com/python/cpython/blob/3.6/Lib/timeit.py#L276) is where `units` is defined.)"
   ]
  },
  {
   "cell_type": "markdown",
   "metadata": {},
   "source": [
    "## Intro"
   ]
  },
  {
   "cell_type": "markdown",
   "metadata": {},
   "source": [
    "The `timeit` module provides a simple interface for determining the execution time of small bits of Python code. It uses a **platform-specific time function** to provide the most accurate time calculation possible and reduces the impact of start-up or shutdown costs on the time calculation by executing the code repeatedly.\n",
    "\n",
    "There are 4 public objects in the `timeit` library (one class and three functions):\n",
    "\n",
    "```python\n",
    "__all__ = [\"Timer\", \"timeit\", \"repeat\", \"default_timer\"]\n",
    "```\n",
    "\n",
    "Here we will take a look at each of those 4:"
   ]
  },
  {
   "cell_type": "code",
   "execution_count": 4,
   "metadata": {
    "collapsed": true
   },
   "outputs": [],
   "source": [
    "# just for sake of never using \"import *\"...\n",
    "from timeit import Timer, timeit, repeat, default_timer"
   ]
  },
  {
   "cell_type": "markdown",
   "metadata": {},
   "source": [
    "Here's a simplified tree structure of the module.  Internally, **the functions `timeit.timeit` and `timeit.repeat` create instances of `Timer`, and then call the the class's corresponding methods.**\n",
    "\n",
    "```python\n",
    "import time\n",
    "\n",
    "default_timer = time.perf_counter\n",
    "default_number = 1000000\n",
    "default_repeat = 3\n",
    "\n",
    "# ...\n",
    "\n",
    "class Timer:\n",
    "    def timeit(self, number=default_number):\n",
    "        # ...\n",
    "    def repeat(self, repeat=default_repeat, number=default_number):\n",
    "        # ...\n",
    "\n",
    "# ...\n",
    "\n",
    "def timeit(stmt=\"pass\", setup=\"pass\", timer=default_timer,\n",
    "           number=default_number, globals=None):\n",
    "    return Timer(stmt, setup, timer, globals).timeit(number)\n",
    "\n",
    "def repeat(stmt=\"pass\", setup=\"pass\", timer=default_timer,\n",
    "           repeat=default_repeat, number=default_number, globals=None):\n",
    "    return Timer(stmt, setup, timer, globals).repeat(repeat, number)\n",
    "```"
   ]
  },
  {
   "cell_type": "markdown",
   "metadata": {},
   "source": [
    "## `number` versus `repeat` parameters"
   ]
  },
  {
   "cell_type": "markdown",
   "metadata": {},
   "source": [
    "There are two ambiguous parameters involved within `timeit.py`, `number` and `repeat`:\n",
    "\n",
    "```python\n",
    "-n N, --number=N\n",
    "    how many times to execute ‘statement’ [execute given statement N times in a loop]\n",
    "\n",
    "-r N, --repeat=N\n",
    "    how many times to repeat the loop iteration (default 3)\n",
    "```\n",
    "\n",
    "(Or, in `%timeit`, this is `%%timeit [-n<N> -r<R> ...`.)\n",
    "\n",
    "**The number of repeats is used to determine the average (or, the best)** of the series of loops."
   ]
  },
  {
   "cell_type": "markdown",
   "metadata": {},
   "source": [
    "| Function/method | `number` default | `repeat` default |\n",
    "| :-------------- | :--------------- | :--------------- |\n",
    "| `timeit.main()` (command-line interface) | Variable.  A suitable number of loops is calculated by trying successive powers of 10 until the total time is at least 0.2 seconds. | 3 |\n",
    "| `timeit.Timer.timeit()` | 1,000,000 | n/a |\n",
    "| `timeit.Timer.repeat()` | 1,000,000 | 3 |\n",
    "| `timeit.timeit()` | 1,000,000 | n/a |\n",
    "| `timeit.repeat()` | 1,000,000 | 3 |\n",
    "| `%timeit` | Variable.  A fitting value is chosen. | 7, although the docs say 3 [[source](https://github.com/ipython/ipython/blob/master/IPython/core/magics/execution.py#L1022)] |\n",
    "| `%time` | n/a | n/a |"
   ]
  },
  {
   "cell_type": "markdown",
   "metadata": {},
   "source": [
    "From the command line:"
   ]
  },
  {
   "cell_type": "code",
   "execution_count": 5,
   "metadata": {},
   "outputs": [
    {
     "name": "stdout",
     "output_type": "stream",
     "text": [
      "1000 loops, best of 3: 300 usec per loop\n"
     ]
    }
   ],
   "source": [
    "%%bash\n",
    "# Defaults: -n is variable; -r is 3\n",
    "python3 -m timeit '[i+1 for i in range(5000)]'"
   ]
  },
  {
   "cell_type": "code",
   "execution_count": 6,
   "metadata": {},
   "outputs": [
    {
     "name": "stdout",
     "output_type": "stream",
     "text": [
      "250 loops, best of 3: 317 usec per loop\n"
     ]
    }
   ],
   "source": [
    "%%bash\n",
    "# This statement gets executed 3 * 250 times (`r` has default 3)\n",
    "python3 -m timeit -n 250 '[i+1 for i in range(5000)]'"
   ]
  },
  {
   "cell_type": "code",
   "execution_count": 7,
   "metadata": {},
   "outputs": [
    {
     "name": "stdout",
     "output_type": "stream",
     "text": [
      "250 loops, best of 10: 316 usec per loop\n"
     ]
    }
   ],
   "source": [
    "%%bash\n",
    "# This statement gets executed 10 * 250 times (`r` specified explicitly)\n",
    "python3 -m timeit -n 250 -r 10 '[i+1 for i in range(5000)]'"
   ]
  },
  {
   "cell_type": "markdown",
   "metadata": {},
   "source": [
    "With IPython magics:"
   ]
  },
  {
   "cell_type": "code",
   "execution_count": 8,
   "metadata": {},
   "outputs": [
    {
     "name": "stdout",
     "output_type": "stream",
     "text": [
      "303 µs ± 10.5 µs per loop (mean ± std. dev. of 7 runs, 1000 loops each)\n"
     ]
    }
   ],
   "source": [
    "# -n is variable; -r is 7\n",
    "%timeit [i+1 for i in range(5000)]"
   ]
  },
  {
   "cell_type": "code",
   "execution_count": 9,
   "metadata": {},
   "outputs": [
    {
     "name": "stdout",
     "output_type": "stream",
     "text": [
      "287 µs ± 19.4 µs per loop (mean ± std. dev. of 50 runs, 250 loops each)\n"
     ]
    }
   ],
   "source": [
    "%timeit -n 250 -r 50 [i+1 for i in range(5000)]"
   ]
  },
  {
   "cell_type": "markdown",
   "metadata": {},
   "source": [
    "## `timeit.Timer`"
   ]
  },
  {
   "cell_type": "markdown",
   "metadata": {},
   "source": [
    "First instantiate a `Timer` object:"
   ]
  },
  {
   "cell_type": "code",
   "execution_count": 10,
   "metadata": {
    "collapsed": true
   },
   "outputs": [],
   "source": [
    "t = Timer(stmt=\"print('main statement')\", setup=\"print('setup')\")"
   ]
  },
  {
   "cell_type": "markdown",
   "metadata": {},
   "source": [
    "Note that `Timer.timeit()` gives you **cumulative** (not minimum!) time to run _n_ number of times."
   ]
  },
  {
   "cell_type": "code",
   "execution_count": 11,
   "metadata": {},
   "outputs": [
    {
     "name": "stdout",
     "output_type": "stream",
     "text": [
      "setup\n",
      "main statement\n",
      "main statement\n",
      "TIMEIT:\n",
      "5.988100019749254e-05\n"
     ]
    }
   ],
   "source": [
    "# *method* syntax: `timeit(number=1000000)`\n",
    "print('TIMEIT:\\n', t.timeit(number=2), sep='')"
   ]
  },
  {
   "cell_type": "code",
   "execution_count": 12,
   "metadata": {},
   "outputs": [
    {
     "name": "stdout",
     "output_type": "stream",
     "text": [
      "setup\n",
      "main statement\n",
      "main statement\n",
      "setup\n",
      "main statement\n",
      "main statement\n",
      "setup\n",
      "main statement\n",
      "main statement\n",
      "setup\n",
      "main statement\n",
      "main statement\n",
      "TIMEIT:\n",
      "0.0001329299993813038\n",
      "REPEAT:\n",
      "[6.382400169968605e-05, 5.2911000238964334e-05, 0.0003373710023879539]\n"
     ]
    }
   ],
   "source": [
    "print('TIMEIT:\\n', t.timeit(2), '\\nREPEAT:\\n', t.repeat(repeat=3, number=2), sep='')"
   ]
  },
  {
   "cell_type": "markdown",
   "metadata": {},
   "source": [
    "## `timeit.timeit`"
   ]
  },
  {
   "cell_type": "markdown",
   "metadata": {},
   "source": [
    "The syntax for `timeit.timeit` is:\n",
    "\n",
    "> `timeit.timeit(stmt='pass', setup='pass', timer=<default timer>, number=1000000, globals=None)`\n",
    "\n",
    "Two important points:\n",
    "- `stmt` and `setup` may also contain:\n",
    "    - multiple statements separated by \";\", or\n",
    "    - newlines, as long as they don’t contain multi-line string literals.\n",
    "- The execution time of `setup` is excluded from the overall timed execution run."
   ]
  },
  {
   "cell_type": "code",
   "execution_count": 13,
   "metadata": {},
   "outputs": [
    {
     "data": {
      "text/plain": [
       "0.05012419899867382"
      ]
     },
     "execution_count": 13,
     "metadata": {},
     "output_type": "execute_result"
    }
   ],
   "source": [
    "timeit('char in text', setup='text = \"sample string\"; char = \"g\"')"
   ]
  },
  {
   "cell_type": "code",
   "execution_count": 14,
   "metadata": {},
   "outputs": [
    {
     "data": {
      "text/plain": [
       "0.15175113800069084"
      ]
     },
     "execution_count": 14,
     "metadata": {},
     "output_type": "execute_result"
    }
   ],
   "source": [
    "timeit('text.find(char)', setup='text = \"sample string\"; char = \"g\"')"
   ]
  },
  {
   "cell_type": "code",
   "execution_count": 15,
   "metadata": {
    "scrolled": true
   },
   "outputs": [
    {
     "name": "stdout",
     "output_type": "stream",
     "text": [
      "    i    list time    dict time\n",
      "-----  -----------  -----------\n",
      "    1    0.0842133    0.0331339\n",
      "    2    0.0744037    0.035701\n",
      "    4    0.0794738    0.0377766\n",
      "    8    0.0804355    0.0313973\n",
      "   16    0.072243     0.0301475\n",
      "   32    0.0778933    0.028557\n",
      "   64    0.0735351    0.0289966\n",
      "  128    0.0767174    0.030355\n",
      "  256    0.0782498    0.0312843\n",
      "  512    0.0754935    0.0290933\n",
      " 1024    0.0827858    0.0424235\n",
      " 2048    0.0806586    0.0406065\n",
      " 4096    0.0868734    0.0476545\n",
      " 8192    0.0902657    0.0424241\n",
      "16384    0.0823362    0.04333\n"
     ]
    }
   ],
   "source": [
    "from tabulate import tabulate\n",
    "\n",
    "lengths = np.power(2, np.arange(15))  # 1, 2, 4, 8, 16, 31, ...\n",
    "\n",
    "list_time = []\n",
    "dict_time = []\n",
    "for length in lengths:\n",
    "    list_time.append(timeit(stmt='%i in d' % (length/2), setup='d=range(%i)' % length))\n",
    "    dict_time.append(timeit(stmt='%i in d' % (length/2),\n",
    "                            setup='d=dict.fromkeys(range(%i))' % length))\n",
    "print(tabulate(zip(*[lengths, list_time, dict_time]),\n",
    "               headers=('i', 'list time', 'dict time')))"
   ]
  },
  {
   "cell_type": "code",
   "execution_count": 16,
   "metadata": {},
   "outputs": [
    {
     "name": "stdout",
     "output_type": "stream",
     "text": [
      "9.604499187000329\n",
      "7.8452203839988215\n",
      "4.140860599000007\n"
     ]
    }
   ],
   "source": [
    "setup = \"\"\"\n",
    "import msgpack\n",
    "import json\n",
    "from copy import deepcopy\n",
    "data = {'name':'John Doe',\n",
    "        'ranks':{'sports':13,'edu':34,'arts':45},\n",
    "        'grade':5}\"\"\"\n",
    "\n",
    "print(timeit('deepcopy(data)', setup=setup))\n",
    "print(timeit('json.loads(json.dumps(data))', setup=setup))\n",
    "print(timeit('msgpack.unpackb(msgpack.packb(data))', setup=setup))"
   ]
  },
  {
   "cell_type": "code",
   "execution_count": 17,
   "metadata": {},
   "outputs": [
    {
     "name": "stdout",
     "output_type": "stream",
     "text": [
      "0.18069548399944324\n",
      "0.22837112200068077\n"
     ]
    }
   ],
   "source": [
    "print(timeit(\"list_1[:][:]\", \n",
    "             setup=\"list_1 = [[1, 2, 3], [4, 5, 6], [7, 8, 9]]\"))\n",
    "\n",
    "print(timeit(\"list_2[:,]\", \n",
    "              setup=\"import numpy as np; list_2 = np.array([[1, 2, 3], [4, 5, 6], [7, 8, 9]])\"))"
   ]
  },
  {
   "cell_type": "code",
   "execution_count": 18,
   "metadata": {},
   "outputs": [
    {
     "name": "stdout",
     "output_type": "stream",
     "text": [
      "1000 items\n",
      "1000 iterations\n"
     ]
    }
   ],
   "source": [
    "import sys\n",
    "\n",
    "# Initialize a list of (str, int) tuples \n",
    "# that the main `stmt`s will use to build dictionaries,\n",
    "# using the strings as keys and storing the integers \n",
    "# as the associated values.\n",
    "\n",
    "range_size = 1000\n",
    "count = 1000\n",
    "setup = \"l = [(str(x), x) for x in range(1000)]; d = {}\"\n",
    "\n",
    "def show_results(result):\n",
    "    \"\"\"Utility func: print results in terms of ms/pass and ms/item.\"\"\"\n",
    "    global count, range_size\n",
    "    per_pass = 1000000 * (result / count)\n",
    "    print('%.2f usec/pass' % per_pass)\n",
    "    per_item = per_pass / range_size\n",
    "    print('%.2f usec/item' % per_item)\n",
    "    \n",
    "print(\"%d items\" % range_size)\n",
    "print(\"%d iterations\" % count)"
   ]
  },
  {
   "cell_type": "code",
   "execution_count": 19,
   "metadata": {},
   "outputs": [
    {
     "name": "stdout",
     "output_type": "stream",
     "text": [
      "__setitem__:\n",
      "63.72 usec/pass\n",
      "0.06 usec/item\n"
     ]
    }
   ],
   "source": [
    "# Route 1 - Using `__setitem__` without checking \n",
    "# for existing values first\n",
    "print('__setitem__:')\n",
    "t = Timer(\"\"\"\n",
    "for s, i in l:\n",
    "    d[s] = i\n",
    "\"\"\", setup)\n",
    "show_results(t.timeit(number=count))"
   ]
  },
  {
   "cell_type": "code",
   "execution_count": 20,
   "metadata": {},
   "outputs": [
    {
     "name": "stdout",
     "output_type": "stream",
     "text": [
      "setdefault:\n",
      "125.08 usec/pass\n",
      "0.13 usec/item\n"
     ]
    }
   ],
   "source": [
    "# Route 2 - setdefault() to ensure that values already \n",
    "# in the dictionary are not overwritten.\n",
    "print('setdefault:')\n",
    "t = Timer(\"\"\"\n",
    "for s, i in l:\n",
    "    d.setdefault(s, i)\n",
    "\"\"\", setup)\n",
    "show_results(t.timeit(number=count))"
   ]
  },
  {
   "cell_type": "code",
   "execution_count": 21,
   "metadata": {},
   "outputs": [
    {
     "name": "stdout",
     "output_type": "stream",
     "text": [
      "has_key:\n",
      "52.99 usec/pass\n",
      "0.05 usec/item\n"
     ]
    }
   ],
   "source": [
    "# Method 3 - Another way to avoid overwriting existing \n",
    "# values is to use `in` (`__contains__`) to check the contents of \n",
    "# the dictionary explicitly.  (This was `haskey` in Python 2.x)\n",
    "print('has_key:')\n",
    "t = Timer(\"\"\"\n",
    "for s, i in l:\n",
    "    if s not in d:\n",
    "        d[s] = i\n",
    "\"\"\", setup)\n",
    "show_results(t.timeit(number=count))"
   ]
  },
  {
   "cell_type": "markdown",
   "metadata": {},
   "source": [
    "## `timeit.repeat`"
   ]
  },
  {
   "cell_type": "markdown",
   "metadata": {},
   "source": [
    "This is a convenience function that **calls the `timeit()` repeatedly, returning a list of results. **\n",
    "- The `repeat` specifies how many times to call `timeit()`.\n",
    "- The `number` argument specifies the number argument for `timeit()`.\n",
    "\n",
    "Syntax for `timeit.repeat`:\n",
    "\n",
    "> `timeit.repeat(stmt='pass', setup='pass', timer=<default timer>, repeat=3, number=1000000, globals=None)`\n",
    "\n",
    "Notice this has a `repeat` parameter whereas `timeit.timeit` does not."
   ]
  },
  {
   "cell_type": "markdown",
   "metadata": {},
   "source": [
    "```python\n",
    "class Timer:\n",
    "    # ...\n",
    "    def repeat(self, repeat=default_repeat, number=default_number):\n",
    "        r = []\n",
    "        for i in range(repeat):\n",
    "            t = self.timeit(number)\n",
    "            r.append(t)\n",
    "        return r\n",
    "```"
   ]
  },
  {
   "cell_type": "code",
   "execution_count": 22,
   "metadata": {},
   "outputs": [
    {
     "data": {
      "text/plain": [
       "[1.4181391519996396, 1.4050594389991602, 1.393595909998112]"
      ]
     },
     "execution_count": 22,
     "metadata": {},
     "output_type": "execute_result"
    }
   ],
   "source": [
    "def reverse_string(s):\n",
    "    return s[::-1]\n",
    "\n",
    "s = 'abcdefghijklmnopqrstuvwxyz' * 100\n",
    "repeat(lambda: reverse_string(s))"
   ]
  },
  {
   "cell_type": "code",
   "execution_count": 23,
   "metadata": {},
   "outputs": [
    {
     "name": "stdout",
     "output_type": "stream",
     "text": [
      "0.1559878590014705\n"
     ]
    }
   ],
   "source": [
    "setup = '''\n",
    "import random\n",
    "\n",
    "random.seed(123)\n",
    "s = [random.random() for i in range(1000)]\n",
    "timsort = list.sort\n",
    "'''\n",
    "\n",
    "print(min(Timer('a=s[:]; timsort(a)', setup=setup).repeat(7, 1000)))"
   ]
  },
  {
   "cell_type": "markdown",
   "metadata": {},
   "source": [
    "## `timeit.default_timer`"
   ]
  },
  {
   "cell_type": "markdown",
   "metadata": {},
   "source": [
    "This function can be useful in situations where you want to run code and time that code chunk at simultaneously.  However, note that **this doesn't disable garbage collection or separate out system time.**"
   ]
  },
  {
   "cell_type": "code",
   "execution_count": 24,
   "metadata": {
    "scrolled": true
   },
   "outputs": [
    {
     "name": "stdout",
     "output_type": "stream",
     "text": [
      "Retrieved 200,665 records in 4.19 seconds.\n"
     ]
    }
   ],
   "source": [
    "import pandas as pd\n",
    "\n",
    "start = default_timer()\n",
    "url = 'http://web.mta.info/developers/data/nyct/turnstile/turnstile_180106.txt'\n",
    "column_types = {\n",
    "    'DIVISION': 'category',\n",
    "    'DESC': 'category',\n",
    "    'LINENAME': 'category',\n",
    "    'STATION': 'category',\n",
    "    'C/A': 'category',\n",
    "    }\n",
    "df = pd.read_csv(url, parse_dates=[['DATE', 'TIME']], \n",
    "                 infer_datetime_format=True, dtype=column_types)\n",
    "end = default_timer() - start\n",
    "print('Retrieved {:,} records in {:0.2f} seconds.'.format(len(df), end))"
   ]
  },
  {
   "cell_type": "markdown",
   "metadata": {},
   "source": [
    "## Using `from __main__ import ...`"
   ]
  },
  {
   "cell_type": "markdown",
   "metadata": {},
   "source": [
    "If for whatever reason you aren't using `%timeit`, you may need a `setup` syntax like `from __main__ import func` if you've defined `func` in an interactive session and want to time it:"
   ]
  },
  {
   "cell_type": "code",
   "execution_count": 25,
   "metadata": {},
   "outputs": [
    {
     "data": {
      "text/plain": [
       "[4.197107559997676, 4.200084685002366, 4.233881822998228]"
      ]
     },
     "execution_count": 25,
     "metadata": {},
     "output_type": "execute_result"
    }
   ],
   "source": [
    "def f(x):\n",
    "    return x*x - x/x**2\n",
    "\n",
    "repeat(\"for x in range(1, 100): f(x)\", setup=\"from __main__ import f\", \n",
    "       number=100000)"
   ]
  },
  {
   "cell_type": "markdown",
   "metadata": {},
   "source": [
    "## Why is `timeit.timeit` better than `time.time`?"
   ]
  },
  {
   "cell_type": "markdown",
   "metadata": {},
   "source": [
    "From [Martijn Pieters](https://stackoverflow.com/a/17579466/7954504):\n",
    "\n",
    "`timeit` is more accurate, for three reasons:\n",
    "\n",
    "* it repeats the tests many times to eliminate the influence of other tasks on your machine, such as disk flushing and OS scheduling.\n",
    "* it disables the [garbage collector](https://docs.python.org/3/glossary.html#term-garbage-collection) to prevent that process from skewing the results by scheduling a collection run at an inopportune moment.\n",
    "* it picks the most accurate timer for your OS, `time.time` or `time.clock` in Python 2 and [`time.perf_counter()`](https://docs.python.org/3/library/time.html#time.perf_counter) on Python 3. See [`timeit.default_timer`](http://docs.python.org/3/library/timeit.html#timeit.default_timer)."
   ]
  },
  {
   "cell_type": "markdown",
   "metadata": {},
   "source": [
    "# `timeit`: command-line interface"
   ]
  },
  {
   "cell_type": "markdown",
   "metadata": {},
   "source": [
    "When called as a program from the command line, the following form is used:\n",
    "\n",
    "```bash\n",
    "python3 -m timeit [-n N] [-r N] [-u U] [-s S] [-t] [-c] [-h] [statement ...]\n",
    "```\n",
    "\n",
    "This executes `main()` within `timeit.py`, which:\n",
    "1. [Calls `Timer.repeat()`](https://github.com/python/cpython/blob/3.6/Lib/timeit.py#L329);\n",
    "2. [Calculates a `best` time](https://github.com/python/cpython/blob/3.6/Lib/timeit.py#L333) from these runs;\n",
    "3. Prints the _average time per loop_ from the `best` run."
   ]
  },
  {
   "cell_type": "markdown",
   "metadata": {},
   "source": [
    "## Timing code snippets"
   ]
  },
  {
   "cell_type": "markdown",
   "metadata": {},
   "source": [
    "Some examples are below.  (Here we use `%%bash` which is an IPython cell magic that runs cells with bash in a subprocess.)\n",
    "\n",
    "Using the `-m` flag tells the Python interpreter to find the module and treat it as the main program.\n",
    "\n",
    "The `stmt` argument works a little differently on the command line than the\n",
    "argument to `Timer`: \n",
    "- Instead of one long string, pass each line of the instructions as a separate command-line argument. \n",
    "- To indent lines (such as inside a loop), embed spaces in the string by enclosing it in quotes.\n",
    "\n",
    "From @Veedrac:\n",
    "> On the command line, `timeit` does proper statistical analysis: it tells you how long the shortest run took. This is good because all error in timing is positive. So the shortest time has the least error in it. There's no way to get negative error because a computer can't ever compute faster than it can compute!"
   ]
  },
  {
   "cell_type": "code",
   "execution_count": 26,
   "metadata": {},
   "outputs": [
    {
     "name": "stdout",
     "output_type": "stream",
     "text": [
      "10000 loops, best of 3: 22.7 usec per loop\n"
     ]
    }
   ],
   "source": [
    "%%bash\n",
    "python3 -m timeit '\"-\".join(str(n) for n in range(100))'"
   ]
  },
  {
   "cell_type": "code",
   "execution_count": 27,
   "metadata": {},
   "outputs": [
    {
     "name": "stdout",
     "output_type": "stream",
     "text": [
      "10000 loops, best of 3: 20.5 usec per loop\n"
     ]
    }
   ],
   "source": [
    "%%bash\n",
    "python3 -m timeit '\"-\".join([str(n) for n in range(100)])'"
   ]
  },
  {
   "cell_type": "code",
   "execution_count": 28,
   "metadata": {},
   "outputs": [
    {
     "name": "stdout",
     "output_type": "stream",
     "text": [
      "100000 loops, best of 3: 15.7 usec per loop\n"
     ]
    }
   ],
   "source": [
    "%%bash\n",
    "python3 -m timeit '\"-\".join(map(str, range(100)))'"
   ]
  },
  {
   "cell_type": "code",
   "execution_count": 29,
   "metadata": {},
   "outputs": [
    {
     "name": "stdout",
     "output_type": "stream",
     "text": [
      "10000000 loops, best of 3: 0.0304 usec per loop\n"
     ]
    }
   ],
   "source": [
    "%%bash\n",
    "python3 -m timeit -s 'text = \"sample string\"; char = \"g\"'  'char in text'"
   ]
  },
  {
   "cell_type": "code",
   "execution_count": 30,
   "metadata": {},
   "outputs": [
    {
     "name": "stdout",
     "output_type": "stream",
     "text": [
      "10000000 loops, best of 3: 0.136 usec per loop\n"
     ]
    }
   ],
   "source": [
    "%%bash\n",
    "python3 -m timeit -s 'text = \"sample string\"; char = \"g\"'  'text.find(char)'"
   ]
  },
  {
   "cell_type": "markdown",
   "metadata": {},
   "source": [
    "Note that the [source](https://github.com/python/cpython/blob/3.6/Lib/timeit.py#L11) says:\n",
    "\n",
    "> Command line usage:\n",
    "> \n",
    "> `python timeit.py [-n N] [-r N] [-s S] [-t] [-c] [-p] [-h] [--] [statement]`\n",
    "\n",
    "However, this is not really correct, unless you `cd` to `timeit.py`.  Alternatively, use the syntax above i.e. `python -m timeit ...`.  A discussion about this is [here](https://mail.python.org/pipermail/python-list/2005-January/345201.html).\n",
    "\n",
    "Note that you can use repeated flags:"
   ]
  },
  {
   "cell_type": "code",
   "execution_count": 31,
   "metadata": {},
   "outputs": [
    {
     "name": "stdout",
     "output_type": "stream",
     "text": [
      "10000 loops, best of 3: 156 usec per loop\n"
     ]
    }
   ],
   "source": [
    "%%bash\n",
    "python3 -m timeit -s \"x = range(10000)\" -s \"y = range(100)\" \"sum(x)\" \"min(y)\""
   ]
  },
  {
   "cell_type": "markdown",
   "metadata": {},
   "source": [
    "The above has `setup`:\n",
    "\n",
    "```python\n",
    "x = range(1000)\n",
    "y = range(100)\n",
    "```\n",
    "\n",
    "and two statements:\n",
    "\n",
    "```python\n",
    "sum(x)\n",
    "min(y)\n",
    "```"
   ]
  },
  {
   "cell_type": "markdown",
   "metadata": {},
   "source": [
    "## Timing scripts"
   ]
  },
  {
   "cell_type": "markdown",
   "metadata": {},
   "source": [
    "Say we have the following `.py` script:"
   ]
  },
  {
   "cell_type": "code",
   "execution_count": 3,
   "metadata": {},
   "outputs": [
    {
     "name": "stdout",
     "output_type": "stream",
     "text": [
      "# timeit_setitem.py\r\n",
      "def test_setitem(range_size=1000):\r\n",
      "    q = [(str(x), x) for x in range(range_size)]\r\n",
      "    d = {}\r\n",
      "    for s, i in q:\r\n",
      "        d[s] = i\r\n"
     ]
    }
   ],
   "source": [
    "%cat /Users/brad/Scripts/python/docs/tutorials/imgs/timeit_setitem.py"
   ]
  },
  {
   "cell_type": "markdown",
   "metadata": {},
   "source": [
    "We can time its function from the command line like so:"
   ]
  },
  {
   "cell_type": "code",
   "execution_count": 32,
   "metadata": {},
   "outputs": [
    {
     "name": "stdout",
     "output_type": "stream",
     "text": [
      "1000 loops, best of 3: 286 usec per loop\n"
     ]
    }
   ],
   "source": [
    "%%bash\n",
    "cd /Users/brad/Scripts/python/docs/tutorials/imgs/\n",
    "python3 -m timeit -s 'import timeit_setitem' 'timeit_setitem.test_setitem()'"
   ]
  },
  {
   "cell_type": "markdown",
   "metadata": {},
   "source": [
    "# IPython/Jupyter magic functions"
   ]
  },
  {
   "cell_type": "markdown",
   "metadata": {},
   "source": [
    "## `%time`"
   ]
  },
  {
   "cell_type": "markdown",
   "metadata": {},
   "source": [
    "From the docs: \n",
    "\n",
    "> This function provides very basic timing functionality. **Use the `timeit` magic for more control over the measurement.**\n",
    "\n",
    "`%time` can be called two ways:\n",
    "\n",
    "In **cell mode**, you can time the cell body (a directly following statement raises an error)."
   ]
  },
  {
   "cell_type": "code",
   "execution_count": 33,
   "metadata": {},
   "outputs": [
    {
     "name": "stdout",
     "output_type": "stream",
     "text": [
      "CPU times: user 5 µs, sys: 2 µs, total: 7 µs\n",
      "Wall time: 11.2 µs\n",
      "0-1-2-3-4- ...\n"
     ]
    }
   ],
   "source": [
    "%time  # Can't have anything here though...\n",
    "a = \"-\".join(str(n) for n in range(100))\n",
    "print(a[:10], '...')"
   ]
  },
  {
   "cell_type": "markdown",
   "metadata": {},
   "source": [
    "In **line mode** you can time a **single-line statement** (though multiple ones can be chained with using semicolons):"
   ]
  },
  {
   "cell_type": "code",
   "execution_count": 34,
   "metadata": {},
   "outputs": [
    {
     "name": "stdout",
     "output_type": "stream",
     "text": [
      "CPU times: user 50 µs, sys: 1 µs, total: 51 µs\n",
      "Wall time: 57 µs\n"
     ]
    }
   ],
   "source": [
    "%time a = \"-\".join(str(n) for n in range(100))"
   ]
  },
  {
   "cell_type": "markdown",
   "metadata": {},
   "source": [
    "## `%timeit`"
   ]
  },
  {
   "cell_type": "markdown",
   "metadata": {},
   "source": [
    "Similar to `%time`, you can use [`%timeit`](https://github.com/ipython/ipython/blob/master/IPython/core/magics/execution.py#L945) in line mode or cell mode:"
   ]
  },
  {
   "cell_type": "markdown",
   "metadata": {},
   "source": [
    "Line mode usage:\n",
    "\n",
    "> `%timeit [-n<N> -r<R> [-t|-c] -q -p<P> -o] statement`\n",
    "\n",
    "Cell mode uisage:\n",
    "\n",
    "> `%%timeit [-n<N> -r<R> [-t|-c] -q -p<P> -o] setup_code code code...`"
   ]
  },
  {
   "cell_type": "code",
   "execution_count": 35,
   "metadata": {},
   "outputs": [
    {
     "name": "stdout",
     "output_type": "stream",
     "text": [
      "9.11 ms ± 399 µs per loop (mean ± std. dev. of 7 runs, 100 loops each)\n"
     ]
    }
   ],
   "source": [
    "%%timeit\n",
    "mult_of_six = []  # The first line is setup code\n",
    "for i in range(100000):\n",
    "    if i % 2 == 0 and i % 3 == 0:\n",
    "        mult_of_six.append(i)"
   ]
  },
  {
   "cell_type": "markdown",
   "metadata": {},
   "source": [
    "We can use the `-o` flag to return a [`TimeitResult`](https://github.com/ipython/ipython/blob/master/IPython/core/magics/execution.py#L56) object that can be stored in a variable to inspect the result in more details.  The below also uses `-q` (quiet: don't print the result).\n",
    "\n",
    "Note that `%timeit` does **not** have a `-u` flag."
   ]
  },
  {
   "cell_type": "code",
   "execution_count": 36,
   "metadata": {
    "collapsed": true
   },
   "outputs": [],
   "source": [
    "def f():\n",
    "    for i in range(100000):\n",
    "        if i % 2 == 0 and i % 3 == 0:\n",
    "            yield i\n",
    "    return list(mult_of_six)\n",
    "    \n",
    "res = %timeit -oq -n 500 -r 7 f()"
   ]
  },
  {
   "cell_type": "code",
   "execution_count": 37,
   "metadata": {},
   "outputs": [
    {
     "name": "stdout",
     "output_type": "stream",
     "text": [
      "all_runs: ['9.3e-05', '9.2e-05', '9.2e-05', '9.2e-05', '9.1e-05', '9.2e-05', '9.2e-05']\n",
      "average: 1.8e-07\n",
      "best: 1.8e-07\n",
      "compile_time: 5.7e-05\n",
      "loops: 500\n",
      "repeat: 7\n",
      "stdev: 7.3e-10\n",
      "timings: ['1.9e-07', '1.8e-07', '1.8e-07', '1.8e-07', '1.8e-07', '1.8e-07', '1.8e-07']\n",
      "worst: 1.9e-07\n"
     ]
    }
   ],
   "source": [
    "for attr in dir(res):\n",
    "    if not attr.startswith('_'):\n",
    "        disp = getattr(res, attr)\n",
    "        if isinstance(disp, int):\n",
    "            print(attr, ': ', getattr(res, attr), sep='')\n",
    "        elif isinstance(disp, float):\n",
    "            print(attr, ': ', '{:0.2g}'.format(getattr(res, attr)), sep='')\n",
    "        elif isinstance(disp, list):\n",
    "            print(attr, ': ', ['{:0.2g}'.format(i) \n",
    "                               for i in getattr(res, attr)], sep='')"
   ]
  },
  {
   "cell_type": "markdown",
   "metadata": {},
   "source": [
    "## Aliasing a custom `%timeit`"
   ]
  },
  {
   "cell_type": "markdown",
   "metadata": {},
   "source": [
    "You can alias `%timeit -oq -n 500 -r 7` by placing this in your `startup.py` file (on Mac, `~/.ipython/profile_default/startup/startup.py`):\n",
    "\n",
    "```python\n",
    "\n",
    "# from IPython import get_ipython\n",
    "magic = get_ipython().magic  # noqa\n",
    "magic('%alias_magic -p \"-oq -n 750 -r 15\" timeobj timeit')\n",
    "```\n",
    "\n",
    "Now in Jupyter/Ipython we can use:\n",
    "\n",
    "```python\n",
    "timings = %timeobj f()\n",
    "```\n",
    "\n",
    "This will save the results of `%timeit -oq -n 500 -r 7 f()` to `timings`."
   ]
  }
 ],
 "metadata": {
  "kernelspec": {
   "display_name": "Python 3",
   "language": "python",
   "name": "python3"
  },
  "language_info": {
   "codemirror_mode": {
    "name": "ipython",
    "version": 3
   },
   "file_extension": ".py",
   "mimetype": "text/x-python",
   "name": "python",
   "nbconvert_exporter": "python",
   "pygments_lexer": "ipython3",
   "version": "3.6.3"
  },
  "toc": {
   "nav_menu": {},
   "number_sections": true,
   "sideBar": true,
   "skip_h1_title": false,
   "toc_cell": true,
   "toc_position": {},
   "toc_section_display": "block",
   "toc_window_display": false
  }
 },
 "nbformat": 4,
 "nbformat_minor": 2
}
