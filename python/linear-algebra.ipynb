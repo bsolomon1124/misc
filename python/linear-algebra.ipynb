{
 "cells": [
  {
   "cell_type": "markdown",
   "metadata": {},
   "source": [
    "# Covered here"
   ]
  },
  {
   "cell_type": "markdown",
   "metadata": {},
   "source": [
    "* [Finer points first](#Finer-points-first)\n",
    "* [Vectors](#Vectors)\n",
    "* [Matrices](#Matrices)\n",
    "* [Eigenvalues and eigenvectors](#Eigenvalues-and-eigenvectors)\n",
    "* [Singular value decomposition](#Singular-value-decomposition)\n",
    "* [Principal component analysis](#Principal-component-analysis)"
   ]
  },
  {
   "cell_type": "markdown",
   "metadata": {},
   "source": [
    "# References & resources"
   ]
  },
  {
   "cell_type": "markdown",
   "metadata": {},
   "source": [
    "* [Matrix Arithmetics under NumPy and Python](https://www.python-course.eu/matrix_arithmetic.php)\n",
    "* [MIT OpenCourseware: Linear Algebra](https://ocw.mit.edu/courses/mathematics/18-06-linear-algebra-spring-2010/)\n",
    "* [SciPy `linalg`](https://docs.scipy.org/doc/scipy/reference/tutorial/linalg.html)\n",
    "* [NumPy `linalg`](https://docs.scipy.org/doc/numpy-1.13.0/reference/routines.linalg.html)\n",
    " * `scipy.linalg` contains all the functions in `numpy.linalg`, plus some other more advanced ones not contained in `numpy.linalg`.\n",
    "* [NumPy for Matlab users](https://docs.scipy.org/doc/numpy-dev/user/numpy-for-matlab-users.html)\n",
    "* Harvey Mudd College: [Matrix Algebra](https://www.math.hmc.edu/calculus/tutorials/matrixalgebra/)\n",
    "* Abdi & Williams: [Principal component analysis](http://www.utdallas.edu/~herve/abdi-awPCA2010.pdf), Aug 2010"
   ]
  },
  {
   "cell_type": "markdown",
   "metadata": {},
   "source": [
    "# Finer points first"
   ]
  },
  {
   "cell_type": "markdown",
   "metadata": {},
   "source": [
    "NumPy's treatment of linear algebra operations can be a bit confusing and at times seem to conflict with textbook convention.  **That is discussed in more detail [here](https://docs.scipy.org/doc/numpy-dev/user/numpy-for-matlab-users.html).**\n",
    "\n",
    "One important point is that, when dealing with _vectors_, you should generally **treat and define vectors as being 1-dimensional, having shape _(n,)_ rather than _(n,1)_ or _(1,n)_.**  While this may conflict with teaching (such as from Strang - Chapter 1.1), it is okay to think of vectors as having _length_ rather than needing to think of them as having _shape_.\n",
    "\n",
    "For instance, any textbook will tell you that this is a defined operation:\n",
    "\n",
    "$\\begin{bmatrix}4 \\\\ 2 \\end{bmatrix} \\cdot \\begin{bmatrix}-1 \\\\ 2 \\end{bmatrix} = -4 + 4=0$\n",
    "\n",
    "But using NumPy's `matrix` class will result in a value error because the \"vectors\" will always be 2d and the trailing dimension of the first does not equal to the starting dimension of the second:"
   ]
  },
  {
   "cell_type": "code",
   "execution_count": 72,
   "metadata": {},
   "outputs": [
    {
     "ename": "ValueError",
     "evalue": "shapes (2,1) and (2,1) not aligned: 1 (dim 1) != 2 (dim 0)",
     "output_type": "error",
     "traceback": [
      "\u001b[0;31m---------------------------------------------------------------------------\u001b[0m",
      "\u001b[0;31mValueError\u001b[0m                                Traceback (most recent call last)",
      "\u001b[0;32m<ipython-input-72-703893b5d84a>\u001b[0m in \u001b[0;36m<module>\u001b[0;34m()\u001b[0m\n\u001b[1;32m      5\u001b[0m \u001b[0ma\u001b[0m \u001b[0;34m=\u001b[0m \u001b[0mnp\u001b[0m\u001b[0;34m.\u001b[0m\u001b[0mmatrix\u001b[0m\u001b[0;34m(\u001b[0m\u001b[0;34m'4 2'\u001b[0m\u001b[0;34m)\u001b[0m\u001b[0;34m.\u001b[0m\u001b[0mT\u001b[0m\u001b[0;34m\u001b[0m\u001b[0m\n\u001b[1;32m      6\u001b[0m \u001b[0mb\u001b[0m \u001b[0;34m=\u001b[0m \u001b[0mnp\u001b[0m\u001b[0;34m.\u001b[0m\u001b[0mmatrix\u001b[0m\u001b[0;34m(\u001b[0m\u001b[0;34m'-1 2'\u001b[0m\u001b[0;34m)\u001b[0m\u001b[0;34m.\u001b[0m\u001b[0mT\u001b[0m\u001b[0;34m\u001b[0m\u001b[0m\n\u001b[0;32m----> 7\u001b[0;31m \u001b[0mprint\u001b[0m\u001b[0;34m(\u001b[0m\u001b[0ma\u001b[0m \u001b[0;34m*\u001b[0m \u001b[0mb\u001b[0m\u001b[0;34m)\u001b[0m  \u001b[0;31m# Equiv to a.dot(b)\u001b[0m\u001b[0;34m\u001b[0m\u001b[0m\n\u001b[0m",
      "\u001b[0;32m/Applications/anaconda3/lib/python3.6/site-packages/numpy/matrixlib/defmatrix.py\u001b[0m in \u001b[0;36m__mul__\u001b[0;34m(self, other)\u001b[0m\n\u001b[1;32m    307\u001b[0m         \u001b[0;32mif\u001b[0m \u001b[0misinstance\u001b[0m\u001b[0;34m(\u001b[0m\u001b[0mother\u001b[0m\u001b[0;34m,\u001b[0m \u001b[0;34m(\u001b[0m\u001b[0mN\u001b[0m\u001b[0;34m.\u001b[0m\u001b[0mndarray\u001b[0m\u001b[0;34m,\u001b[0m \u001b[0mlist\u001b[0m\u001b[0;34m,\u001b[0m \u001b[0mtuple\u001b[0m\u001b[0;34m)\u001b[0m\u001b[0;34m)\u001b[0m \u001b[0;34m:\u001b[0m\u001b[0;34m\u001b[0m\u001b[0m\n\u001b[1;32m    308\u001b[0m             \u001b[0;31m# This promotes 1-D vectors to row vectors\u001b[0m\u001b[0;34m\u001b[0m\u001b[0;34m\u001b[0m\u001b[0m\n\u001b[0;32m--> 309\u001b[0;31m             \u001b[0;32mreturn\u001b[0m \u001b[0mN\u001b[0m\u001b[0;34m.\u001b[0m\u001b[0mdot\u001b[0m\u001b[0;34m(\u001b[0m\u001b[0mself\u001b[0m\u001b[0;34m,\u001b[0m \u001b[0masmatrix\u001b[0m\u001b[0;34m(\u001b[0m\u001b[0mother\u001b[0m\u001b[0;34m)\u001b[0m\u001b[0;34m)\u001b[0m\u001b[0;34m\u001b[0m\u001b[0m\n\u001b[0m\u001b[1;32m    310\u001b[0m         \u001b[0;32mif\u001b[0m \u001b[0misscalar\u001b[0m\u001b[0;34m(\u001b[0m\u001b[0mother\u001b[0m\u001b[0;34m)\u001b[0m \u001b[0;32mor\u001b[0m \u001b[0;32mnot\u001b[0m \u001b[0mhasattr\u001b[0m\u001b[0;34m(\u001b[0m\u001b[0mother\u001b[0m\u001b[0;34m,\u001b[0m \u001b[0;34m'__rmul__'\u001b[0m\u001b[0;34m)\u001b[0m \u001b[0;34m:\u001b[0m\u001b[0;34m\u001b[0m\u001b[0m\n\u001b[1;32m    311\u001b[0m             \u001b[0;32mreturn\u001b[0m \u001b[0mN\u001b[0m\u001b[0;34m.\u001b[0m\u001b[0mdot\u001b[0m\u001b[0;34m(\u001b[0m\u001b[0mself\u001b[0m\u001b[0;34m,\u001b[0m \u001b[0mother\u001b[0m\u001b[0;34m)\u001b[0m\u001b[0;34m\u001b[0m\u001b[0m\n",
      "\u001b[0;31mValueError\u001b[0m: shapes (2,1) and (2,1) not aligned: 1 (dim 1) != 2 (dim 0)"
     ]
    }
   ],
   "source": [
    "import numpy as np\n",
    "from numpy import linalg\n",
    "\n",
    "# Both shape (2,1)\n",
    "a = np.matrix('4 2').T\n",
    "b = np.matrix('-1 2').T\n",
    "print(a * b)  # Equiv to a.dot(b)"
   ]
  },
  {
   "cell_type": "markdown",
   "metadata": {},
   "source": [
    "The solution, somewhat unintuitively, is to just use `ndarrays`:"
   ]
  },
  {
   "cell_type": "code",
   "execution_count": 73,
   "metadata": {},
   "outputs": [
    {
     "name": "stdout",
     "output_type": "stream",
     "text": [
      "0\n"
     ]
    }
   ],
   "source": [
    "a = np.array([4, 2])\n",
    "b = np.array([-1, 2])\n",
    "print(a.dot(b))"
   ]
  },
  {
   "cell_type": "markdown",
   "metadata": {},
   "source": [
    "Note that the transpose of a one-dimensional `ndarray` does nothing.  Also note that this construction would be invalid (similar to the error with `matrix` objects above:"
   ]
  },
  {
   "cell_type": "code",
   "execution_count": 74,
   "metadata": {},
   "outputs": [
    {
     "ename": "ValueError",
     "evalue": "shapes (2,1) and (2,1) not aligned: 1 (dim 1) != 2 (dim 0)",
     "output_type": "error",
     "traceback": [
      "\u001b[0;31m---------------------------------------------------------------------------\u001b[0m",
      "\u001b[0;31mValueError\u001b[0m                                Traceback (most recent call last)",
      "\u001b[0;32m<ipython-input-74-7ccc4198565a>\u001b[0m in \u001b[0;36m<module>\u001b[0;34m()\u001b[0m\n\u001b[0;32m----> 1\u001b[0;31m \u001b[0mprint\u001b[0m\u001b[0;34m(\u001b[0m\u001b[0ma\u001b[0m\u001b[0;34m.\u001b[0m\u001b[0mreshape\u001b[0m\u001b[0;34m(\u001b[0m\u001b[0;34m-\u001b[0m\u001b[0;36m1\u001b[0m\u001b[0;34m,\u001b[0m\u001b[0;36m1\u001b[0m\u001b[0;34m)\u001b[0m\u001b[0;34m.\u001b[0m\u001b[0mdot\u001b[0m\u001b[0;34m(\u001b[0m\u001b[0ma\u001b[0m\u001b[0;34m.\u001b[0m\u001b[0mreshape\u001b[0m\u001b[0;34m(\u001b[0m\u001b[0;34m-\u001b[0m\u001b[0;36m1\u001b[0m\u001b[0;34m,\u001b[0m\u001b[0;36m1\u001b[0m\u001b[0;34m)\u001b[0m\u001b[0;34m)\u001b[0m\u001b[0;34m)\u001b[0m\u001b[0;34m\u001b[0m\u001b[0m\n\u001b[0m",
      "\u001b[0;31mValueError\u001b[0m: shapes (2,1) and (2,1) not aligned: 1 (dim 1) != 2 (dim 0)"
     ]
    }
   ],
   "source": [
    "print(a.reshape(-1,1).dot(a.reshape(-1,1)))"
   ]
  },
  {
   "cell_type": "markdown",
   "metadata": {},
   "source": [
    "Independent from this, **use of `matrix` in NumPy is discouraged**.  The only things that `matrix` adds are:\n",
    "* Alternate construction syntax: `np.matrix('1 2 3')` or `np.matrix('1 2; 3 4')`, similar to MATLAB.\n",
    "* `.H`, `.I`, and `.A` attributes, which return the conjugate transpose, inverse, and `asarray()` of the matrix, respectively.\n",
    "* For `matrix`, one-dimensional arrays are always upconverted to 1xN or Nx1 matrices (row or column vectors).  (So, `matrix` is always 2d.\n",
    "* For matrix, ‘``*``’ means matrix multiplication, and the `multiply()` function is used for element-wise multiplication."
   ]
  },
  {
   "cell_type": "markdown",
   "metadata": {},
   "source": [
    "# Vectors"
   ]
  },
  {
   "cell_type": "markdown",
   "metadata": {},
   "source": [
    "A vector is a one-dimensional array of numbers."
   ]
  },
  {
   "cell_type": "markdown",
   "metadata": {},
   "source": [
    "## Linear combination"
   ]
  },
  {
   "cell_type": "markdown",
   "metadata": {},
   "source": [
    "$cv+dw = c\\begin{bmatrix}1 \\\\ 1 \\end{bmatrix} + d\\begin{bmatrix}2 \\\\ 3 \\end{bmatrix}$\n",
    "\n",
    "$v+w = \\begin{bmatrix}1 \\\\ 1 \\end{bmatrix} + \\begin{bmatrix}2 \\\\ 3 \\end{bmatrix} = \\begin{bmatrix}3 \\\\ 4 \\end{bmatrix}$ is the combination with $c=d=1$."
   ]
  },
  {
   "cell_type": "code",
   "execution_count": 75,
   "metadata": {},
   "outputs": [
    {
     "name": "stdout",
     "output_type": "stream",
     "text": [
      "[3 4]\n"
     ]
    }
   ],
   "source": [
    "v = np.array([1, 1])\n",
    "w = np.array([2, 3])\n",
    "c = d = 1\n",
    "print(c*v + d*w)"
   ]
  },
  {
   "cell_type": "markdown",
   "metadata": {},
   "source": [
    "## Vector addition"
   ]
  },
  {
   "cell_type": "markdown",
   "metadata": {},
   "source": [
    "The sum of $cv$ and $dw$ is a linear combination of $v$ and $w$."
   ]
  },
  {
   "cell_type": "markdown",
   "metadata": {},
   "source": [
    "$v=\\begin{bmatrix}v_1 \\\\ v_2 \\end{bmatrix}$ and $w=\\begin{bmatrix}w_1 \\\\ w_2 \\end{bmatrix}$ add to $v+w=\\begin{bmatrix}v_1 + w_1 \\\\ v_2 +w_2\\end{bmatrix}$"
   ]
  },
  {
   "cell_type": "code",
   "execution_count": 76,
   "metadata": {},
   "outputs": [
    {
     "name": "stdout",
     "output_type": "stream",
     "text": [
      "[3 4]\n"
     ]
    }
   ],
   "source": [
    "print(v + w)"
   ]
  },
  {
   "cell_type": "markdown",
   "metadata": {},
   "source": [
    "## Scalar multiplication"
   ]
  },
  {
   "cell_type": "markdown",
   "metadata": {},
   "source": [
    "Numbers _c_ when used in linear algebra are referred to as _scalars_."
   ]
  },
  {
   "cell_type": "markdown",
   "metadata": {},
   "source": [
    "$2v=\\begin{bmatrix}2v_1 \\\\ 2v_2 \\end{bmatrix}$ and $-v=\\begin{bmatrix}-v_1 \\\\ -v_2 \\end{bmatrix}$"
   ]
  },
  {
   "cell_type": "code",
   "execution_count": 77,
   "metadata": {},
   "outputs": [
    {
     "name": "stdout",
     "output_type": "stream",
     "text": [
      "[2 2]\n",
      "[-1 -1]\n"
     ]
    }
   ],
   "source": [
    "print(2 * v)\n",
    "print(-v)"
   ]
  },
  {
   "cell_type": "markdown",
   "metadata": {},
   "source": [
    "Note that the sum of a vector and its negation is the **zero vector.**  This is **0**, which is not the same as the number zero.  The zero vector has components all equal to 0."
   ]
  },
  {
   "cell_type": "code",
   "execution_count": 78,
   "metadata": {},
   "outputs": [
    {
     "name": "stdout",
     "output_type": "stream",
     "text": [
      "[0 0]\n"
     ]
    }
   ],
   "source": [
    "print(v + (-v))"
   ]
  },
  {
   "cell_type": "markdown",
   "metadata": {},
   "source": [
    "## Dot product of vectors"
   ]
  },
  {
   "cell_type": "markdown",
   "metadata": {},
   "source": [
    "The **dot product of two vectors** is an algebraic operation that **takes two coordinate vectors of equal size and returns a single number--a scalar**. The result is calculated by **multiplying corresponding entries and adding up those products**.  This is analogous to a `sumproduct` in Excel."
   ]
  },
  {
   "cell_type": "markdown",
   "metadata": {},
   "source": [
    "$v \\cdot w = \\sum{v_i w_i}$"
   ]
  },
  {
   "cell_type": "code",
   "execution_count": 79,
   "metadata": {},
   "outputs": [
    {
     "name": "stdout",
     "output_type": "stream",
     "text": [
      "36\n"
     ]
    }
   ],
   "source": [
    "x = np.array([1, 2, 3])\n",
    "y = np.array([-7, 8, 9])\n",
    "print(x.dot(y))  # Alternate: np.dot(x,y)\n",
    "# print(np.sum(x * y))  # A `sumproduct`"
   ]
  },
  {
   "cell_type": "markdown",
   "metadata": {},
   "source": [
    "Note that perpendicular vectors (the angle between them is 90 degrees) will yield a zero scalar as a result."
   ]
  },
  {
   "cell_type": "code",
   "execution_count": 80,
   "metadata": {},
   "outputs": [
    {
     "name": "stdout",
     "output_type": "stream",
     "text": [
      "0\n"
     ]
    }
   ],
   "source": [
    "v = np.array([4, 2])\n",
    "w = np.array([-1, 2])\n",
    "print(v.dot(w))  # (4)(-1) + (2)(2) = -4 + 4"
   ]
  },
  {
   "cell_type": "markdown",
   "metadata": {},
   "source": [
    "## Length of a vector"
   ]
  },
  {
   "cell_type": "markdown",
   "metadata": {},
   "source": [
    "The **length** $||v||$ of a vector $v$ is the square root of $v\\cdot v$, the dot product of the vector with itself.  So, the dot proudct $v\\cdot v$ gives the _length of v squared_.  This is also called $norm(v)$."
   ]
  },
  {
   "cell_type": "code",
   "execution_count": 81,
   "metadata": {},
   "outputs": [
    {
     "name": "stdout",
     "output_type": "stream",
     "text": [
      "14\n"
     ]
    }
   ],
   "source": [
    "v = np.array([1, 2, 3])\n",
    "print(v.dot(v))  # ||v|| ^ 2\n",
    "assert np.sqrt(v.dot(v)) == linalg.norm(v)"
   ]
  },
  {
   "cell_type": "markdown",
   "metadata": {},
   "source": [
    "Here the norm is just the **ordinary length of the arrow that represents the vector.**  The derivation of the length then comes from the Pythagoras formula, $a^2+b^2=c^2$, where the arrow is $c$.  This can be extended to three-dimensional vectors."
   ]
  },
  {
   "cell_type": "markdown",
   "metadata": {},
   "source": [
    "![pythag.PNG](./imgs/pythag.PNG)"
   ]
  },
  {
   "cell_type": "markdown",
   "metadata": {},
   "source": [
    "## Unit vectors"
   ]
  },
  {
   "cell_type": "markdown",
   "metadata": {},
   "source": [
    "A unit vector is a vector whose length equals one.  That implies $v \\cdot v = 1$.\n",
    "\n",
    "The standard unit vectors along the _x_ and _y_ axes are written **_i_** and **_j_**.\n",
    "\n",
    "$i = \\begin{bmatrix}1 \\\\ 0 \\end{bmatrix}$ and $j = \\begin{bmatrix}0 \\\\ 1 \\end{bmatrix}$"
   ]
  },
  {
   "cell_type": "markdown",
   "metadata": {},
   "source": [
    "## Geometric representation of vectors"
   ]
  },
  {
   "cell_type": "markdown",
   "metadata": {},
   "source": [
    "A 2d vector $v$ can be seen as:\n",
    "* Two numbers\n",
    "* An array extending from the origin (0,0)\n",
    "* A point in the plane relative to (0,0)\n",
    "\n",
    "The vector v = (4, 2) is an arrow that goes up 4 units to the right and 2 units up."
   ]
  },
  {
   "cell_type": "markdown",
   "metadata": {},
   "source": [
    "![vectoradd.PNG](./imgs/vectoradd.PNG)"
   ]
  },
  {
   "cell_type": "markdown",
   "metadata": {},
   "source": [
    "## Vectors in three dimensions"
   ]
  },
  {
   "cell_type": "markdown",
   "metadata": {},
   "source": [
    "Vectors with three components corresponds to arrows in 3-space.  The array starts at the origin (0,0,0) where the _xyz_ axes meet.\n",
    "\n",
    "![vector3d.PNG](./imgs/vec3d.PNG)\n"
   ]
  },
  {
   "cell_type": "markdown",
   "metadata": {},
   "source": [
    "## Alternate representations of vectors"
   ]
  },
  {
   "cell_type": "markdown",
   "metadata": {},
   "source": [
    "Note that a vector $v=\\begin{bmatrix}v_1 \\\\ v_2 \\end{bmatrix}$ may also be denoted $v=(v_1, v_2)$ or $\\dot{v} = <v_1,v_2,v_3>$."
   ]
  },
  {
   "cell_type": "markdown",
   "metadata": {},
   "source": [
    "## Summary of vector operations"
   ]
  },
  {
   "cell_type": "markdown",
   "metadata": {},
   "source": [
    "Vector operations work elementwise."
   ]
  },
  {
   "cell_type": "markdown",
   "metadata": {},
   "source": [
    "![vectorops.PNG](./imgs/vectorops.PNG)"
   ]
  },
  {
   "cell_type": "markdown",
   "metadata": {},
   "source": [
    "# Matrices"
   ]
  },
  {
   "cell_type": "markdown",
   "metadata": {},
   "source": [
    "While a vector is a 1-dimensional array of numbers, a **matrix is a 2-dimensional (rectangular) array of numbers.**\n",
    "\n",
    "An _m x n_ matrix has _m_ rows and _n_ columns."
   ]
  },
  {
   "cell_type": "markdown",
   "metadata": {},
   "source": [
    "## Matrix notation"
   ]
  },
  {
   "cell_type": "markdown",
   "metadata": {},
   "source": [
    "The first row of a 2x2 matrix contains $a_{11}$ and $a_{12}$.  The second row contains $a_{21}$ and $a_{22}$.  The first index gives the row number and the second gives the column number.  An alternate notation of $a_{ij}$ is $A(i,j)$.\n",
    "\n",
    "$a = \\begin{bmatrix}a_{11} & a_{12} \\\\ a_{21} & a_{22} \\end{bmatrix} = \\begin{bmatrix}a(1,1) & a(1,2) \\\\ a(2,1) & a(2,2) \\end{bmatrix}$"
   ]
  },
  {
   "cell_type": "markdown",
   "metadata": {},
   "source": [
    "## Linear combinations of matrices"
   ]
  },
  {
   "cell_type": "markdown",
   "metadata": {},
   "source": [
    "The three vectors in this example are $u$, $v$, and $w$.\n",
    "\n",
    "$u=\\begin{bmatrix}1 \\\\ -1 \\\\ 0 \\end{bmatrix}, v=\\begin{bmatrix}0 \\\\ 1 \\\\ -1 \\end{bmatrix}, w=\\begin{bmatrix}0 \\\\ 0 \\\\ 1 \\end{bmatrix}$\n",
    "\n",
    "Their linear combinations in three-dimensional space are $cu + dv + ew$:\n",
    "\n",
    "$c\\begin{bmatrix}1 \\\\ -1 \\\\ 0 \\end{bmatrix}+ d\\begin{bmatrix}0 \\\\ 1 \\\\ -1 \\end{bmatrix}+e\\begin{bmatrix}0 \\\\ 0 \\\\ 1 \\end{bmatrix}=\\begin{bmatrix}1*c+0*d+0*e \\\\ -1*c+1*d+0*e \\\\ 0*c-1*d+1*d \\end{bmatrix}=\\begin{bmatrix}c \\\\ d-c \\\\ e-d \\end{bmatrix}$\n",
    "\n",
    "You can then rewrite that combination using a matrix instead of 3 scalars:\n",
    "\n",
    "$\\begin{bmatrix}1 & 0 & 0 \\\\ -1 & 1 & 0 \\\\ 0 & 1 & 0 \\end{bmatrix}\\begin{bmatrix}c \\\\ d \\\\ e \\end{bmatrix}=\\begin{bmatrix}c \\\\ d-c \\\\ e-d \\end{bmatrix}$\n",
    "\n",
    "This is **a matrix times a vector** and leads us to the definition of dot products for matrices."
   ]
  },
  {
   "cell_type": "markdown",
   "metadata": {},
   "source": [
    "## Using matrices to solve linear equations/systems"
   ]
  },
  {
   "cell_type": "markdown",
   "metadata": {},
   "source": [
    "The central problem of linear algebra is to solve a system of linear equations.  For example, take two equations with two unknowns.\n",
    "\n",
    "$$x - 2y = 1$$\n",
    "\n",
    "$$3x + 2y = 11$$\n",
    "\n",
    "One way to solve is the find visually the point where the lines intersect.\n",
    "\n",
    "![intersect.PNG](./imgs/intersect.PNG)\n",
    "\n",
    "The linear algebra way is to recognize the same linear system as a vector equation.  Instead of numbers we use vectors, separating the original system into its columns and rows:\n",
    "\n",
    "$$x\\begin{bmatrix}1 \\\\ 3 \\end{bmatrix}+y\\begin{bmatrix}-2 \\\\ 2 \\end{bmatrix}=\\begin{bmatrix}1 \\\\ 11 \\end{bmatrix}=b$$\n",
    "\n",
    "That is, there is some scalar _x_ and some scalar _y_ (coefficients) that will satisfy both equations.  The next step is to rewrite using a _coefficient matrix_:\n",
    "\n",
    "$$\\begin{bmatrix}1 & -2 \\\\ 3 & 2 \\end{bmatrix}\\begin{bmatrix}x \\\\ y \\end{bmatrix} = \\begin{bmatrix}1 \\\\ 11 \\end{bmatrix}$$"
   ]
  },
  {
   "cell_type": "code",
   "execution_count": 82,
   "metadata": {},
   "outputs": [
    {
     "name": "stdout",
     "output_type": "stream",
     "text": [
      "[ 1 11]\n"
     ]
    }
   ],
   "source": [
    "A = np.array([[1, -2],\n",
    "              [3,  2]])\n",
    "x = np.array([3, 1])\n",
    "b = np.array([1, 11])\n",
    "print(A.dot(x))"
   ]
  },
  {
   "cell_type": "markdown",
   "metadata": {},
   "source": [
    "The formal solution is to use a matrix inverse:\n",
    "\n",
    "$x = A^{-1} \\cdot b$\n",
    "\n",
    "In NumPy/SciPy, solving linear systems of equations is straightforward using `linalg.solve`.\n",
    "\n",
    "Notation: `scipy.linalg.solve(a, b)` --> Solve the equation `a x = b` for `x`.  This is also faster and numerically stable."
   ]
  },
  {
   "cell_type": "code",
   "execution_count": 83,
   "metadata": {},
   "outputs": [
    {
     "name": "stdout",
     "output_type": "stream",
     "text": [
      "[ 3.  1.]\n"
     ]
    }
   ],
   "source": [
    "print(linalg.solve(A, b))"
   ]
  },
  {
   "cell_type": "markdown",
   "metadata": {},
   "source": [
    "## The identity and inverse matrix"
   ]
  },
  {
   "cell_type": "markdown",
   "metadata": {},
   "source": [
    "An **identity matrix**, denoted **I**, is a \\*square\\* matrix consisting of ones down the main diagonal."
   ]
  },
  {
   "cell_type": "code",
   "execution_count": 84,
   "metadata": {},
   "outputs": [
    {
     "name": "stdout",
     "output_type": "stream",
     "text": [
      "[[1 0 0 0]\n",
      " [0 1 0 0]\n",
      " [0 0 1 0]\n",
      " [0 0 0 1]]\n"
     ]
    }
   ],
   "source": [
    "print(np.identity(4, dtype=np.int16))"
   ]
  },
  {
   "cell_type": "markdown",
   "metadata": {},
   "source": [
    "The **inverse** of a matrix **A** is the matrix **B** such that $A \\cdot B = I$.  Usually **B** is denoted $B = A ^ {-1}$. In SciPy, the matrix inverse of the Numpy `ndarray`, `A`, is obtained using `linalg.inv(A)` , or using `A.`I if `A` is a `matrix`.\n",
    "\n",
    "**Not all matrices have inverses.**  Only square matrices can have inverses."
   ]
  },
  {
   "cell_type": "code",
   "execution_count": 85,
   "metadata": {},
   "outputs": [
    {
     "name": "stdout",
     "output_type": "stream",
     "text": [
      "[[-1.48  0.36  0.88]\n",
      " [ 0.56  0.08 -0.36]\n",
      " [ 0.16 -0.12  0.04]]\n",
      "\n",
      "\n",
      "[[-1.48  0.36  0.88]\n",
      " [ 0.56  0.08 -0.36]\n",
      " [ 0.16 -0.12  0.04]]\n"
     ]
    }
   ],
   "source": [
    "a = np.array([[1, 3, 5],\n",
    "              [2, 5, 1],\n",
    "              [2, 3, 8]])\n",
    "print(linalg.inv(a))\n",
    "print('\\n')\n",
    "print(np.mat(a).I)"
   ]
  },
  {
   "cell_type": "markdown",
   "metadata": {
    "collapsed": true
   },
   "source": [
    "Note above that [`np.mat`](https://docs.scipy.org/doc/numpy-1.13.0/reference/generated/numpy.mat.html) interprets the input as a matrix."
   ]
  },
  {
   "cell_type": "code",
   "execution_count": 86,
   "metadata": {},
   "outputs": [
    {
     "data": {
      "text/plain": [
       "array([[ 1.,  0., -0.],\n",
       "       [-0.,  1.,  0.],\n",
       "       [-0.,  0.,  1.]])"
      ]
     },
     "execution_count": 86,
     "metadata": {},
     "output_type": "execute_result"
    }
   ],
   "source": [
    "a.dot(linalg.inv(a)).round(1)  # Double-check result is identity matrix"
   ]
  },
  {
   "cell_type": "markdown",
   "metadata": {},
   "source": [
    "## Matrix multiplication"
   ]
  },
  {
   "cell_type": "markdown",
   "metadata": {},
   "source": [
    "Note that a dot product and matrix multiplication are not the same thing.  Matrix multiplication is essentially a table of dot products for pairs of vectors making up the entries of two matrices.  Matrix multiplication between _A_ and _B_ is defined _iff_ the **number of columns in the first matrix equals the number of rows in the second.**  The entry of row $i$ and column $j$ in $AB$ is $(row \\ i \\ of \\ A) \\cdot (column \\ j \\ of \\ B)$.\n",
    "\n",
    "$(m \\times n)(n \\times p) = (m \\times p)$\n",
    "\n",
    "![dotprod3.PNG](./imgs/dotprod3.PNG)\n",
    "\n",
    "![dotprod2.PNG](./imgs/dotprod2.PNG)\n",
    "\n",
    "![matmult.PNG](./imgs/matmult.PNG)\n",
    "\n",
    "Note that matrix multiplication can be expressed as \"multiplication by rows\" or \"multiplication by columns\":\n",
    "\n",
    "**Multiplication by rows**: Multiply each row of $A$ by the column vector $x$:\n",
    "\n",
    "$Ax = \\begin{bmatrix}(row \\ 1) \\cdot x \\\\ (row \\ 2) \\cdot x \\\\ (row \\ 3) \\cdot x \\end{bmatrix}$\n",
    "\n",
    "**Multiplication by columns**: $Ax$ is a combination of column vectors,\n",
    "\n",
    "$Ax = x(column \\ 1) + y(column \\ 2) + z(column 3)$"
   ]
  },
  {
   "cell_type": "code",
   "execution_count": 87,
   "metadata": {},
   "outputs": [
    {
     "name": "stdout",
     "output_type": "stream",
     "text": [
      "[6 4 2]\n"
     ]
    }
   ],
   "source": [
    "A = np.array([[1,  2, 3],\n",
    "              [2,  5, 2],\n",
    "              [6, -3, 1]])\n",
    "x = np.array([0, 0, 2])\n",
    "print(A.dot(x))"
   ]
  },
  {
   "cell_type": "code",
   "execution_count": 88,
   "metadata": {},
   "outputs": [
    {
     "name": "stdout",
     "output_type": "stream",
     "text": [
      "6\n",
      "4\n",
      "2\n"
     ]
    }
   ],
   "source": [
    "# Multiplication by rows\n",
    "for row in A:\n",
    "    print(row.dot(x))"
   ]
  },
  {
   "cell_type": "code",
   "execution_count": 89,
   "metadata": {},
   "outputs": [
    {
     "name": "stdout",
     "output_type": "stream",
     "text": [
      "[6 4 2]\n"
     ]
    }
   ],
   "source": [
    "# Multiplication by columns\n",
    "r = x[0] * A[:, 0]\n",
    "s = x[1] * A[:, 1]\n",
    "t = x[2] * A[:, 2]\n",
    "print(r + s + t)"
   ]
  },
  {
   "cell_type": "markdown",
   "metadata": {},
   "source": [
    "The confusing thing here is that **`np.dot` is also smart enough to refer to matrix multiplication for two 2d arrays**.  From the docstring,\n",
    "\n",
    " > For 2-D arrays it is equivalent to matrix multiplication, and for 1-D arrays to inner product of vectors (without complex conjugation)."
   ]
  },
  {
   "cell_type": "code",
   "execution_count": 90,
   "metadata": {},
   "outputs": [
    {
     "name": "stdout",
     "output_type": "stream",
     "text": [
      "[[ 1.  2.]\n",
      " [ 3.  4.]\n",
      " [ 5.  6.]\n",
      " [ 7.  8.]]\n",
      "\n",
      "\n",
      "[[ 10.  20.  30.]\n",
      " [ 40.  50.  60.]]\n",
      "\n",
      "\n",
      "[[  90.  120.  150.]\n",
      " [ 190.  260.  330.]\n",
      " [ 290.  400.  510.]\n",
      " [ 390.  540.  690.]]\n"
     ]
    }
   ],
   "source": [
    "a = np.arange(1,9, dtype=np.float64).reshape(4,2)\n",
    "b = np.linspace(10, 60, num=6).reshape(2,3)\n",
    "print(a)\n",
    "print('\\n')\n",
    "print(b)\n",
    "print('\\n')\n",
    "print(a.dot(b))"
   ]
  },
  {
   "cell_type": "markdown",
   "metadata": {},
   "source": [
    "Above (yellow), the first row of `a` is multiplied by the second column of `b`, and the sum becomes element (1,2) of the result."
   ]
  },
  {
   "cell_type": "code",
   "execution_count": 91,
   "metadata": {
    "scrolled": true
   },
   "outputs": [
    {
     "name": "stdout",
     "output_type": "stream",
     "text": [
      "[  20.  100.]\n",
      "120.0\n"
     ]
    }
   ],
   "source": [
    "print(a[0] * b[:,1])\n",
    "print(np.sum(a[0] * b[:,1]))"
   ]
  },
  {
   "cell_type": "markdown",
   "metadata": {},
   "source": [
    "[`numpy.matmul`](https://docs.scipy.org/doc/numpy/reference/generated/numpy.matmul.html) is also used for matrix multiplication but has more complex behavior depending on the shape of the arguments.\n",
    "\n",
    "> - If both arguments are 2-D they are multiplied like conventional matrices.\n",
    "> - If either argument is N-D, N > 2, it is treated as a stack of matrices residing in the last two indexes and broadcast accordingly.\n",
    "> - If the first argument is 1-D, it is promoted to a matrix by prepending a 1 to its dimensions. After matrix multiplication the prepended 1 is removed.\n",
    "> - If the second argument is 1-D, it is promoted to a matrix by appending a 1 to its dimensions. After matrix multiplication the appended 1 is removed."
   ]
  },
  {
   "cell_type": "markdown",
   "metadata": {},
   "source": [
    "## Matrix addition, subtraction & scalar multiplication"
   ]
  },
  {
   "cell_type": "markdown",
   "metadata": {},
   "source": [
    "Matrices can be added or subtracted if their shapes are the same.  In this case, just add or subtract elementwise corresponding entries.  Like vectors, matrices can be multiplied by an constant _c_.\n",
    "\n",
    "Addition: $B+C=[b_{ij}+c_{ij}]$\n",
    "\n",
    "Subtraction: $B-C=[b_{ij}-c_{ij}]$\n",
    "\n",
    "Scalar multiplication: $cA = [cA_{ij}]$"
   ]
  },
  {
   "cell_type": "code",
   "execution_count": 92,
   "metadata": {},
   "outputs": [
    {
     "name": "stdout",
     "output_type": "stream",
     "text": [
      "[[3 4]\n",
      " [7 8]\n",
      " [9 9]]\n",
      "\n",
      "[[-1  0]\n",
      " [-1  0]\n",
      " [-9 -9]]\n",
      "\n",
      "[[2 4]\n",
      " [6 8]\n",
      " [0 0]]\n"
     ]
    }
   ],
   "source": [
    "a = np.array([[1, 2],\n",
    "              [3, 4],\n",
    "              [0, 0]])  # Unnecessary here: a = np.matrix('1 2; 3 4; 0 0')\n",
    "b = np.array([[2, 2],\n",
    "              [4, 4],\n",
    "              [9, 9]])\n",
    "print(a + b)\n",
    "print()\n",
    "print(a - b)\n",
    "print()\n",
    "print(2*a)"
   ]
  },
  {
   "cell_type": "markdown",
   "metadata": {},
   "source": [
    "## Common laws for matrix operations"
   ]
  },
  {
   "cell_type": "markdown",
   "metadata": {},
   "source": [
    "Addition laws:\n",
    "* Commutative law: $A+B=B+A$\n",
    "* Distributive law: $c(A+B)=cA+cB$\n",
    "* Associative law: $A+(B+C)=(A+B)+C$\n",
    "\n",
    "For multiplication, the commutive \"law\" is _usually broken_, $AB \\ne BA$."
   ]
  },
  {
   "cell_type": "markdown",
   "metadata": {},
   "source": [
    "## Dividing matrices"
   ]
  },
  {
   "cell_type": "markdown",
   "metadata": {},
   "source": [
    "The [rule](#Matrix-multiplication) mentioned above does not apply for division of one matrix by another:"
   ]
  },
  {
   "cell_type": "code",
   "execution_count": 93,
   "metadata": {},
   "outputs": [
    {
     "name": "stdout",
     "output_type": "stream",
     "text": [
      "[[1 2]\n",
      " [3 4]\n",
      " [0 0]]\n",
      "\n",
      "\n",
      "[[2 2]\n",
      " [4 4]\n",
      " [9 9]]\n",
      "[[ 0.5   1.  ]\n",
      " [ 0.75  1.  ]\n",
      " [ 0.    0.  ]]\n"
     ]
    }
   ],
   "source": [
    "print(a)\n",
    "print('\\n')\n",
    "print(b)\n",
    "print(a / b)"
   ]
  },
  {
   "cell_type": "markdown",
   "metadata": {},
   "source": [
    "The fix is to multiplly by the inverse of the divisor, using the logic that 10/2 is equivalent to $10 / 2^{-1}$.  However, note that this requires the divisor to have a defined inverse, which is not true for all matrices."
   ]
  },
  {
   "cell_type": "code",
   "execution_count": 94,
   "metadata": {},
   "outputs": [
    {
     "ename": "LinAlgError",
     "evalue": "Last 2 dimensions of the array must be square",
     "output_type": "error",
     "traceback": [
      "\u001b[0;31m---------------------------------------------------------------------------\u001b[0m",
      "\u001b[0;31mLinAlgError\u001b[0m                               Traceback (most recent call last)",
      "\u001b[0;32m<ipython-input-94-3273bcffd85a>\u001b[0m in \u001b[0;36m<module>\u001b[0;34m()\u001b[0m\n\u001b[0;32m----> 1\u001b[0;31m \u001b[0ma\u001b[0m\u001b[0;34m.\u001b[0m\u001b[0mdot\u001b[0m\u001b[0;34m(\u001b[0m\u001b[0mlinalg\u001b[0m\u001b[0;34m.\u001b[0m\u001b[0minv\u001b[0m\u001b[0;34m(\u001b[0m\u001b[0mb\u001b[0m\u001b[0;34m)\u001b[0m\u001b[0;34m)\u001b[0m  \u001b[0;31m# Not going to work here...\u001b[0m\u001b[0;34m\u001b[0m\u001b[0m\n\u001b[0m",
      "\u001b[0;32m/Applications/anaconda3/lib/python3.6/site-packages/numpy/linalg/linalg.py\u001b[0m in \u001b[0;36minv\u001b[0;34m(a)\u001b[0m\n\u001b[1;32m    506\u001b[0m     \u001b[0ma\u001b[0m\u001b[0;34m,\u001b[0m \u001b[0mwrap\u001b[0m \u001b[0;34m=\u001b[0m \u001b[0m_makearray\u001b[0m\u001b[0;34m(\u001b[0m\u001b[0ma\u001b[0m\u001b[0;34m)\u001b[0m\u001b[0;34m\u001b[0m\u001b[0m\n\u001b[1;32m    507\u001b[0m     \u001b[0m_assertRankAtLeast2\u001b[0m\u001b[0;34m(\u001b[0m\u001b[0ma\u001b[0m\u001b[0;34m)\u001b[0m\u001b[0;34m\u001b[0m\u001b[0m\n\u001b[0;32m--> 508\u001b[0;31m     \u001b[0m_assertNdSquareness\u001b[0m\u001b[0;34m(\u001b[0m\u001b[0ma\u001b[0m\u001b[0;34m)\u001b[0m\u001b[0;34m\u001b[0m\u001b[0m\n\u001b[0m\u001b[1;32m    509\u001b[0m     \u001b[0mt\u001b[0m\u001b[0;34m,\u001b[0m \u001b[0mresult_t\u001b[0m \u001b[0;34m=\u001b[0m \u001b[0m_commonType\u001b[0m\u001b[0;34m(\u001b[0m\u001b[0ma\u001b[0m\u001b[0;34m)\u001b[0m\u001b[0;34m\u001b[0m\u001b[0m\n\u001b[1;32m    510\u001b[0m \u001b[0;34m\u001b[0m\u001b[0m\n",
      "\u001b[0;32m/Applications/anaconda3/lib/python3.6/site-packages/numpy/linalg/linalg.py\u001b[0m in \u001b[0;36m_assertNdSquareness\u001b[0;34m(*arrays)\u001b[0m\n\u001b[1;32m    210\u001b[0m     \u001b[0;32mfor\u001b[0m \u001b[0ma\u001b[0m \u001b[0;32min\u001b[0m \u001b[0marrays\u001b[0m\u001b[0;34m:\u001b[0m\u001b[0;34m\u001b[0m\u001b[0m\n\u001b[1;32m    211\u001b[0m         \u001b[0;32mif\u001b[0m \u001b[0mmax\u001b[0m\u001b[0;34m(\u001b[0m\u001b[0ma\u001b[0m\u001b[0;34m.\u001b[0m\u001b[0mshape\u001b[0m\u001b[0;34m[\u001b[0m\u001b[0;34m-\u001b[0m\u001b[0;36m2\u001b[0m\u001b[0;34m:\u001b[0m\u001b[0;34m]\u001b[0m\u001b[0;34m)\u001b[0m \u001b[0;34m!=\u001b[0m \u001b[0mmin\u001b[0m\u001b[0;34m(\u001b[0m\u001b[0ma\u001b[0m\u001b[0;34m.\u001b[0m\u001b[0mshape\u001b[0m\u001b[0;34m[\u001b[0m\u001b[0;34m-\u001b[0m\u001b[0;36m2\u001b[0m\u001b[0;34m:\u001b[0m\u001b[0;34m]\u001b[0m\u001b[0;34m)\u001b[0m\u001b[0;34m:\u001b[0m\u001b[0;34m\u001b[0m\u001b[0m\n\u001b[0;32m--> 212\u001b[0;31m             \u001b[0;32mraise\u001b[0m \u001b[0mLinAlgError\u001b[0m\u001b[0;34m(\u001b[0m\u001b[0;34m'Last 2 dimensions of the array must be square'\u001b[0m\u001b[0;34m)\u001b[0m\u001b[0;34m\u001b[0m\u001b[0m\n\u001b[0m\u001b[1;32m    213\u001b[0m \u001b[0;34m\u001b[0m\u001b[0m\n\u001b[1;32m    214\u001b[0m \u001b[0;32mdef\u001b[0m \u001b[0m_assertFinite\u001b[0m\u001b[0;34m(\u001b[0m\u001b[0;34m*\u001b[0m\u001b[0marrays\u001b[0m\u001b[0;34m)\u001b[0m\u001b[0;34m:\u001b[0m\u001b[0;34m\u001b[0m\u001b[0m\n",
      "\u001b[0;31mLinAlgError\u001b[0m: Last 2 dimensions of the array must be square"
     ]
    }
   ],
   "source": [
    "a.dot(linalg.inv(b))  # Not going to work here..."
   ]
  },
  {
   "cell_type": "markdown",
   "metadata": {},
   "source": [
    "[UNFINISHED]"
   ]
  },
  {
   "cell_type": "markdown",
   "metadata": {},
   "source": [
    "## Other terminology"
   ]
  },
  {
   "cell_type": "markdown",
   "metadata": {},
   "source": [
    "### Square matrix"
   ]
  },
  {
   "cell_type": "markdown",
   "metadata": {},
   "source": [
    "A square matrix has dimensions _n x n_."
   ]
  },
  {
   "cell_type": "markdown",
   "metadata": {},
   "source": [
    "### Diagonal & trace"
   ]
  },
  {
   "cell_type": "markdown",
   "metadata": {},
   "source": [
    "For an _n x n_ square matrix $A$, the elements $a_{11}, a_{22}, ..., a_{nn}$ form the **main diagonal** of the matrix. The sum $\\sum a_{kk}$  of the elements on the main diagonal of $A$ is called the **trace** of $A$."
   ]
  },
  {
   "cell_type": "code",
   "execution_count": 95,
   "metadata": {},
   "outputs": [
    {
     "name": "stdout",
     "output_type": "stream",
     "text": [
      "0\n"
     ]
    }
   ],
   "source": [
    "B = np.array([[6, 9],\n",
    "              [-4, -6]])\n",
    "print(np.trace(B))  # 6 + (-6)"
   ]
  },
  {
   "cell_type": "markdown",
   "metadata": {},
   "source": [
    "### Transpose"
   ]
  },
  {
   "cell_type": "markdown",
   "metadata": {},
   "source": [
    "The matrix $A^T=[a_{ji}]$ formed by **interchanging the rows and columns** of $A$ is called the **transpose** of $A$. "
   ]
  },
  {
   "cell_type": "markdown",
   "metadata": {},
   "source": [
    "### Symmetry"
   ]
  },
  {
   "cell_type": "markdown",
   "metadata": {},
   "source": [
    "If $A^T=A$, the matrix $A$ is **symmetric.**"
   ]
  },
  {
   "cell_type": "markdown",
   "metadata": {},
   "source": [
    "### Determinant"
   ]
  },
  {
   "cell_type": "markdown",
   "metadata": {},
   "source": [
    "How do we know that $B=\\begin{bmatrix}6 & 9 \\\\ -4 & -6 \\end{bmatrix}$ does not have an inverse?\n",
    "\n",
    "The determinant of $A$, $detA$, is a number with the **property that $A$ is invertible if and only if $detA=0$.**\n",
    "\n",
    "For a 2x2 matrix $A=\\begin{bmatrix}-a & b \\\\ c & d \\end{bmatrix}$, $detA=ad-bc$.\n",
    "\n",
    "The manual computation for 3x3 or higher-dimension matrices is significantly more complicated.  See [Determinant of a Matrix](https://www.math.hmc.edu/calculus/tutorials/matrixalgebra/)."
   ]
  },
  {
   "cell_type": "code",
   "execution_count": 96,
   "metadata": {},
   "outputs": [
    {
     "name": "stdout",
     "output_type": "stream",
     "text": [
      "-1.99840144433e-15\n",
      "0\n",
      "True\n"
     ]
    }
   ],
   "source": [
    "print(linalg.det(B))\n",
    "a, b, c, d = B.flatten()\n",
    "print(a*d-b*c)  # (6)(−6)−(9)(−4)\n",
    "print(np.allclose(linalg.det(B), a*d-b*c))"
   ]
  },
  {
   "cell_type": "markdown",
   "metadata": {},
   "source": [
    "# Eigenvalues and eigenvectors"
   ]
  },
  {
   "cell_type": "markdown",
   "metadata": {},
   "source": [
    "> **See also**: Strang, _Intro to Linear Algebra 4th ed._, Chapter 6 - Eigenvalues & Eigenvectors\n",
    "\n",
    "The eigenvalue-eigenvector problem as well as [singular value decomposition](#Singular-value-decomposition) are forms of **matrix decomposition**--breaking down a matrix using other representations.\n",
    "\n",
    "In one popular form, the **eigenvalue-eigenvector problem** is to find:\n",
    "- for some _square_ matrix $A$,\n",
    "- scalars $λ$,\n",
    "- and corresponding vectors $v$\n",
    "\n",
    "such that:\n",
    "\n",
    "$$A \\cdot v = \\lambda \\cdot v$$\n",
    "\n",
    "Take a square matrix `a`:"
   ]
  },
  {
   "cell_type": "code",
   "execution_count": 97,
   "metadata": {},
   "outputs": [
    {
     "name": "stdout",
     "output_type": "stream",
     "text": [
      "[[ 0.65   0.525]\n",
      " [ 0.35   0.475]]\n",
      "\n",
      "[[ 0.6  0.6]\n",
      " [ 0.4  0.4]]\n"
     ]
    }
   ],
   "source": [
    "a = np.array([[.8, .3],\n",
    "              [.2, .7]])\n",
    "\n",
    "# Note that the power of a matrix is defined \n",
    "#     as the **matrix product of n copies of A**.\n",
    "print(linalg.matrix_power(a, 3))\n",
    "print()\n",
    "print(linalg.matrix_power(a, 100))"
   ]
  },
  {
   "cell_type": "markdown",
   "metadata": {},
   "source": [
    "Above, we could find $A^{100}$ by using the _eigenvalues_ of A, as an alternative to multiplying 100 matrices.  Eigenvalues are a way to see into the \"heart\" of a matrix.\n",
    "\n",
    "To explain eigenvalues, first understand eigenvectors.\n",
    "* Almost all vectors change direction when they are multipled by $A$.\n",
    "* Certain exceptions are in the same direction as $Ax$.  Those are the \"eigenvectors.\"\n",
    "* **Multiply an eigenvector $x$ by $A$, and the vector $Ax$ is a number $\\lambda$ times the original $x$.**\n",
    "* **In $A \\cdot v = \\lambda \\cdot v$, $\\lambda$ is the eigenvalue of $A$, and $v$ is the eigenvector.**\n",
    "\n",
    "The eigenvalue $\\lambda$ tells us whether the special vector $x$ is stretched, strunk, reversed, or left unchanged when it is multiplied by $A$.  $\\lambda$ could be zero; then $Ax=0x$ means that this eigenvector $x$ is in the nullspace."
   ]
  },
  {
   "cell_type": "markdown",
   "metadata": {},
   "source": [
    "Matrix eigenvalues [in NumPy](https://docs.scipy.org/doc/numpy-1.13.0/reference/routines.linalg.html#matrix-eigenvalues):\n",
    "* `linalg.eig` --> Compute the eigenvalues and right eigenvectors of a square array.\n",
    "* `linalg.eigh` --> Return the eigenvalues and eigenvectors of a Hermitian or symmetric matrix.\n",
    "* `linalg.eigvals` --> Compute the eigenvalues of a general matrix.\n",
    "* `linalg.eigvalsh` --> Compute the eigenvalues of a Hermitian or real symmetric matrix.\n"
   ]
  },
  {
   "cell_type": "code",
   "execution_count": 98,
   "metadata": {},
   "outputs": [],
   "source": [
    "eigvals, eigvecs = linalg.eig(a)"
   ]
  },
  {
   "cell_type": "code",
   "execution_count": 99,
   "metadata": {},
   "outputs": [
    {
     "name": "stdout",
     "output_type": "stream",
     "text": [
      "[ 1.   0.5]\n"
     ]
    }
   ],
   "source": [
    "print(eigvals)  # lambda"
   ]
  },
  {
   "cell_type": "code",
   "execution_count": 100,
   "metadata": {},
   "outputs": [
    {
     "name": "stdout",
     "output_type": "stream",
     "text": [
      "[[ 0.8321 -0.7071]\n",
      " [ 0.5547  0.7071]]\n"
     ]
    }
   ],
   "source": [
    "print(eigvecs)  # v"
   ]
  },
  {
   "cell_type": "markdown",
   "metadata": {},
   "source": [
    "Above we established the relationship:\n",
    "\n",
    "$$A \\cdot v = \\lambda \\cdot v$$\n",
    "\n",
    "Let's check to see if this holds:"
   ]
  },
  {
   "cell_type": "code",
   "execution_count": 101,
   "metadata": {},
   "outputs": [
    {
     "ename": "AssertionError",
     "evalue": "",
     "output_type": "error",
     "traceback": [
      "\u001b[0;31m---------------------------------------------------------------------------\u001b[0m",
      "\u001b[0;31mAssertionError\u001b[0m                            Traceback (most recent call last)",
      "\u001b[0;32m<ipython-input-101-e68c470d5064>\u001b[0m in \u001b[0;36m<module>\u001b[0;34m()\u001b[0m\n\u001b[0;32m----> 1\u001b[0;31m \u001b[0;32massert\u001b[0m \u001b[0mnp\u001b[0m\u001b[0;34m.\u001b[0m\u001b[0marray_equal\u001b[0m\u001b[0;34m(\u001b[0m\u001b[0ma\u001b[0m\u001b[0;34m.\u001b[0m\u001b[0mdot\u001b[0m\u001b[0;34m(\u001b[0m\u001b[0meigvecs\u001b[0m\u001b[0;34m)\u001b[0m\u001b[0;34m,\u001b[0m \u001b[0meigvals\u001b[0m\u001b[0;34m.\u001b[0m\u001b[0mdot\u001b[0m\u001b[0;34m(\u001b[0m\u001b[0meigvecs\u001b[0m\u001b[0;34m)\u001b[0m\u001b[0;34m)\u001b[0m\u001b[0;34m\u001b[0m\u001b[0m\n\u001b[0m",
      "\u001b[0;31mAssertionError\u001b[0m: "
     ]
    }
   ],
   "source": [
    "assert np.array_equal(a.dot(eigvecs), eigvals.dot(eigvecs))"
   ]
  },
  {
   "cell_type": "markdown",
   "metadata": {},
   "source": [
    "Apparently not: in fact we have:"
   ]
  },
  {
   "cell_type": "code",
   "execution_count": 102,
   "metadata": {},
   "outputs": [
    {
     "data": {
      "text/plain": [
       "array([[ 0.8321, -0.3536],\n",
       "       [ 0.5547,  0.3536]])"
      ]
     },
     "execution_count": 102,
     "metadata": {},
     "output_type": "execute_result"
    }
   ],
   "source": [
    "a.dot(eigvecs)"
   ]
  },
  {
   "cell_type": "code",
   "execution_count": 103,
   "metadata": {},
   "outputs": [
    {
     "data": {
      "text/plain": [
       "array([ 1.1094, -0.3536])"
      ]
     },
     "execution_count": 103,
     "metadata": {},
     "output_type": "execute_result"
    }
   ],
   "source": [
    "eigvals.dot(eigvecs)"
   ]
  },
  {
   "cell_type": "markdown",
   "metadata": {},
   "source": [
    "Why is this?  The [eigenvalues returned by `linalg.eig` are columns vectors](https://stackoverflow.com/a/18771667/7954504), so you need to iterate over the transpose of the eigenvectors (since iteration over a 2D array returns row vectors by default).  Let's refresh our memory on what our returned matrices are:"
   ]
  },
  {
   "cell_type": "code",
   "execution_count": 104,
   "metadata": {},
   "outputs": [
    {
     "name": "stdout",
     "output_type": "stream",
     "text": [
      "[[ 0.8  0.3]\n",
      " [ 0.2  0.7]]\n"
     ]
    }
   ],
   "source": [
    "print(a)"
   ]
  },
  {
   "cell_type": "code",
   "execution_count": 105,
   "metadata": {},
   "outputs": [
    {
     "name": "stdout",
     "output_type": "stream",
     "text": [
      "[[ 0.8321 -0.7071]\n",
      " [ 0.5547  0.7071]]\n"
     ]
    }
   ],
   "source": [
    "print(eigvecs)"
   ]
  },
  {
   "cell_type": "code",
   "execution_count": 106,
   "metadata": {},
   "outputs": [
    {
     "name": "stdout",
     "output_type": "stream",
     "text": [
      "[[ 0.8321 -0.7071]\n",
      " [ 0.5547  0.7071]]\n"
     ]
    }
   ],
   "source": [
    "print(eigvecs)"
   ]
  },
  {
   "cell_type": "code",
   "execution_count": 107,
   "metadata": {},
   "outputs": [
    {
     "name": "stdout",
     "output_type": "stream",
     "text": [
      "[[ 0.8321  0.5547]\n",
      " [-0.7071  0.7071]]\n"
     ]
    }
   ],
   "source": [
    "print(eigvecs.T)"
   ]
  },
  {
   "cell_type": "markdown",
   "metadata": {},
   "source": [
    "![laeig.PNG](./imgs/laeig.PNG)\n"
   ]
  },
  {
   "cell_type": "code",
   "execution_count": 108,
   "metadata": {},
   "outputs": [],
   "source": [
    "for val, vec in zip(eigvals, eigvecs.T):\n",
    "    assert np.allclose(np.dot(a, vec), val * vec)"
   ]
  },
  {
   "cell_type": "markdown",
   "metadata": {},
   "source": [
    "So to be correct in terminology here, the matrix `A` has two eigenvalues ($\\lambda = 1.0$ and $\\lambda = 0.5$). \n",
    "\n",
    "There is one more source of confusion:\n",
    "\n",
    "> `linalg.eig`: returns a tuple of (w,v) or (eigenvalues, eigenvectors),  where **the eigenvectors are normalized (unit “length”) eigenvectors**, such that the column `v[:,i]` is the eigenvector corresponding to the eigenvalue `w[i]`.  \n",
    "\n",
    "We found above that the _unit length_ eigenvectors are:"
   ]
  },
  {
   "cell_type": "code",
   "execution_count": 109,
   "metadata": {},
   "outputs": [
    {
     "name": "stdout",
     "output_type": "stream",
     "text": [
      "[ 0.8321  0.5547]\n",
      "\n",
      "[-0.7071  0.7071]\n"
     ]
    }
   ],
   "source": [
    "ev1, ev2 = eigvecs.T\n",
    "print(ev1)\n",
    "print()\n",
    "print(ev2)"
   ]
  },
  {
   "cell_type": "code",
   "execution_count": 110,
   "metadata": {},
   "outputs": [],
   "source": [
    "# Check that both are unit length:\n",
    "assert linalg.norm(ev1) == linalg.norm(ev2) == 1."
   ]
  },
  {
   "cell_type": "markdown",
   "metadata": {},
   "source": [
    "But a textbook might give the result as $ev1 = [0.6, 0.4]$ and $ev2 = [1, -1]$, found manually using matrix determinants.\n",
    "\n",
    "**Both solutions are correct.** It is the direction, not magnitude, of the eigenvectors that matters, in this case."
   ]
  },
  {
   "cell_type": "markdown",
   "metadata": {},
   "source": [
    "# Singular value decomposition"
   ]
  },
  {
   "cell_type": "markdown",
   "metadata": {},
   "source": [
    "Resources:\n",
    "* yhat: [What is Singular Value Decomposition?](http://blog.yhat.com/posts/singular-value-decomposition.html)\n",
    "* [numpy.linalg.svd](https://docs.scipy.org/doc/numpy-1.12.0/reference/generated/numpy.linalg.svd.html)\n",
    "* [scipy.linalg.svd](https://docs.scipy.org/doc/scipy/reference/generated/scipy.linalg.svd.html)\n",
    "* Abdi & Williams: [Principal component analysis](http://www.utdallas.edu/~herve/abdi-awPCA2010.pdf), Aug 2010\n",
    "\n",
    "Singular Value Decomposition (SVD) can be thought of as an **extension of the eigenvalue problem** to matrices that are not square. (It extends to _m x n_ matrices.)\n",
    "\n",
    "SVD says that a matrix **X** can be decomposed into\n",
    "\n",
    "$$X = U \\Sigma V^T$$ \n",
    "\n",
    "The convention with `linalg.svd` is to return $U$, $\\Sigma$, and $V^T$ (or technically $Vh$, the Hermetian transpose).  $\\Sigma$ is a 1-d array of the singular values of $A$.  A check:"
   ]
  },
  {
   "cell_type": "code",
   "execution_count": 111,
   "metadata": {},
   "outputs": [
    {
     "name": "stdout",
     "output_type": "stream",
     "text": [
      "[[ 0.8  0.3]\n",
      " [ 0.2  0.7]]\n"
     ]
    }
   ],
   "source": [
    "u, s, vh = linalg.svd(a, full_matrices=False)  # see docs; False follows Abdi/Williams paper\n",
    "v = vh.T\n",
    "print(u.dot(np.diag(s)).dot(vh))  # or u.dot(np.diag(s)).dot(v.T))\n",
    "assert np.allclose(a, u.dot(np.diag(s)).dot(vh))"
   ]
  },
  {
   "cell_type": "markdown",
   "metadata": {},
   "source": [
    "To repeat an important point: the `v` returned by `linalg.svd` is really $V^T$, the [Hermetian transpose](https://www.mathworks.com/content/dam/mathworks/mathworks-dot-com/moler/eigs.pdf).\n",
    "\n",
    "Note that if you were to pass a NumPy `matrix` to `svd`, the results would also be `matrices`:"
   ]
  },
  {
   "cell_type": "code",
   "execution_count": 112,
   "metadata": {},
   "outputs": [
    {
     "name": "stdout",
     "output_type": "stream",
     "text": [
      "[[ 0.8  0.3]\n",
      " [ 0.2  0.7]]\n"
     ]
    }
   ],
   "source": [
    "u, s, vh = linalg.svd(np.mat(a), full_matrices=False)\n",
    "print(u * np.diag(s) * vh)  # Now you can use * for matrix multiplication"
   ]
  },
  {
   "cell_type": "markdown",
   "metadata": {},
   "source": [
    "# Principal component analysis"
   ]
  },
  {
   "cell_type": "markdown",
   "metadata": {},
   "source": [
    "## Mathematical background"
   ]
  },
  {
   "cell_type": "markdown",
   "metadata": {
    "collapsed": true
   },
   "source": [
    "PCA is an _unsupervised learning_ technique used to decompose a multivariate dataset in a set of successive orthogonal components that **explain a maximum amount of the variance**.\n",
    "\n",
    "PCA analyzes a data table representing observations described by several dependent variables, which are, in general, inter-correlated. Its goal is to extract the important information from the data table and to express this information as a set of new\n",
    "orthogonal variables called **principal components**, which are linear combinations of the original variables.\n",
    "\n",
    "An important feature of PCA is that each principal component is completely _orthogonal_ (in this sense, statistically independent) from each of the other components.\n",
    "\n",
    "The data table analyzed by PCA is a matrix **X** of shape _I x J_ (_I_ observations or samples and _J_ variables or features).  The [rank](http://stattrek.com/matrix-algebra/matrix-rank.aspx) of **X** is $L ≤ min(I,J)$.\n",
    "\n",
    "It is common to first standardize each column of the array, i.e. center the columns of **X** so that the mean of each is equal to 0 and standardize each variable to unit norm:\n",
    "\n",
    "$$\\frac{x_i-\\mu}{\\sigma}$$"
   ]
  },
  {
   "cell_type": "markdown",
   "metadata": {},
   "source": [
    "## Underlying algebra"
   ]
  },
  {
   "cell_type": "markdown",
   "metadata": {},
   "source": [
    "Specifically, with $X = U \\Sigma V$, the _I × L_ matrix of factor scores, denoted **F**, is obtained as:\n",
    "\n",
    "$$F = U \\Sigma$$\n",
    "\n",
    "The matrix **V** gives the coefficients of the linear combinations used to compute the factors scores."
   ]
  },
  {
   "cell_type": "markdown",
   "metadata": {},
   "source": [
    "## Vocab"
   ]
  },
  {
   "cell_type": "markdown",
   "metadata": {},
   "source": [
    "PCA utilizes singular value decomposition.  See the sections above if you have not read them yet.\n",
    "\n",
    "The **eigenvectors** are the resulting principal components.  These are the lines along which particular dimensions would be plotted if graphed.\n",
    "\n",
    "The **eigenvalue** associated to a component is equal to the sum of the squared factor scores for this component. \n",
    "- Therefore, the importance of an observation for a component can be obtained by the ratio of the squared factor score of this observation by the eigenvalue associated with that component. \n",
    "- This ratio is called the **contribution** of the observation to the component.\n",
    "    - The value of a contribution is between 0 and 1 and, for a given component, the sum of the contributions of all observations is equal to 1. \n",
    "    - The larger the value of the contribution, the more the observation contributes to the component.\n",
    "\n",
    "So, while the eigenvector describes a line or dimension, the eigenvalue represents the amount of variance described or captured by the eigenvector.  An example output table from Abdi/Williams:\n",
    "\n",
    "![](./imgs/eigens.PNG)\n",
    "\n",
    "In the PCA framework, this correlation is called a loading. Note that the sum of the squared coefficients of correlation between a variable and all the components is equal to 1. As a consequence, the squared loadings are easier to interpret than the loadings (because the squared loadings give the proportion of the variance of the variables explained by the components)."
   ]
  },
  {
   "cell_type": "markdown",
   "metadata": {},
   "source": [
    "## Solving manually with SVD"
   ]
  },
  {
   "cell_type": "markdown",
   "metadata": {},
   "source": [
    "Before using `sklearn`, let's attempt to solve manually.  There will be some slight discrepancies in output which we'll cover later.\n",
    "\n",
    "We will work with a set of interest rates for 5-, 10-, and 30-year US government bonds."
   ]
  },
  {
   "cell_type": "code",
   "execution_count": 113,
   "metadata": {},
   "outputs": [
    {
     "data": {
      "text/plain": [
       "(20, 3)"
      ]
     },
     "execution_count": 113,
     "metadata": {},
     "output_type": "execute_result"
    }
   ],
   "source": [
    "import pandas_datareader as pdr\n",
    "from sklearn.preprocessing import scale\n",
    "symbols = ['DGS5', 'DGS10', 'DGS30']\n",
    "start, end = '2017-01-01', '2017-02-01'\n",
    "rates = scale(pdr.DataReader(symbols, 'fred', start, end)\n",
    "              .pct_change().dropna())\n",
    "rates.shape"
   ]
  },
  {
   "cell_type": "markdown",
   "metadata": {},
   "source": [
    "Now `v`'s transpose is our matrix of components (again, with features as columns and components on the index)."
   ]
  },
  {
   "cell_type": "code",
   "execution_count": 114,
   "metadata": {},
   "outputs": [
    {
     "name": "stdout",
     "output_type": "stream",
     "text": [
      "[[ 0.5837  0.5861  0.5619]\n",
      " [ 0.4333  0.3605 -0.826 ]\n",
      " [-0.6867  0.7256 -0.0436]]\n"
     ]
    }
   ],
   "source": [
    "u, s, Vh = linalg.svd(rates, full_matrices=False)\n",
    "print(Vh)"
   ]
  },
  {
   "cell_type": "markdown",
   "metadata": {},
   "source": [
    "## Solving with sklearn"
   ]
  },
  {
   "cell_type": "markdown",
   "metadata": {},
   "source": [
    "`sklearn`'s PCA [uses](https://github.com/scikit-learn/scikit-learn/blob/a24c8b46/sklearn/decomposition/pca.py#L399) SVD internally."
   ]
  },
  {
   "cell_type": "code",
   "execution_count": 115,
   "metadata": {},
   "outputs": [
    {
     "name": "stdout",
     "output_type": "stream",
     "text": [
      "[[-0.5837 -0.5861 -0.5619]\n",
      " [-0.4333 -0.3605  0.826 ]\n",
      " [-0.6867  0.7256 -0.0436]]\n"
     ]
    }
   ],
   "source": [
    "from sklearn.decomposition import PCA\n",
    "pca = PCA().fit(rates)\n",
    "print(pca.components_)"
   ]
  },
  {
   "cell_type": "markdown",
   "metadata": {},
   "source": [
    "## Enforcing deterministic output"
   ]
  },
  {
   "cell_type": "markdown",
   "metadata": {},
   "source": [
    "Let's compare our results above:"
   ]
  },
  {
   "cell_type": "code",
   "execution_count": 116,
   "metadata": {},
   "outputs": [
    {
     "data": {
      "text/plain": [
       "array([[False, False, False],\n",
       "       [False, False, False],\n",
       "       [ True,  True,  True]], dtype=bool)"
      ]
     },
     "execution_count": 116,
     "metadata": {},
     "output_type": "execute_result"
    }
   ],
   "source": [
    "np.equal(Vh, pca.components_)"
   ]
  },
  {
   "cell_type": "markdown",
   "metadata": {},
   "source": [
    "We see that **some, but not all** results are equal.  Furthermore, it looks like it's just their signs that differ:"
   ]
  },
  {
   "cell_type": "code",
   "execution_count": 117,
   "metadata": {},
   "outputs": [
    {
     "data": {
      "text/plain": [
       "True"
      ]
     },
     "execution_count": 117,
     "metadata": {},
     "output_type": "execute_result"
    }
   ],
   "source": [
    "np.allclose(np.abs(Vh), np.abs(pca.components_))"
   ]
  },
  {
   "cell_type": "markdown",
   "metadata": {},
   "source": [
    "What's going on here?  There's an [inconspicuous function, `svd_flip`](https://github.com/scikit-learn/scikit-learn/blob/a24c8b46/sklearn/decomposition/pca.py#L418) in the source for PCA, the purpose of which is to\n",
    "\n",
    "> flip eigenvectors' sign to enforce deterministic output.\n",
    "\n",
    "(`svd_flip` is in turn defined [here](https://github.com/scikit-learn/scikit-learn/blob/a24c8b464d094d2c468a16ea9f8bf8d42d949f84/sklearn/utils/extmath.py#L500).)\n",
    "\n",
    "\n",
    "**Deterministic functions** are those that, given a certain input, always produce the same output value.\n",
    "\n",
    "The issue here is that this property does not hold true for the underlying SVD solver in `sklearn`.  In other words, [SVD is unique up to a change in sign in pairs of left and right singular vectors](https://stackoverflow.com/a/44847053/7954504).  \n",
    "\n",
    "> Since the PCA is just a SVD of X (or an eigenvalue decomposition of $X^\\top X$), there is no guarantee that it does not return different results on the same X every time it is performed. Understandably, the `sklearn` implementation wants to avoid this: they guarantee that the left and right singular vectors returned (stored in U and V) are always the same, by imposing (which is arbitrary) that the largest coefficient of $u_i$ in absolute value is positive.\n",
    "\n",
    "An alternate implementation that allows the user to choose from a \"u\" or \"v\"-based decision can be found [here](https://github.com/bsolomon1124/pyfinance/blob/master/pyfinance/general.py#L573)."
   ]
  },
  {
   "cell_type": "markdown",
   "metadata": {},
   "source": [
    "## How many components?"
   ]
  },
  {
   "cell_type": "markdown",
   "metadata": {},
   "source": [
    "1. A first procedure is to plot the eigenvalues according to their size (the so called \"scree,\") and to see if there is a point in this graph (often called an ‘elbow’) such that the slope of the graph goes from ‘steep’ to ‘‘flat’’ and to keep only the components which are before the elbow. This procedure, somewhat subjective, is called the scree or elbow test.\n",
    "\n",
    "2. Another standard tradition is to keep only the components whose eigenvalue is larger than the average.  For a correlation PCA, this rule boils down to the standard advice to keep only the eigenvalues larger than 1.0 (**Kaiser's Criterion**) or larger than 0.70 (**Jolliffe's Criterion**)."
   ]
  },
  {
   "cell_type": "markdown",
   "metadata": {},
   "source": [
    "## Example 2"
   ]
  },
  {
   "cell_type": "code",
   "execution_count": 118,
   "metadata": {},
   "outputs": [
    {
     "data": {
      "text/plain": [
       "PCA(copy=True, iterated_power='auto', n_components=2, random_state=None,\n",
       "  svd_solver='auto', tol=0.0, whiten=False)"
      ]
     },
     "execution_count": 118,
     "metadata": {},
     "output_type": "execute_result"
    }
   ],
   "source": [
    "# Modified from Müller/Guido - Intro to ML with Python - Chapter 3\n",
    "\n",
    "import matplotlib.pyplot as plt\n",
    "\n",
    "from sklearn.datasets import load_breast_cancer\n",
    "from sklearn.decomposition import PCA\n",
    "from sklearn.preprocessing import StandardScaler\n",
    "\n",
    "cancer = load_breast_cancer()\n",
    "\n",
    "# Scale to unit variance\n",
    "scaler = StandardScaler()\n",
    "scaler.fit(cancer.data)\n",
    "X_scaled = scaler.transform(cancer.data)\n",
    "\n",
    "# Specify that we want to keep only 2 components\n",
    "#     to further reduce dimensionality.\n",
    "pca = PCA(n_components=2)\n",
    "pca.fit(X_scaled)"
   ]
  },
  {
   "cell_type": "markdown",
   "metadata": {},
   "source": [
    "Our resulting components have the features on the column axis (perhaps a bit unintuitive to pandas users; sometimes the features are presented as the index and the components as the columns)."
   ]
  },
  {
   "cell_type": "code",
   "execution_count": 119,
   "metadata": {},
   "outputs": [
    {
     "data": {
      "text/plain": [
       "(2, 30)"
      ]
     },
     "execution_count": 119,
     "metadata": {},
     "output_type": "execute_result"
    }
   ],
   "source": [
    "pca.components_.shape"
   ]
  },
  {
   "cell_type": "code",
   "execution_count": 120,
   "metadata": {},
   "outputs": [
    {
     "data": {
      "text/plain": [
       "Text(0,0.5,'Principal components')"
      ]
     },
     "execution_count": 120,
     "metadata": {},
     "output_type": "execute_result"
    },
    {
     "data": {
      "image/png": "[encoded data removed]",
      "text/plain": [
       "<matplotlib.figure.Figure at 0x1a1c70e9b0>"
      ]
     },
     "metadata": {},
     "output_type": "display_data"
    }
   ],
   "source": [
    "plt.matshow(pca.components_, cmap='viridis')\n",
    "plt.yticks([0, 1], [\"First component\", \"Second component\"])\n",
    "plt.colorbar()\n",
    "plt.xticks(range(len(cancer.feature_names)),\n",
    "cancer.feature_names, rotation=60, ha='left')\n",
    "plt.xlabel(\"Feature\")\n",
    "plt.ylabel(\"Principal components\")"
   ]
  },
  {
   "cell_type": "markdown",
   "metadata": {},
   "source": [
    "Here's the data in (transposed) tabular form:"
   ]
  },
  {
   "cell_type": "code",
   "execution_count": 121,
   "metadata": {},
   "outputs": [
    {
     "data": {
      "text/html": [
       "<div>\n",
       "<style>\n",
       "    .dataframe thead tr:only-child th {\n",
       "        text-align: right;\n",
       "    }\n",
       "\n",
       "    .dataframe thead th {\n",
       "        text-align: left;\n",
       "    }\n",
       "\n",
       "    .dataframe tbody tr th {\n",
       "        vertical-align: top;\n",
       "    }\n",
       "</style>\n",
       "<table border=\"1\" class=\"dataframe\">\n",
       "  <thead>\n",
       "    <tr style=\"text-align: right;\">\n",
       "      <th></th>\n",
       "      <th>First component</th>\n",
       "      <th>Second component</th>\n",
       "    </tr>\n",
       "  </thead>\n",
       "  <tbody>\n",
       "    <tr>\n",
       "      <th>mean radius</th>\n",
       "      <td>0.2189</td>\n",
       "      <td>-0.2339</td>\n",
       "    </tr>\n",
       "    <tr>\n",
       "      <th>mean texture</th>\n",
       "      <td>0.1037</td>\n",
       "      <td>-0.0597</td>\n",
       "    </tr>\n",
       "    <tr>\n",
       "      <th>mean perimeter</th>\n",
       "      <td>0.2275</td>\n",
       "      <td>-0.2152</td>\n",
       "    </tr>\n",
       "    <tr>\n",
       "      <th>mean area</th>\n",
       "      <td>0.2210</td>\n",
       "      <td>-0.2311</td>\n",
       "    </tr>\n",
       "    <tr>\n",
       "      <th>mean smoothness</th>\n",
       "      <td>0.1426</td>\n",
       "      <td>0.1861</td>\n",
       "    </tr>\n",
       "    <tr>\n",
       "      <th>mean compactness</th>\n",
       "      <td>0.2393</td>\n",
       "      <td>0.1519</td>\n",
       "    </tr>\n",
       "    <tr>\n",
       "      <th>mean concavity</th>\n",
       "      <td>0.2584</td>\n",
       "      <td>0.0602</td>\n",
       "    </tr>\n",
       "    <tr>\n",
       "      <th>mean concave points</th>\n",
       "      <td>0.2609</td>\n",
       "      <td>-0.0348</td>\n",
       "    </tr>\n",
       "    <tr>\n",
       "      <th>mean symmetry</th>\n",
       "      <td>0.1382</td>\n",
       "      <td>0.1903</td>\n",
       "    </tr>\n",
       "    <tr>\n",
       "      <th>mean fractal dimension</th>\n",
       "      <td>0.0644</td>\n",
       "      <td>0.3666</td>\n",
       "    </tr>\n",
       "    <tr>\n",
       "      <th>radius error</th>\n",
       "      <td>0.2060</td>\n",
       "      <td>-0.1056</td>\n",
       "    </tr>\n",
       "    <tr>\n",
       "      <th>texture error</th>\n",
       "      <td>0.0174</td>\n",
       "      <td>0.0900</td>\n",
       "    </tr>\n",
       "    <tr>\n",
       "      <th>...</th>\n",
       "      <td>...</td>\n",
       "      <td>...</td>\n",
       "    </tr>\n",
       "    <tr>\n",
       "      <th>symmetry error</th>\n",
       "      <td>0.0425</td>\n",
       "      <td>0.1838</td>\n",
       "    </tr>\n",
       "    <tr>\n",
       "      <th>fractal dimension error</th>\n",
       "      <td>0.1026</td>\n",
       "      <td>0.2801</td>\n",
       "    </tr>\n",
       "    <tr>\n",
       "      <th>worst radius</th>\n",
       "      <td>0.2280</td>\n",
       "      <td>-0.2199</td>\n",
       "    </tr>\n",
       "    <tr>\n",
       "      <th>worst texture</th>\n",
       "      <td>0.1045</td>\n",
       "      <td>-0.0455</td>\n",
       "    </tr>\n",
       "    <tr>\n",
       "      <th>worst perimeter</th>\n",
       "      <td>0.2366</td>\n",
       "      <td>-0.1999</td>\n",
       "    </tr>\n",
       "    <tr>\n",
       "      <th>worst area</th>\n",
       "      <td>0.2249</td>\n",
       "      <td>-0.2194</td>\n",
       "    </tr>\n",
       "    <tr>\n",
       "      <th>worst smoothness</th>\n",
       "      <td>0.1280</td>\n",
       "      <td>0.1723</td>\n",
       "    </tr>\n",
       "    <tr>\n",
       "      <th>worst compactness</th>\n",
       "      <td>0.2101</td>\n",
       "      <td>0.1436</td>\n",
       "    </tr>\n",
       "    <tr>\n",
       "      <th>worst concavity</th>\n",
       "      <td>0.2288</td>\n",
       "      <td>0.0980</td>\n",
       "    </tr>\n",
       "    <tr>\n",
       "      <th>worst concave points</th>\n",
       "      <td>0.2509</td>\n",
       "      <td>-0.0083</td>\n",
       "    </tr>\n",
       "    <tr>\n",
       "      <th>worst symmetry</th>\n",
       "      <td>0.1229</td>\n",
       "      <td>0.1419</td>\n",
       "    </tr>\n",
       "    <tr>\n",
       "      <th>worst fractal dimension</th>\n",
       "      <td>0.1318</td>\n",
       "      <td>0.2753</td>\n",
       "    </tr>\n",
       "  </tbody>\n",
       "</table>\n",
       "</div>"
      ],
      "text/plain": [
       "                      First component  Second component\n",
       "mean radius                    0.2189           -0.2339\n",
       "mean texture                   0.1037           -0.0597\n",
       "mean perimeter                 0.2275           -0.2152\n",
       "mean area                      0.2210           -0.2311\n",
       "mean smoothness                0.1426            0.1861\n",
       "mean compactness               0.2393            0.1519\n",
       "mean concavity                 0.2584            0.0602\n",
       "mean concave points            0.2609           -0.0348\n",
       "mean symmetry                  0.1382            0.1903\n",
       "mean fractal dime...           0.0644            0.3666\n",
       "radius error                   0.2060           -0.1056\n",
       "texture error                  0.0174            0.0900\n",
       "...                               ...               ...\n",
       "symmetry error                 0.0425            0.1838\n",
       "fractal dimension...           0.1026            0.2801\n",
       "worst radius                   0.2280           -0.2199\n",
       "worst texture                  0.1045           -0.0455\n",
       "worst perimeter                0.2366           -0.1999\n",
       "worst area                     0.2249           -0.2194\n",
       "worst smoothness               0.1280            0.1723\n",
       "worst compactness              0.2101            0.1436\n",
       "worst concavity                0.2288            0.0980\n",
       "worst concave points           0.2509           -0.0083\n",
       "worst symmetry                 0.1229            0.1419\n",
       "worst fractal dim...           0.1318            0.2753"
      ]
     },
     "execution_count": 121,
     "metadata": {},
     "output_type": "execute_result"
    }
   ],
   "source": [
    "import pandas as pd\n",
    "pd.DataFrame(pca.components_.T, index=cancer.feature_names,\n",
    "             columns=[\"First component\", \"Second component\"])"
   ]
  },
  {
   "cell_type": "markdown",
   "metadata": {},
   "source": [
    "# Other"
   ]
  },
  {
   "cell_type": "markdown",
   "metadata": {},
   "source": [
    "## Varimax rotation"
   ]
  },
  {
   "cell_type": "markdown",
   "metadata": {},
   "source": [
    "Two main types of rotation are used: \n",
    "* _orthogonal_ when the new axes are also orthogonal to each other, and \n",
    "* _oblique_ when the new axes are not required to be orthogonal. \n",
    "\n",
    "Because the rotations are always performed in a subspace, the new axes will always explain less inertia than the original components (which are computed to be optimal).\n",
    "\n",
    "**Varimax rotation** is the most popular rotation method.  For varimax a simple solution means that each component has a small\n",
    "number of large loadings and a large number of zero (or small) loadings.\n",
    "\n",
    "Formally, varimax searches for a linear combination of the original factors such that the variance of the squared loadings is maximized, which amounts to maximizing\n",
    "\n",
    "$$v = \\sum{q_{j, \\lambda}^2 - q_{\\lambda}^2}$$\n",
    "\n",
    "with $q_{j, \\lambda}^2$ being the squared loading of the _j-th_ variable of matrix **Q** on component $\\lambda$ and $q_{\\lambda}^2$ being the mean of the squared loadings."
   ]
  },
  {
   "cell_type": "markdown",
   "metadata": {},
   "source": [
    "## KMO"
   ]
  },
  {
   "cell_type": "markdown",
   "metadata": {},
   "source": [
    "Kaiser-Meyer-Olkin (KMO) statistic - a measure of sampling adequacy, used to indicate whether variables are \"correlated enough\" to be suited for PCA.\n",
    "\n",
    "$$KMO = \\frac{\\rho^2}{\\rho_p^2}$$\n",
    "\n",
    "where $\\rho^2$ is the full correlation between variables and $\\rho_p^2$ is the partial correlation; $0 \\leq KMO \\leq 1$.\n",
    "\n",
    "A value of 0.7 is typically seen as a lower threshold of acceptability for proceeding."
   ]
  },
  {
   "cell_type": "markdown",
   "metadata": {},
   "source": [
    "## Relative diversification"
   ]
  },
  {
   "cell_type": "markdown",
   "metadata": {},
   "source": [
    "Relative diversification - a finance term denoting the number of principal components required to explain roughly 75% of the variation in a portfolio."
   ]
  },
  {
   "cell_type": "code",
   "execution_count": 122,
   "metadata": {},
   "outputs": [
    {
     "data": {
      "text/html": [
       "<div>\n",
       "<style>\n",
       "    .dataframe thead tr:only-child th {\n",
       "        text-align: right;\n",
       "    }\n",
       "\n",
       "    .dataframe thead th {\n",
       "        text-align: left;\n",
       "    }\n",
       "\n",
       "    .dataframe tbody tr th {\n",
       "        vertical-align: top;\n",
       "    }\n",
       "</style>\n",
       "<table border=\"1\" class=\"dataframe\">\n",
       "  <thead>\n",
       "    <tr style=\"text-align: right;\">\n",
       "      <th></th>\n",
       "      <th>0</th>\n",
       "      <th>1</th>\n",
       "      <th>2</th>\n",
       "      <th>3</th>\n",
       "      <th>4</th>\n",
       "    </tr>\n",
       "  </thead>\n",
       "  <tbody>\n",
       "    <tr>\n",
       "      <th>0</th>\n",
       "      <td>-0.8267</td>\n",
       "      <td>-0.9967</td>\n",
       "      <td>-0.2357</td>\n",
       "      <td>-0.7113</td>\n",
       "      <td>1.2454</td>\n",
       "    </tr>\n",
       "    <tr>\n",
       "      <th>1</th>\n",
       "      <td>-0.5466</td>\n",
       "      <td>-0.5683</td>\n",
       "      <td>0.9031</td>\n",
       "      <td>0.1361</td>\n",
       "      <td>1.1368</td>\n",
       "    </tr>\n",
       "    <tr>\n",
       "      <th>2</th>\n",
       "      <td>-0.1552</td>\n",
       "      <td>-0.6088</td>\n",
       "      <td>-0.3782</td>\n",
       "      <td>0.1368</td>\n",
       "      <td>-1.7223</td>\n",
       "    </tr>\n",
       "    <tr>\n",
       "      <th>3</th>\n",
       "      <td>1.9245</td>\n",
       "      <td>1.8312</td>\n",
       "      <td>0.4132</td>\n",
       "      <td>0.3874</td>\n",
       "      <td>-0.2118</td>\n",
       "    </tr>\n",
       "    <tr>\n",
       "      <th>4</th>\n",
       "      <td>1.1744</td>\n",
       "      <td>1.1054</td>\n",
       "      <td>1.3249</td>\n",
       "      <td>0.7824</td>\n",
       "      <td>1.6372</td>\n",
       "    </tr>\n",
       "  </tbody>\n",
       "</table>\n",
       "</div>"
      ],
      "text/plain": [
       "        0       1       2       3       4\n",
       "0 -0.8267 -0.9967 -0.2357 -0.7113  1.2454\n",
       "1 -0.5466 -0.5683  0.9031  0.1361  1.1368\n",
       "2 -0.1552 -0.6088 -0.3782  0.1368 -1.7223\n",
       "3  1.9245  1.8312  0.4132  0.3874 -0.2118\n",
       "4  1.1744  1.1054  1.3249  0.7824  1.6372"
      ]
     },
     "execution_count": 122,
     "metadata": {},
     "output_type": "execute_result"
    }
   ],
   "source": [
    "returns = scale(pd.read_csv('input/fiveasset.csv', index_col=0, parse_dates=True)) # array\n",
    "pd.DataFrame(returns).head()"
   ]
  },
  {
   "cell_type": "code",
   "execution_count": 124,
   "metadata": {},
   "outputs": [
    {
     "name": "stdout",
     "output_type": "stream",
     "text": [
      "        0       1       2       3       4\n",
      "0  0.9136  0.2942  0.1217 -0.1569 -0.2143\n",
      "1  0.9387  0.1455 -0.0042 -0.2560  0.1970\n",
      "2  0.3096 -0.9370  0.1285 -0.1232 -0.0350\n",
      "3  0.8418 -0.0278  0.3963  0.3721  0.0424\n",
      "4  0.6778 -0.1356 -0.7091  0.1602 -0.0206\n"
     ]
    }
   ],
   "source": [
    "pca = PCA().fit(returns)\n",
    "\n",
    "# components; see https://stackoverflow.com/questions/21217710/factor-loadings-using-sklearn\n",
    "# should be similar to Rankin p. 18\n",
    "comps = -1 * pca.components_.T * np.sqrt(pca.explained_variance_)\n",
    "print(pd.DataFrame(comps))"
   ]
  },
  {
   "cell_type": "code",
   "execution_count": 125,
   "metadata": {},
   "outputs": [
    {
     "data": {
      "text/plain": [
       "array([ 2.9797,  1.0048,  0.6912,  0.2695,  0.0882])"
      ]
     },
     "execution_count": 125,
     "metadata": {},
     "output_type": "execute_result"
    }
   ],
   "source": [
    "pca.explained_variance_"
   ]
  }
 ],
 "metadata": {
  "kernelspec": {
   "display_name": "Python 3",
   "language": "python",
   "name": "python3"
  },
  "language_info": {
   "codemirror_mode": {
    "name": "ipython",
    "version": 3
   },
   "file_extension": ".py",
   "mimetype": "text/x-python",
   "name": "python",
   "nbconvert_exporter": "python",
   "pygments_lexer": "ipython3",
   "version": "3.6.3"
  }
 },
 "nbformat": 4,
 "nbformat_minor": 2
}
