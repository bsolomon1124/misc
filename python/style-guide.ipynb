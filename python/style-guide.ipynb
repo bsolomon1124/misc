{
 "cells": [
  {
   "cell_type": "markdown",
   "metadata": {},
   "source": [
    "# Covered here"
   ]
  },
  {
   "cell_type": "markdown",
   "metadata": {},
   "source": [
    "* [Purpose](#Purpose)\n",
    "* [Style Guide](#Style-Guide)\n",
    " * [General code layout](#General-code-layout)\n",
    " * [Indentation](#Indentation)\n",
    " * [Naming conventions](#Naming-conventions)\n",
    " * [Line length](#Line-length)\n",
    " * [Line breaks and binary operators](#Line-breaks-and-binary-operators)\n",
    " * [Testing](#Testing)\n",
    " * [Imports](#Imports)\n",
    " * [White space and blank lines](#Whitespace-and-blank-lines)\n",
    " * [Module dunder attributes](#Module-dunder-attributes)\n",
    " * [Comments (besides docstrings)](#Comments-(besides-docstrings)\n",
    " * [Docstrings](#Docstrings)\n",
    " * [TODOs](#TODOs)\n",
    " * [Return statements](#Return-statements)\n",
    " * [List comprehension](#List-comprehension)\n",
    " * [Lambda functions](#Lambda-functions)\n",
    " * [Conditional expressions](#Conditional-expressions)\n",
    " * [Other](#Other)"
   ]
  },
  {
   "cell_type": "markdown",
   "metadata": {},
   "source": [
    "# References & resources"
   ]
  },
  {
   "cell_type": "markdown",
   "metadata": {},
   "source": [
    "* [PEP 8 -- Style Guide for Python Code](https://www.python.org/dev/peps/pep-0008/)\n",
    "* [PEP 257 -- Docstring Conventions](https://www.python.org/dev/peps/pep-0257/)\n",
    "* [Google Python Style Guide](https://google.github.io/styleguide/pyguide.html)\n",
    "* [GNU Mailman Coding Style Guide](https://barry.warsaw.us/software/STYLEGUIDE.txt)\n",
    "* robinwinslow.uk: [A summary of python code style conventions](https://robinwinslow.uk/2014/01/05/summary-of-python-code-style-conventions/)\n",
    "* voidspace.org.uk: [Python Coding Style & Standards - My Personal Style Guide for Python Source Code](http://www.voidspace.org.uk/python/articles/python_style_guide.shtml)\n",
    "* The Chromium Projects: [Python Style Guidelines](https://www.chromium.org/chromium-os/python-style-guidelines#TOC-Official-Style-Guide)\n",
    "* The Hitchhiker's Guide to Python: [Code Style](http://docs.python-guide.org/en/latest/writing/style/)\n",
    "* memonic.com: [Python Idioms and Efficiency](https://www.memonic.com/user/pneff/folder/python/id/1bufp)\n",
    "* David Goodger: [Code Like a Pythonista: Idiomatic Python](http://python.net/~goodger/projects/pycon/2007/idiomatic/handout.html#coding-style-readability-counts)\n",
    "* [Top 10 Python idioms I wish I'd learned earlier](http://prooffreaderplus.blogspot.com/2014/11/top-10-python-idioms-i-wished-id.html)"
   ]
  },
  {
   "cell_type": "markdown",
   "metadata": {},
   "source": [
    "# Purpose"
   ]
  },
  {
   "cell_type": "markdown",
   "metadata": {},
   "source": [
    "This notebook codifies **my own** set of standardized style conventions for writing Python.  Nothing here should be outlandish--standard conventions such as 4-space indents are assumed and this document largely attempts to build on top of existing conventions with finer-grained rules.  Some sections here simply repeat/mimic existing conventions from places like PEP 8.  **Some directives and examples here are ported word-for-word directly from the links above and I do not claim this as my own work; it is only for my own reference.**"
   ]
  },
  {
   "cell_type": "markdown",
   "metadata": {},
   "source": [
    "# Style Guide"
   ]
  },
  {
   "cell_type": "markdown",
   "metadata": {},
   "source": [
    "## General code layout"
   ]
  },
  {
   "cell_type": "markdown",
   "metadata": {},
   "source": [
    "* Generally, use 1 statement per line.\n",
    "* You shouldn't need semicolons.\n",
    "* But it is okay to put the result of a _test_ on the same line as the test **only if** the entire statement fits on one line.\n",
    " * You can never do so with `try/except` since the `try` and `except` can't both fit on the same line\n",
    " * Only do so with an `if` if there is no `else`."
   ]
  },
  {
   "cell_type": "code",
   "execution_count": 32,
   "metadata": {},
   "outputs": [
    {
     "name": "stdout",
     "output_type": "stream",
     "text": [
      "4\n",
      "no\n"
     ]
    }
   ],
   "source": [
    "# Bad\n",
    "a = 1; b = 2\n",
    "\n",
    "# Good\n",
    "a = 1\n",
    "b = 2\n",
    "\n",
    "# -----------\n",
    "\n",
    "# Okay\n",
    "if a: print(b * 2)\n",
    "    \n",
    "# No\n",
    "if a: print('no')\n",
    "else: print('else')"
   ]
  },
  {
   "cell_type": "markdown",
   "metadata": {},
   "source": [
    "Use single quotes rather than double quotes.  **But, prefer double quotes to needing to escape single quotes.**"
   ]
  },
  {
   "cell_type": "code",
   "execution_count": 47,
   "metadata": {
    "collapsed": true
   },
   "outputs": [],
   "source": [
    "# Yes\n",
    "a = 'a string'\n",
    "b = \"a string with 'quotes'\"\n",
    "\n",
    "# No\n",
    "a = \"a string\"\n",
    "b = 'a sring with \\'quotes\\''"
   ]
  },
  {
   "cell_type": "markdown",
   "metadata": {},
   "source": [
    "Using non-mandatory parentheses: Some expressions can get complicated. Parentheses can (and should) be used to make them less ambiguous. This is for the sake of people who read the code, even if it doesn't matter to the Python parser."
   ]
  },
  {
   "cell_type": "code",
   "execution_count": 48,
   "metadata": {},
   "outputs": [
    {
     "name": "stdout",
     "output_type": "stream",
     "text": [
      "True\n"
     ]
    }
   ],
   "source": [
    "if (True and True) or (False or True):\n",
    "    print(True)"
   ]
  },
  {
   "cell_type": "markdown",
   "metadata": {},
   "source": [
    "## Indentation"
   ]
  },
  {
   "cell_type": "markdown",
   "metadata": {},
   "source": [
    "Use 4 spaces per indentation level.\n",
    "\n",
    "Continuation lines should align wrapped elements using a hanging indent.\n",
    "\n"
   ]
  },
  {
   "cell_type": "code",
   "execution_count": 3,
   "metadata": {
    "collapsed": true
   },
   "outputs": [],
   "source": [
    "# Yes\n",
    "# More indentation included to distinguish this from the rest.\n",
    "def long_function_name(\n",
    "        var_one, var_two, var_three,\n",
    "        var_four):\n",
    "    return var_one\n",
    "\n",
    "# Yes\n",
    "# Aligned with opening delimiter.\n",
    "foo = long_function_name(var_one=2, var_two=2,\n",
    "                         var_three=2, var_four=4)\n",
    "\n",
    "# No\n",
    "# Further indentation required as indentation is not distinguishable.\n",
    "def long_function_name(\n",
    "    var_one, var_two, var_three,\n",
    "    var_four):\n",
    "    return var_one"
   ]
  },
  {
   "cell_type": "markdown",
   "metadata": {},
   "source": [
    "Multiline constructs:\n",
    "* The first element should begin on the second line\n",
    "* The closing brace/bracket/parenthesis should line up under the first non-whitespace character of the previous line"
   ]
  },
  {
   "cell_type": "code",
   "execution_count": 1,
   "metadata": {
    "collapsed": true
   },
   "outputs": [],
   "source": [
    "d = {\n",
    "    1 : 'first value',\n",
    "    2 : 'the second value'\n",
    "    }\n",
    "\n",
    "my_list = [\n",
    "    1, 2, 3,\n",
    "    4, 5, 6,\n",
    "    ]"
   ]
  },
  {
   "cell_type": "markdown",
   "metadata": {},
   "source": [
    "Indentation on method chaining:\n",
    "* the periods beginning each line should be **four spaces from the opening construct following assignment**\n",
    "* the closing construct should be indented four spaces"
   ]
  },
  {
   "cell_type": "code",
   "execution_count": 57,
   "metadata": {
    "collapsed": true
   },
   "outputs": [],
   "source": [
    "import pandas as pd\n",
    "\n",
    "arr = [[1, 2, 3],\n",
    "       [10, 9, 8]]\n",
    "\n",
    "df = (pd.DataFrame(arr)\n",
    "         .transpose() # four spaces from the opening construct following assignment\n",
    "         .sort_index(ascending=False)\n",
    "         .dropna(how='all')\n",
    "    ) # 4 spaces"
   ]
  },
  {
   "cell_type": "markdown",
   "metadata": {},
   "source": [
    "## Naming conventions"
   ]
  },
  {
   "cell_type": "markdown",
   "metadata": {},
   "source": [
    "* `class` names: use `CamelCase`\n",
    " * When using abbreviations in CamelCase, capitalize all the letters of the abbreviation. Thus `HTTPServerError` is better than `HttpServerError`.\n",
    "* Method, function and variable names: use `lowercase_with_underscores`\n",
    "* Always use `self` for the first argument to instance methods\n",
    "* Always use `cls` for the first argument to class methods\n",
    "* Never declare functions using `lambda` (`f = lambda x: 2*x`)\n",
    "* Constants (5, 5.0) should use `ALLCAPS`\n",
    "* Never use the characters the following characters as single-character variable names.  In some fonts, these characters are indistinguishable from the numerals one and zero. \n",
    " * 'l' (lowercase letter el)\n",
    " * 'O' (uppercase letter oh)\n",
    " * 'I' (uppercase letter eye) \n",
    "* Modules should have short, all-lowercase names. Underscores can be used in the module name if it improves readability. \n",
    "* Python packages should also have short, all-lowercase names, although the use of underscores is discouraged.\n",
    "* **Avoid having module names that contain variables or functions equivalent to the module name.**  For instance, `import parse.parse` is not ideal\n",
    "\n",
    "Using underscores before and after:\n",
    "* Double-**leading** underscore: when naming a class attribute, invokes name mangling (inside `class FooBar`, `__boo` becomes `_FooBar__boo`).  Generally, double leading underscores should be used only to avoid name conflicts with attributes in classes designed to be subclassed.\n",
    "* Double-**leading and trailing** underscore: \"magic\" objects or attributes that live in user-controlled namespaces. E.g. `__init__`, `__import__` or `__file__`. Never invent such names; only use them as documented.\n",
    "* (Quasi-) protected methods and properties start with `_single_` underscore.  These are weak \"internal use\" indicators. E.g. `from M import *` does not import objects whose name starts with an underscore.\n",
    "* If you need to use a reserved word, add a `_` to the end (e.g. `class_`; `Tkinter.Toplevel(master, class_='ClassName')`)"
   ]
  },
  {
   "cell_type": "code",
   "execution_count": 6,
   "metadata": {},
   "outputs": [
    {
     "data": {
      "text/plain": [
       "True"
      ]
     },
     "execution_count": 6,
     "metadata": {},
     "output_type": "execute_result"
    }
   ],
   "source": [
    "# Name mangling example\n",
    "class Cls(object):\n",
    "    def func1(self):\n",
    "        pass\n",
    "    def __func2(self):\n",
    "        return True\n",
    "c = Cls()\n",
    "# can't access:\n",
    "# c.__func2\n",
    "c._Cls__func2() # only way to access"
   ]
  },
  {
   "cell_type": "markdown",
   "metadata": {},
   "source": [
    "![naming.PNG](./imgs/naming.PNG)"
   ]
  },
  {
   "cell_type": "markdown",
   "metadata": {},
   "source": [
    "## Line length"
   ]
  },
  {
   "cell_type": "markdown",
   "metadata": {},
   "source": [
    "Max 79 characters (not 80).  The Python standard library requires limiting docstrings and comments to 72.\n",
    "\n",
    "Make exceptions in rare cases.  One would be with URLs, which you should not break.  From PEP 8:\n",
    "\n",
    "_Two good reasons to break a particular rule:_\n",
    "1. _When applying the rule would make the code less readable, even for someone who is used to reading code that follows the rules._"
   ]
  },
  {
   "cell_type": "code",
   "execution_count": 51,
   "metadata": {
    "collapsed": true
   },
   "outputs": [],
   "source": [
    "\"\"\"\n",
    "Resources\n",
    "=========\n",
    "http://www.python.org/dev/peps/pep-0008/#a-foolish-consistency-is-the-hobgoblin-of-little-minds\n",
    "\"\"\"\n",
    "\n",
    "pass"
   ]
  },
  {
   "cell_type": "markdown",
   "metadata": {},
   "source": [
    "## Line breaks and binary operators"
   ]
  },
  {
   "cell_type": "code",
   "execution_count": 2,
   "metadata": {
    "collapsed": true
   },
   "outputs": [],
   "source": [
    "gross_wages = 100\n",
    "taxable_interest = 10\n",
    "dividends = 10\n",
    "qualified_dividends = 5\n",
    "ira_deduction = 30\n",
    "\n",
    "# No: operators sit far away from their operands\n",
    "income = (gross_wages +\n",
    "          taxable_interest +\n",
    "          (dividends - qualified_dividends) -\n",
    "          ira_deduction)\n",
    "\n",
    "# Yes: easy to match operators with operands\n",
    "income = (gross_wages\n",
    "       + taxable_interest\n",
    "       + (dividends - qualified_dividends)\n",
    "       - ira_deduction)"
   ]
  },
  {
   "cell_type": "markdown",
   "metadata": {},
   "source": [
    "## Testing"
   ]
  },
  {
   "cell_type": "markdown",
   "metadata": {},
   "source": [
    "Use \"implicit\" `True/False` rules where possible _and appropriate_."
   ]
  },
  {
   "cell_type": "code",
   "execution_count": 71,
   "metadata": {},
   "outputs": [
    {
     "name": "stdout",
     "output_type": "stream",
     "text": [
      "a is an empty list\n"
     ]
    }
   ],
   "source": [
    "a = []\n",
    "\n",
    "# Good\n",
    "if not a:\n",
    "    print('a is an empty list')\n",
    "    \n",
    "# Bad\n",
    "if a == []:\n",
    "    # print('a is empty')\n",
    "    pass"
   ]
  },
  {
   "cell_type": "markdown",
   "metadata": {},
   "source": [
    "**However, be careful.** Python evaluates certain values as `False` when in a boolean context. \n",
    "\n",
    "A quick \"rule of thumb\" is that all \"empty\" values are considered `False`:\n",
    "* `None`\n",
    "* 0\n",
    "* `[]`\n",
    "* `{}`\n",
    "* `''`\n",
    "\n",
    "So (from PEP 8), **beware of writing `if x` when you really mean `if x is not None`** -- e.g. when testing whether a variable or argument that defaults to `None` was set to some other value. The other value might have a type (such as a container) that could be `False` in a boolean context!"
   ]
  },
  {
   "cell_type": "code",
   "execution_count": 68,
   "metadata": {},
   "outputs": [
    {
     "name": "stdout",
     "output_type": "stream",
     "text": [
      "a is None\n"
     ]
    }
   ],
   "source": [
    "# Okay\n",
    "def func(a=None):\n",
    "    if a is None:\n",
    "        print('a is None')\n",
    "    elif not a:\n",
    "        # And without the elif, you'd need if a == []\n",
    "        print('a is an empty list') # no, it's not\n",
    "\n",
    "# Bad\n",
    "def func2(a=None):\n",
    "    if not a:\n",
    "        print('a is an empty list') # no, it's not!\n",
    "func()"
   ]
  },
  {
   "cell_type": "markdown",
   "metadata": {},
   "source": [
    "Never use `==` or `!=` to compare singletons like `None`. Use `is` or `is not`."
   ]
  },
  {
   "cell_type": "code",
   "execution_count": 66,
   "metadata": {},
   "outputs": [
    {
     "name": "stdout",
     "output_type": "stream",
     "text": [
      "True\n",
      "True\n"
     ]
    }
   ],
   "source": [
    "a = None\n",
    "\n",
    "# Good\n",
    "print(a is None)\n",
    "\n",
    "# Bad\n",
    "print(a == None)"
   ]
  },
  {
   "cell_type": "markdown",
   "metadata": {},
   "source": [
    "Never compare a boolean variable to `False` using `==`. Use `if not x:` instead. If you need to distinguish `False` from `None` then chain the expressions, such as `if not x and x is not None:`"
   ]
  },
  {
   "cell_type": "code",
   "execution_count": 70,
   "metadata": {},
   "outputs": [
    {
     "name": "stdout",
     "output_type": "stream",
     "text": [
      "it's probably false, or could be none\n",
      "definitely false now\n",
      "it's false\n"
     ]
    }
   ],
   "source": [
    "var = False\n",
    "\n",
    "# Good\n",
    "if not var:\n",
    "    print(\"it's probably false, or could be none\")\n",
    "\n",
    "# More explicit, distinguish false from none\n",
    "if (not var) and (var is not None):\n",
    "    print('definitely false now')\n",
    "\n",
    "# Bad\n",
    "if var == False:\n",
    "    print(\"it's false\")"
   ]
  },
  {
   "cell_type": "markdown",
   "metadata": {},
   "source": [
    "## Imports"
   ]
  },
  {
   "cell_type": "markdown",
   "metadata": {},
   "source": [
    "Don't use wildcards, ever."
   ]
  },
  {
   "cell_type": "code",
   "execution_count": 34,
   "metadata": {
    "collapsed": true
   },
   "outputs": [],
   "source": [
    "# No\n",
    "from collections import *"
   ]
  },
  {
   "cell_type": "markdown",
   "metadata": {},
   "source": [
    "Imports should usually be on separate lines."
   ]
  },
  {
   "cell_type": "code",
   "execution_count": 3,
   "metadata": {
    "collapsed": true
   },
   "outputs": [],
   "source": [
    "# No\n",
    "import os, sys\n",
    "\n",
    "# Yes\n",
    "import os\n",
    "import sys"
   ]
  },
  {
   "cell_type": "markdown",
   "metadata": {},
   "source": [
    "Imports should be grouped in the following order:\n",
    "\n",
    "1. Standard library imports\n",
    "2. Related third party imports\n",
    "3. Local application/library specific imports\n",
    "\n",
    "You should put a blank line between each group of imports.  Within each grouping, **imports should be sorted lexicographically, ignoring case, according to each module's full package path.**"
   ]
  },
  {
   "cell_type": "code",
   "execution_count": 9,
   "metadata": {
    "collapsed": true
   },
   "outputs": [],
   "source": [
    "import collections\n",
    "import warnings\n",
    "\n",
    "import pandas as pd\n",
    "import scipy.stats as scs\n",
    "\n",
    "# from .datasets import somefunction"
   ]
  },
  {
   "cell_type": "markdown",
   "metadata": {},
   "source": [
    "Where you are importing lots of names, use the following syntax:"
   ]
  },
  {
   "cell_type": "code",
   "execution_count": 50,
   "metadata": {
    "collapsed": true
   },
   "outputs": [],
   "source": [
    "# TODO: indentation?\n",
    "from collections import (defaultdict, OrderedDict,\n",
    "                         deque)"
   ]
  },
  {
   "cell_type": "markdown",
   "metadata": {},
   "source": [
    "Use absolute imports:\n",
    "* Even if the module is in the same package, use the full package name\n",
    "* This helps prevent unintentionally importing a package twice\n",
    "* Absolute imports more readable and tend to be better behaved"
   ]
  },
  {
   "cell_type": "markdown",
   "metadata": {},
   "source": [
    "## Whitespace and blank lines"
   ]
  },
  {
   "cell_type": "markdown",
   "metadata": {},
   "source": [
    "Trailing whitespace: make sure to delete it.  In Notepad++: _Edit > Blank Operations > Trim Trailing Whitespace_."
   ]
  },
  {
   "cell_type": "markdown",
   "metadata": {},
   "source": [
    "Blank lines: \n",
    "* Two blank lines between (**before and after**) top-level **function and class** definitions\n",
    "* One blank line between method definitions."
   ]
  },
  {
   "cell_type": "code",
   "execution_count": 22,
   "metadata": {
    "collapsed": true
   },
   "outputs": [],
   "source": [
    "class Cls1(object):\n",
    "    \n",
    "    def __init__(self, x):\n",
    "        self.x = x\n",
    "        \n",
    "    def method1(self):\n",
    "        pass\n",
    "    \n",
    "\n",
    "def _helper():\n",
    "    pass"
   ]
  },
  {
   "cell_type": "markdown",
   "metadata": {},
   "source": [
    "Follow standard typographic rules for the use of spaces around punctuation.  Avoid extraneous whitespace:\n",
    "* immediately inside parentheses, brackets or braces\n",
    "* between a trailing comma and a following close parenthesis\n",
    "* immediately before a comma, semicolon, or colon\n",
    "* immediately before the open parenthesis that starts the argument list of a function call\n",
    "* immediately before the open parenthesis that starts an indexing or slicing:\n",
    "* around the `=` sign when used to indicate a keyword argument or a default parameter value."
   ]
  },
  {
   "cell_type": "code",
   "execution_count": 45,
   "metadata": {
    "collapsed": true
   },
   "outputs": [],
   "source": [
    "# Yes\n",
    "res = sum((sum((1, 2)), sum((1, 2))))\n",
    "\n",
    "d = {}\n",
    "d['key'] = 1\n",
    "\n",
    "if not d: print(1, 2)\n",
    "\n",
    "def complex(real, imag=0.0):\n",
    "    return magic(r=real, i=imag)\n",
    "\n",
    "\n",
    "# No\n",
    "res = sum(( sum((1, 2)), sum((1, 2)) )) # spaces inside brackets\n",
    "\n",
    "d ['key'] = 1 # space before dictionary key\n",
    "\n",
    "if not d: print(1 , 2)\n",
    "\n",
    "\n",
    "def complex(real, imag = 0.0):\n",
    "    return magic(r = real, i = imag) # Spaces in default values"
   ]
  },
  {
   "cell_type": "markdown",
   "metadata": {},
   "source": [
    "Don't use whitespace to line up assignment operators (=, :)."
   ]
  },
  {
   "cell_type": "code",
   "execution_count": 35,
   "metadata": {
    "collapsed": true
   },
   "outputs": [],
   "source": [
    "# No\n",
    "firstvar = 5\n",
    "y        = 2"
   ]
  },
  {
   "cell_type": "markdown",
   "metadata": {},
   "source": [
    "_Always_ surround these binary operators with a single space on either side:\n",
    "* assignment (`=`)\n",
    "* augmented assignment (`+=`, `-=` etc.)\n",
    "* comparisons (`==, <, >, !=, <>, <=, >=, in, not in, is, is not`)\n",
    "* Booleans (`and`, `or`, `not`)."
   ]
  },
  {
   "cell_type": "markdown",
   "metadata": {},
   "source": [
    "If operators with different priorities are used, consider adding whitespace around the operators with the lowest priority(ies). Use your own judgment; however, never use more than one space, and always have the same amount of whitespace on both sides of a binary operator."
   ]
  },
  {
   "cell_type": "code",
   "execution_count": 38,
   "metadata": {
    "collapsed": true
   },
   "outputs": [],
   "source": [
    "a = b = 1\n",
    "x = 5\n",
    "y = 2\n",
    "\n",
    "# Preferred\n",
    "x = x*2 - 1\n",
    "hypot2 = x*x + y*y\n",
    "c = (a+b) * (a-b)\n",
    "\n",
    "# No\n",
    "x = x * 2 - 1\n",
    "hypot2 = x * x + y * y\n",
    "c = (a + b) * (a - b)"
   ]
  },
  {
   "cell_type": "markdown",
   "metadata": {},
   "source": [
    "## Module _dunder_ attributes"
   ]
  },
  {
   "cell_type": "markdown",
   "metadata": {},
   "source": [
    "Every module should have the following non-null attributes at a bare minimum:\n",
    "* `__author__`\n",
    "* [`__all__`](https://docs.python.org/3/tutorial/modules.html#importing-from-a-package)"
   ]
  },
  {
   "cell_type": "markdown",
   "metadata": {},
   "source": [
    "Module-level \"dunders\" should be placed after the module docstring but before any import statements except `from __future__` imports.  (Python mandates that future-imports must appear in the module before any other code except docstrings.)"
   ]
  },
  {
   "cell_type": "code",
   "execution_count": 4,
   "metadata": {
    "collapsed": true
   },
   "outputs": [],
   "source": [
    "\"\"\"This is the example module.\n",
    "\n",
    "This module does stuff.\n",
    "\"\"\"\n",
    "\n",
    "# from __future__ import stuff\n",
    "\n",
    "__all__ = ['a', 'b', 'c']\n",
    "__version__ = '0.1'\n",
    "__author__ = 'Brad Solomon'\n",
    "\n",
    "import os\n",
    "import sys"
   ]
  },
  {
   "cell_type": "markdown",
   "metadata": {},
   "source": [
    "## Comments (besides docstrings)"
   ]
  },
  {
   "cell_type": "markdown",
   "metadata": {},
   "source": [
    "Write comments in complete sentences.  (Try to write in [\"Strunk & White\" English](https://en.wikipedia.org/wiki/The_Elements_of_Style)).  Periods are not necessary unless the comment is multi-sentence.  (If a comment is short, the period at the end can be omitted.)"
   ]
  },
  {
   "cell_type": "code",
   "execution_count": 4,
   "metadata": {
    "collapsed": true
   },
   "outputs": [],
   "source": [
    "# This is a complete comment\n",
    "# This is another comment.  Second sentence of the comment"
   ]
  },
  {
   "cell_type": "markdown",
   "metadata": {},
   "source": [
    "Multi-line comments should indent 4 spaces from the start of the comment, beginning on the second line (hanging indents)."
   ]
  },
  {
   "cell_type": "code",
   "execution_count": 4,
   "metadata": {
    "collapsed": true
   },
   "outputs": [],
   "source": [
    "# This is a comment\n",
    "#     that takes up multiple lines.\n",
    "# The next comment starts here."
   ]
  },
  {
   "cell_type": "markdown",
   "metadata": {},
   "source": [
    "Refer to other Python objects with surrounding \"\\`\" characters."
   ]
  },
  {
   "cell_type": "code",
   "execution_count": 5,
   "metadata": {
    "collapsed": true
   },
   "outputs": [],
   "source": [
    "# This is a comment refering to the `func1` function"
   ]
  },
  {
   "cell_type": "markdown",
   "metadata": {},
   "source": [
    "Inline comments:\n",
    "* Use them sparingly for _non-obvious_ code.  _Complicated_ operations deserve standalone comments.\n",
    "* **They should be separated by at least two spaces from the statement.**"
   ]
  },
  {
   "cell_type": "code",
   "execution_count": 6,
   "metadata": {
    "collapsed": true
   },
   "outputs": [],
   "source": [
    "x = 5\n",
    "x = x + 1  # Compensate for border"
   ]
  },
  {
   "cell_type": "markdown",
   "metadata": {},
   "source": [
    "## Docstrings"
   ]
  },
  {
   "cell_type": "markdown",
   "metadata": {},
   "source": [
    "Conventions for writing good documentation strings (a.k.a. \"docstrings\") are immortalized in [PEP 257](https://www.python.org/dev/peps/pep-0257/)."
   ]
  },
  {
   "cell_type": "markdown",
   "metadata": {},
   "source": [
    "A docstring should be organized as:\n",
    "1. A summary line (one physical line) terminated by a period, question mark, or exclamation point\n",
    "2. Followed by a blank line\n",
    "3. Followed by the rest of the docstring _starting at the same cursor position as the first quote of the first line_."
   ]
  },
  {
   "cell_type": "code",
   "execution_count": 27,
   "metadata": {
    "collapsed": true
   },
   "outputs": [],
   "source": [
    "def f(x):\n",
    "    \"\"\"This is the title-level docstring.  Fit one 1 line.\n",
    "    \n",
    "    Some additional description.\n",
    "    \n",
    "    Parameters\n",
    "    ==========\n",
    "    a : str or None, default None\n",
    "        Definition of `a`\n",
    "    \"\"\"\n",
    "    \n",
    "    return x"
   ]
  },
  {
   "cell_type": "markdown",
   "metadata": {},
   "source": [
    "Try to give every function a docstring, unless it meets all of the following criteria:\n",
    "* not externally visible\n",
    "* very short\n",
    "* obvious"
   ]
  },
  {
   "cell_type": "markdown",
   "metadata": {},
   "source": [
    "Use double rather than single-quotes for docstrings"
   ]
  },
  {
   "cell_type": "code",
   "execution_count": 26,
   "metadata": {
    "collapsed": true
   },
   "outputs": [],
   "source": [
    "\"\"\"Preferred\"\"\"\n",
    "\n",
    "'''Okay, just not preferred'''\n",
    "\n",
    "pass"
   ]
  },
  {
   "cell_type": "markdown",
   "metadata": {},
   "source": [
    "* Docstring \"underlines\" should use the equals sign (\"===\"):\n",
    "* If a parameter has a default value, state it next to the type\n",
    "* If a parameter has some membership restriction, state the possible values in a tuple (see `b` below)"
   ]
  },
  {
   "cell_type": "markdown",
   "metadata": {},
   "source": [
    "    \"\"\"\n",
    "    Parameters\n",
    "    ==========\n",
    "    a : bool, default False\n",
    "        The definition of a\n",
    "    b : str, one of ('ignore', 'catch')\n",
    "        The definition of b\n",
    "    \"\"\""
   ]
  },
  {
   "cell_type": "markdown",
   "metadata": {},
   "source": [
    "* All modules should normally have docstrings\n",
    "* All functions and classes exported by a module should also have docstrings\n",
    "* Public methods should also have docstrings. Most modules in the Python Standard Library don't use docstrings for `__init__` methods\n",
    "* A package itself may be documented in the module docstring of the `__init__.py` file in the package directory."
   ]
  },
  {
   "cell_type": "markdown",
   "metadata": {},
   "source": [
    "Classes should have a doc string below the class definition describing the class. **If your class has public attributes, they should be documented here in an Attributes section and follow the same formatting as a function's Parameters section.**"
   ]
  },
  {
   "cell_type": "code",
   "execution_count": 28,
   "metadata": {
    "collapsed": true
   },
   "outputs": [],
   "source": [
    "class SampleClass(object):\n",
    "    \"\"\"Summary of class here.\n",
    "\n",
    "    Longer class information....\n",
    "    Longer class information....\n",
    "\n",
    "    Attributes:\n",
    "        likes_spam: A boolean indicating if we like SPAM or not.\n",
    "        eggs: An integer count of the eggs we have laid.\n",
    "    \"\"\"\n",
    "\n",
    "    def __init__(self, likes_spam=False):\n",
    "        \"\"\"Inits SampleClass with blah.\"\"\"\n",
    "        self.likes_spam = likes_spam\n",
    "        self.eggs = 0\n",
    "\n",
    "    def public_method(self):\n",
    "        \"\"\"Performs operation blah.\"\"\""
   ]
  },
  {
   "cell_type": "markdown",
   "metadata": {},
   "source": [
    "### One-line v. multi-line docstrings"
   ]
  },
  {
   "cell_type": "markdown",
   "metadata": {},
   "source": [
    "One-liners are for really obvious cases. They should really fit on one line.\n",
    "* Triple quotes are used even though the string fits on one line. This makes it easy to later expand it.\n",
    "* The closing quotes are on the same line as the opening quotes. This looks better for one-liners.\n",
    "* **There's no blank line either before or after the docstring.**\n",
    "* The docstring is a phrase ending in a period. \n",
    " * It prescribes the function or method's effect as a command (\"Do this\", \"Return that\"), not as a description; e.g. don't write \"Returns the pathname ...\".\n",
    "* The one-line docstring should NOT be a \"signature\" reiterating the function/method parameters (which can be obtained by introspection)."
   ]
  },
  {
   "cell_type": "code",
   "execution_count": 2,
   "metadata": {
    "collapsed": true
   },
   "outputs": [],
   "source": [
    "# Yes\n",
    "def function(a, b):\n",
    "    \"\"\"Perform operation X.\"\"\"\n",
    "    return a + b\n",
    "\n",
    "# No - a docstring is not just a 'signature'\n",
    "def function(a, b):\n",
    "    \"\"\"function(a, b) -> list\"\"\""
   ]
  },
  {
   "cell_type": "markdown",
   "metadata": {},
   "source": [
    "Multi-line docstrings:\n",
    "* The entire docstring is indented the same as the quotes at its first line.\n",
    "* Insert a blank line after all docstrings (one-line or multi-line) that document a class \n",
    "* The docstring for a module should generally list the classes, exceptions and functions (and any other objects) that are exported by the module, with a one-line summary of each.\n",
    "* The docstring for a package (i.e., the docstring of the package's `__init__.py` module) should also list the modules and subpackages exported by the package."
   ]
  },
  {
   "cell_type": "markdown",
   "metadata": {},
   "source": [
    "Use `r\"\"\"raw triple double quotes\"\"\"` if you use any backslashes in your docstrings."
   ]
  },
  {
   "cell_type": "markdown",
   "metadata": {},
   "source": [
    "## TODOs"
   ]
  },
  {
   "cell_type": "markdown",
   "metadata": {},
   "source": [
    "It is okay to leave TODOs in code. Format examples:"
   ]
  },
  {
   "cell_type": "markdown",
   "metadata": {},
   "source": [
    "    # TODO: a single thing\n",
    "    # TODO: \n",
    "    # - First thing\n",
    "    # - Second thing"
   ]
  },
  {
   "cell_type": "markdown",
   "metadata": {},
   "source": [
    "## `return` statements"
   ]
  },
  {
   "cell_type": "markdown",
   "metadata": {},
   "source": [
    "* In multi-line functions, try to avoid doing any computation in the return statement itself."
   ]
  },
  {
   "cell_type": "code",
   "execution_count": 6,
   "metadata": {
    "collapsed": true
   },
   "outputs": [],
   "source": [
    "# Bad\n",
    "def f(x):\n",
    "    a = x ** 2\n",
    "    b = x - 5\n",
    "    return x * a + b\n",
    "\n",
    "# Good\n",
    "def f(x):\n",
    "    a = x ** 2\n",
    "    b = x - 5\n",
    "    res = x * a + b    \n",
    "    return res"
   ]
  },
  {
   "cell_type": "markdown",
   "metadata": {},
   "source": [
    "Separate the function body and `return` by 1 blank line, always."
   ]
  },
  {
   "cell_type": "code",
   "execution_count": 7,
   "metadata": {
    "collapsed": true
   },
   "outputs": [],
   "source": [
    "# Bad\n",
    "def f(x):\n",
    "    if isinstance(x, str):\n",
    "        x = float(x)\n",
    "    res = x + 5\n",
    "    return res\n",
    "\n",
    "# Good\n",
    "def f(x):\n",
    "    if isinstance(x, str):\n",
    "        x = float(x)\n",
    "    res = x + 5\n",
    "    \n",
    "    return res"
   ]
  },
  {
   "cell_type": "markdown",
   "metadata": {},
   "source": [
    "* Be consistent in return statements. Either all return statements in a function should return an expression, or none of them should. \n",
    "* If any return statement returns an expression, any return statements where no value is returned should explicitly state this as return None, and an explicit return statement should be present at the end of the function (if reachable)."
   ]
  },
  {
   "cell_type": "code",
   "execution_count": null,
   "metadata": {
    "collapsed": true
   },
   "outputs": [],
   "source": [
    "# Yes\n",
    "def foo(x):\n",
    "    if x >= 0:\n",
    "        return math.sqrt(x)\n",
    "    else:\n",
    "        return None\n",
    "\n",
    "# Yes\n",
    "def bar(x):\n",
    "    if x < 0:\n",
    "        return None\n",
    "    return math.sqrt(x)\n",
    "\n",
    "# Yes\n",
    "def foo(x):\n",
    "    if x >= 0:\n",
    "        res = math.sqrt(x)\n",
    "    else:\n",
    "        res = None\n",
    "    \n",
    "    return res\n",
    "\n",
    "# No\n",
    "def foo(x):\n",
    "    if x >= 0:\n",
    "        return math.sqrt(x)\n",
    "\n",
    "# No\n",
    "def bar(x):\n",
    "    if x < 0:\n",
    "        return\n",
    "    return math.sqrt(x)\n",
    "\n"
   ]
  },
  {
   "cell_type": "markdown",
   "metadata": {},
   "source": [
    "## List comprehension"
   ]
  },
  {
   "cell_type": "markdown",
   "metadata": {},
   "source": [
    "Okay to use for simple cases.  Don't use nested list comprehensions with multiple `for` clauses."
   ]
  },
  {
   "cell_type": "code",
   "execution_count": 19,
   "metadata": {
    "collapsed": true
   },
   "outputs": [],
   "source": [
    "# Okay\n",
    "order = list('acebd')\n",
    "target = list('edba')\n",
    "res = [m for m in order if m in target]\n",
    "\n",
    "# Bad\n",
    "res2 = [(x, y) for x in range(10) for y in range(5) if x * y > 10]"
   ]
  },
  {
   "cell_type": "markdown",
   "metadata": {},
   "source": [
    "## Lambda functions"
   ]
  },
  {
   "cell_type": "markdown",
   "metadata": {},
   "source": [
    "Okay to use them for one-liners. If the code inside the lambda function is any longer than 60–80 chars, it's probably better to define it as a regular (nested) function."
   ]
  },
  {
   "cell_type": "markdown",
   "metadata": {},
   "source": [
    "Always use a `def` statement instead of an assignment statement that binds a lambda expression directly to an identifier."
   ]
  },
  {
   "cell_type": "code",
   "execution_count": 9,
   "metadata": {
    "collapsed": true
   },
   "outputs": [],
   "source": [
    "# Yes\n",
    "def f(x): \n",
    "    return 2*x\n",
    "\n",
    "# No:\n",
    "f = lambda x: 2*x"
   ]
  },
  {
   "cell_type": "markdown",
   "metadata": {},
   "source": [
    "For common operations like multiplication, use the functions from the [`operator`](https://docs.python.org/3/library/operator.html) module instead of lambda functions. For example, prefer `operator.mul` to `lambda x, y: x * y`."
   ]
  },
  {
   "cell_type": "code",
   "execution_count": 3,
   "metadata": {},
   "outputs": [
    {
     "data": {
      "text/plain": [
       "<function __main__.<lambda>>"
      ]
     },
     "execution_count": 3,
     "metadata": {},
     "output_type": "execute_result"
    }
   ],
   "source": [
    "# Yes\n",
    "lambda x, y: x * y\n",
    "\n",
    "# No\n",
    "lambda x, y: operator.mul(x,y)"
   ]
  },
  {
   "cell_type": "markdown",
   "metadata": {},
   "source": [
    "## Conditional expressions"
   ]
  },
  {
   "cell_type": "markdown",
   "metadata": {},
   "source": [
    "Okay to use for one-liners. In other cases prefer to use a complete `if` statement."
   ]
  },
  {
   "cell_type": "code",
   "execution_count": 20,
   "metadata": {},
   "outputs": [
    {
     "name": "stdout",
     "output_type": "stream",
     "text": [
      "2\n"
     ]
    }
   ],
   "source": [
    "y = 2\n",
    "x = 1 if y > 3 else 2\n",
    "print(x)"
   ]
  },
  {
   "cell_type": "markdown",
   "metadata": {},
   "source": [
    "Object type comparisons should always use `isinstance()` instead of comparing types directly."
   ]
  },
  {
   "cell_type": "code",
   "execution_count": 10,
   "metadata": {
    "collapsed": true
   },
   "outputs": [],
   "source": [
    "obj = 5\n",
    "\n",
    "# Yes\n",
    "if isinstance(obj, int):\n",
    "    pass\n",
    "\n",
    "#No\n",
    "if type(obj) == int:\n",
    "    pass"
   ]
  },
  {
   "cell_type": "markdown",
   "metadata": {
    "collapsed": true
   },
   "source": [
    "## Other"
   ]
  },
  {
   "cell_type": "markdown",
   "metadata": {},
   "source": [
    "* Write in UTF-8 in Python 3.\n",
    "* Avoid bare `except` statements unless you have a great reason not to.\n",
    "* Random seed values (i.e. `np.random.seed`): use 123.  Put this statement after all imports."
   ]
  }
 ],
 "metadata": {
  "kernelspec": {
   "display_name": "Python 3",
   "language": "python",
   "name": "python3"
  },
  "language_info": {
   "codemirror_mode": {
    "name": "ipython",
    "version": 3
   },
   "file_extension": ".py",
   "mimetype": "text/x-python",
   "name": "python",
   "nbconvert_exporter": "python",
   "pygments_lexer": "ipython3",
   "version": "3.6.3"
  }
 },
 "nbformat": 4,
 "nbformat_minor": 2
}
